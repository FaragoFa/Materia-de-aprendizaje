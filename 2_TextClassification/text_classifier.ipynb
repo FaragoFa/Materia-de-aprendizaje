{
  "nbformat": 4,
  "nbformat_minor": 0,
  "metadata": {
    "kernelspec": {
      "display_name": "Python 3",
      "language": "python",
      "name": "python3"
    },
    "language_info": {
      "codemirror_mode": {
        "name": "ipython",
        "version": 3
      },
      "file_extension": ".py",
      "mimetype": "text/x-python",
      "name": "python",
      "nbconvert_exporter": "python",
      "pygments_lexer": "ipython3",
      "version": "3.7.4"
    },
    "colab": {
      "name": "text_classifier.ipynb",
      "provenance": [],
      "collapsed_sections": [],
      "include_colab_link": true
    }
  },
  "cells": [
    {
      "cell_type": "markdown",
      "metadata": {
        "id": "view-in-github",
        "colab_type": "text"
      },
      "source": [
        "<a href=\"https://colab.research.google.com/github/manlio99/Materia-de-aprendizaje/blob/master/2_TextClassification/text_classifier.ipynb\" target=\"_parent\"><img src=\"https://colab.research.google.com/assets/colab-badge.svg\" alt=\"Open In Colab\"/></a>"
      ]
    },
    {
      "cell_type": "markdown",
      "metadata": {
        "id": "Momy2OETBmOv",
        "colab_type": "text"
      },
      "source": [
        "# Clasificación de texto"
      ]
    },
    {
      "cell_type": "markdown",
      "metadata": {
        "id": "K1rKcQcTBmOz",
        "colab_type": "text"
      },
      "source": [
        "La clasificación de texto para el análisis de sentimientos es una de las tareas más comunes en el procesamiento del lenguaje natural. Consiste en analizar computacionalmente los mensajes de texto y tratar de etiquetar si un sentimiento subyacente es positivo, negativo o neutral. Creamos un clasificador de texto simple usando tweets del primer debate presidencial republicano de 2016 disponible en línea [kaggle](https://www.kaggle.com/ngyptr/python-nltk-sentiment-analysis/data).\n"
      ]
    },
    {
      "cell_type": "code",
      "metadata": {
        "id": "CjjKvqzvBmO2",
        "colab_type": "code",
        "colab": {}
      },
      "source": [
        "import pandas as pd # importamos pandas\n",
        "tweets_data_df = pd.read_csv(\"https://raw.githubusercontent.com/emmanueliarussi/DataScienceCapstone/master/2_TextClassification/data/Sentiment.csv\") # load data\n",
        "tweets_data_df = tweets_data_df.reset_index()"
      ],
      "execution_count": 1,
      "outputs": []
    },
    {
      "cell_type": "markdown",
      "metadata": {
        "id": "ThqgI-54BmPJ",
        "colab_type": "text"
      },
      "source": [
        "## Análisis exploratorio de datos\n",
        "Echemos un vistazo al contenido de este conjunto de datos."
      ]
    },
    {
      "cell_type": "code",
      "metadata": {
        "scrolled": false,
        "id": "UNjyxU09BmPM",
        "colab_type": "code",
        "colab": {
          "base_uri": "https://localhost:8080/",
          "height": 429
        },
        "outputId": "2523663b-b1ea-4d1d-e76a-8df281cd8cba"
      },
      "source": [
        "pd.set_option(\"max_rows\", 5)  # solo muestra hasta 5 filas al imprimir dataframes o marcos de datos (reduce el desorden visual)\n",
        "tweets_data_df"
      ],
      "execution_count": 2,
      "outputs": [
        {
          "output_type": "execute_result",
          "data": {
            "text/html": [
              "<div>\n",
              "<style scoped>\n",
              "    .dataframe tbody tr th:only-of-type {\n",
              "        vertical-align: middle;\n",
              "    }\n",
              "\n",
              "    .dataframe tbody tr th {\n",
              "        vertical-align: top;\n",
              "    }\n",
              "\n",
              "    .dataframe thead th {\n",
              "        text-align: right;\n",
              "    }\n",
              "</style>\n",
              "<table border=\"1\" class=\"dataframe\">\n",
              "  <thead>\n",
              "    <tr style=\"text-align: right;\">\n",
              "      <th></th>\n",
              "      <th>index</th>\n",
              "      <th>id</th>\n",
              "      <th>candidate</th>\n",
              "      <th>candidate_confidence</th>\n",
              "      <th>relevant_yn</th>\n",
              "      <th>relevant_yn_confidence</th>\n",
              "      <th>sentiment</th>\n",
              "      <th>sentiment_confidence</th>\n",
              "      <th>subject_matter</th>\n",
              "      <th>subject_matter_confidence</th>\n",
              "      <th>candidate_gold</th>\n",
              "      <th>name</th>\n",
              "      <th>relevant_yn_gold</th>\n",
              "      <th>retweet_count</th>\n",
              "      <th>sentiment_gold</th>\n",
              "      <th>subject_matter_gold</th>\n",
              "      <th>text</th>\n",
              "      <th>tweet_coord</th>\n",
              "      <th>tweet_created</th>\n",
              "      <th>tweet_id</th>\n",
              "      <th>tweet_location</th>\n",
              "      <th>user_timezone</th>\n",
              "    </tr>\n",
              "  </thead>\n",
              "  <tbody>\n",
              "    <tr>\n",
              "      <th>0</th>\n",
              "      <td>0</td>\n",
              "      <td>1</td>\n",
              "      <td>No candidate mentioned</td>\n",
              "      <td>1.0000</td>\n",
              "      <td>yes</td>\n",
              "      <td>1.0000</td>\n",
              "      <td>Neutral</td>\n",
              "      <td>0.6578</td>\n",
              "      <td>None of the above</td>\n",
              "      <td>1.0000</td>\n",
              "      <td>NaN</td>\n",
              "      <td>I_Am_Kenzi</td>\n",
              "      <td>NaN</td>\n",
              "      <td>5</td>\n",
              "      <td>NaN</td>\n",
              "      <td>NaN</td>\n",
              "      <td>RT @NancyLeeGrahn: How did everyone feel about...</td>\n",
              "      <td>NaN</td>\n",
              "      <td>2015-08-07 09:54:46 -0700</td>\n",
              "      <td>629697200650592256</td>\n",
              "      <td>NaN</td>\n",
              "      <td>Quito</td>\n",
              "    </tr>\n",
              "    <tr>\n",
              "      <th>1</th>\n",
              "      <td>1</td>\n",
              "      <td>2</td>\n",
              "      <td>Scott Walker</td>\n",
              "      <td>1.0000</td>\n",
              "      <td>yes</td>\n",
              "      <td>1.0000</td>\n",
              "      <td>Positive</td>\n",
              "      <td>0.6333</td>\n",
              "      <td>None of the above</td>\n",
              "      <td>1.0000</td>\n",
              "      <td>NaN</td>\n",
              "      <td>PeacefulQuest</td>\n",
              "      <td>NaN</td>\n",
              "      <td>26</td>\n",
              "      <td>NaN</td>\n",
              "      <td>NaN</td>\n",
              "      <td>RT @ScottWalker: Didn't catch the full #GOPdeb...</td>\n",
              "      <td>NaN</td>\n",
              "      <td>2015-08-07 09:54:46 -0700</td>\n",
              "      <td>629697199560069120</td>\n",
              "      <td>NaN</td>\n",
              "      <td>NaN</td>\n",
              "    </tr>\n",
              "    <tr>\n",
              "      <th>...</th>\n",
              "      <td>...</td>\n",
              "      <td>...</td>\n",
              "      <td>...</td>\n",
              "      <td>...</td>\n",
              "      <td>...</td>\n",
              "      <td>...</td>\n",
              "      <td>...</td>\n",
              "      <td>...</td>\n",
              "      <td>...</td>\n",
              "      <td>...</td>\n",
              "      <td>...</td>\n",
              "      <td>...</td>\n",
              "      <td>...</td>\n",
              "      <td>...</td>\n",
              "      <td>...</td>\n",
              "      <td>...</td>\n",
              "      <td>...</td>\n",
              "      <td>...</td>\n",
              "      <td>...</td>\n",
              "      <td>...</td>\n",
              "      <td>...</td>\n",
              "      <td>...</td>\n",
              "    </tr>\n",
              "    <tr>\n",
              "      <th>13869</th>\n",
              "      <td>13869</td>\n",
              "      <td>13870</td>\n",
              "      <td>Donald Trump</td>\n",
              "      <td>1.0000</td>\n",
              "      <td>yes</td>\n",
              "      <td>1.0000</td>\n",
              "      <td>Negative</td>\n",
              "      <td>1.0000</td>\n",
              "      <td>Women's Issues (not abortion though)</td>\n",
              "      <td>0.9202</td>\n",
              "      <td>Donald Trump</td>\n",
              "      <td>danijeantheq</td>\n",
              "      <td>yes</td>\n",
              "      <td>149</td>\n",
              "      <td>NaN</td>\n",
              "      <td>Women's Issues (not abortion though)</td>\n",
              "      <td>RT @JRehling: #GOPDebate Donald Trump says tha...</td>\n",
              "      <td>NaN</td>\n",
              "      <td>2015-08-07 09:54:04 -0700</td>\n",
              "      <td>629697023663546368</td>\n",
              "      <td>NaN</td>\n",
              "      <td>NaN</td>\n",
              "    </tr>\n",
              "    <tr>\n",
              "      <th>13870</th>\n",
              "      <td>13870</td>\n",
              "      <td>13871</td>\n",
              "      <td>Ted Cruz</td>\n",
              "      <td>0.9242</td>\n",
              "      <td>yes</td>\n",
              "      <td>0.9614</td>\n",
              "      <td>Positive</td>\n",
              "      <td>0.9614</td>\n",
              "      <td>None of the above</td>\n",
              "      <td>0.9242</td>\n",
              "      <td>Ted Cruz</td>\n",
              "      <td>MichaelHuff52</td>\n",
              "      <td>yes</td>\n",
              "      <td>65</td>\n",
              "      <td>Positive</td>\n",
              "      <td>NaN</td>\n",
              "      <td>RT @Lrihendry: #TedCruz headed into the Presid...</td>\n",
              "      <td>NaN</td>\n",
              "      <td>2015-08-06 18:22:27 -0700</td>\n",
              "      <td>629462573641920512</td>\n",
              "      <td>San Antonio, TX</td>\n",
              "      <td>Central Time (US &amp; Canada)</td>\n",
              "    </tr>\n",
              "  </tbody>\n",
              "</table>\n",
              "<p>13871 rows × 22 columns</p>\n",
              "</div>"
            ],
            "text/plain": [
              "       index     id  ...   tweet_location               user_timezone\n",
              "0          0      1  ...              NaN                       Quito\n",
              "1          1      2  ...              NaN                         NaN\n",
              "...      ...    ...  ...              ...                         ...\n",
              "13869  13869  13870  ...              NaN                         NaN\n",
              "13870  13870  13871  ...  San Antonio, TX  Central Time (US & Canada)\n",
              "\n",
              "[13871 rows x 22 columns]"
            ]
          },
          "metadata": {
            "tags": []
          },
          "execution_count": 2
        }
      ]
    },
    {
      "cell_type": "markdown",
      "metadata": {
        "id": "mJ3N4OqaBmPW",
        "colab_type": "text"
      },
      "source": [
        "¿Cómo se distribuyen las etiquetas de sentimiento? ¿Cuánto podemos confiar en esas etiquetas?"
      ]
    },
    {
      "cell_type": "code",
      "metadata": {
        "id": "utiJoi1ZBmPY",
        "colab_type": "code",
        "colab": {
          "base_uri": "https://localhost:8080/",
          "height": 322
        },
        "outputId": "2b334499-a27f-489f-9ccb-e75135f7ef42"
      },
      "source": [
        "import seaborn as sns                  # importamos seaborn para visualización\n",
        "import matplotlib.pyplot as plt\n",
        "\n",
        "# gráfico de barras para mostrar el número de tweets etiquetados como Positivo / Neutral / Negativo\n",
        "f, (ax1, ax2) = plt.subplots(1, 2, figsize=(15, 5))\n",
        "sns.countplot(x=\"sentiment\", order=[\"Negative\",\"Neutral\",\"Positive\"], data=tweets_data_df, palette=\"PiYG\", ax=ax1)\n",
        "ax1.set_title(\"Sentiment Label Counts\")\n",
        "ax1.set_xlabel(\"Sentiment\")\n",
        "ax1.set_ylabel(\"Count\")\n",
        "\n",
        "# diagrama de dispersión que muestra la confianza de las etiquetas por tweet.\n",
        "# útil para descartar tweets poco fiables. \n",
        "sns.scatterplot(x=\"id\", y=\"sentiment_confidence\", hue=\"sentiment_confidence\", palette=\"viridis\",\n",
        "                sizes=(5,), linewidth=0, alpha=0.7,legend=False, data=tweets_data_df, ax=ax2)\n",
        "ax2.set_title(\"Tweet Label Confidence\")\n",
        "ax2.set_xlabel(\"Tweet ID\")\n",
        "ax2.set_ylabel(\"Confidence\")"
      ],
      "execution_count": 3,
      "outputs": [
        {
          "output_type": "stream",
          "text": [
            "/usr/local/lib/python3.6/dist-packages/statsmodels/tools/_testing.py:19: FutureWarning: pandas.util.testing is deprecated. Use the functions in the public API at pandas.testing instead.\n",
            "  import pandas.util.testing as tm\n"
          ],
          "name": "stderr"
        },
        {
          "output_type": "execute_result",
          "data": {
            "text/plain": [
              "Text(0, 0.5, 'Confidence')"
            ]
          },
          "metadata": {
            "tags": []
          },
          "execution_count": 3
        },
        {
          "output_type": "display_data",
          "data": {
            "image/png": "[encoded data removed]",
            "text/plain": [
              "<Figure size 1080x360 with 2 Axes>"
            ]
          },
          "metadata": {
            "tags": [],
            "needs_background": "light"
          }
        }
      ]
    },
    {
      "cell_type": "markdown",
      "metadata": {
        "id": "B-MPs1RCBmPh",
        "colab_type": "text"
      },
      "source": [
        "## Filtrado de datos\n",
        "Con base en las cifras anteriores, decidimos filtrar los datos que usaremos para construir nuestro clasificador y mantener solo las columnas de texto y sentimiento. Además, eliminamos las filas con `sentiment_confidence` por debajo de 0.5. Dado que realizaremos una clasificación binaria, eliminamos los tweets `Neutrales` y reemplazamos las cadenas` Negativo` y `Positivo` con etiquetas enteras (1 ó 0). Finalmente, un gran desequilibrio en el número de datos etiquetados para una categoría determinada puede afectar gravemente el desempeño de un clasificador. Por lo tanto, eliminamos aleatoriamente los tweets negativos para que coincidan con el número de muestras positivas en o conjunto de datos."
      ]
    },
    {
      "cell_type": "code",
      "metadata": {
        "id": "zCtf-jjWBmPj",
        "colab_type": "code",
        "colab": {
          "base_uri": "https://localhost:8080/",
          "height": 235
        },
        "outputId": "fc190ad4-e4cd-4757-9671-560a9e8bf33f"
      },
      "source": [
        "import numpy as np\n",
        "\n",
        "# manteniendo solo filas con sentiment_confidence> 0.5\n",
        "tweets_data_df = tweets_data_df[tweets_data_df[\"sentiment_confidence\"]>0.5] \n",
        "\n",
        "# eliminar tweets negativos aleatorios\n",
        "total_negative = tweets_data_df[\"sentiment\"].value_counts()[\"Negative\"] # count positive and negative rows\n",
        "total_positive = tweets_data_df[\"sentiment\"].value_counts()[\"Positive\"]\n",
        "to_remove = np.random.choice(tweets_data_df[tweets_data_df['sentiment']==\"Negative\"].index, # select random rows\n",
        "                             size=total_negative-total_positive,\n",
        "                             replace=False)\n",
        "tweets_data_df = tweets_data_df.drop(to_remove) # remove\n",
        "\n",
        "# manteniendo solo las columnas necesarias [['text','sentiment']]\n",
        "tweets_data_df = tweets_data_df[[\"text\",\"sentiment\"]]         \n",
        "# reemplace las etiquetas de las cadenas de sentimientos con números enteros y elimine los tweets neutrales. \n",
        "tweets_data_df = tweets_data_df[tweets_data_df[\"sentiment\"]!=\"Neutral\"]      \n",
        "tweets_data_df[\"sentiment\"][tweets_data_df[\"sentiment\"]==\"Negative\"]  = 0   \n",
        "tweets_data_df[\"sentiment\"][tweets_data_df[\"sentiment\"]==\"Positive\"]  = 1      \n",
        "tweets_data_df"
      ],
      "execution_count": 4,
      "outputs": [
        {
          "output_type": "execute_result",
          "data": {
            "text/html": [
              "<div>\n",
              "<style scoped>\n",
              "    .dataframe tbody tr th:only-of-type {\n",
              "        vertical-align: middle;\n",
              "    }\n",
              "\n",
              "    .dataframe tbody tr th {\n",
              "        vertical-align: top;\n",
              "    }\n",
              "\n",
              "    .dataframe thead th {\n",
              "        text-align: right;\n",
              "    }\n",
              "</style>\n",
              "<table border=\"1\" class=\"dataframe\">\n",
              "  <thead>\n",
              "    <tr style=\"text-align: right;\">\n",
              "      <th></th>\n",
              "      <th>text</th>\n",
              "      <th>sentiment</th>\n",
              "    </tr>\n",
              "  </thead>\n",
              "  <tbody>\n",
              "    <tr>\n",
              "      <th>1</th>\n",
              "      <td>RT @ScottWalker: Didn't catch the full #GOPdeb...</td>\n",
              "      <td>1</td>\n",
              "    </tr>\n",
              "    <tr>\n",
              "      <th>3</th>\n",
              "      <td>RT @RobGeorge: That Carly Fiorina is trending ...</td>\n",
              "      <td>1</td>\n",
              "    </tr>\n",
              "    <tr>\n",
              "      <th>...</th>\n",
              "      <td>...</td>\n",
              "      <td>...</td>\n",
              "    </tr>\n",
              "    <tr>\n",
              "      <th>13868</th>\n",
              "      <td>RT @Lrihendry: #TedCruz As President, I will a...</td>\n",
              "      <td>1</td>\n",
              "    </tr>\n",
              "    <tr>\n",
              "      <th>13870</th>\n",
              "      <td>RT @Lrihendry: #TedCruz headed into the Presid...</td>\n",
              "      <td>1</td>\n",
              "    </tr>\n",
              "  </tbody>\n",
              "</table>\n",
              "<p>3602 rows × 2 columns</p>\n",
              "</div>"
            ],
            "text/plain": [
              "                                                    text sentiment\n",
              "1      RT @ScottWalker: Didn't catch the full #GOPdeb...         1\n",
              "3      RT @RobGeorge: That Carly Fiorina is trending ...         1\n",
              "...                                                  ...       ...\n",
              "13868  RT @Lrihendry: #TedCruz As President, I will a...         1\n",
              "13870  RT @Lrihendry: #TedCruz headed into the Presid...         1\n",
              "\n",
              "[3602 rows x 2 columns]"
            ]
          },
          "metadata": {
            "tags": []
          },
          "execution_count": 4
        }
      ]
    },
    {
      "cell_type": "markdown",
      "metadata": {
        "id": "MAOMw8Q7BmPs",
        "colab_type": "text"
      },
      "source": [
        "Comprobemos la distribución de salida usando un gráfico de barras"
      ]
    },
    {
      "cell_type": "code",
      "metadata": {
        "id": "gSYY-IC5BmPv",
        "colab_type": "code",
        "colab": {
          "base_uri": "https://localhost:8080/",
          "height": 367
        },
        "outputId": "204615c3-0c66-418e-ac05-37820d7390b3"
      },
      "source": [
        "# gráfico de barras para mostrar el número de tweets etiquetados como Positivo / Neutral / Negativo\n",
        "f, (ax1) = plt.subplots(1, 1, figsize=(5, 5))\n",
        "sns.countplot(x=\"sentiment\", order=[0,1], data=tweets_data_df, palette=\"PiYG\", ax=ax1)\n",
        "ax1.set_title(\"Sentiment Label Counts (after filtering)\")\n",
        "ax1.set_xlabel(\"Sentiment\")\n",
        "ax1.set_ylabel(\"Count\")"
      ],
      "execution_count": 5,
      "outputs": [
        {
          "output_type": "execute_result",
          "data": {
            "text/plain": [
              "Text(0, 0.5, 'Count')"
            ]
          },
          "metadata": {
            "tags": []
          },
          "execution_count": 5
        },
        {
          "output_type": "display_data",
          "data": {
            "image/png": "[encoded data removed]",
            "text/plain": [
              "<Figure size 360x360 with 1 Axes>"
            ]
          },
          "metadata": {
            "tags": [],
            "needs_background": "light"
          }
        }
      ]
    },
    {
      "cell_type": "markdown",
      "metadata": {
        "id": "qbma6YcyBmP4",
        "colab_type": "text"
      },
      "source": [
        "Preparemos ahora el texto del tweet para que nuestro clasificador lo pueda interpretar. Usando herramientas de [NLTK](https://www.nltk.org/) primero eliminamos *palabras vacías* que son palabras que no tienen ningún significado importante para ser utilizadas en nuestro clasificador. Por lo general, estas palabras también se filtran de las consultas de búsqueda porque devuelven una gran cantidad de información innecesaria (por ejemplo, the, is, at, which, on, for, this, etc.). También eliminamos nombres de usuario, hashtags y URL. NLTK también nos proporciona un módulo de tweet *tokenizador* que divide las cadenas de tweets en una lista de palabras. Además, empleamos un *stemmer (lematizador)* para eliminar los afijos morfológicos de las palabras, dejando solo la raíz de la palabra (i.e.: \"running\" -> \"run\", \"generously\" -> \"generous\"). Finalmente, también eliminamos emojis comunes, hashtags, puntuación y números."
      ]
    },
    {
      "cell_type": "code",
      "metadata": {
        "scrolled": true,
        "id": "7LjpHFhZBmP5",
        "colab_type": "code",
        "colab": {
          "base_uri": "https://localhost:8080/",
          "height": 270
        },
        "outputId": "005ef497-433f-442a-bda1-46c2eb88b660"
      },
      "source": [
        "from nltk.corpus   import stopwords \n",
        "from nltk.tokenize import TweetTokenizer\n",
        "from nltk.stem     import PorterStemmer\n",
        "import nltk\n",
        "import string\n",
        "import re\n",
        "\n",
        "# Conjunto de emojis para eliminar de los tweets\n",
        "emojis = set([ ':-)', ':)', ';)', ':o)', ':]', ':3', ':c)', ':>', '=]', '8)', '=)', ':}',\n",
        "               ':^)', ':-D', ':D', '8-D', '8D', 'x-D', 'xD', 'X-D', 'XD', '=-D', '=D',\n",
        "               '=-3', '=3', ':-))', \":'-)\", \":')\", ':*', ':^*', '>:P', ':-P', ':P', 'X-P',\n",
        "               'x-p', 'xp', 'XP', ':-p', ':p', '=p', ':-b', ':b', '>:)', '>;)', '>:-)','<3',\n",
        "               ':L', ':-/', '>:/', ':S', '>:[', ':@', ':-(', ':[', ':-||', '=L', ':<',\n",
        "               ':-[', ':-<', '=\\\\', '=/', '>:(', ':(', '>.<', \":'-(\", \":'(\", ':\\\\', ':-c',\n",
        "               ':c', ':{', '>:\\\\', ';(', '🇺🇸'])\n",
        " \n",
        "# Conjunto de palabras en inglés a descartar(stopwords)\n",
        "nltk.download('stopwords')\n",
        "stopwords_english  = set(stopwords.words(\"english\"))\n",
        "    \n",
        "# Tokenizer \n",
        "tokenizer    = TweetTokenizer(preserve_case=False, strip_handles=True, reduce_len=True)\n",
        "\n",
        "def clean_tweet(tweet):\n",
        "    \n",
        "    # expresión regular: eliminar \"RT\" de los tweets\n",
        "    tweet = re.sub(r'^RT[\\s]+', '', tweet)\n",
        " \n",
        "    # expresión regular: eliminar \"URL\" de los tweets\n",
        "    tweet = re.sub(r'https?:\\/\\/.*[\\r\\n]*', '', tweet)\n",
        "    \n",
        "    # expresión regular: eliminar \"#\" de los tweets\n",
        "    tweet = re.sub(r'#', '', tweet)\n",
        "    \n",
        "    # expresión regular: eliminar \"@\" de los tweets\n",
        "    tweet = re.sub(r'@', '', tweet)\n",
        " \n",
        "    # tokenize\n",
        "    tweet_tokens = tokenizer.tokenize(tweet)\n",
        "    \n",
        "    # PorterStemmer\n",
        "    stemmer = PorterStemmer()\n",
        " \n",
        "    tweet_clean = [] #lista vacia   \n",
        "    for word in tweet_tokens:\n",
        "        if (word not in stopwords_english and     # no stopwords\n",
        "            word not in emojis and                # no emojis\n",
        "            word not in string.punctuation):      # no puntuación\n",
        "                stem_word = stemmer.stem(word)    # stemming word (lematizador)\n",
        "                tweet_clean.append(stem_word)     # adjuntar las palabras importantes\n",
        " \n",
        "    return tweet_clean\n",
        "\n",
        "# obtener palabras limpias filtradas para cada tweet\n",
        "tweets_data_df[\"text\"] = tweets_data_df[\"text\"].apply(lambda x: clean_tweet(x))\n",
        "# eliminar palabras vacías y puntuación\n",
        "tweets_data_df"
      ],
      "execution_count": 6,
      "outputs": [
        {
          "output_type": "stream",
          "text": [
            "[nltk_data] Downloading package stopwords to /root/nltk_data...\n",
            "[nltk_data]   Unzipping corpora/stopwords.zip.\n"
          ],
          "name": "stdout"
        },
        {
          "output_type": "execute_result",
          "data": {
            "text/html": [
              "<div>\n",
              "<style scoped>\n",
              "    .dataframe tbody tr th:only-of-type {\n",
              "        vertical-align: middle;\n",
              "    }\n",
              "\n",
              "    .dataframe tbody tr th {\n",
              "        vertical-align: top;\n",
              "    }\n",
              "\n",
              "    .dataframe thead th {\n",
              "        text-align: right;\n",
              "    }\n",
              "</style>\n",
              "<table border=\"1\" class=\"dataframe\">\n",
              "  <thead>\n",
              "    <tr style=\"text-align: right;\">\n",
              "      <th></th>\n",
              "      <th>text</th>\n",
              "      <th>sentiment</th>\n",
              "    </tr>\n",
              "  </thead>\n",
              "  <tbody>\n",
              "    <tr>\n",
              "      <th>1</th>\n",
              "      <td>[scottwalk, catch, full, gopdeb, last, night, ...</td>\n",
              "      <td>1</td>\n",
              "    </tr>\n",
              "    <tr>\n",
              "      <th>3</th>\n",
              "      <td>[robgeorg, carli, fiorina, trend, hour, debat,...</td>\n",
              "      <td>1</td>\n",
              "    </tr>\n",
              "    <tr>\n",
              "      <th>...</th>\n",
              "      <td>...</td>\n",
              "      <td>...</td>\n",
              "    </tr>\n",
              "    <tr>\n",
              "      <th>13868</th>\n",
              "      <td>[lrihendri, tedcruz, presid, alway, tell, trut...</td>\n",
              "      <td>1</td>\n",
              "    </tr>\n",
              "    <tr>\n",
              "      <th>13870</th>\n",
              "      <td>[lrihendri, tedcruz, head, presidenti, debat, ...</td>\n",
              "      <td>1</td>\n",
              "    </tr>\n",
              "  </tbody>\n",
              "</table>\n",
              "<p>3602 rows × 2 columns</p>\n",
              "</div>"
            ],
            "text/plain": [
              "                                                    text sentiment\n",
              "1      [scottwalk, catch, full, gopdeb, last, night, ...         1\n",
              "3      [robgeorg, carli, fiorina, trend, hour, debat,...         1\n",
              "...                                                  ...       ...\n",
              "13868  [lrihendri, tedcruz, presid, alway, tell, trut...         1\n",
              "13870  [lrihendri, tedcruz, head, presidenti, debat, ...         1\n",
              "\n",
              "[3602 rows x 2 columns]"
            ]
          },
          "metadata": {
            "tags": []
          },
          "execution_count": 6
        }
      ]
    },
    {
      "cell_type": "markdown",
      "metadata": {
        "id": "N7sAeYb6BmP_",
        "colab_type": "text"
      },
      "source": [
        "## Construyendo un clasificador de opiniones\n",
        "Primero, identificamos y creamos un diccionario de palabras únicas usando el método [`CountVectorizer`](https://scikit-learn.org/stable/modules/generated/sklearn.feature_extraction.text.CountVectorizer.html) de scikit-learn . Para entrenar a un clasificador, necesitamos crear un vector que identifique cada tweet, esto se llama vector de características. El vectorizador nos ayuda a traducir cada palabra en un código entero único, extrayendo el *vocabulario* en nuestro conjunto de datos."
      ]
    },
    {
      "cell_type": "code",
      "metadata": {
        "id": "XDFC3kOOBmQB",
        "colab_type": "code",
        "colab": {
          "base_uri": "https://localhost:8080/",
          "height": 72
        },
        "outputId": "94fbf745-9090-4a60-87f0-96c7220b6a5c"
      },
      "source": [
        "from sklearn.feature_extraction.text import CountVectorizer\n",
        "\n",
        "phrases    = [' '.join(x) for x in tweets_data_df[\"text\"].values ] # Todas las frases de nuestros tweets\n",
        "vectorizer = CountVectorizer() \n",
        "vectorizer = vectorizer.fit(phrases)\n",
        "print(\"Vocabulary size:{}\".format(len(vectorizer.vocabulary_)))\n",
        "print(\"Vocabulary content:{}\".format(vectorizer.vocabulary_))"
      ],
      "execution_count": 7,
      "outputs": [
        {
          "output_type": "stream",
          "text": [
            "Vocabulary size:5414\n",
            "Vocabulary content:{'scottwalk': 4240, 'catch': 928, 'full': 2002, 'gopdeb': 2107, 'last': 2808, 'night': 3374, 'scott': 4234, 'best': 642, 'line': 2910, '90': 190, 'second': 4259, 'walker': 5204, '16': 33, 'robgeorg': 4096, 'carli': 905, 'fiorina': 1881, 'trend': 4966, 'hour': 2345, 'debat': 1364, 'men': 3116, 'just': 2670, 'complet': 1158, 'say': 4210, 'danscavino': 1330, 'realdonaldtrump': 3938, 'deliv': 1402, 'highest': 2286, 'rate': 3913, 'histori': 2305, 'presidenti': 3767, 'trump': 4982, '2016': 63, 'gregabbott_tx': 2167, 'tedcruz': 4773, 'first': 1884, 'day': 1345, 'rescind': 4021, 'everi': 1734, 'illeg': 2411, 'execut': 1762, 'action': 254, 'taken': 4733, 'barack': 566, 'obama': 3439, 'foxnew': 1955, 'jgreendc': 2596, 'fair': 1801, 'billclinton': 672, 'own': 3546, 'phrase': 3646, 'waynedupreeshow': 5238, 'woke': 5325, 'tweet': 5011, 'via': 5147, 'govmikehuckabe': 2141, 'pattonoswalt': 3596, 'love': 2975, 'mark': 3044, 'harmon': 2238, 'romant': 4105, 'rival': 4085, 'summer': 4676, 'school': 4224, 'look': 2956, 'hey': 2279, 'chrischristi': 1019, 'exploit': 1781, 'tragedi': 4945, '11': 15, 'polit': 3705, 'gain': 2016, 'rudygiulianigop': 4137, 'thing': 4854, 'carolcnn': 914, 'donaldtrump': 1513, 'fire': 1882, 'comment': 1139, 'women': 5329, 'peterbeinart': 3633, 'sl_schaeffer': 4422, 'iwf': 2537, 'myrkig': 3287, 'weigh': 5252, 'pamelagel': 3557, 'huckabe': 2360, 'pay': 3601, 'transgend': 4954, 'surgeri': 4696, 'soldier': 4485, 'sailor': 4167, 'airmen': 310, 'make': 3013, 'countri': 1242, 'safer': 4164, 'ha': 2195, 'chucknelli': 1039, 'cruz': 1281, 'class': 1064, 'truth': 4995, 'get': 2054, 'vote': 5183, 'erinmallorylong': 1709, 'hate': 2244, 'plan': 3669, 'parenthood': 3568, 'thebaxterbean': 4819, 'abort': 232, 'ban': 556, 'allow': 339, 'rapist': 3910, 'father': 1828, 'sue': 4669, 'emot': 1664, 'distress': 1491, 'kvxrdashian': 2784, 'jeb': 2566, 'bush': 840, 'fault': 1829, 'brother': 812, 'clean': 1067, 'mess': 3124, 'made': 3001, 'lekarmasucr': 2862, 'handl': 2215, 'blacklivesmatt': 695, 'fox': 1950, 'thank': 4809, 'megynkelli': 3106, 'chrisstirewalt': 1026, 'big': 662, 'moment': 3213, 'randpaul': 3903, 'vs': 5190, 'reaction': 3922, 'question': 3870, 'kellyfil': 2717, 'stylemom': 4657, 'here': 2276, 'hell': 2270, 'bodi': 731, 'part': 3572, 'even': 1730, 'foh': 1920, 'stop': 4617, '1965': 46, 'wtf': 5356, 'theskysgoneout': 4846, 'non': 3388, 'christian': 1029, 'god': 2085, 'underlin': 5054, 'littl': 2922, 'anyon': 421, 'realli': 3941, 'care': 901, 'religi': 3986, 'minor': 3171, 'chri': 1016, 'p0tu': 3548, 'close': 1078, 'statement': 4580, 'frankluntz': 1971, '14': 26, 'focu': 1917, 'grouper': 2177, 'said': 4166, 'favor': 1833, 'view': 5157, 'saw': 4209, 'posit': 3725, '_holly_rene': 210, 'donat': 1515, 'carlyfiorina': 910, 'impress': 2429, 'perform': 3621, 'bipartisan': 682, 'worri': 5338, 'never': 3349, 'elect': 1636, 'need': 3327, 'rememb': 3992, 'georg': 2050, 'twice': 5016, 'http': 2358, 'franklin_graham': 1970, '1st': 52, 'gopdebate': 2111, 'encourag': 1671, 'see': 4267, 'sever': 4314, 'candid': 885, 'express': 1784, 'faith': 1805, 'son': 4499, 'jesu': 2590, 'christ': 1027, 'brandondhowel': 771, 'great': 2161, 'way': 5237, 'start': 4576, 'friday': 1984, 'presid': 3766, 'll': 2936, 'unconstitut': 5052, 'order': 3510, 'enact': 1670, 'pre': 3753, 'oba': 3437, 'watch': 5230, 'donald': 1512, 'receiv': 3950, 'enorm': 1681, 'applaus': 438, 'horribl': 2333, 'misogynist': 3178, 'answer': 416, 'though': 4863, 'super': 4680, 'conserv': 1188, 'report': 4006, 'actual': 257, 'like': 2898, 'megyn': 3103, 'kelly': 2714, 'interview': 2497, 'style': 4656, 'reinc': 3979, 'simpli': 4399, 'incred': 2450, 'fl_dreamer': 1895, 'haha': 2198, 'saa': 4157, 'voxdotcom': 5188, 'morn': 3229, 'toward': 4937, 'factcheck': 1797, 'time': 4886, 'johnkasich': 2627, 'john': 2619, 'kasich': 2692, 'help': 2272, 'ohioan': 3469, 'creat': 1261, '350': 104, '000': 1, 'new': 3353, 'job': 2615, 'america': 369, 'jebbush': 2568, 'true': 4978, 'gentleman': 2048, 'violent': 5168, '69ing': 169, 'jamesvis': 2549, 'huh': 2370, 'half': 2206, 'clinton': 1075, 'chariti': 976, 'went': 5261, 'kraig': 2774, '4u': 142, 'take': 4730, 'wonder': 5333, 'news': 3360, 'one': 3486, 'took': 4922, 'serious': 4307, 'heidil_rn': 2267, 'amymek': 377, 'owe': 3545, 'huge': 2367, 'expos': 1783, 'world': 5337, 'wallac': 5206, 'rhino': 4055, 'lesliemac': 2866, 'murder': 3272, 'black': 691, 'ppl': 3742, 'fine': 1877, 'unborn': 5046, 'babi': 530, 'goplog': 2114, 'charlottelaw': 978, 'christi': 1028, 'stand': 4566, 'edstetz': 1619, 'btw': 821, 'mix': 3191, 'religion': 3987, 'tuxcedocat': 5007, 'republican': 4012, 'dope': 1533, 'they': 4849, 'us': 5113, 'back': 534, '2009': 58, 'white': 5280, 'hous': 2346, 'scorpionspriest': 4233, 'rand': 3900, 'tell': 4779, 'go': 2081, 'anoth': 415, 'hug': 2366, 'siteroi': 4410, 'governorperri': 2138, 'fight': 1869, 'abt': 236, 'immigr': 2421, 'border': 749, 'porou': 3723, 'must': 3277, 'fix': 1892, 'thepatriot': 4841, '143': 27, 'debbi': 1370, 'block': 710, 'tweeter': 5012, 'dem': 1404, 'schedul': 4223, 'chrisjzullo': 1022, 'bunch': 838, 'rich': 4060, 'old': 3478, 'despot': 1437, 'zero': 5404, 'solut': 4490, 'nation': 3312, 'problem': 3802, 'un': 5040, 'right': 4073, 'studi': 4650, 'matthew': 3071, 'vers': 5143, 'usfre': 5119, '4life': 139, 'thought': 4864, 'seanhann': 4254, 'post': 3728, 'gave': 2031, 'chanc': 968, '2straighten': 92, 'teamdrbencarson': 4764, 'realbencarson': 3935, 'wow': 5344, 'brilliant': 800, 'cool': 1213, 'calm': 869, 'collected': 1115, 'empow': 1667, 'winner': 5310, 'drudg': 1568, '50': 144, '187k': 40, '46': 123, '25k': 79, 'foxsd': 1961, '49': 128, 'imho': 2418, 'marcorubio': 3039, 'loser': 2966, 'bencarson': 624, 'other': 3521, 'forgett': 1939, 'allthingsflynn': 340, 'conflict': 1180, 'quit': 3875, 'conundrum': 1208, 'personif': 3629, 'greed': 2163, 'root': 4113, 'know': 2765, 'extraordinari': 1786, 'laxnoreo': 2832, 'meanwhil': 3091, 'rubio': 4132, 'still': 4609, 'prefer': 3758, 'point': 3695, 'critic': 1273, 'opportun': 3500, 'inconsist': 2447, 'thetexasphoenix': 4848, 'governorperry': 2139, 'promis': 3817, 'startup': 4577, 'tech': 4771, 'confer': 1178, 'seem': 4269, 'reason': 3945, 'roy___rog': 4124, 'knuckldraginsam': 2768, 'gop': 2101, 'yobynnad': 5384, '1127': 17, 'amen': 366, 'wakeupamerica': 5202, 'tcot': 4758, 'stoprush': 4619, 'zzcrane': 5412, 'bandwagon': 558, 'pass': 3581, 'tlot': 4897, 'senwhitehous': 4302, 'silenc': 4393, 'koch': 2770, 'billion': 674, 'singl': 4403, 'climatechang': 1074, 'denier': 1418, 'mond': 3216, 'readi': 3925, 'lead': 2836, 'join': 2634, 'team': 4763, 'clair': 1062, 'seabassthephish': 4252, 'proud': 3829, 'defeat': 1385, 'teacher': 4762, 'union': 5075, 'want': 5216, 'higher': 2285, 'wage': 5193, 'excit': 1757, 'republicandeb': 4013, 'wait': 5197, '20': 54, 'year': 5376, 'berniesand': 640, 'tom': 4909, 'hank': 2219, 'final': 1873, 'somebodi': 4493, 'sens': 4291, 'debatewithberni': 1368, 'reduc': 3963, 'tax': 4752, 'legal': 2857, 'prostitut': 3825, 'drug': 1570, 'break': 776, 'record': 3953, 'he': 2250, 'polish': 3704, 'politician': 3708, 'oh': 3465, 'movi': 3244, 'trailer': 4947, 'absolut': 235, 'nut': 3423, 'entertain': 1685, 'lol': 2950, 'thehil': 4830, 'top': 4925, 'pundit': 3846, 'pick': 3649, 'usa': 5115, 'dykstradam': 1597, 'hillaryclinton': 2297, '32': 102, 'but': 844, 'remain': 3989, 'silent': 4394, 'issu': 2526, 'affect': 285, 'passion': 3582, 'religiousupamovi': 3988, 'nro': 3416, 'got': 2124, 'review': 4048, 'deserv': 1433, 'read': 3924, 'nreditori': 3415, 'recap': 3949, 'kesgardn': 2724, 'brutal': 818, 'assclown': 481, 'megan': 3099, 'kelli': 2712, 'lesson': 2870, 'twitter': 5020, 'respect': 4030, 'tellingitlik': 4780, 'mattkbh': 3073, 'far': 1820, 'away': 522, 'challeng': 965, 'can': 879, 'tough': 4933, 'could': 1238, 'potu': 3733, 'carljacksonshow': 907, 'oper': 3497, 'brain': 768, 'skin': 4416, 'color': 1120, 'campeauelliot': 878, 'dr': 1543, 'ben': 621, 'carson': 918, 'tonight': 4919, 'trash': 4957, 'play': 3674, 'rollingstone': 4104, 'drink': 1559, 'game': 2019, 'drinkinggam': 1560, 'uniteblu': 5078, 'talk': 4735, 'sinc': 4402, 'ppsellsbabypart': 3743, 'kill': 2733, 'glad': 2072, 'makeamericagreatagain': 3015, 'youngblkrepub': 5390, 'anyth': 422, 'els': 1648, 'tv': 5008, 'past': 3583, '10': 9, 'bullrid': 834, 'olivianuzzi': 3479, 'daveweigel': 1337, 'better': 648, 'it': 2530, 'finess': 1878, 'sound': 4508, 'byte': 853, 'rethink': 4040, '911': 193, 'moder': 3208, 'particip': 3574, 'andreatantaro': 388, 'outnumberedfnc': 3531, 'ericbol': 1705, 'good': 2095, 'stuff': 4651, 'renomarki': 3997, 'earth': 1605, 'aint': 308, 'foxdeb': 1952, 'megynkellydebatequest': 3108, 'cnn': 1093, 'york': 5385, 'prais': 3747, 'wrong': 5353, 'tusk': 5006, '81': 181, 'spoke': 4541, 'mass': 3062, 'deport': 1423, 'condemn': 1172, 'racist': 3885, 'latino': 2816, 'forget': 1938, 'hero': 2277, 'gerryduggan': 2052, 'kryptonian': 2778, 'scienc': 4230, 'council': 1239, 'climat': 1073, 'chang': 969, 'scari': 4217, 'peopl': 3614, 'directli': 1464, 'afraid': 291, 'fredbarn': 1974, 'weeklystandard': 5250, 'mike': 3148, 'star': 4574, 'luntz': 2988, 'group': 2176, 'show': 4378, 'feedback': 1842, 'primetim': 3787, 'afternoon': 294, 'think': 4855, 'real': 3931, 'quiet': 3873, 'effect': 1623, 'china': 1007, 'deal': 1358, 'playground': 3676, 'bulli': 833, 'punch': 3845, 'face': 1794, 'put': 3857, 'ground': 2174, 're': 3921, 'catholiclisa': 931, 'hat': 2242, 'use': 5117, 'term': 4788, 'idiot': 2407, 'hillari': 2295, 'secular': 4264, 'progress': 3813, 'movement': 3243, 'gopd': 2105, '31': 98, 'minut': 3172, 'obviou': 3445, 'goal': 2082, 'ambush': 364, 'everyon': 1738, 'pathet': 3588, 'johnamato': 2620, 'agre': 302, 'someth': 4495, 'hurt': 2382, 'concur': 1171, 'donniewahlberg': 1523, 'heart': 2259, 'marco': 3038, 'soul': 4507, 'hope': 2330, 'add': 265, 'fi': 1864, 'greatest': 2162, 'moral': 3227, 'purpos': 3852, 'strengthen': 4636, 'famili': 1813, 'commun': 1147, 'nevagphx': 3347, 'magnific': 3004, 'support': 4686, 'ted': 4772, 'would': 5343, 'run': 4143, 'mate': 3067, 'pot': 3730, '1216bj': 23, 'domin': 1509, 'social': 4471, 'media': 3093, 'beat': 594, 'disagre': 1467, 'hit': 2306, 'calcul': 864, 'mute': 3279, 'sentedcruz': 4297, 'realbencarso': 3934, 'keep': 2708, 'may': 3076, 'lord': 2963, 'guid': 2187, 'word': 5335, 'let': 2871, 'wisdom': 5314, 'eloqu': 1647, 'knew': 2759, 'believ': 615, 'imwithhuck': 2435, 'throw': 4871, 'crap': 1254, 'substant': 4663, 'gotcha': 2125, 'trumpforpresid': 4986, 'chooseliferac': 1013, 'lose': 2965, 'truli': 4981, 'import': 2427, 'defundpp': 1395, 'praytoendabort': 3752, '3chicspolitico': 107, 'call': 867, 'bimbo': 680, 'reprehens': 4007, 'choos': 1012, 'jerri': 2583, 'spri': 4552, 'articul': 468, 'relat': 3981, 'lot': 2970, 'fan': 1816, 'ldonaldtrump': 2834, 'excel': 1754, 'analysi': 379, 'friend': 1986, 'rman': 4088, '957': 199, 'limitgovt': 2904, 'whine': 5276, 'unfair': 5067, 'grow': 2179, 'set': 4311, 'ya': 5364, 'whoissizzl': 5288, 'spent': 4532, 'kim': 2736, 'kany': 2685, 'wagnergirl': 5194, 'speak': 4518, 'govermentcartel': 2135, 'securethebord': 4266, 'imfabul': 2416, '13': 25, 'assum': 489, 'guy': 2192, 'boo': 740, 'gay': 2034, 'aris': 457, 'rsg': 4125, '15': 29, 'littleladycassi': 2923, 'smart': 4444, 'milesorionfeld': 3159, 'head': 2252, 'crowd': 1277, 'zellieimani': 5403, 'terror': 4794, 'expect': 1771, 'bring': 802, 'supremacist': 4692, 'organ': 3513, 'engag': 1678, 'kkkor': 2751, 'reagan': 3927, 'con': 1165, 'man': 3025, 'thinkprogress': 4857, 'jgalt': 2595, 'introduc': 2498, 'bill': 671, 'strip': 4639, 'citizenship': 1053, 'american': 370, 'isi': 2521, 'solid': 4487, 'smartest': 4447, 'wisest': 5315, 'room': 4112, 'bare': 570, 'salti': 4178, 'well': 5258, 'bretbaier': 786, 'power': 3737, 'respons': 4032, 'rickcanton': 4063, 'cruzcrew': 1283, 'outsid': 3533, 'alway': 352, 'honor': 2328, 'commit': 1144, 'dont': 1525, 'pc': 3608, 'natur': 3316, 'coincid': 1105, 'unless': 5083, 'cabl': 857, 'alexisinnh': 325, 'two': 5023, 'stage': 4563, 'fill': 1871, 'liar': 2882, 'traitor': 4950, 'double': 1538, 'cheater': 982, 'deceiv': 1376, 'stunk': 4653, 'high': 2284, 'heaven': 2262, 'crazi': 1258, 'fun': 2003, 'exhaust': 1763, 'week': 5248, 'event': 1731, 'thecjpearson': 4823, 'cruztovictori': 1284, 'hilari': 2292, 'wick': 5292, 'strang': 4628, 'told': 4908, 'biggest': 665, 'thursday': 4876, 'without': 5318, 'step': 4595, 'prime': 3786, 'tim': 4884, 'bodybyn': 732, 'author': 513, 'kate': 2693, 'law': 2830, 'leader': 2837, 'parti': 3573, 'jfreewright': 2594, 'heard': 2258, 'stupid': 4654, 'liber': 2886, 'race': 3880, 'kindergarten': 2742, 'laugh': 2821, 'huck': 2359, 'mention': 3118, 'pimp': 3657, 'em': 1650, 'th2016': 4806, 'ccot': 941, 'brianstelt': 790, 'overnight': 3541, 'household': 2348, '2011': 59, '12': 22, 'offici': 3461, 'platform': 3673, 'less': 2867, 'war': 5217, 'that': 4811, 'prioriti': 3793, 'sallykohn': 4175, 'hard': 2230, 'concern': 1167, 'major': 3011, 'voter': 5184, 'fring': 1988, 'base': 574, 'fredzeppelin': 1975, 'priceless': 3779, 'clock': 1077, 'deb': 1362, 'woman': 5327, 'contend': 1200, 'gocarli': 2084, 'discuss': 1472, 'rightli': 4075, 'frank': 1966, 'mayb': 3077, 'attent': 504, 'sez': 4321, 'novelti': 3410, 'anymor': 420, 'gopclowncar': 2103, 'win': 5305, 'frustrat': 1994, 'cont': 1199, 'comb': 1124, 'mean': 3088, 'credibl': 1262, 'christichat': 1032, 'sheriffclark': 4352, 'forc': 1932, 'sisterpatriot': 4407, 'mrgeorgewallac': 3252, 'stayin': 4585, 'pretti': 3773, 'consid': 1191, 'gonna': 2094, 'mug': 3268, 'nerdist': 3336, 'orang': 3509, 'chrchcurmudgeon': 1015, 'hologram': 2317, 'calvin': 870, 'coolidg': 1215, 'moonwalk': 3226, 'across': 252, 'web': 5245, 'stream': 4632, 'mobil': 3204, 'app': 431, 'fail': 1799, 'surpris': 4698, 'sign': 4391, 'death': 1361, 'warrant': 5221, 'citizen': 1052, 'jonmcclellan': 2639, 'strong': 4642, 'video': 5155, 'ur': 5108, 'complain': 1157, 'much': 3267, 'target': 4748, 'prestonmitchum': 3770, 'dear': 1360, 'pro': 3798, 'lif': 2895, 'die': 1453, 'rather': 3914, 'republicanpunk': 4014, 'delet': 1398, '30': 95, 'subpoena': 4659, 'email': 1651, 'readyforhillari': 3926, 'wake': 5200, 'treat': 4961, 'gnat': 2080, 'gotrump': 2127, 'naughtybeyotch': 3318, 'rt': 4127, 'allenwestrepub': 335, 'declar': 1380, 'disrespect': 1484, 'disgust': 1475, 'shame': 4331, 'primari': 3784, 'ratingsbonanza': 3915, 'amaz': 360, 'chriscuomo': 1021, 'life': 2896, 'begin': 610, 'jhogangidley': 2597, 'crush': 1279, 'cc': 938, 'teamtrump': 4767, 'bomb': 736, 'destroy': 1438, 'notbett': 3403, 'classi': 1065, 'inspir': 2476, 'confid': 1179, 'trustworthi': 4994, 'happi': 2225, 'spudlovr': 4555, 'fetu': 1859, 'womb': 5328, 'carri': 916, 'alexandraheus': 322, 'til': 4883, 'hear': 2257, 'seriou': 4306, 'revjaydub': 4050, 'clown': 1082, 'gregmepstein': 2168, '501c3': 145, 'profit': 3811, 'exec': 1761, 'harvardhumanist': 2240, 'humanisthub': 2372, 'partisan': 3577, 'advocacy': 282, 'demon': 1414, 'ppact': 3740, 'lilwolf': 2901, 'spoken': 4542, 'facebook': 1795, 'logo': 2949, 'otherwis': 3522, 'brand': 770, 'awar': 520, 'might': 3145, 'suffer': 4670, 'brithum': 804, 'yaleclimatecomm': 5367, 'jerrybrowngov': 2584, 'peep': 3612, 'oil': 3473, 'ga': 2013, 'actonclim': 256, 'stevedeaceshow': 4602, 'ronald': 4109, 'definit': 1390, 'nomine': 3386, 'kept': 2722, 'tight': 4882, 'longer': 2955, 'next': 3365, 'tri': 4967, 'paul': 3597, '2015': 62, '42': 118, 'tweetreachapp': 5014, 'cours': 1245, 'user': 5118, 'rank': 3906, 'we': 5239, 'amandawil': 357, 'person': 3627, 'favorit': 1834, 'pray': 3749, 'futur': 2010, 'turn': 5005, 'prayforameri': 3751, 'blondieforkeep': 713, 'koolmo': 2772, '21': 67, 'shirt': 4358, 'rabit': 3879, 'clear': 1068, 'jaxt': 2563, '0520': 5, 'done': 1516, 'shine': 4355, 'dreamweasel': 1554, 'smug': 4454, 'sexist': 4318, 'asshol': 487, 'bc': 588, 'act': 253, 'ass': 479, 'guypbenson': 2194, 'predict': 3756, 'goldengateblond': 2091, 'tone': 4915, 'she': 4346, 'worst': 5340, 'possibl': 3727, 'feminist': 1851, 'came': 872, 'petti': 3635, 'napoleon': 3302, 'complex': 1159, 'blah': 699, 'sarahbh': 4195, '319': 101, 'onerational': 3488, 'fenc': 1853, 'proven': 3831, 'pregnanc': 3760, 'honesti': 2325, 'mother': 3236, 'ask': 477, 'miss': 3181, 'light': 2897, 'beeteedub': 607, 'lesser': 2868, 'of': 3455, '17': 35, 'evil': 1744, 'perhap': 3622, 'p2': 3549, 'found': 1947, 'lnyhbt': 2940, 'tananarivedu': 4743, 'shaunk': 4342, 'audienc': 509, 'poc': 3690, 'learn': 2846, 'mostli': 3235, 'find': 1876, 'stick': 4607, 'topic': 4926, 'choic': 1011, 'marriag': 3052, 'peddoc': 3610, '63': 162, 'steph': 4596, '93065': 197, 'maydnusa': 3078, 'interest': 2491, 'economi': 1613, 'yr': 5398, 'preform': 3759, 'ever': 1733, 'fairli': 1803, 'constitut': 1196, 'egregi': 1628, 'flaw': 1901, 'decis': 1379, 'wisconsin': 5313, 'fastest': 1826, 'shrink': 4382, 'middl': 3143, 'erupt': 1712, 'rosi': 4116, 'que': 3867, 'prez': 3778, 'sen': 4282, 'former': 1943, 'hp': 2353, 'ceo': 955, 'establish': 1720, 'someon': 4494, 'will': 5300, 'shake': 4327, 'dc': 1347, 'yay': 5371, 'leahrboss': 2843, 'spank': 4513, 'boy': 761, 'radar': 3887, 'comedi': 1131, 'macdeb': 2995, 'kinda': 2741, 'snore': 4464, 'sorri': 4505, 'canada': 880, 'awesom': 523, 'disappoint': 1468, 'pertin': 3632, 'duti': 1592, 'almightygod': 342, 'guess': 2185, 'bibl': 658, 'pharaoh': 3637, 'shebear': 4347, 'rmconserv': 4089, 'campaignconserv': 877, 'cut': 1302, 'core': 1224, 'also': 349, 'shortcom': 4370, 'htt': 2357, 'pulmyear': 3843, 'photo': 3643, 'pledg': 3681, 'address': 267, 'around': 462, 'skye': 4420, '820': 184, 'centuri': 954, 'small': 4442, 'busi': 841, 'gun': 2189, 'fre': 1973, 'zone': 5409, 'held': 2269, 'lizadonnelli': 2931, 'nonsens': 3390, 'forward': 1945, 'listen': 2920, 'drshow': 1567, 'roundup': 4120, 'side': 4387, 'clearli': 1069, 'teammarco': 4765, 'gusramsey': 2190, 'snl': 4462, 'enough': 1682, 'cast': 927, 'spoof': 4546, 'walk': 5203, 'horrif': 2334, 'crime': 1269, 'human': 2371, 'plannedbutcherhood': 3670, 'gotta': 2128, 'brendohar': 783, 'battl': 586, 'premier': 3761, 'teenag': 4775, 'athlet': 495, 'ljcambria': 2935, 'especislli': 1715, 'independ': 2454, 'lulz': 2984, 'huckster': 2362, 'rnc': 4090, 'writeintrump': 5350, 'wed': 5246, 'freedomtexasmom': 1979, 'trumpcruz': 4984, 'experi': 1773, 'matter': 3069, 'teaparti': 4769, 'renewu': 3996, 'understand': 5060, 'draftrunbenrun': 1545, 'unit': 5076, 'state': 4579, 'divid': 1494, 'pl': 3665, 'judg': 2663, 'educ': 1620, 'tbh': 4757, 'romney': 4107, 'prev': 3775, 'bmangh': 720, 'jacknicholson': 2541, 'drive': 1561, 'fellow': 1846, 'patient': 3589, 'flew': 1903, 'cuckoo': 1293, 'nest': 3340, 'isaid': 2520, 'dog': 1506, 'ruff': 4139, 'txdemparti': 5026, 'none': 3389, 'name': 3294, 'research': 4022, 'extrem': 1787, 'yesterday': 5381, 'iamgmjohnson': 2392, 'long': 2954, 'lgbtq': 2879, 'kkko': 2750, 'sandiego': 4189, 'gabby_hoffman': 2014, 'defend': 1387, 'liberti': 2889, 'deborahpeasley': 1372, 'multipl': 3270, 'shot': 4373, 'nod': 3383, 'behind': 614, 'strength': 4635, 'fabul': 1793, 'democrat': 1411, 'billycorben': 678, 'fortun': 1944, 'straight': 4625, 'outta': 3535, 'compton': 1164, 'commerci': 1141, 'civil': 1055, 'tombx': 4912, '7m': 178, 'hanniti': 2221, 'ogop': 3464, 'nyer': 3428, 'work': 5336, 'replac': 4005, 'senschum': 4293, 'chuck': 1038, 'schumer': 4227, 'iran': 2510, 'nuclear': 3419, 'result': 4036, 'kellyfail': 2716, 'extremeliber': 1788, 'co': 1095, 'round': 4119, 'up': 5099, 'perri': 3626, 'jindal': 2606, 'rest': 4033, 'jonahnro': 2637, 'jimgeraghti': 2602, 'given': 2071, '1on1': 51, 'emmaladyros': 1661, 'zwigzag': 5410, 'disenfranchis': 1473, 'hundr': 2379, 'thousand': 4865, 'id': 2400, 'debatewithb': 1367, 'theavgblackman': 4818, 'land': 2799, '1955': 43, 'lack': 2792, 'leadership': 2839, 'check': 983, 'llama': 2937, '4billlewi': 130, 'socialmedia': 4473, 'ticket': 4880, 'landslid': 2801, 'anncoult': 402, 'mr_landshark': 3250, 'saint': 4168, 'genesiu': 2043, 'rome': 4106, 'patron': 3595, 'comedian': 1132, 'lsarsour': 2980, 'islam': 2522, 'izlam': 2538, 'muslim': 3276, 'mozlem': 3247, 'snarki': 4458, 'hot': 2342, 'chick': 995, 'routin': 4121, 'place': 3667, 'amateurish': 359, 'jeetendrsehdev': 2572, 'teach': 4761, 'market': 3047, 'messag': 3125, 'today': 4902, 'direct': 1463, 'deflect': 1393, 'orlandodi': 3516, 'ethanelli': 1722, 'sure': 4693, 'horror': 2335, 'militari': 3160, 'fear': 1837, '⁰capabl': 5413, 'known': 2767, 'pleasant': 3678, 'toddstarn': 4904, 'corner': 1225, 'appear': 434, 'follish': 1922, 'rock': 4099, 'mzdivah': 3289, '67': 165, 'nutshel': 3424, 'blue': 719, 'frogi': 1991, '26': 80, 'latinosunido': 2818, 'espuelasvox': 1716, 'shannonrwatt': 4335, 'nra': 3413, 'lobbi': 2944, 'prevent': 3776, 'command': 1137, 'servic': 4310, 'member': 3114, 'privat': 3795, 'grannyt': 2156, 'dna': 1499, 'defin': 1389, '5th': 158, '14th': 28, 'amend': 367, 'guarante': 2184, 'righttolif': 4076, 'dontbackdown': 1526, 'obeydlaw': 3442, 'grovernorquist': 2178, 'nose': 3399, 'rub': 4130, 'shit': 4359, 'victim': 5153, 'dump': 1586, 'duncald': 1590, 'dunc': 1589, 'trumpissu': 4989, 'congress': 1184, 'moron': 3233, 'nancypelosi': 3298, 'slob': 4436, 'gopdeba': 2108, 'imuszero': 2433, 'coverag': 1250, 'giddi': 2060, 'amateur': 358, 'sport': 4547, 'questi': 3869, 'enjoy': 1680, 'exampl': 1751, 'hillary': 2296, 'refer': 3965, 'flail': 1898, 'correct': 1229, 'avoid': 518, 'misogyni': 3177, 'ciscabeck': 1050, 'pud': 3839, 'chin': 1006, 'beta': 646, 'mal': 3020, 'energi': 1676, 'virg': 5169, 'oitnb_beyond': 3474, '_rightchick': 215, 'ycot': 5372, 'kind': 2740, 'move': 3242, 'control': 1207, 'derrickbmartin': 1429, 'out': 3526, 'ricksantorum': 4065, '_natedrak': 214, 'campaign': 876, 'season': 4256, 'googl': 2099, 'date': 1334, 'stay': 4584, 'inform': 2462, 'friendli': 1987, 'remind': 3993, 'poll': 3712, 'surprisingli': 4699, 'list': 2919, 'dwstweet': 1596, 'stir': 4611, 'drama': 1547, 'unprofession': 5089, 'julietteisabel': 2665, 'ladysandersfarm': 2795, 'katyfromkansa': 2700, 'free': 1976, 'taco': 4727, 'courtesi': 1247, 'appropri': 445, 'billionair': 675, 'buy': 849, 'meet': 3098, 'paranoid': 3564, 'insurrectionist': 2484, 'advis': 280, 'polic': 3701, 'violenc': 5167, 'african': 292, 'wish': 5316, 'luck': 2981, 'org': 3512, 'familiar': 1814, 'kkkorgop': 2752, 'holi': 2314, 'thefriddl': 4829, 'epic': 1695, 'three': 4868, 'thehinestheori': 4831, 'kid': 2732, 'prepar': 3763, 'congrat': 1182, 'pig': 3655, 'neverwillbepotu': 3352, 'berni': 639, 'connect': 1186, 'rick': 4062, 'greta': 2169, 'karlrov': 2691, 'otr': 3523, 'allegrakirkland': 334, 'share': 4338, 'linguisticshit': 2912, 'protect': 3827, 'johncardillo': 2621, 'principl': 3791, 'fearless': 1838, 'est': 1719, 'rove': 4122, 'priebu': 3782, 'statist': 4582, 'di': 1446, 'repub': 4011, 'attack': 501, 'rushlimbaugh': 4149, 'sitcom': 4408, 'left': 2856, 'nomin': 3385, 'sarahhuckabe': 4196, 'usatoday': 5116, 'zinger': 5406, 'fakedansavag': 1807, 'live': 2925, 'bear': 593, 'howev': 2352, 'network': 3342, 'govtstheproblem': 2143, 'exclud': 1758, 'field': 1865, 'hammer': 2210, 'center': 953, 'wall': 5205, 'park': 3570, 'benjaminj': 630, 'thedonald': 4825, 'accuraci': 246, 'mind': 3167, 'blow': 717, 'raiden': 3891, '679': 166, 'explan': 1778, 'surg': 4694, 'ahead': 304, 'cuckserv': 1294, 'togeth': 4906, 'bobcesca_go': 729, 'andrewklavan': 390, 'basic': 578, 'humanityread': 2373, 'who': 5285, 'alien': 328, 'farrakhan': 1822, 'mexican': 3130, 'bor': 748, 'eventu': 1732, 'socialist': 4472, 'habitu': 2196, 'biden': 660, 'buffoon': 825, 'harm': 2237, 'impolitik': 2426, 'drown': 1566, 'aquaman': 448, 'fiercefemtivist': 1868, 'ferguson': 1855, 'baltimor': 554, 'riot': 4079, 'shield': 4353, 'hold': 2312, 'bruh': 817, 'refineri': 3967, '29': 81, 'noth': 3406, 'matthewherp': 3072, 'chief': 998, 'iloanya': 2412, 'damn': 1320, 'bozo': 763, 'becom': 600, 'wors': 5339, 'shabanamir': 4325, 'scare': 4216, 'storm': 4623, 'raddmom': 3888, 'graduat': 2152, 'stanford': 4573, 'uofmaryland': 5098, 'mit': 3187, '2ndlook': 88, 'cocainesowhlt': 1099, 'cocain': 1098, 'champ': 966, 'partyofthefutur': 3580, 'press': 3769, 'steam': 4590, 'cecilerichard': 946, 'dream': 1552, 'build': 828, 'joshtpm': 2652, 'mission': 3182, 'brogan': 808, 'boffo': 733, 'earli': 1602, 'tune': 5003, '2x': 94, 'sarafe': 4194, 'cliffschect': 1072, 'dinosaur': 1459, 'compar': 1149, 'give': 2070, 'million': 3164, 'lawmak': 2831, 'annual': 413, 'budget': 824, '350m': 105, 'similar': 4397, '1980': 49, 'thanev': 4808, 'come': 1129, 'happen': 2223, 'seen': 4270, 'ten': 4783, 'wakeupam': 5201, 'keltieknight': 2718, 'deterr': 1442, 'kimprussel': 2739, 'cousin': 1248, 'tnycloseread': 4900, 'earn': 1604, 'background': 537, 'loophol': 2960, 'dv': 1593, 'shoot': 4366, 'suicid': 4672, 'almost': 343, 'texancat': 4801, 'ty': 5027, 'soon': 4501, 'feel': 1843, 'cruzcr': 1282, 'cant': 890, 'thi': 4852, 'asinin': 476, 'rednationris': 3960, 'pjnet': 3664, 'strongli': 4645, 'suggest': 4671, 'denni': 1419, 'prager': 3746, 'emily_hohman': 1657, 'ye': 5373, 'pleas': 3677, '3o5flyguy': 111, 'present': 3765, 'roxburi': 4123, 'holly_harri': 2316, 'todayshow': 4903, 'chucktodd': 1040, 'includ': 2443, 'rhondawatkgwyn': 4057, 'bad': 541, 'wrestler': 5348, 'finish': 1880, 'card': 900, 'shootermcgavin': 4368, 'shooter': 4367, 'mcgavin': 3081, 'rush': 4148, 'limbaugh': 2902, 'kyleraccio': 2788, 'march': 3036, 'treatment': 4963, 'brianzahnd': 791, 'nativ': 3314, 'kick': 2730, 'folk': 1921, 'vohanda': 5176, 'argu': 454, '1hr': 50, 'andreagrim': 387, '_hankrearden': 209, 'patriarchi': 3590, 'katiepavlich': 2699, 'mistak': 3184, 'argument': 455, 'detail': 1440, 'incompet': 2445, 'nice': 3369, 'jaxonsl': 2562, 'heavili': 2263, 'bias': 655, 'libertyladyusa': 2891, 'confus': 1181, 'retrospect': 4042, 'pictur': 3651, 'reveal': 4046, 'klsouth': 2754, 'princessomuch': 3790, 'unclean': 5049, 'sexual': 4320, 'distract': 1490, 'hapless': 2222, 'dccommonsens': 1350, 'popular': 3722, 'prove': 3830, 'rfrasher': 4052, 'neurosurgeri': 3345, 'geniu': 2044, 'imo': 2423, 'number': 3421, 'yea': 5374, 'esqpolit': 1717, 'zygot': 5411, 'winingest': 5309, 'takeaway': 4731, 'sir': 4405, 'amberjphillip': 362, 'rose': 4115, 'purchas': 3849, 'reliev': 3985, 'fantast': 1819, 'th16': 4805, 'accident': 241, 'upload': 5101, 'pic': 3648, 'instead': 2479, 'alexsamuelsx': 326, 'there': 4842, '45': 122, 'incarcer': 2439, 'ra': 3878, '96sun': 200, 'vigor': 5160, 'probabl': 3800, 'temperatur': 4782, 'form': 1941, 'fat': 1827, 'mirror': 3174, 'poor': 3717, 'prettyplusmor': 3774, 'mkdclsn': 3194, 'master': 3064, 'sexism': 4317, 'juddlegum': 2662, 'modernjam': 3211, 'suddenli': 4668, 'becam': 597, 'resid': 4025, 'ny': 3425, 'jersey': 2586, 'shut': 4383, 'gov': 2132, 'defund': 1394, 'obamacar': 3440, 'radiofreetom': 3890, 'certifi': 958, 'disast': 1469, 'influenc': 2461, 'comm': 1136, 'manner': 3030, 'jacobengel': 2544, 'key': 2726, 'vlanda': 5174, 'mynor': 3286, 'warehouse': 5218, 'clowncardumpsterfir': 1086, 'shortli': 4372, '00': 0, 'pm': 3689, 'steviecoolest': 4604, 'cand': 883, 'mod': 3206, 'soccermum': 4470, 'type': 5029, 'neutral': 3346, 'bia': 654, 'sadli': 4162, 'transpar': 4956, 'grneyedmandi': 2173, 'gawd': 2032, 'forbid': 1931, 'chill': 1003, 'accord': 243, 'ryan_n_wiggin': 4154, 'short': 4369, 'casino': 926, 'ran': 3899, 'trust': 4993, 'equal': 1700, 'substanc': 4662, 'kreme': 2776, 'stroke': 4640, 'rhetor': 4054, 'barf': 571, 'whole': 5289, 'naheitzeg': 3292, 'bewar': 651, 'extremist': 1789, 'neighbor': 3330, 'govmarkdayton': 2140, 'dude': 1577, 'darken': 1332, 'theater': 4816, 'yeah': 5375, 'carsonwin': 919, 'bc2dc16': 589, 'imwithben': 2434, 'winbenwin': 5306, 'inittowinit': 2467, 'timfederl': 4889, 'waiter': 5198, '2a': 82, 'ok': 3475, 'grahamvys': 2154, 'write': 5349, 'insidesourcesdc': 2473, 'erinmcpik': 1710, 'lunchroom': 2987, 'sadfac': 4161, 'steelhamst': 4592, 'clip': 1076, 'public': 3838, 'polici': 3702, 'sick': 4385, 'stomach': 4613, 'booz': 747, 'monstros': 3224, 'rare': 3911, 'instanc': 2478, 'iammgraham': 2393, 'ghook': 2059, 'bensherwood': 634, 'aisl': 313, 'salut': 4180, 'sharp': 4340, 'unflinch': 5070, 'sydneyvl': 4720, '24': 75, 'cautious': 935, 'optimist': 3506, 'lessgovmorefun': 2869, 'alreadi': 348, 'apolog': 429, '_ms_bee': 212, 'interesting': 2492, 'six': 4411, 'foreign': 1934, 'bucksexton': 823, 'furi': 2009, 'unpredict': 5087, 'whaah': 5266, 'you': 5386, 'search': 4255, 'polarinski': 3699, 'doubt': 1540, 'stone': 4615, 'invit': 2503, '3rd': 112, 'blast': 703, 'chadpergram': 961, 'bless': 708, 'govchristi': 2134, 'lie': 2894, 'attorney': 506, 'appoint': 441, 'mani': 3027, 'mrmilianspeak': 3253, 'sam': 4181, 'dubos': 1575, 'tamir': 4739, 'rice': 4059, 'crawford': 1256, 'dodg': 1505, 'businessman': 842, 'politics_pr': 3710, 'enforc': 1677, 'orthodoxi': 3519, 'genuin': 2049, 'book': 742, 'dale': 1315, 'cuban': 1291, 'fit': 1888, 'car': 899, 'nannacassi': 3300, 'oppon': 3499, 'weak': 5240, 'strenghth': 4634, 'wanrt': 5215, 'michaelkrus': 3137, 'mikeallen': 3151, 'msnbc': 3262, 'feud': 1861, 'tens': 4785, 'secur': 4265, 'off': 3456, 'shawnsbrain': 4344, '66': 164, 'ecstat': 1614, 'hand': 2212, 'realiti': 3939, 'defen': 1386, 'offer': 3459, 'subsatnc': 4660, 'sewellchan': 4315, 'hooray': 2329, 'frankbruni': 1967, '_snape_': 217, 'muggl': 3269, 'joke': 2635, 'mattyiceaz': 3074, 'banish': 560, 'depart': 1421, 'yowan': 5397, 'differ': 1454, 'contrast': 1206, 'panderi': 3559, 'lizzwinstead': 2934, 'surgeon': 4695, 'lobotomi': 2945, 'administr': 269, 'propos': 3823, 'gap': 2023, 'fought': 1946, 'effort': 1625, 'foxandfriend': 1951, 'be': 591, 'immadoc': 2419, 'andrea': 386, 'mitchel': 3188, 'la': 2790, 'raza': 3919, 'bite': 687, 'butt': 846, 'freedom': 1978, 'flyovercultur': 1913, 'leahr': 2842, '77': 176, 'st': 4560, 'terrorist': 4796, 'licens': 2893, 'dealer': 1359, 'onlin': 3490, 'mad': 2999, 'intent': 2488, 'kckshrug': 2704, 'where': 5272, 'softbal': 4482, 'bore': 750, 'harpoon': 2239, 'sardoandton': 4201, 'low': 2976, 'standard': 4567, 'laurenacooley': 2827, 'nyt': 3429, 'asses': 483, 'standwithrand': 4572, 'michelledbeadl': 3140, 'satir': 4205, 'sketch': 4414, 'screw': 4245, 'deni': 1417, 'exist': 1764, 'shape': 4337, 'raceblind': 3881, 'easi': 1606, 'fact': 1796, 'senat': 4283, 'schoolyard': 4225, 'function': 2004, 'normal': 3397, 'societi': 4476, 'mpklasi': 3248, 'okay': 3476, 'girlpow': 2068, 'credit': 1263, 'due': 1578, 'loath': 2943, 'faux': 1830, 'nooz': 3394, 'kudo': 2780, 'ms': 3254, 'da': 1310, 'bloviat': 716, 'xenophob': 5361, 'carniv': 913, 'barker': 572, 'johnggalt': 2626, 'tpirkl': 4939, 'blame': 701, 'setup': 4313, 'ignor': 2409, 'prop': 3821, 'ericttung': 1708, 'jmurguia_nclr': 2613, 'nclr': 3323, 'champion': 967, 'appreci': 443, 'scar': 4215, 'unwav': 5096, 'unapologet': 5043, 'violat': 5166, 'msg': 3256, 'pjhugh': 3663, 'yaskween': 5369, 'drew': 1556, 'nba': 3319, 'viewership': 5159, 'murica': 3273, 'rumpfshak': 4142, 'attend': 503, 'announc': 409, 'assur': 490, 'priorit': 3792, 'allianc': 337, 'powerhous': 3738, 'foxnewsdeb': 1957, '2016elect': 65, 'csingerl': 1285, 'standout': 4568, 'distinguish': 1489, 'intellig': 2487, 'entitl': 1687, '65': 163, 'alainasmith': 316, 'deaf': 1357, 'urfavrochel': 5109, 'fast': 1825, 'retweet': 4045, 'unbecom': 5045, 'johnconti': 2622, '78': 177, 'articl': 467, 'bar': 565, 'outnumb': 3530, 'mn2a4asupport': 3199, 'hardline_st': 2235, 'viewer': 5158, 'attract': 507, 'debbiewassermanschultz': 1371, 'babykil': 532, 'drbencarson': 1549, 'quot': 3876, 'home': 2318, 'suthen_boy': 4704, 'puppet': 3847, 'wealthi': 5241, 'benefactor': 627, 'soar': 4467, 'serf': 4304, '4gen234': 136, 'mic': 3134, 'coketweet': 1106, 'lindacohn': 2907, 'belong': 620, 'brought': 814, 'idea': 2401, 'candidat': 887, 'mrdaveyd': 3251, 'uninform': 5074, 'worthi': 5342, 'omg': 3481, 'rais': 3896, 'goe': 2088, 'ir': 2508, 'intrus': 2499, 'invas': 2501, 'unaccount': 5041, 'abolish': 231, 'once': 3483, 'and': 383, 'for': 1930, 'al': 315, 'jennhohman': 2577, 'air': 309, 'embellish': 1654, 'panel': 3560, 'heat': 2260, 'profession': 3806, 'washington': 5225, 'steal': 4589, 'medicar': 3097, 'unlik': 5084, 'tinaissa': 4891, 'kellli': 2713, 'outcom': 3527, 'boor': 745, 'suit': 4673, 'monkey': 3221, 'sourc': 4510, 'millerkevinc': 3163, 'send': 4287, 'troop': 4974, 'fo': 1916, 'ss': 4558, 'pose': 3724, 'threat': 4867, 'senior': 4288, 'lgnctn': 2880, 'mikehuckabe': 3152, 'drop': 1565, 'mixtap': 3192, 'featur': 1839, 'wakaflocka': 5199, 'titl': 4895, 'track': 4943, 'dionaoku': 1460, 'shade': 4326, 'nytpolit': 3434, 'amazon': 361, 'largest': 2805, 'retail': 4038, 'drienasixto': 1558, 'wohoo': 5324, 'youth': 5395, 'cha': 959, 'studentsforrubio': 4649, '_sfrnc': 216, 'object': 3443, 'lunat': 2985, 'ideolog': 2404, 'resist': 4027, 'progressiv': 3814, 'window': 5307, 'soft': 4481, 'whooop': 5290, 'wrappin': 5346, 'bang': 559, 'funni': 2006, 'womenshealth': 5330, 'itsnot': 2533, '1954': 42, 'motiv': 3238, 'tip': 4893, 'resolv': 4028, 'corpor': 1227, 'struggl': 4647, '_musicluvr': 213, 'firework': 1883, 'radic': 3889, 'annebayefski': 403, 'senmarcorubio': 4289, 'realbencar': 3933, 'ravingrav': 3918, 'stump': 4652, 'ctconserv': 1289, 'aw': 519, 'tank': 4744, 'main': 3009, 'mask': 3061, 'chi_kimura': 994, 'tran': 4952, '21st': 70, 'lgbt': 2878, 'queen': 3868, 'curiou': 1296, 'occupywallstnyc': 3449, 'success': 4665, 'cheat': 981, 'manipul': 3029, 'bankruptci': 562, 'jasonburn': 2559, 'shout': 4376, 'east': 1609, 'israel': 2525, 'ricky_vaughn': 4067, '99': 202, 'gang': 2022, 'curb': 1295, 'stomp': 4614, 'paymast': 3605, 'dislik': 1477, 'm0l0nl4be': 2994, 'kickoff': 2731, 'specif': 4525, 'circumst': 1049, 'dictat': 1451, 'caus': 933, 'batman': 584, '60': 159, 'homicid': 2322, 'wife': 5294, 'ago': 301, 'supporter': 4687, 'not': 3402, 'trawlingtrol': 4959, 'earlier': 1603, 'beyond': 652, 'coupl': 1243, 'brief': 794, 'later': 2812, 'deep': 1383, 'conservat': 1189, 'bastard': 581, 'spawn': 4517, 'disturb': 1492, 'recent': 3951, 'satisfi': 4206, 'excus': 1760, 'phoni': 3642, 'ironhid': 2515, '_81': 206, 'bullshit': 835, 'mykanow': 3285, 'bother': 755, 'cannot': 889, 'offic': 3460, 'fai': 1798, 'spine': 4536, 'isurf': 2529, 'bot': 754, 'end': 1672, 'thinker': 4856, '4dum': 132, 'categori': 929, 'themadston': 4835, 'bum': 836, 'flounder': 1910, 'tape': 4746, '12nj': 24, 'waltkan': 5211, 'karinattonito': 2689, 'hang': 2216, 'neck': 3326, 'wing': 5308, 'dee_snuts_r': 1382, '4e10': 133, 'jail': 2546, 'petraeu': 3634, 'timelin': 4887, 'tick': 4879, 'hatchet': 2243, 'billmckibben': 677, 'theme': 4837, 'least': 2849, 'focus': 1918, 'fitnessaspresid': 1890, 'megynforpresid': 3105, 'feministabul': 1852, 'everyth': 1741, 'rtbrianstelt': 4128, 'atlcav': 498, 'fave': 1832, 'ultim': 5038, 'unhappi': 5072, 'thatsjustbogu': 4813, 'everybodi': 1735, 'trumpth': 4991, 'suppos': 4688, 'advanc': 274, 'surviv': 4702, 'fittest': 1891, 'endang': 1673, 'speci': 4522, 'thattexasboy': 4814, 'snapchat': 4457, 'anarousedwoman': 381, 'gopclownshow': 2104, 'fem': 1848, 'easili': 1608, 'srshowsxm': 4557, 'booker': 743, '25': 77, 'irand': 2511, 'involv': 2504, 'redstatejak': 3961, 'manila': 3028, 'envelop': 1689, 'laural': 2826, '4705': 125, 'opinion': 3498, 'remark': 3990, 'explain': 1777, 'vision': 5172, 'de': 1353, 'forfeit': 1937, 'fuck': 1997, 'spring': 4553, 'script': 4246, 'ju': 2661, 'getupstandup': 2057, 'batsask': 585, 'nobodi': 3381, 'arseniohal': 466, 'spot': 4549, 'tabl': 4725, 'shebrungit': 4348, 'chrisclaytondtn': 1020, 'junki': 2669, 'footbal': 1929, 'bowl': 759, 'mn4rand': 3200, 'glenn': 2074, 'beck': 598, 'getawarr': 2055, 'mt': 3264, 'cnnpolit': 1094, 'breenewsom': 781, 'late': 2811, 'vara': 5136, 'weav': 5244, 'hair': 2203, 'glue': 2079, 'scream': 4243, 'scotteweinberg': 4236, 'chief_kel': 999, 'feelthebern': 1845, 'spite': 4539, 'debacl': 1363, '4jul': 137, 'poverti': 3736, 'pump': 3844, 'young': 5389, 'imag': 2414, 'match': 3065, 'dot': 1536, 'com': 1123, 'profil': 3810, 'episod': 1698, 'island': 2523, 'moreau': 3228, 'cheer': 986, 'femin': 1850, 'foxyladi': 1963, 'stood': 4616, 'tramp': 4951, 'cop': 1217, 'health': 2255, 'serv': 4308, 'openli': 3496, 'drunk': 1572, 'tombradysego': 4911, '_mattybswag': 211, 'honestli': 2326, 'club': 1088, 'opposit': 3502, 'insult': 2481, 'appar': 432, 'cooper': 1216, 'trait': 4949, 'kurtschlicht': 2782, '_2016': 204, 'letsgo': 2872, 'spike': 4534, 'cover': 1249, 'ate': 494, 'lunch': 2986, 'nite': 3377, 'compass': 1151, 'nytimeskrugman': 3432, 'growth': 2181, 'elimin': 1639, 'gut': 2191, 'epa': 1694, 'repeal': 4000, 'dodd': 1504, 'mr': 3249, 'follow': 1923, '1stplace': 53, 'awyattman': 527, '88': 187, 'advic': 279, '2nd': 87, 'swing': 4717, 'cri': 1267, 'ullikemik': 5037, 'descript': 1431, 'rule': 4140, 'vishaldisawar': 5171, 'gordonpress': 2122, 'twitchyteam': 5019, 'site': 4409, 'outrag': 3532, 'inquiringmind': 2470, 'underr': 5058, 'eitanthegoali': 1632, 'imagin': 2415, 'bernard': 637, 'sander': 4188, 'anger': 394, 'cadenc': 859, 'hussein': 2384, 'sec': 4258, 'corrupt': 1231, 'immor': 2422, 'stink': 4610, 'behead': 612, 'oversea': 3543, 'whether': 5274, 'donnel': 1520, 'worth': 5341, 'correl': 1230, 'causat': 934, 'manni': 3031, 'mayweath': 3079, 'terrifi': 4793, 'govern': 2136, 'process': 3803, 'kardashian': 2687, 'hemantmehta': 2273, 'admit': 271, 'apprentic': 444, 'napalm': 3301, 'spray': 4550, 'nancyosborn': 3297, '180': 38, 'continu': 1203, 'front': 1992, 'runner': 4146, 'select': 4274, 'newlow': 3359, 'beg': 609, 'neurosurgeon': 3344, 'scottsigl': 4238, 'wheaton': 5271, 'dick': 1447, 'appli': 439, 'cou': 1237, 'hipsterocraci': 2301, 'gone': 2093, 'open': 3495, 'anna_stroph': 401, 'collect': 1114, 'innoc': 2468, 'perfect': 3619, 'although': 351, 'ferrel': 1857, 'prep': 3762, 'along': 345, 'latinovictoryu': 2819, 'hashtag': 2241, 'latinoslisten': 2817, 'gr8': 2146, 'anim': 397, 'what': 5269, 'schwabcycl': 4228, 'tha': 4807, 'jaw': 2560, 'nielsen': 3373, 'nationwid': 3313, 'brio': 803, '82': 183, 'dead': 1354, 'carlin': 906, 'saramarietweet': 4200, 'career': 902, 'either': 1633, 'knowledg': 2766, 'jaxnmelodi': 2561, 'intellg': 2486, 'eurorabbit': 1728, 'ear': 1601, 'whitegenocid': 5282, 'smackdown': 4441, 'nrx': 3417, 'davids_brain': 1343, 'birth': 683, 'poorer': 3718, 'prochoic': 3804, 'internet': 2495, 'hater': 2245, 'especi': 1714, 'whini': 5277, 'bitch': 685, 'markmmcclain': 3050, 'jimlibertarian': 2603, 'carminezozzora': 912, 'ilirprogri': 2410, 'lizpeek': 2932, 'highli': 2287, 'adapt': 263, 'improv': 2430, 'inconsi': 2446, 'alik': 329, 'canticl': 892, 'leibowitz': 2861, 'tith': 4894, 'suppress': 4689, 'chadharvey': 960, 'often': 3463, 'pocket': 3691, 'bribe': 792, 'reproduct': 4009, 'amirit': 373, 'sex': 4316, 'ed': 1615, 'landokardashian': 2800, 'confederaci': 1177, 'reviv': 4049, 'bellykagbi': 619, 'uteru': 5122, 'convers': 1210, 'li': 2881, 'sleep': 4429, 'aggress': 299, 'audit': 510, 'feder': 1840, 'reserv': 4023, 'concernedvet': 1168, 'highlight': 2288, 'veteran': 5146, 'grown': 2180, 'barbarabox': 567, 'sole': 4486, 'dumb': 1581, 'terribl': 4791, 'apocalypt': 428, 'surround': 4701, 'sad': 4160, 'camil': 874, 'paglia': 3554, 'thr': 4866, 'guest': 2186, 'column': 1122, 'danryckert': 1329, 'brave': 773, 'bold': 734, 'stanc': 4565, 'dloesch': 1497, 'accomplish': 242, 'sorahyam': 4504, 'grew': 2171, 'sassi': 4202, 'tonettewalk': 4916, '4th': 141, 'foe': 1919, 'politichickam': 3707, 'retard': 4039, 'psychopath': 3835, 'patriottrumpet': 3594, 'keithinabox': 2711, 'tenur': 4786, 'adorb': 272, 'jon': 2636, 'stewart': 4605, 'dre': 1551, 'internationalbeerday': 2494, 'gift': 2062, 'fridayfeel': 1985, 'ahsfx': 305, 'concept': 1166, 'stori': 4622, 'tomadl': 4910, 'student': 4648, 'debt': 1374, 'inequ': 2457, 'push': 3855, 'primarili': 3785, 'realiz': 3940, 'reflect': 3968, 'rudyhavenstein': 4138, 'shown': 4380, 'swallow': 4707, 'fli': 1904, 'ohgodmakeitstop': 3466, 'kylebelang': 2786, 'uponfurtherreview': 5102, 'dad': 1312, 'odoylerul': 3454, 'billymaddison': 679, 'vapidbulli': 5135, 'akhenaten': 314, '575': 156, 'iraqi': 2513, '2000': 56, '56': 153, 'forgot': 1940, 'vet': 5145, 'min': 3166, 'superstar': 4684, 'davidchalian': 1341, 'sell': 4279, 'demonstr': 1415, 'pol': 3698, 'system': 4722, 'thom_hartmann': 4860, 'dylanratigan': 1599, 'simpl': 4398, 'fetus': 1860, 'bettybow': 649, 'prankster': 3748, 'eg': 1626, 'narcissist': 3305, 'embarrass': 1652, 'yep': 5378, 'levarburton': 2874, 'bannerit': 563, 'keithboykin': 2710, 'quick': 3872, 'commerici': 1142, 'pastor': 3584, 'andylevi': 392, 'urza': 5112, '83': 185, 'libcrib': 2885, 'tyt': 5030, 'topprog': 4927, 'tntweeter': 4899, 'burn': 839, 'newlinla': 3358, 'role': 4102, 'reaganesqu': 3928, 'leapoverthat': 2845, 'refresh': 3971, 'instruct': 2480, 'civilian': 1056, 'cope': 1220, 'conclus': 1170, 'roast': 4094, 'competit': 1155, 'unclear': 5050, 'safe': 4163, 'coffe': 1103, 'o_o': 3435, 'ambjohnbolton': 363, 'foreignpolici': 1935, 'namenzi': 3295, 'usual': 5121, 'convinc': 1212, 'lay': 2833, 'wh': 5265, 'pedinska': 3611, 'sane': 4190, 'moar': 3202, 'terri': 4790, '5135': 148, 'mitt': 3190, 'rental': 3998, 'chair': 962, 'pit': 3661, 'mereen': 3122, 'theori': 4840, 'hillarysusan': 2298, 'dvr': 1594, 'edgeofsport': 1616, 'minion': 3170, 'version': 5144, 'snake': 4455, 'varieti': 5137, '_erikaharold': 208, 'charm': 979, 'humor': 2376, 'humil': 2375, 'qualiti': 3864, 'marciakimwong': 3037, 'wa': 5191, 'etc': 1721, 'wasnt': 5227, 'avail': 515, 'mainstream': 3010, 'subscribers': 4661, 'so': 4466, 'swgoldman': 4714, 'wrap': 5345, 'exactli': 1749, 'twist': 5018, 'anytim': 423, 'nativist': 3315, 'chairman': 963, 'dennisprag': 1420, 'hispan': 2302, 'ftw': 1995, 'is2': 2519, 'qs': 3861, 'bait': 549, 'didikatz': 1452, 'zeitgeistghost': 5402, 'clarifi': 1063, 'looni': 2957, 'van': 5132, 'sociopath': 4477, 'l_edwinsaar': 2789, 'depend': 1422, 'slaveri': 4428, 'born': 751, 'comic': 1135, 'foot': 1928, 'behavior': 611, 'breath': 779, 'fresh': 1983, 'increasingli': 2449, 'careless': 903, 'gener': 2042, 'road': 4092, 'whitehous': 5283, 'stale': 4564, 'televis': 4778, 'statesmanship': 4581, 'invad': 2500, 'church': 1042, 'orlandodish': 3517, 'keenamcge': 2707, 'livestream': 2927, 'cjlewi': 1057, 'besid': 641, 'va': 5124, 'homeless': 2319, 'disgrac': 1474, 'deray': 1428, 'extend': 1785, 'period': 3623, 'speaker': 4519, 'kumailn': 2781, 'doom': 1529, 'underneath': 5056, 'mouth': 3241, 'runbenrun': 4144, 'lailalalami': 2796, 'aaaand': 218, 'racism': 3884, 'train': 4948, 'blatant': 705, 'uneven': 5065, 'johnfugelsang': 2625, 'heckl': 2264, 'frankconniff': 1968, 'mykafox': 3284, 'qedastoria': 3860, 'sold': 4484, 'pie_socialmedia': 3653, 'momentum': 3214, 'epicfail': 1697, 'collegedropout': 1118, 'fraud': 1972, 'ff': 1863, 'sentomcotton': 4300, 'commentari': 1140, 'ball': 553, 'hike': 2290, 'ref': 3964, 'dogpil': 1507, 'player': 3675, 'sake': 4171, 'gobbl': 2083, 'knob': 2763, 'led': 2854, 'salenazitotrib': 4174, 'brucepurpl': 816, 'danestroth': 1325, 'chipfelkel': 1009, 'input': 2469, 'offroadpolit': 3462, 'dispel': 1481, 'charg': 974, 'femal': 1849, 'journalist': 2654, 'nathanhayn': 3311, 'emerg': 1655, 'elisevess': 1642, 'healthcar': 2256, 'unavail': 5044, 'incom': 2444, 'afford': 289, 'heal': 2254, 'fmjamerican': 1914, 'brett': 787, 'bair': 548, 'incit': 2442, 'backfir': 536, 'donna': 1518, 'brazil': 775, 'testosteron': 4799, 'bit': 684, 'tabasco': 4724, 'isnt': 2524, 'donnabrazil': 1519, 'domino': 1510, 'swag': 4706, 'undermin': 5055, 'fabric': 1792, 'voic': 5178, 'underscor': 5059, 'mental': 3117, 'overhaul': 3538, 'circu': 1048, 'implod': 2424, 'easier': 1607, 'younger': 5391, 'douchebaggeri': 1541, 'fleek': 1902, 'whatadick': 5270, 'patriot': 3591, 'phenomen': 3638, 'tougher': 4936, 'parent': 3567, 'lineup': 2911, 'crank': 1253, 'benshapiro': 633, 'teammarconi': 4766, 'save': 4208, 'tate': 4750, '5a': 157, 'benghazi': 629, 'mikehuckabeegop': 3153, 'oooh': 3493, 'payer': 3604, 'hc': 2249, 'agreement': 303, 'fangsbit': 1817, 'sarahkliff': 4197, 'wlzkhallfa': 5321, 'depress': 1424, 'archaic': 451, 'overturn': 3544, 'dadandburi': 1313, 'referenc': 3966, 'misunderstand': 3186, 'separ': 4303, 'taylortwo': 4756, 'mu': 3266, 'zombi': 5408, 'kara_neptun': 2686, 'texasgop': 4803, 'hil': 2291, 'jimmerrillnh': 2604, 'podhoretz': 3692, 'party': 3579, 'brightest': 796, 'odinsey': 3452, '2k': 85, 'shorter': 4371, 'interact': 2490, 'richer': 4061, 'stfu': 4606, 'sc': 4213, 'tomorrow': 4914, 'nh': 3367, 'cross': 1275, 'squad': 4556, 'troothbooth': 4975, 'childish': 1001, 'flippant': 1905, 'inflammatori': 2460, 'kilmead': 2735, 'sdooci': 4250, 'ehasselbeck': 1629, 'joshkivett': 2650, 'volunt': 5181, 'rli': 4087, 'fl': 1894, 'nc': 3321, 'leadright': 2840, 'mitchellreport': 3189, 'nj': 3378, 'americasmostcorruptgovernor': 372, 'beanbag': 592, 'blackmagpi': 696, '69': 168, 'sent': 4296, '3k': 109, 'iraq': 2512, 'divers': 1493, 'qualifi': 3863, 'truthteamon': 4997, 'johnni': 2630, 'makeupbylivixx': 3019, 'family': 1815, 'goldietaylor': 2092, 'scottgiorgini': 4237, 'ht': 2356, 'barbthebuild': 569, 'santorum': 4193, '60min': 160, 'thestupidparti': 4847, 'bigot': 669, 'jenllm': 2575, 'bimmerella': 681, 'jare': 2557, '812': 182, 'stphil': 4624, 'princedemitri': 3788, 'spend': 4531, 'saralang': 4199, 'space': 4512, 'cenkuygur': 950, 'model': 3207, 'jjauthor': 2607, 'mccain': 3080, 'ablanketyblank': 228, 'realalexjon': 3932, 'elonjam': 1646, 'tap': 4745, 'roll': 4103, 'eye': 1790, 'case': 923, 'knock': 2764, 'fav': 1831, 'nerdywonka': 3338, 'access': 239, 'jedediahbila': 2571, 'fairandbalanc': 1802, 'unfairli': 5068, 'kayleighmcenani': 2703, 'bright': 795, 'authent': 512, 'reactiv': 3923, 'insid': 2472, 'thefallen': 4827, 'lolgop': 2951, 'gotten': 2129, 'bat': 582, 'ingrahamangl': 2465, 'moderatorfail': 3210, 'disclos': 1470, 'analyst': 380, 'swayzeguy': 4708, 'host': 2338, 'fist': 1887, 'bump': 837, 'crowley': 1278, 'particularli': 3576, 'bw_react': 851, 'verdict': 5141, '74': 174, 'sentiment': 4299, 'med': 3092, 'piss': 3660, 'julieweis': 2666, 'spar': 4514, 'emmajet': 1660, 'compl': 1156, 'board': 724, 'adamkareem': 260, 'smack': 4440, 'le': 2835, 'sham': 4330, 'plant': 3672, 'latham': 2813, '312': 99, 'jeffersonobama': 2574, 'troll': 4973, 'wendyliebman': 5259, 'benni': 632, 'hill': 2294, 'song': 4500, 'evanjkessl': 1729, 'negoti': 3329, 'adbridgeforth': 264, 'ladi': 2793, 'rw': 4152, 'smile': 4451, 'leak': 2844, 'lyric': 2992, 'diss': 1486, 'libertarian': 2888, 'volum': 5180, 'bernardgoldberg': 638, 'rino': 4078, 'lost': 2969, 'breitbart': 782, 'mydaughtersarmi': 3282, 'pride': 3781, 'itsjanelindsey': 2532, 'payback': 3602, 'safeti': 4165, 'outstand': 3534, 'milk': 3162, 'notfromu': 3405, 'four': 1948, 'biz': 688, 'borrow': 752, '19': 41, 'trillion': 4969, 'afloat': 290, 'enslav': 1683, 'children': 1002, 'existenti': 1765, 'crisi': 1272, 'wallyweein': 5208, 'abil': 226, 'dig': 1455, 'grave': 2160, 'garbage_bon': 2026, 'harder': 2233, 'marri': 3051, 'teen': 4774, 'mom': 3212, 'shitti': 4360, 'teenmom': 4776, 'thebighoot': 4821, 'jan': 2553, '4usa': 143, 'combo': 1126, 'drepurs': 1555, 'pope': 3720, 'tackl': 4726, 'politicorog': 3709, 'jet': 2591, 'cleveland': 1070, 'ryanbhorn': 4155, 'releas': 3984, 'rumor': 4141, 'mil': 3157, 'undisput': 5061, 'stopthi': 4620, 'fake': 1806, 'nasti': 3309, 'decad': 1375, 'page': 3553, 'advetis': 278, '2016debat': 64, 'sarahpalinusa': 4198, 'dnc': 1500, 'recoveri': 3955, 'lame': 2798, 'bs': 820, 'fluff': 1912, 'mailman': 3008, 'everyone': 1739, 'heatherchild': 2261, 'rep': 3999, 'jjraven': 2609, '52': 149, 'elielcruz': 1638, 'iamcreesumm': 2391, 'diplomtc_immnti': 1462, 'skyrocket': 4421, 'presum': 3771, 'balanc': 550, 'demograph': 1413, 'libertygirlnh': 2890, 'boom': 744, 'scut': 4249, 'outing': 3529, 'loyalti': 2978, 'humptrump': 2378, 'summari': 4675, 'asid': 474, 'consider': 1192, 'delilahnobszon': 1400, 'tweeti': 5013, 'tt': 5000, 'aridavidusa': 456, '300lb': 96, 'bnyutu': 722, 'soopermexican': 4503, 'aww': 526, '100': 10, 'among': 374, 'cute': 1303, 'girl': 2067, 'daughter': 1336, 'ac360': 237, 'oatmeal': 3436, 'colder': 1108, 'vanjon': 5134, '68': 167, 'kingsth': 2744, 'hollandautismmn': 2315, 'cdcwhistleblow': 943, 'govt': 2142, 'exponenti': 1782, 'risk': 4083, 'mmr': 3198, 'elirubenstein': 1640, 'consensu': 1187, 'liz_wheel': 2929, 'wildli': 5299, 'experienc': 1774, 'practic': 3745, 'strateg': 4629, 'ostimusprim': 3520, 'tuckahoetommi': 5001, 'xm121': 5363, 'tellmeeveryth': 4781, 'rickungar': 4066, 'mslabuski': 3259, 'toughchoic': 4934, 'incub': 2451, 'irrelev': 2516, 'gopmisogyni': 2115, 'bri': 788, 'katesteinl': 2696, 'bonafid': 737, 'pois': 3696, 'grace': 2148, 'determin': 1441, 'neg': 3328, 'furguson': 2008, 'krauthamm': 2775, 'eric': 1704, 'fashion': 1824, 'prick': 3780, 'grade': 2151, 'he_has_fail': 2251, '200': 55, 'maradolan': 3034, 'midi': 3144, 'scrum': 4248, 'kadzi': 2681, 'reillyadam': 3978, 'amandaemcgowan': 354, 'sleepi': 4430, 'specialreport': 4524, 'edwrath': 1621, 'slam': 4423, 'steinl': 4594, 'christiancal': 1031, 'trivia': 4972, 'dollar': 1508, 'pr': 3744, 'grate': 2159, 'shrill': 4381, 'describ': 1430, 'thanksrand': 4810, 'semi': 4281, 'coher': 1104, 'sentenc': 4298, 'thrown': 4872, 'joshuahenn': 2653, '467': 124, 'checkout': 985, 'christiedeb': 1034, 'touch': 4931, 'thenormanlear': 4839, 'florida': 1909, 'mikejmel': 3154, 'oriolesfanprobz': 3515, 'defens': 1388, 'shift': 4354, 'basebal': 575, 'jessewasfugli': 2587, 'suck': 4667, 'abburgess': 223, '95': 198, 'som': 4492, 'meagan': 3086, 'witti': 5319, 'janicedean': 2555, 'kitchen': 2748, 'bravo': 774, 'legit': 2859, 'embarrassingli': 1653, 'simplist': 4400, 'insurg': 2483, 'unqualifi': 5091, 'commander': 1138, 'in': 2436, 'becomig': 601, 'onion': 3489, 'proof': 3820, 'compet': 1154, 'joshrobin': 2651, 'bobhardt': 730, 'reject': 3980, 'hide': 2282, 'biasedgirl': 656, 'skip': 4417, 'shoulder': 4375, 'lilagraceros': 2900, 'hostag': 2339, 'languish': 2803, 'despit': 1436, 'freesae': 1981, 'danamlancast': 1322, 'digit': 1456, 'arm': 459, 'nytfridg': 3430, 'jeremy': 2580, 'newspap': 3363, 'nytim': 3431, 'beauti': 595, 'stassipost': 4578, 'rnr': 4091, 'uniteright': 5080, 'standwithisrael': 4570, 'costareport': 1235, 'scclemon': 4219, 'hrc': 2355, '11th': 21, 'entrepreneurship': 1688, 'governor': 2137, 'cantarguewiththefact': 891, 'meghan': 3102, 'ego': 1627, 'annoy': 410, 'male': 3022, 'solv': 4491, 'russia': 4150, 'cyber': 1306, 'attac': 500, 'pellecopt': 3613, 'runn': 4145, 'exjon': 1766, 'colleg': 1117, 'goug': 2131, 'eyebal': 1791, 'steak': 4587, 'knife': 2760, 'advertis': 277, 'everywher': 1742, 'knee': 2758, 'robportman': 4097, 'congratul': 1183, 'chairmanborg': 964, 'katieeagan': 2698, 'entir': 1686, 'ohiogop': 3470, 'incap': 2438, 'puestoloco': 3841, 'adamsflafan': 262, 'rockmedia': 4100, 'conchgunni': 1169, 'hunger': 2381, 'demagog': 1405, 'food': 1924, 'thomasismyuncl': 4861, 'lib': 2884, 'wear': 5243, 'ain': 307, 'caught': 932, 'nbc': 3320, 'hannib': 2220, 'appetit': 435, 'figur': 1870, 'nick_paro': 3372, 'snot': 4465, 'chrismathew': 1024, 'jordylangi': 2648, 'cold': 1107, '1957': 45, 'uphold': 5100, 'emma_dy': 1659, 'ashvsevildead': 472, 'drum': 1571, 'solo': 4489, 'sa': 4156, 'saladinahm': 4172, 'maddeclair': 3000, 'shock': 4363, 'brag': 767, 'money': 3218, 'rippdemup': 4081, 'smshow': 4453, 'frangeladuo': 1965, 'rosieodonnel': 4117, 'jecart': 2570, 'downgrad': 1542, 'billhemm': 673, 'marthamaccallum': 3054, 'martha': 3053, 'comparison': 1150, 'professorcrunk': 3807, 'tra': 4942, 'jncatron': 2614, 'unhnig': 5073, 'bland': 702, 'colorless': 1121, 'bencasselman': 625, 'asia': 473, 'latin': 2814, 'restor': 4034, 'tan': 4742, 'bacheloretteabc': 533, 'common': 1145, 'child': 1000, '43': 119, 'caren': 904, '4btuniti': 131, 'gotv': 2130, 'note': 3404, '53': 150, 'hello': 2271, 'cjsucitymvp': 1058, 'wanna': 5214, 'eat': 1610, 'veget': 5139, 'lizzs_lockeroom': 2933, 'ohio': 3468, 'medicaid': 3096, 'expans': 1770, 'oppos': 3501, 'rgay': 4053, 'brikirk': 798, 'abroad': 233, 'probl': 3801, 'keyboard': 2727, 'ivankatrump': 2536, 'creepi': 1265, 'plain': 3668, 'cloth': 1080, 'exchang': 1756, 'rude': 4135, 'twittern': 5022, 'gretchencarlson': 2170, 'happyhour': 2229, 'tdsvoic': 4759, 'realbphil': 3936, 'foxnews': 1956, 'theexpertsagre': 4826, 'hopewalk': 2332, 'welcom': 5256, 'janethuckabe': 2554, 'palmetto': 3556, 'dick_nixon': 1448, 'cancel': 882, 'diplomaci': 1461, 'etori': 1726, 'crave': 1255, 'sponsor': 4544, 'effici': 1624, 'method': 3128, 'dare': 1331, 'elabor': 1634, 'limit': 2903, 'ncaa': 3322, 'sho': 4362, 'enemi': 1675, 'identifi': 2403, 'afrochubbz': 293, 'whitesupremaci': 5284, 'instagram': 2477, 'ian': 2394, '56789': 154, 'jewish': 2592, 'settler': 4312, 'bedroom': 604, 'csydelko': 1288, 'circl': 1047, 'jerk': 2582, 'avg': 517, '72': 172, 'righ': 4072, 'gopdebacl': 2109, 'advantag': 275, 'chapter': 972, 'welfar': 5257, 'hostil': 2341, 'joyreap': 2656, 'unlock': 5085, 'potenti': 3732, 'supernatur': 4682, 'theblaz': 4822, 'incens': 2440, 'megynkelly': 3107, 'flashback': 1899, 'hangin': 2217, 'abb_robertscbn': 222, 'spoiler': 4540, 'copolit': 1221, 'impun': 2431, 'combov': 1127, 'selfquot': 4278, 'dumptrump': 1588, 'leaverosieouttathi': 2851, 'benmank': 631, 'financ': 1874, 'reform': 3969, 'th': 4804, 'robyn_ravenclaw': 4098, 'ksmash': 2779, 'jeopardi': 2579, 'piec': 3654, 'qz': 3877, 'trbutcher': 4960, 'jackeeharri': 2540, 'hyundai': 2389, 'buick': 826, 'whoever': 5287, 'door': 1531, 'aventador': 516, 'thereal_rebel': 4843, 'bigotri': 670, 'pinknaz': 3658, 'ww2': 5358, 'pussi': 3856, 'johnfict': 2624, 'candycrowley': 888, 'coddl': 1100, 'dirti': 1466, 'laundri': 2824, 'chillax': 1004, 'amount': 375, 'yet': 5382, 'smash': 4448, 'berinszoka': 636, 'regist': 3976, 'compromis': 1163, 'convict': 1211, 'compassion': 1152, 'ellathoma': 1645, '22': 72, 'rcdewint': 3920, 'dtcahil': 1573, '2012': 60, 'realdonaldt': 3937, 'justjr': 2676, 'infam': 2458, 'makeov': 3017, 'repjackkimbl': 4004, 'content': 1201, 'liter': 2921, 'donnell': 1521, 'weight': 5253, 'refus': 3972, 'idiocrasi': 2406, 'sexistmoron': 4319, 'pleasegodno': 3680, 'annmariebrok': 407, 'ppfa': 3741, 'caseyharp': 924, '33': 103, 'plenti': 3682, 'michaellucches': 3138, 'ladybeau': 2794, 'touchston': 4932, 'badirand': 543, 'rednat': 3958, 'awkward': 524, 'terrif': 4792, '2night': 89, 'gameon': 2020, 'jiadarola': 2598, 'cell': 948, 'bonsaiski': 739, 'monica': 3220, 'smooth': 4452, 'talker': 4736, 'obey': 3441, 'doner': 1517, 'fame': 1812, 'pollster': 3713, 'coleledford': 1109, 'misquot': 3179, 'mikepolkjr': 3155, 'accus': 247, 'interrupt': 2496, 'pat': 3586, 'megynfail': 3104, 'expert': 1776, 'xanax': 5360, 'purel': 3851, 'delusion': 1403, 'slimebal': 4434, 'celebr': 947, 'gossip': 2123, 'dwaynedavidpaul': 1595, 'laughabl': 2822, 'prospect': 3824, 'crawl': 1257, 'taught': 4751, 'metzgr': 3129, 'distinct': 1488, 'leomcgarry': 2865, 'nightmar': 3375, 'braunken': 772, '2013_tiffani': 61, 'relax': 3983, 'rebeccaschinski': 3946, 'merit': 3123, 'ex': 1747, 'recogn': 3952, 'graciou': 2150, 'victori': 5154, 'wesjonesdc': 5263, 'rap': 3908, 'collabor': 1111, 'washingtonpost': 5226, 'annot': 408, 'bought': 758, 'joy': 2655, 'atypicalart': 508, 'micnew': 3142, 'jamiraburley': 2552, 'honest': 2324, 'pov': 3735, 'brillianc': 799, 'personifi': 3630, 'hemzi': 2274, 'myhatbabi': 3283, 'morningmoneyben': 3232, 'doodlehedz': 1528, 'emoji': 1663, 'goog': 2098, '927': 195, 'materi': 3068, 'chrislrob': 1023, 'highpoint': 2289, 'arc': 450, 'was': 5223, 'prayer': 3750, 'breakfa': 777, 'emiluminati': 1656, 'cap': 894, 'geniusatwork': 2045, 'huckabee': 2361, 'assess': 484, 'donor': 1524, 'to': 4901, 'relationship': 3982, 'biggovern': 666, 'cbsmiami': 936, 'repeliotengel': 4002, 'behid': 613, 'secret': 4260, '2noam': 90, 'restrict': 4035, 'scottwalker': 4241, 'russian': 4151, 'chines': 1008, 'hack': 2197, 'kaylasmith': 2702, '4791': 126, 'americaonpoint': 371, 'husband': 2383, 'asshat': 485, 'asshatteri': 486, 'yell': 5377, 'cord': 1223, 'channel': 970, 'jonstewart': 2642, 'hype': 2386, 'shini': 4356, 'foxfail': 1953, 'issueslost': 2527, '2drama': 84, 'hopeisbowat': 2331, 'pitch': 3662, 'shower': 4379, 'arrog': 464, 'wipe': 5311, 'floor': 1906, 'jihad': 2599, 'enabl': 1669, 'rf': 4051, 'region': 3975, 'dumbfuck': 1583, 'wave': 5236, 'fascism': 1823, 'anyway': 424, 'greedi': 2164, 'foxnewspolit': 1959, 'megankelli': 3100, 'looser': 2962, 'reput': 4019, 'kylekulinski': 2787, 'epitom': 1699, 'bahahahahahaha': 546, 'lolololololol': 2953, 'lmaooo': 2938, 'skepticalbrotha': 4413, 'wil': 5296, 'monster': 3223, 'conspir': 1194, 'mfl': 3132, '1956': 44, '8new': 188, 'noon': 3393, 'amylazscdc': 376, 'emilyelarsen': 1658, 'secretli': 4263, 'fund': 2005, 'saturday': 4207, 'writer': 5351, 'provid': 3832, 'bacon': 540, 'caption': 897, 'puuurfect': 3859, 'nrdc': 3414, 'hectzilla': 2265, 'atlant': 496, 'citi': 1051, 'backrupt': 538, 'boardwalkw': 725, 'dept': 1425, 'raven': 3917, 'plannedparenthood': 3671, 'kaivanshroff': 2684, 'naturallyelsa': 3317, 'garbag': 2025, 'collector': 1116, 'demean': 1408, 'movie': 3245, 'makedclisten': 3016, 'wethepeopl': 5264, 'abl': 227, 'apart': 426, 'promo': 3818, 'madisongesiotto': 3002, 'stronger': 4643, 'pander': 3558, 'wond': 5332, 'courage': 1244, 'camillepaglia': 875, 'lat': 2810, 'insight': 2474, 'megansmil': 3101, 'collaps': 1112, 'kobradovich': 2769, 'bulletproof': 832, 'iacaucu': 2390, 'schafawafa': 4222, 'trumpsuck': 4990, 'irritatedwoman': 2518, 'gene': 2040, 'mcvay': 3083, 'genemcvay': 2041, 'shaynaunivers': 4345, 'snide': 4460, 'kirsti': 2746, 'account': 244, 'er': 1703, 'glove': 2078, 'except': 1755, 'employe': 1666, 'dickscuttlebutt': 1450, 'tyfi': 5028, '84': 186, 'duffelblog': 1579, 'tl': 4896, 'whiskey': 5279, 'weep': 5251, 'remedi': 3991, 'hangov': 2218, 'messagingmatt': 3126, 'stcyrlym': 4586, 'beetrix': 608, 'jenn': 2576, '4laugh': 138, 'dmiller': 1498, '23': 74, 'msbellow': 3255, '98': 201, 'fb': 1835, 'whitecoat': 5281, '2whitehous': 93, 'bctodc': 590, 'hostess': 2340, 'yaakovschapiro': 5365, 'rise': 4082, 'definitel': 1391, 'ri': 4058, 'mattgoldich': 3070, 'carly': 909, 'no': 3379, 'aliseeeb': 330, 'captur': 898, 'perfectli': 3620, 'whacko': 5267, 'visionari': 5173, 'local': 2946, 'troubl': 4977, 'paradis': 3563, 'orels': 3511, 'reaganit': 3929, 'rhondalevaldo': 4056, 'initi': 2466, 'talkpoverti': 4738, 'respond': 4031, 'snap': 4456, 'angri': 395, 'selfi': 4277, 'billmah': 676, 'certainli': 957, 'saintpetersblog': 4170, 'eightdott': 1630, 'stroll': 4641, 'spit': 4538, 'load': 2941, 'djmorrison': 1496, 'succeed': 4664, 'contract': 1205, 'unprepar': 5088, 'consult': 1198, 'paulapoundston': 3598, 'humbl': 2374, 'goddamn': 2086, 'candi': 884, 'charisma': 975, 'shannonsanford': 4336, 'perot': 3624, 'ugli': 5034, 'disqualifi': 1483, 'ou': 3524, 'nail': 3293, 'acu': 258, 'bootcamp': 746, 'hardball_chri': 2232, 'travel': 4958, 'tremend': 4965, 'roof': 4111, 'handedli': 2214, 'alot': 347, 'speakin': 4521, 'mockeri': 3205, 'philsturgeon': 3640, 'discrimin': 1471, 'arbitrari': 449, 'decid': 1378, 'pftcomment': 3636, 'shenanigan': 4351, 'edsb': 1618, 'ralli': 3898, 'staff': 4562, 'cost': 1234, 'nearli': 3324, '400': 115, 'happeningnow': 2224, 'pole': 3700, 'increas': 2448, 'blain': 700, 'weekend': 5249, 'happycowsulti': 2228, 'mnsuperioru': 3201, 'texas_tango': 4802, 'deadrisedc': 1356, 'colleagu': 1113, 'david_boaz': 1338, 'debrajsaund': 1373, 'gasiaktvu': 2027, 'self': 4275, 'proclaim': 3805, 'themayaka': 4836, 'zinggg': 5407, '419in703': 117, 'getmoneyout': 2056, 'goptbt': 2119, 'kochvspop': 2771, 'bicyclelobbi': 659, 'goodby': 2096, 'greenvil': 2166, 'spark': 4516, 'her': 2275, 'amandagutterman': 355, 'wrote': 5354, 'slantnew': 4424, 'nostalgia': 3401, 'scottwak': 4239, 'rope': 4114, 'dop': 1532, 'strategi': 4630, 'rightwinglatina': 4077, 'tini': 4892, 'buthilari': 845, 'coach': 1096, 'perspect': 3631, 'fxnopinion': 2011, 'ugottawoodi': 5036, 'equival': 1702, 'sharknado': 4339, 'oppressedfart': 3504, 'draw': 1548, 'narr': 3306, 'ag_conserv': 296, '80k': 180, 'boat': 726, 'leas': 2847, '50k': 146, 'luxuri': 2989, 'suv': 4705, 'kristanhawkin': 2777, 'stephenflem': 4597, 'compel': 1153, 'cluster': 1090, 'johndrogin': 2623, 'switch': 4718, 'mjtbaum': 3193, 'ep': 1693, 'idol': 2408, 'randi': 3901, 'dooog': 1530, 'andrejuwaan': 389, 'anti': 418, 'elizabethnd': 1644, '04': 4, 'awkwardli': 525, 'purs': 3853, 'lip': 2916, 'king': 2743, 'levigolden': 2877, 'oop': 3494, 'uptomykne': 5107, 'chillingli': 1005, 'sinist': 4404, 'blata': 704, 'fakejdgreear': 1808, 'develop': 1443, 'bulldoz': 831, 'neighborhood': 3331, '80': 179, 'coebooth': 1102, 'applaud': 437, 'score': 4232, 'cmarinucci': 1091, 'waterboard': 5235, 'ornyadam': 3518, 'fyi': 2012, 'mtv': 3265, 'gdestefano': 2037, 'weild': 5254, 'assembl': 482, 'killer': 2734, 'height': 2268, 'ben_her': 622, '1017': 12, 'rain': 3894, 'tweep': 5010, '18': 37, 'blacknbklyn': 697, 'theroot': 4845, 'people': 3615, 'mindset': 3168, 'legalizenegro': 2858, 'dylan': 1598, 'terrori': 4795, 'certain': 956, 'elec': 1635, 'age': 297, '21th': 71, 'plz': 3688, 'joethemailman': 2617, 'seek': 4268, 'approv': 446, 'quack': 3862, 'wasserman': 5228, 'schultz': 4226, 'vice': 5151, 'percept': 3618, '3x': 113, 'karl': 2690, 'jimmi': 2605, 'carter': 921, 'johnkerri': 2629, 'tuffer': 5002, 'rainbow': 3895, 'wig': 5295, 'floppi': 1907, 'shoe': 4364, 'asund': 493, 'slow': 4439, 'gawk': 2033, 'wreck': 5347, 'clowncarwreck': 1087, 'stephenstephan': 4599, 'bighug': 668, 'gov_gilmor': 2133, 'gingerlani': 2065, 'morningjo': 3231, 'ridicul': 4070, 'plug': 3685, 'waronwomen': 5220, 'louder': 2972, 'arena': 452, 'lebron': 2852, 'jame': 2548, 'uniti': 5082, 'tact': 4728, 'consist': 1193, 'bassem_masri': 580, 'blatantli': 706, 'tortur': 4928, 'saltrifilio': 4179, 'wash': 5224, 'tast': 4749, 'vomit': 5182, 'mou': 3240, 'speakez': 4520, 'gruber': 2182, 'noltenc': 3384, 'gold': 2089, 'mike_surtel': 3150, 'upset': 5105, 'rj4gui4r': 4086, 'lincoln': 2906, 'johnkasick': 2628, 'uncondit': 5051, 'realmikebennett': 3942, 'thehiredmind': 4832, 'trumpian': 4987, 'gladli': 2073, 'rthrc': 4129, 'military': 3161, 'overdu': 3537, 'zigzagoonsquad': 5405, 'pull': 3842, 'dissapoint': 1487, 'marijuana': 3042, 'gather': 2029, 'wacki': 5192, 'adventur': 276, 'theyoungturk': 4850, '50th': 147, 'anniversari': 406, 'questions': 3871, 'spectacl': 4526, 'leav': 2850, 'loonies': 2958, 'as': 469, 'usu': 5120, 'insignific': 2475, 'hyster': 2388, 'reguardless': 3977, 'mighti': 3146, 'sfloridastorm': 4322, 'becuz': 602, 'verifi': 5142, 'vilifi': 5162, 'hid': 2281, 'bet': 645, 'sneaki': 4459, 'erinrook': 1711, 'alert': 320, 'goodbyeobama': 2097, 'neveragain': 3350, 'laurendestefano': 2828, 'sometim': 4496, 'shellbel': 4350, '1022': 13, 'chrismatthewsgottold': 1025, 'hokiehoo': 2311, 'nov': 3409, 'rob_guillori': 4095, 'renam': 3995, 'suplex': 4685, 'fool': 1925, 'reset': 4024, 'newest': 3356, 'youtub': 5396, 'ef': 1622, 'virgiltexa': 5170, 'jim': 2601, 'gilmor': 2063, 'resum': 4037, 'vow': 5187, 'watchparti': 5233, 'im': 2413, 'nana': 3296, 'na': 3291, 'booboo': 741, 'crutch': 1280, 'hardli': 2234, 'written': 5352, '1789': 36, 'priest': 3783, 'induc': 2455, 'miscarriag': 3175, '4amer': 129, 'slide': 4432, 'privilegeporn': 3797, 'thrmattbelloni': 4869, 'adamogdenceo': 261, 'etnow': 1725, 'coach_tricia': 1097, 'street': 4633, 'afterward': 295, 'divis': 1495, 'markmelin': 3049, 'broadcast': 807, 'mistitweet': 3185, 'offend': 3457, 'sensit': 4295, 'physic': 3647, 'repuls': 4018, 'lolololol': 2952, 'dorklyenlighten': 1535, 'paycheck': 3603, 'calebbonham': 865, 'timsullivanma': 4890, 'mepolit': 3119, 'hragv': 2354, '_edman_': 207, 'tweetydim': 5015, 'shook': 4365, 'kirkadurk': 2745, 'repres': 4008, 'accur': 245, 'jmontanapotl': 2611, 'alec': 319, 'vacantluxuri': 5125, 'tweedi': 5009, 'chicken': 996, 'chickenpi': 997, 'senatorshoshana': 4286, 'logic': 2948, 'ind': 2453, 'galtsgirl': 2018, 'kagatron': 2682, 'spectacularli': 4528, 'alyssalafag': 353, 'anddd': 384, 'itsradishtim': 2534, 'davidaxelrod': 1340, 'rape': 3909, 'incest': 2441, 'notmypresid': 3408, 'evolv': 1746, 'comedycentr': 1133, 'feed': 1841, 'buickreg': 827, 'fierc': 1867, 'claim': 1061, 'dust': 1591, 'nsa': 3418, 'steve_girschl': 4601, 'wont': 5334, 'insan': 2471, 'allierenison': 338, 'rat': 3912, 'gate': 2028, 'integr': 2485, 'abandon': 221, '37': 106, 'anybodi': 419, 'votetrump': 5185, 'donaltrump': 1514, 'conduct': 1175, 'hometown': 2321, 'lion': 2915, '725': 173, 'eighti': 1631, 'percent': 3617, 'prison': 3794, 'addict': 266, 'johnnyctweet': 2631, 'activ': 255, 'fergusonsyllabu': 1856, 'takeitdown': 4732, 'btwam': 822, 'umichchat': 5039, 'calfit': 866, 'foxnewstrumphitjob': 1960, 'graphic': 2158, 'newsillustr': 3362, 'tzviabr': 5032, 'intern': 2493, 'beer': 606, 'conveni': 1209, 'kennedyn': 2719, 'fnc': 1915, 'cent': 952, 'fairtax': 1804, 'gilwhitedal': 2064, 'globe': 2077, 'kimguilfoyl': 2737, 'debate': 1365, 'czaroffreedom': 1309, 'cal': 862, 'epicf': 1696, '92yr': 196, 'straighten': 4626, 'financi': 1875, 'goppol': 2116, 'cartel': 920, 'exagger': 1750, 'untru': 5095, 'compos': 1162, 'ss_howel': 4559, 'slash': 4426, 'regardless': 3974, 'meaning': 3090, 'ble': 707, 'toe': 4905, 'lastnight': 2809, 'nurs': 3422, 'woe': 5322, 'pastrami': 3585, 'knish': 2761, 'kosher': 2773, 'bottl': 756, 'liquor': 2917, 'oncom': 3485, 'fetishis': 1858, 'random': 3902, '250': 78, 'cliff': 1071, 'brittanyshulman': 805, 'built': 829, 'groundgamehq': 2175, 'videosurg': 5156, 'md': 3084, 'aapsonlin': 220, 'iron': 2514, 'censor': 951, 'dreamdefend': 1553, 'bridgeg': 793, 'degre': 1397, 'omahagemgirl': 3480, 'pouti': 3734, 'screechi': 4244, 'jmsummer': 2612, 'mashabl': 3060, 'stole': 4612, 'recal': 3948, '900': 191, 'sig': 4390, 'incumb': 2452, 'fuckeri': 1999, 'josephmryan': 2649, 'kniw': 2762, 'agenda': 298, 'mysoginist': 3288, 'frontrunn': 1993, 'bgittleson': 653, 'christie': 1033, 'larryeld': 2806, 'railroad': 3893, 'yo': 5383, 'third': 4858, 'teapainusa': 4768, 'treatin': 4962, 'datelin': 1335, 'predat': 3754, 'forev': 1936, 'mm': 3196, 'jump': 2667, 'ship': 4357, 'guyfromguelph': 2193, 'uptight': 5106, 'humourless': 2377, 'spirit': 4537, 'pickl': 3650, 'ars': 465, 'redeem': 3957, 'cindiperez': 1046, '48': 127, 'spectacular': 4527, 'lakotaman': 2797, 'kkk': 2749, 'scam': 4214, 'exclus': 1759, 'gif': 2061, 'reproright': 4010, 'tunein': 5004, '2brian': 83, 'livelytradit': 2926, 'unwelcom': 5097, 'piggish': 3656, 'moderator': 3209, 'abe_munoz': 225, 'fewer': 1862, 'mikandynothem': 3147, 'endors': 1674, 'valid': 5128, 'imform': 2417, 'flordia': 1908, 'kiss': 2747, 'makeup': 3018, 'costum': 1236, 'strike': 4637, 'tenmen': 4784, 'shmhpodcast': 4361, 'wagthefox': 5195, 'angelahaysmoor': 393, 'macleansdeb': 2998, 'total': 4929, 'maclean': 2997, 'colmorrisdavi': 1119, 'shoutout': 4377, 'harleydavidson': 2236, 'imtheboogyman': 2432, 'hampshir': 2211, 'republucan': 4017, 'adult': 273, 'gingertaylor': 2066, 'cdc': 942, 'autism': 514, 'vaccin': 5126, 'data': 1333, 'congression': 1185, 'bjork': 690, '55': 152, 'crib': 1268, '160': 34, 'secretari': 4261, 'vp': 5189, 'hmmm': 2308, 'thefix': 4828, 'katestratton': 2697, 'missumuggin': 3183, 'tak': 4729, '31523': 100, 'spokeout': 4543, 'freeamirnow': 1977, 'alexfromphilli': 323, 'onpoint': 3492, 'onelegsandpip': 3487, 'churchillian': 1043, 'doc_jjk': 1502, 'sensand': 4292, 'floyd': 1911, '5689': 155, 'sir_max': 4406, 'ritzy_jewel': 4084, 'degener': 1396, 'special': 4523, 'emmi': 1662, 'parodi': 3571, 'jaclynglenn': 2542, 'sim': 4396, 'megynkellyforpresid': 3109, 'pursueliberti': 3854, 'truer': 4979, 'poignant': 3694, 'smallbusi': 4443, 'empti': 1668, 'devil': 1444, 'shakespearean': 4328, 'strategist': 4631, 'destruct': 1439, 'bebstyn': 596, 'jonstank': 2641, 'cynic': 1307, 'wieni': 5293, 'rife': 4071, 'grandstand': 2155, 'drginaloudon': 1557, 'bo': 723, 'vinnyguadagnino': 5164, 'mediat': 3094, 'blm': 709, 'slogan': 4437, 'subject': 4658, 'bro': 806, 'mahakyli': 3006, 'exon': 1767, 'chevron': 993, 'corp': 1226, 'spread': 4551, '15min': 30, 'breed': 780, 'corbyn': 1222, 'therightoexist': 4844, 'foolish': 1926, 'jaclynhstrauss': 2543, 'blogdiva': 711, 'arent': 453, 'theyr': 4851, 'all': 333, 'compliant': 1160, 'inc': 2437, 'stereotyp': 4600, 'narrow': 3307, 'patriotjackib': 3592, 'michaelvdgalien': 3139, 'lwilsondarlen': 2990, 'truest': 4980, 'trumpeffect': 4985, 'experiencematt': 1775, 'icymi': 2399, 'justsay': 2677, 'dumbest': 1582, 'contest': 1202, 'histor': 2304, 'amandajbutt': 356, 'karen_estil': 2688, 'housegop': 2347, 'senate_gop': 4284, 'dismiss': 1479, 'oppress': 3503, 'margin': 3040, 'judgejeanin': 2664, 'papercutprint': 3562, 'swimsuit': 4716, 'talent': 4734, 'everyonelovesaprincess': 1740, 'lotustom': 2971, 'apologist': 430, 'triplangley': 4971, 'brownandbella': 815, 'pack': 3550, 'suitcas': 4674, 'mstuart': 3263, '1970': 47, 'willneal': 5304, '001': 2, 'massacr': 3063, 'deliber': 1399, 'attempt': 502, 'smear': 4449, 'gamermatt': 2021, '117': 19, 'cthulhu': 1290, 'sockpuppet': 4479, 'lender': 2864, 'exceedingli': 1753, 'string': 4638, 'origin': 3514, 'stupidti': 4655, 'hatr': 2246, 'level': 2875, 'notic': 3407, 'proaudiolab': 3799, 'bbcnewsu': 587, 'don': 1511, 'duck': 1576, 'gopcircu': 2102, 'broke': 809, 'finger': 1879, 'nope': 3395, 'disloc': 1478, 'paulisci': 3600, 'canadian': 881, 'foolsinthehal': 1927, '70': 170, 'inter': 2489, 'jacque_isaac': 2545, 'dcexamin': 1351, 'varsiti': 5138, 'jv': 2680, 'occas': 3447, 'neither': 3333, 'yest': 5380, 'explicitli': 1779, 'mvmnt': 3280, 'ack': 251, 'jut': 2678, '3d': 108, 'chess': 991, 'checker': 984, 'econ': 1611, 'falter': 1811, 'socialsecur': 4475, 'plung': 3686, 'amer': 368, 'shannonbream': 4334, 'termin': 4789, 'crippl': 1271, 'sanction': 4185, 'alli': 336, 'govwal': 2144, 'unitedcitizen': 5079, '01': 3, 'trick': 4968, 'personalattack': 3628, 'netneutr': 3341, 'blacktwitt': 698, 'exact': 1748, 'chose': 1014, 'ronpaul': 4110, 'repgeoffdiehl': 4003, 'magop': 3005, 'anisha_': 399, '113': 18, 'unitewomenorg': 5081, 'politifact': 3711, 'gentl': 2047, '21million': 69, 'evilconservativ': 1745, 'gb_ball': 2036, 'dilapid': 1458, 'dishonest': 1476, 'barbicu': 568, 'wipeout': 5312, 'rubber': 4131, 'mallet': 3023, 'water': 5234, 'hazard': 2248, 'tonyk': 4920, 'conservativescorecard': 1190, 'dumpjeb': 1587, 'nochristi': 3382, 'thin': 4853, 'graceslick': 2149, 'corporatocraci': 1228, 'format': 1942, 'wit': 5317, 'willi': 5302, 'award': 521, 'walterwhfla': 5210, 'designerdeb': 1435, 'ohiomail': 3471, 'compani': 1148, 'professorf': 3808, 'tonykatz': 4921, 'wild': 5298, 'underestim': 5053, 'totalfutbalnow': 4930, 'uneduc': 5063, 'valzarya': 5130, 'warrenholstein': 5222, 'doctor': 1503, 'cosbi': 1233, 'balderdash': 552, 'affili': 287, 'creynoldsnc': 1266, 'accept': 238, 'thedoctor': 4824, 'tardi': 4747, 'coryhaik': 1232, 'collab': 1110, 'insur': 2482, 'obam': 3438, 'charact': 973, 'andi': 385, 'kaufman': 2701, 'msmallywelch': 3261, 'thejoemos': 4834, 'erichaywood': 1706, 'chuckwooleri': 1041, 'ca': 855, 'cone': 1176, 'jonscottfnc': 2640, 'taxpay': 4755, 'sundapp': 4679, 'twttr': 5024, 'summit': 4678, 'martinomalley': 3056, 'wwomd': 5359, 'weneeddeb': 5260, 'suspect': 4703, 'norahodonnel': 3396, 'cbsthismorn': 937, 'blood': 714, 'cash': 925, 'sin': 4401, 'lediva': 2855, 'conspiraci': 1195, 'rail': 3892, 'melaninbarbi': 3110, 'guinea': 2188, 'cdpiglet': 945, 'spin': 4535, 'perpetu': 3625, 'skeleton': 4412, '15yr': 32, 'deptvetaffair': 1426, '2007': 57, 'pree': 3757, 'ad': 259, 'cabinet': 856, 'meltdown': 3113, 'standtal': 4569, 'linnyitssn': 2914, 'ace': 248, 'hole': 2313, 'english': 1679, 'sleev': 4431, 'alexhalperin': 324, 'nandelabra': 3299, 'jeremydbond': 2581, 'pronunci': 3819, 'mikeybolt': 3156, 'alexandersoro': 321, 'seal': 4253, 'shand': 4333, 'democraci': 1409, 'kettl': 2725, 'magnet': 3003, 'nomorebush': 3387, 'gopshutdown': 2118, 'tess_harkin': 4797, 'pretend': 3772, 'neve': 3348, 'thu': 4874, 'gopprimari': 2117, 'anchor': 382, 'dam': 1317, 'policingwatch': 3703, 'headlin': 2253, 'sensibl': 4294, 'elsewher': 1649, 'giv': 2069, 'bradwalsh': 766, 'camera': 873, 'aristocrat': 458, 'philhand': 3639, 'jealou': 2564, 'livetoon': 2928, 'jordansekulow': 2645, 'curriculum': 1299, 'toughen': 4935, 'buttercup': 847, 'bull': 830, 'chyt': 1044, 'uncivil': 5048, 'spew': 4533, 'vile': 5161, 'code': 1101, 'genocid': 2046, 'rsr': 4126, 'nosham': 3400, 'republicansunit': 4015, 'cnbc': 1092, 'misrepresent': 3180, 'comcast': 1128, 'justiceonli': 2673, 'cement': 949, 'nyc': 3426, 'steeet': 4591, 'met': 3127, 'fuckfacevonclownstick': 2000, 'kimkardashian': 2738, 'hung': 2380, 'everylifematt': 1737, 'markbinda': 3045, 'nashvil': 3308, 'youngrepub': 5394, 'debatewithffl': 1369, 'newsweek': 3364, 'marklevinshow': 3048, 'kdstarbux': 2705, 'brightli': 797, 'newjusticedept': 3357, 'thug_viol': 4875, 'aros': 461, 'ash': 470, 'cuck': 1292, 'marxist': 3057, 'watchin': 5232, 'becketadam': 599, 'howardfineman': 2350, 'trip': 4970, 'trumpism': 4988, 'jfradioshow': 2593, 'chees': 988, 'ine': 2456, 'baby': 531, 'curtiselli': 1300, 'howard': 2349, 'kurtz': 2783, 'sch': 4221, 'huffpo': 2364, 'compliment': 1161, 'cynthiaroldan': 1308, 'most': 3234, 'southernhomo': 4511, 'twink': 5017, 'airport': 311, 'bathroom': 583, 'link': 2913, 'senatorbirdwel': 4285, 'kateslaw': 2695, 'sanctuari': 4186, 'texa': 4800, 'struck': 4646, 'urg': 5110, 'ckimbro': 1060, 'brilliantli': 801, 'biff': 661, 'the': 4815, 'almanac': 341, 'copd': 1218, 'xlax': 5362, 'launch': 2823, 'loan': 2942, 'packag': 3551, 'monday': 3217, 'reson': 4029, 'essenti': 1718, 'bigheadsport': 667, 'draft': 1544, 'liars_never_win': 2883, 'dabneyport': 1311, 'ohhh': 3467, 'surpass': 4697, 'narciss': 3304, 'appeal': 433, 'hillbillyvil': 2299, 'kentucki': 2721, 'randpaulsen': 3904, 'chrischisti': 1018, 'huggin': 2368, 'sift': 4389, 'rosscameron': 4118, 'requir': 4020, 'attitud': 505, 'same': 4182, 'mike_hollan': 3149, 'quillgroupec': 3874, 'keepitr': 2709, 'aebrennen': 283, 'legitim': 2860, 'altern': 350, 'derail': 1427, 'newsflash': 3361, 'token': 4907, 'dawg': 1344, 'mments': 3197, 'uglier': 5035, 'uncheck': 5047, 'omgop': 3482, 'retrumplicanparti': 4043, 'newamericancenturi': 3354, 'sidekick': 4388, 'klu': 2755, 'klux': 2756, 'klam': 2753, 'rickperri': 4064, 'cheryl_now': 990, 'sea': 4251, 'condit': 1174, 'andykhouri': 391, 'leverag': 2876, 'bentonle': 635, 'drmartyfox': 1563, 'rear': 3944, 'strongest': 4644, 'msm': 3260, 'recov': 3954, 'caddyshack': 858, 'amc': 365, 'proportion': 3822, 'plutocrat': 3687, 'bologna': 735, 'msgdannyret': 3257, 'tpm': 4940, 'cinc': 1045, 'mlk': 3195, 'jefferson': 2573, 'sweetgreatmom': 4712, 'abc': 224, 'failur': 1800, 'psychot': 3836, 'lectur': 2853, 'danaperino': 1323, 'noamnesti': 3380, 'zealot': 5401, 'ron': 4108, 'paulbot': 3599, 'skill': 4415, 'stack': 4561, 'saadcrat': 4158, 'watchign': 5231, 'righteou': 4074, 'anthonycumia': 417, 'somewhat': 4497, 'me': 3085, 'elisabetherapi': 1641, 'tongu': 4917, 'loos': 2961, 'prostitute': 3826, 'vagina': 5127, 'themurdochtim': 4838, 'rupertmurdoch': 4147, 'us2016': 5114, 'littleredblog': 2924, 'thebenwalt': 4820, 'shatter': 4341, 'woefulli': 5323, 'underprepar': 5057, 'comeback': 1130, 'dc37deborah': 1348, 'crimin': 1270, 'server': 4309, 'oct': 3450, 'abloomi': 229, '09': 7, 'brosandpros': 811, 'farc': 1821, 'damag': 1318, 'jessicavalenti': 2588, 'italian': 2531, 'nicest': 3371, 'astound': 492, 'dignifi': 1457, 'nerv': 3339, 'mong': 3219, 'gopwarmong': 2121, 'lugswagg': 2982, 'ice': 2397, 'enter': 1684, 'polltrol': 3714, 'keatingthoma': 2706, 'broken': 810, 'mob': 3203, 'jackass': 2539, 'vine': 5163, 'loop': 2959, 'salon': 4177, 'meme': 3115, 'jillbidenveep': 2600, 'grinch': 2172, 'christma': 1036, 'tie': 4881, 'phone': 3641, 'aunt': 511, 'ethel': 1724, 'cracker': 1252, 'barrel': 573, 'smartblackman': 4445, 'tower': 4938, 'tho': 4859, 'seat': 4257, 'ohmygodihatehimsomuch': 3472, 'halspark': 2209, 'nuke': 3420, 'rip': 4080, 'drag': 1546, 'gaymarriag': 2035, 'carmengoblu': 911, 'springer': 4554, 'justic': 2672, 'anal': 378, 'ysi': 5399, 'program': 3812, 'closer': 1079, 'positio': 3726, 'michaelgfrd': 3136, '40': 114, 'hiv': 2307, 'sale': 4173, 'bnrdebat': 721, 'danger': 1326, 'ideologu': 2405, 'naral': 3303, 'repeatedli': 4001, 'ownit': 3547, 'dublin': 1574, 'rwsurfergirl': 4153, 'stope': 4618, 'photographi': 3644, 'wsj': 5355, 'marc': 3035, 'sandalow': 4187, 'benefit': 628, 'valu': 5129, 'aliv': 332, 'homosexu': 2323, 'unnatur': 5086, 'unproven': 5090, 'stephenh': 4598, '2oman': 91, 'patriotmom': 3593, '61': 161, 'neophyt': 3334, 'newbi': 3355, 'exp': 1768, '0nrichard': 8, 'huffpostl': 2365, 'photoshop': 3645, 'fall': 1809, 'snlupdat': 4463, 'stefon': 4593, 'regard': 3973, 'jrpolitir': 2658, 'gotdam': 2126, 'melslien': 3112, 'govwalk': 2145, 'comfort': 1134, 'refram': 3970, 'realroseizzo': 3943, 'trumpwin': 4992, 'ashleyhblak': 471, 'flag': 1897, 'grant': 2157, 'feeler': 1844, 'lash': 2807, 'admir': 270, 'weird': 5255, 'slightli': 4433, 'presidentialdeb': 3768, '07': 6, 'informative': 2463, 'br': 765, 'demdeb': 1407, 'offens': 3458, 'drmwba': 1564, 'hahahaha': 2200, 'classic': 1066, 'chriscarleyshow': 1017, 'obvious': 3446, 'lrihendri': 2979, 'freez': 1982, '44': 121, 'pictures': 3652, 'should': 4374, 'lisa_luerssen': 2918, 'doriabiddl': 1534, 'appointe': 442, 'roadto': 4093, 'immedi': 2420, 'monaeltahawi': 3215, 'liza': 2930, 'cartoon': 922, 'fizzl': 1893, 'sh': 4323, 'remov': 3994, 'saniti': 4192, 'democraticdeb': 1412, 'wallace': 5207, 'hound': 2344, 'heel': 2266, 'sweat': 4710, 'hissi': 2303, 'selfcar': 4276, 'fieldnegro': 1866, 'happiest': 2227, 'soundbit': 4509, 'nine': 3376, 'gopdebat': 2110, 'kwrcrow': 2785, 'marilynarndt': 3043, 'princeofbordu': 3789, 'viciou': 5152, 'sober': 4468, 'toot': 4924, 'johnsununu': 2633, 'nh1new': 3368, 'languag': 2802, 'fitn': 1889, 'cherri': 989, 'huff': 2363, 'atom': 499, 'thru': 4873, 'upright': 5104, 'pontif': 3715, 'whererwomen': 5273, 'slimi': 4435, 'funniest': 2007, '10k': 14, 'whining': 5278, 'loudobbsnew': 2973, 'kerirn': 2723, 'anoint': 414, 'canttrustabush': 893, 'dylanthethoma': 1600, 'goddamnit': 2087, 'until': 5094, 'smh': 4450, 'daili': 1314, 'month': 3225, 'michiganforben': 3141, '24000': 76, '11000': 16, 'occasion': 3448, 'misl': 3176, '4fun': 135, 'accid': 240, 'felt': 1847, 'spontan': 4545, 'nycdeb': 3427, '8tr': 189, 'redsteez': 3962, 'dalestok': 1316, 'candidaci': 886, 'protest': 3828, 'placard': 3666, 'bestdebatequot': 643, 'powermov': 3739, 'smarter': 4446, 'happier': 2226, 'markdavi': 3046, 'invent': 2502, 'mozgovaya': 3246, 'bettyfckinwhit': 650, 'pant': 3561, 'fals': 1810, 'seethroughfruit': 4271, 'swoldemort': 4719, 'japan': 2556, 'driven': 1562, 'yard': 5368, 'tear': 4770, 'jaret': 2558, '2113': 68, 'justin': 2675, 'timberlak': 4885, 'frankli': 1969, 'gen': 2038, 'hiliari': 2293, 'bench': 626, 'mw': 3281, 'drudge_report': 1569, 'niceninja': 3370, 'iol': 2505, 'youli': 5388, 'juxtapos': 2679, 'kentpavelka': 2720, 'supermanhotmal': 4681, 'belli': 617, 'soften': 4483, 'optim': 3505, 'desdemona': 1432, 'unfathom': 5069, 'postmortem': 3729, 'surreal': 4700, 'clowncarcrew': 1085, 'ap': 425, 'just_jdream': 2671, 'twitterland': 5021, 'republicanswin': 4016, 'resili': 4026, 'bethbehr': 647, 'donni': 1522, 'wahlberg': 5196, 'jonvoyag': 2643, 'womensright': 5331, 'affection': 286, 'green': 2165, 'appl': 436, 'martini': 3055, 'jeaniebgd': 2565, 'makeam': 3014, 'honey': 2327, 'badger': 542, 'glenn_cooknv': 2075, 'b140tweet': 529, 'annrichard': 411, 'joeykram': 2618, 'aerosmith': 284, 'motleycru': 3239, 'leasavoy': 2848, 'overal': 3536, 'iota': 2506, 'samstwitch': 4184, 'everybody': 1736, 'bryanlvt': 819, 'armi': 460, '1000': 11, 'wi': 5291, 'scottax': 4235, 'david_w_ross': 1339, 'wkdental': 5320, 'decent': 1377, 'ration': 3916, 'merchant': 3121, 'callous': 868, 'speed': 4530, 'professorrobo': 3809, 'will_bunch': 5301, 'summeroftrump': 4677, 'dcordrey': 1352, 'sassyandcowgirl': 4203, 'wth': 5357, 'wilberforc': 5297, '91': 192, 'libertyu': 2892, 'christianbrotherhood': 1030, 'tr': 4941, 'gender': 2039, 'tool': 4923, 'ugh': 5033, 'pardon': 3566, 'salmasekela': 4176, 'hypocrit': 2387, 'shameless': 4332, 'unseeingey': 5092, 'meal': 3087, 'melissafwu': 3111, 'scarlett': 4218, '_0hara': 203, 'foxnewsmom': 1958, 'psychic': 3834, 'nytopinion': 3433, 'larg': 2804, 'katearonoff': 2694, 'mcgrudder': 3082, 'abo': 230, 'trotalex': 4976, 'edhenri': 1617, 'devindwy': 1445, 'trumpcrush': 4983, 'jsc': 2659, '1835': 39, 'tmservo': 4898, '433': 120, 'crazier': 1259, 'signific': 4392, 'bret': 785, 'baier': 547, 'rid': 4068, 'drbradholland': 1550, 'senrandpaul': 4290, 'chisti': 1010, 'admin': 268, 'obscen': 3444, 'retir': 4041, 'plu': 3684, 'leahdaughtri': 2841, 'hairstylist': 2205, 'lindasuhl': 2908, 'statu': 4583, 'bye': 852, '30day': 97, 'potd': 3731, 'voialex': 5177, 'sergey': 4305, 'apathycas': 427, 'skirt': 4418, 'frm': 1990, 'per': 3616, 'golden': 2090, 'msgoddessris': 3258, 'slate': 4427, 'path': 3587, 'parisdennard': 3569, 'uneth': 5064, 'jsn': 2660, 'mammogram': 3024, 'machin': 2996, 'hospit': 2337, 'lmfao': 2939, 'swell': 4713, 'gruff': 2183, 'escap': 1713, 'blackliveematt': 692, 'c2': 854, 'csquar': 1287, 'lemonmeringu': 2863, 'politican': 3706, 'yasss': 5370, 'fergie_spud': 1854, 'band': 557, 'scene': 4220, 'irrevers': 2517, 't0h0dad': 4723, 'buzz': 850, 'econom': 1612, 'nonsequiteus': 3391, 'alcohol': 318, 'poison': 3697, 'youhateidon': 5387, 'tammy_p': 4741, 'yup': 5400, 'lynn_misti': 2991, 'aghhh': 300, 'nerd': 3335, 'bigger': 664, 'astonish': 491, 'alasscan': 317, 'istandwithobama': 2528, 'hi': 2280, 'fiscal': 1886, 'swear': 4709, 'belliger': 618, 'cuz': 1304, 'disruptepreneur': 1485, 'soexcit': 4480, 'firstlookmsnbc': 1885, 'howdowefixit': 2351, 'blacklivesdontmatt': 694, 'bash': 576, 'pbo': 3606, 'impo': 2425, 'matchup': 3066, 'semest': 4280, 'coolestschool': 1214, 'elev': 1637, 'music': 3275, 'malbec': 3021, 'gopdebatedrinkinggam': 2112, 'brotherhood': 813, 'iangarytweet': 2395, 'caron': 915, 'unseri': 5093, 'curli': 1297, 'sort': 4506, 'charlesdur': 977, 'bestlittlewhorehouseintexa': 644, 'danc': 1324, 'alittlesidestep': 331, 'nerdynegress': 3337, 'justiceorels': 2674, 'bigboybak': 663, 'unafraid': 5042, 'jamiaw': 2551, 'ride': 4069, 'medic': 3095, 'trailblaz': 4946, 'jamaica': 2547, 'soccer': 4469, 'particular': 3575, 'option': 3507, 'delin': 1401, 'hahahahah': 2201, 'pad': 3552, 'dickhead': 1449, 'current': 1298, 'viabl': 5148, 'cream': 1260, 'icecream': 2398, 'pinocchio': 3659, 'hahahahahaha': 2202, 'theatr': 4817, 'basi': 577, 'manufactur': 3033, '20th': 66, 'voteyal': 5186, 'affor': 288, 'marymauldin': 3058, 'bust': 843, 'bencaraon': 623, 'dull': 1580, 'neurosci': 3343, 'shaaad': 4324, 'damongil': 1321, '1973': 48, 'revers': 4047, 'arrest': 463, 'undo': 5062, 'shawndrurysc': 4343, 'nevermind': 3351, 'overr': 3542, 'mandy_velez': 3026, 'fulfil': 2001, 'steven_br': 4603, 'paraphras': 3565, 'eo': 1691, 'previou': 3777, 'airtim': 312, 'saintgrimlock': 4169, 'dammit': 1319, 'supremaci': 4691, 'blacklivematt': 693, 'fbi': 1836, 'solidifi': 4488, 'n2': 3290, 'wolf': 5326, 'sheep': 4349, 'carlson': 908, 'ouleye_ndoy': 3525, 'aaand': 219, 'racial': 3883, 'overit': 3539, 'sock': 4478, 'north': 3398, 'tequila': 4787, 'expens': 1772, 'homerun': 2320, 'pboylen': 3607, 'rednationrais': 3959, 'jordular': 2647, 'wham': 5268, 'bam': 555, 'ann': 400, 'truthbomb': 4996, 'lzdebat': 2993, 'explod': 1780, 'scriptur': 4247, 'clowncar': 1083, 'lattisaw': 2820, 'clue': 1089, 'hardbal': 2231, 'thatchrisgor': 4812, 'mutant': 3278, 'superpow': 4683, 'anntbush': 412, 'onlytruthreign': 3491, 'suprem': 4690, 'chase': 980, 'forearm': 1933, 'gestur': 2053, 'natemjensen': 3310, 'uw': 5123, 'ptl': 3837, 'tammi': 4740, 'mascara': 3059, 'environ': 1690, 'debatequestionswewanttohear': 1366, 'prerequisit': 3764, 'gauchat': 2030, 'taxing': 4754, 'thx': 4877, 'sportspickl': 4548, 'elit': 1643, 'flacco': 1896, 'thoseguysontheleft': 4862, 'dumbgaybatman': 1584, 'hoe': 2309, 'miracl': 3173, 'mine': 3169, 'count': 1240, 'backer': 535, 'tomilahren': 4913, 'slone': 4438, 'cwfora': 1305, 'halhefn': 2208, 'blond': 712, 'whimp': 5275, 'stare': 4575, 'bae': 545, 'pudingtan': 3840, 'gallagherpreach': 2017, 'steaknstiffarm': 4588, 'shall': 4329, 'fucker': 1998, 'rudepundit': 4136, 'unitebiu': 5077, 'rebut': 3947, 'laurenreev': 2829, 'predic': 3755, 'segment': 4272, 'werner': 5262, 'herzog': 2278, 'sweet': 4711, 'hog': 2310, 'decreas': 1381, 'alongsid': 346, 'design': 1434, 'ach': 249, 'bottom': 757, 'ti': 4878, 'buttt': 848, 'christin': 1035, 'red': 3956, 'warmong': 5219, 'youngpro': 5393, '4rubio': 140, 'mile': 3158, 'contra': 1204, 'yahoo': 5366, 'dobb': 1501, 'eodchick': 1692, 'brentschirp': 784, 'matur': 3075, 'display': 1482, 'raci': 3882, 'whoah': 5286, 'limp': 2905, 'bizkit': 689, 'breakstuff': 778, 'wast': 5229, 'pleasantli': 3679, 'unexpect': 5066, 'cloudypiano': 1081, 'store': 4621, 'jennrio': 2578, '1191': 20, 'jordiemojordi': 2646, 'succinct': 4666, 'putin': 3858, 'peach': 3609, 'vodka': 5175, 'vino': 5165, 'dccc': 1349, 'lukewearechang': 2983, 'evid': 1743, 'syria': 4721, 'europ': 1727, 'deflateg': 1392, 'chant': 971, 'horsesandbayonett': 2336, 'murray': 3274, 'bibi': 657, 'commi': 1143, 'jerryjrfalwel': 2585, 'doubledipchip': 1539, 'bell': 616, 'joe': 2616, 'morning_jo': 3230, 'talkingpoint': 4737, 'urgent': 5111, 'banshe': 564, 'sniff': 4461, 'ccabrera': 939, 'poorli': 3719, 'sanest': 4191, 'clowncarclusterfuck': 1084, 'bobbi': 728, 'expand': 1769, 'tonibirdsong': 4918, 'npr': 3412, 'milwauke': 3165, 'secretcabdriv': 4262, 'danmoor': 1328, '755': 175, 'vibe': 5150, 'prolli': 3816, 'gf': 2058, 'straightouttacompton': 4627, 'backward': 539, 'mf': 3131, 'racquetbal': 3886, '54': 151, 'employ': 1665, 'ira': 2509, 'tryna': 4999, 'gopteen': 2120, 'tradit': 4944, 'kaisch': 2683, 'samesexmarriag': 4183, 'mhvadney': 3133, 'speech': 4529, 'tree': 4964, 'branch': 769, 'angrili': 396, 'idealog': 2402, 'silli': 4395, 'lindsay': 2909, 'graham': 2153, 'flat': 1900, 'annieslisttx': 405, 'tx': 5025, 'latina': 2815, 'equalpay': 1701, 'bankrupt': 561, 'lowest': 2977, 'prolif': 3815, 'bond': 738, 'handcuff': 2213, 'seinfeld': 4273, 'bass': 579, 'jko': 2610, '417': 116, 'hindarifka': 2300, 'monologu': 3222, 'liberalismsyndrom': 2887, 'outdo': 3528, 'meangirl': 3089, 'combin': 1125, 'raisedbycultur': 3897, 'reagen': 3930, 'davideblackwel': 1342, '2mi': 86, 'gopisinbigtroubl': 2113, 'standwithpp': 4571, 'fritzisdead': 1989, 'partner': 3578, 'michael': 3135, 'bloomberg': 715, 'copdwg': 1219, 'cathol': 930, 'ericstonestreet': 1707, 'cam': 871, 'chest': 992, 'losing': 2967, 'senwarren': 4301, 'slap': 4425, 'motherfuck': 3237, 'imposs': 2428, 'quarantin': 3865, 'aid': 306, '92': 194, 'paid': 3555, '22aday': 73, 'iava': 2396, 'thejennabe': 4833, 'calamari': 863, 'hahah': 2199, 'demagogu': 1406, 'infus': 2464, 'halfway': 2207, 'foxfir': 1954, 'plight': 3683, 'mail': 3007, 'directv': 1465, 'satellit': 4204, 'weapon': 5242, 'ali_davi': 327, 'sickoqu': 4386, 'oddan': 3451, 'atlanticc': 497, 'condescend': 1173, 'manson': 3032, 'kiarri': 2729, 'muppet': 3271, 'balconi': 551, 'stiff': 4608, 'creditor': 1264, 'askingforafriend': 478, 'mariacka': 3041, 'goood': 2100, 'crook': 1274, 'socialmediafast': 4474, 'cdm': 944, '3m3': 110, 'gah': 2015, 'qudeb': 3866, 'unfortun': 5071, 'capitalv': 896, 'rant': 3907, 'onceuponaliz': 3484, 'hav': 2247, 'jesslston': 2589, 'letter': 2873, 'carrier': 917, 'tranc': 4953, 'teflondon': 4777, 'jordanajason': 2644, 'dumbo': 1585, 'walt': 5209, 'disney': 1480, 'rubiosear': 4134, 'hydrat': 2385, 'sack': 4159, 'abs_tellthetal': 234, 'pure': 3850, 'puppi': 3848, 'bitchasspoli': 686, 'loss': 2968, 'upper': 5103, 'rang': 3905, 'beep': 605, 'timer': 4888, 'default': 1384, 'cheeriogrrrl': 987, 'capabl': 895, 'sci': 4229, 'viadear': 5149, 'freeload': 1980, 'cspanwj': 1286, 'overlord': 3540, 'sayii': 4211, 'blowjob': 718, 'construct': 1197, 'younggopgum': 5392, 'alon': 344, 'gapol': 2024, 'crack': 1251, 'jebbi': 2567, 'jebspeak': 2569, 'labotomi': 2791, 'iou': 2507, 'mercedesschlapp': 3120, 'kellyannbraun': 2715, 'ck': 1059, 'sooo': 4502, 'cuss': 1301, 'now': 3411, 'ccckkk': 940, 'noo': 3392, 'kn': 2757, 'jonford': 2638, 'demselfi': 1416, 'hotel': 2343, 'infamouspcg': 2459, 'deadbeat': 1355, 'chrî': 1037, 'walłac': 5212, 'oral': 3508, 'cah': 860, 'loribuckmajor': 2964, 'bob': 727, 'haircut': 2204, 'rogerail': 4101, 'itsrodt': 2535, 'glimps': 2076, 'hierarchi': 2283, 'wan': 5213, 'lofti': 2947, 'cairo': 861, 'anisaliban': 398, 'assault': 480, 'verbal': 5140, 'te': 4760, 'keyston': 2728, 'frack': 1964, 'likeweneedmoreoil': 2899, 'fu': 1996, 'ng': 3366, 'doubl': 1537, 'box': 760, 'fantasi': 1818, 'voiceov': 5179, 'counti': 1241, 'privatesectorarlington': 3796, 'odonald': 3453, 'court': 1246, 'gopddeb': 2106, 'brian': 789, 'william': 5303, 'donut': 1527, 'annemariew': 404, 'poetinpoevil': 3693, 'aprx': 447, '700': 171, 'boyfriend': 762, 'tryin': 4998, 'vampir': 5131, 'scoff': 4231, 'pst_ii': 3833, 'hugh': 2369, 'film': 1872, 'ol': 3477, 'foxtv': 1962, 'bphill': 764, 'crossov': 1276, 'grab': 2147, 'jjday': 2608, 'dayum': 1346, 'throat': 4870, 'vanesa': 5133, '_44': 205, 'boss': 753, 'somewher': 4498, 'yesallpolitician': 5379, 'johnschamb': 2632, 'leadershi': 2838, 'jrenee_a_go_go': 2657, 'spare': 4515, 'neat': 3325, 'popehat': 3721, 'fourth': 1949, 'swim': 4715, 'pool': 3716, 'tytnetwork': 5031, 'majorityfm': 3012, 'danieltutt': 1327, 'testament': 4798, 'taxat': 4753, 'asimhaneef': 475, 'democracymatrz': 1410, '15yo': 31, 'translat': 4955, 'badli': 544, 'jamesyontrofski': 2550, 'junior': 2668, 'weed': 5247, 'sayin': 4212, 'ethanobama': 1723, 'return': 4044, 'citizensunit': 1054, 'scotu': 4242, 'louvic': 2974, 'rubionev': 4133, 'applic': 440, 'sky': 4419, 'advisor': 281, 'shutup': 4384, 'bed': 603, 'commoncor': 1146, 'neilpx': 3332, 'achiev': 250, 'b140_tweet': 528, 'assimil': 488, 'georgehenryw': 2051, 'exceed': 1752, 'laura': 2825, '4fairtax': 134}\n"
          ],
          "name": "stdout"
        }
      ]
    },
    {
      "cell_type": "markdown",
      "metadata": {
        "id": "BiPcFSonBmQH",
        "colab_type": "text"
      },
      "source": [
        "Usando el método scikit-learn [`train_test_split`](https://scikit-learn.org/stable/modules/generated/sklearn.model_selection.train_test_split.html), ahora dividimos el conjunto de datos en un conjunto de entrenamiento y de prueba. Definimos un conjunto de prueba alrededor del 10% del tamaño del conjunto de datos original."
      ]
    },
    {
      "cell_type": "code",
      "metadata": {
        "id": "dDTY9sdzBmQK",
        "colab_type": "code",
        "colab": {}
      },
      "source": [
        "# función para dividir datos para entrenar y probar conjuntos\n",
        "from sklearn.model_selection import train_test_split            \n",
        "\n",
        "# Dividir el conjunto de datos en conjunto de entrenamiento y de prueba\n",
        "train, test = train_test_split(tweets_data_df,test_size = 0.1)"
      ],
      "execution_count": 8,
      "outputs": []
    },
    {
      "cell_type": "code",
      "metadata": {
        "id": "gxbMGGeeBmQU",
        "colab_type": "code",
        "colab": {
          "base_uri": "https://localhost:8080/",
          "height": 235
        },
        "outputId": "c7d7041f-6b56-46ac-fa0b-5ad48f2dfe79"
      },
      "source": [
        "train"
      ],
      "execution_count": 9,
      "outputs": [
        {
          "output_type": "execute_result",
          "data": {
            "text/html": [
              "<div>\n",
              "<style scoped>\n",
              "    .dataframe tbody tr th:only-of-type {\n",
              "        vertical-align: middle;\n",
              "    }\n",
              "\n",
              "    .dataframe tbody tr th {\n",
              "        vertical-align: top;\n",
              "    }\n",
              "\n",
              "    .dataframe thead th {\n",
              "        text-align: right;\n",
              "    }\n",
              "</style>\n",
              "<table border=\"1\" class=\"dataframe\">\n",
              "  <thead>\n",
              "    <tr style=\"text-align: right;\">\n",
              "      <th></th>\n",
              "      <th>text</th>\n",
              "      <th>sentiment</th>\n",
              "    </tr>\n",
              "  </thead>\n",
              "  <tbody>\n",
              "    <tr>\n",
              "      <th>12297</th>\n",
              "      <td>[rwsurfergirl, jeb, bush, remind, elev, music,...</td>\n",
              "      <td>0</td>\n",
              "    </tr>\n",
              "    <tr>\n",
              "      <th>12673</th>\n",
              "      <td>[trump, countri, own, 19, trillion, dollar, ne...</td>\n",
              "      <td>1</td>\n",
              "    </tr>\n",
              "    <tr>\n",
              "      <th>...</th>\n",
              "      <td>...</td>\n",
              "      <td>...</td>\n",
              "    </tr>\n",
              "    <tr>\n",
              "      <th>3645</th>\n",
              "      <td>[gop, w, gopdeb, prove, thestupidparti, ..., h...</td>\n",
              "      <td>0</td>\n",
              "    </tr>\n",
              "    <tr>\n",
              "      <th>4656</th>\n",
              "      <td>[realdonaldtrump, took, advantag, chapter, law...</td>\n",
              "      <td>0</td>\n",
              "    </tr>\n",
              "  </tbody>\n",
              "</table>\n",
              "<p>3241 rows × 2 columns</p>\n",
              "</div>"
            ],
            "text/plain": [
              "                                                    text sentiment\n",
              "12297  [rwsurfergirl, jeb, bush, remind, elev, music,...         0\n",
              "12673  [trump, countri, own, 19, trillion, dollar, ne...         1\n",
              "...                                                  ...       ...\n",
              "3645   [gop, w, gopdeb, prove, thestupidparti, ..., h...         0\n",
              "4656   [realdonaldtrump, took, advantag, chapter, law...         0\n",
              "\n",
              "[3241 rows x 2 columns]"
            ]
          },
          "metadata": {
            "tags": []
          },
          "execution_count": 9
        }
      ]
    },
    {
      "cell_type": "code",
      "metadata": {
        "scrolled": false,
        "id": "X01jl21MBmQb",
        "colab_type": "code",
        "colab": {
          "base_uri": "https://localhost:8080/",
          "height": 235
        },
        "outputId": "6baa6f85-8337-4ebf-f06f-fb2e922bfffb"
      },
      "source": [
        "test"
      ],
      "execution_count": 10,
      "outputs": [
        {
          "output_type": "execute_result",
          "data": {
            "text/html": [
              "<div>\n",
              "<style scoped>\n",
              "    .dataframe tbody tr th:only-of-type {\n",
              "        vertical-align: middle;\n",
              "    }\n",
              "\n",
              "    .dataframe tbody tr th {\n",
              "        vertical-align: top;\n",
              "    }\n",
              "\n",
              "    .dataframe thead th {\n",
              "        text-align: right;\n",
              "    }\n",
              "</style>\n",
              "<table border=\"1\" class=\"dataframe\">\n",
              "  <thead>\n",
              "    <tr style=\"text-align: right;\">\n",
              "      <th></th>\n",
              "      <th>text</th>\n",
              "      <th>sentiment</th>\n",
              "    </tr>\n",
              "  </thead>\n",
              "  <tbody>\n",
              "    <tr>\n",
              "      <th>5558</th>\n",
              "      <td>[gopdeb, omg, dream, ticket, would, randpaul, ...</td>\n",
              "      <td>1</td>\n",
              "    </tr>\n",
              "    <tr>\n",
              "      <th>3098</th>\n",
              "      <td>[we'r, go, talk, trump', bankruptci, fiorina',...</td>\n",
              "      <td>0</td>\n",
              "    </tr>\n",
              "    <tr>\n",
              "      <th>...</th>\n",
              "      <td>...</td>\n",
              "      <td>...</td>\n",
              "    </tr>\n",
              "    <tr>\n",
              "      <th>3682</th>\n",
              "      <td>[frankluntz, lol, probabl, like, loser, candid...</td>\n",
              "      <td>1</td>\n",
              "    </tr>\n",
              "    <tr>\n",
              "      <th>13528</th>\n",
              "      <td>[johnschamb, trump, 2016, gopdeb, final, someo...</td>\n",
              "      <td>1</td>\n",
              "    </tr>\n",
              "  </tbody>\n",
              "</table>\n",
              "<p>361 rows × 2 columns</p>\n",
              "</div>"
            ],
            "text/plain": [
              "                                                    text sentiment\n",
              "5558   [gopdeb, omg, dream, ticket, would, randpaul, ...         1\n",
              "3098   [we'r, go, talk, trump', bankruptci, fiorina',...         0\n",
              "...                                                  ...       ...\n",
              "3682   [frankluntz, lol, probabl, like, loser, candid...         1\n",
              "13528  [johnschamb, trump, 2016, gopdeb, final, someo...         1\n",
              "\n",
              "[361 rows x 2 columns]"
            ]
          },
          "metadata": {
            "tags": []
          },
          "execution_count": 10
        }
      ]
    },
    {
      "cell_type": "markdown",
      "metadata": {
        "id": "WkNIXN4eBmQj",
        "colab_type": "text"
      },
      "source": [
        "Ahora, necesitamos transformar tokens en cada partición en vectores de características. Usaremos nuestro vectorizador para transformar cada tweet en una [*bolsa de palabras*](https://en.wikipedia.org/wiki/Bag-of-words_model)."
      ]
    },
    {
      "cell_type": "code",
      "metadata": {
        "id": "lY_JuLuGBmQj",
        "colab_type": "code",
        "colab": {}
      },
      "source": [
        "X_train              = [' '.join(x) for x in train['text'].values ] \n",
        "X_train_bag_of_words = vectorizer.transform(X_train)\n",
        "y_train              = train['sentiment'].values.astype(int)\n",
        "\n",
        "X_test              = [ ' '.join(x) for x in test['text'].values ] \n",
        "X_test_bag_of_words = vectorizer.transform(X_test)\n",
        "y_test              = test['sentiment'].values.astype(int)"
      ],
      "execution_count": 11,
      "outputs": []
    },
    {
      "cell_type": "markdown",
      "metadata": {
        "id": "ISFKO_0-BmQt",
        "colab_type": "text"
      },
      "source": [
        "Al imprimir instancias del conjunto de datos de entrenamiento después de la transformación * bolsa de palabras *, vemos pares como `(0, 628) 1`. El primer número identifica el índice de la frase (el tweet), el segundo número es el código de palabra asignado por nuestro vectorizador, finalmente, el último número es el recuento de apariciones de la palabra."
      ]
    },
    {
      "cell_type": "code",
      "metadata": {
        "scrolled": true,
        "id": "gc6Xs9miBmQv",
        "colab_type": "code",
        "colab": {
          "base_uri": "https://localhost:8080/",
          "height": 173
        },
        "outputId": "a2e3c807-28c2-4127-bddb-748e34259bbf"
      },
      "source": [
        "# Impresión de la bolsa de palabras 0\n",
        "print(X_train_bag_of_words[0])"
      ],
      "execution_count": 12,
      "outputs": [
        {
          "output_type": "stream",
          "text": [
            "  (0, 840)\t1\n",
            "  (0, 1637)\t1\n",
            "  (0, 2107)\t2\n",
            "  (0, 2257)\t1\n",
            "  (0, 2566)\t1\n",
            "  (0, 2920)\t1\n",
            "  (0, 3275)\t1\n",
            "  (0, 3993)\t1\n",
            "  (0, 4153)\t1\n"
          ],
          "name": "stdout"
        }
      ]
    },
    {
      "cell_type": "markdown",
      "metadata": {
        "id": "WSZwIAt7BmQ1",
        "colab_type": "text"
      },
      "source": [
        "Finalmente, ajustamos el modelo [Random Forest Classifier](https://scikit-learn.org/stable/modules/generated/sklearn.ensemble.RandomForestClassifier.html)."
      ]
    },
    {
      "cell_type": "code",
      "metadata": {
        "id": "FBscyw5sBmQ2",
        "colab_type": "code",
        "colab": {
          "base_uri": "https://localhost:8080/",
          "height": 176
        },
        "outputId": "b3d525b5-025d-4308-b98a-42f1e491133d"
      },
      "source": [
        "from sklearn.ensemble import RandomForestClassifier\n",
        "gnb = RandomForestClassifier(class_weight=\"balanced\")\n",
        "gnb.fit(X_train_bag_of_words.toarray(), y_train)"
      ],
      "execution_count": 13,
      "outputs": [
        {
          "output_type": "execute_result",
          "data": {
            "text/plain": [
              "RandomForestClassifier(bootstrap=True, ccp_alpha=0.0, class_weight='balanced',\n",
              "                       criterion='gini', max_depth=None, max_features='auto',\n",
              "                       max_leaf_nodes=None, max_samples=None,\n",
              "                       min_impurity_decrease=0.0, min_impurity_split=None,\n",
              "                       min_samples_leaf=1, min_samples_split=2,\n",
              "                       min_weight_fraction_leaf=0.0, n_estimators=100,\n",
              "                       n_jobs=None, oob_score=False, random_state=None,\n",
              "                       verbose=0, warm_start=False)"
            ]
          },
          "metadata": {
            "tags": []
          },
          "execution_count": 13
        }
      ]
    },
    {
      "cell_type": "markdown",
      "metadata": {
        "id": "ZrVJyfcjBmQ9",
        "colab_type": "text"
      },
      "source": [
        "Calculemos métricas de clasificación estándar."
      ]
    },
    {
      "cell_type": "code",
      "metadata": {
        "id": "LRbEKRqdBmQ-",
        "colab_type": "code",
        "colab": {
          "base_uri": "https://localhost:8080/",
          "height": 312
        },
        "outputId": "02ed595d-37aa-411c-a529-6901212a0b50"
      },
      "source": [
        "from sklearn.metrics import confusion_matrix, balanced_accuracy_score, accuracy_score, classification_report\n",
        "\n",
        "y_pred_test  = gnb.predict(X_test_bag_of_words.toarray())\n",
        "\n",
        "print(\" <================= Testing dataset metrics =================> \")\n",
        "print(\"Number of mislabeled test points out of a total {} points : {}\".format(X_test_bag_of_words.toarray().shape[0],(y_test != y_pred_test).sum()))\n",
        "print(\"Confusion matrix:\\n\",confusion_matrix(y_test, y_pred_test),\"\\n\")\n",
        "print(\"Balanced accuracy score:\",balanced_accuracy_score(y_test, y_pred_test))\n",
        "print(\"Full Report:\\n\",classification_report(y_test, y_pred_test))"
      ],
      "execution_count": 14,
      "outputs": [
        {
          "output_type": "stream",
          "text": [
            " <================= Testing dataset metrics =================> \n",
            "Number of mislabeled test points out of a total 361 points : 70\n",
            "Confusion matrix:\n",
            " [[145  38]\n",
            " [ 32 146]] \n",
            "\n",
            "Balanced accuracy score: 0.8062872229385399\n",
            "Full Report:\n",
            "               precision    recall  f1-score   support\n",
            "\n",
            "           0       0.82      0.79      0.81       183\n",
            "           1       0.79      0.82      0.81       178\n",
            "\n",
            "    accuracy                           0.81       361\n",
            "   macro avg       0.81      0.81      0.81       361\n",
            "weighted avg       0.81      0.81      0.81       361\n",
            "\n"
          ],
          "name": "stdout"
        }
      ]
    },
    {
      "cell_type": "code",
      "metadata": {
        "id": "W2rnsP9FBmRG",
        "colab_type": "code",
        "colab": {}
      },
      "source": [
        ""
      ],
      "execution_count": 14,
      "outputs": []
    }
  ]
}