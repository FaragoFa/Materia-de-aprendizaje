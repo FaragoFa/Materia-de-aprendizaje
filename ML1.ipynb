{
  "nbformat": 4,
  "nbformat_minor": 0,
  "metadata": {
    "colab": {
      "name": "ML",
      "provenance": [],
      "authorship_tag": "ABX9TyN+LQjfc74eUpBRUjqfop/8",
      "include_colab_link": true
    },
    "kernelspec": {
      "name": "python3",
      "display_name": "Python 3"
    },
    "language_info": {
      "name": "python"
    }
  },
  "cells": [
    {
      "cell_type": "markdown",
      "metadata": {
        "id": "view-in-github",
        "colab_type": "text"
      },
      "source": [
        "<a href=\"https://colab.research.google.com/github/FaragoFa/Materia-de-aprendizaje/blob/master/ML1.ipynb\" target=\"_parent\"><img src=\"https://colab.research.google.com/assets/colab-badge.svg\" alt=\"Open In Colab\"/></a>"
      ]
    },
    {
      "cell_type": "markdown",
      "source": [
        "Cargo el primer Dataset y lo muestro:"
      ],
      "metadata": {
        "id": "kGkyjx6G46kF"
      }
    },
    {
      "cell_type": "code",
      "execution_count": 105,
      "metadata": {
        "colab": {
          "base_uri": "https://localhost:8080/",
          "height": 424
        },
        "id": "FF-OQL5X0Jqj",
        "outputId": "b2c5c3ff-cf6b-4357-ed7c-1de2ff60e7b9"
      },
      "outputs": [
        {
          "output_type": "execute_result",
          "data": {
            "text/plain": [
              "         fecha  confirmados  activos  recuperados  decesos  descartados  \\\n",
              "0   2020-06-30          106       29           71        6          574   \n",
              "1   2020-07-01          114       31           77        6          581   \n",
              "2   2020-07-02          124       40           78        6          588   \n",
              "3   2020-07-03          137       53           78        6          606   \n",
              "4   2020-07-04          154       70           78        6          622   \n",
              "..         ...          ...      ...          ...      ...          ...   \n",
              "83  2020-09-21         2589     1319         1209       61         3557   \n",
              "84  2020-09-22         2714     1371         1282       61         3615   \n",
              "85  2020-09-23         2841     1464         1313       64         3658   \n",
              "86  2020-09-24         2906     1474         1366       66         3682   \n",
              "87  2020-09-25         3012     1512         1434       66         3738   \n",
              "\n",
              "    sospechosos  contencion_psicologica  monitoreo_epidemiologico  \\\n",
              "0            23                     342                      2338   \n",
              "1            22                     342                      2207   \n",
              "2            24                     356                      2162   \n",
              "3            31                     356                      2353   \n",
              "4            31                     356                      2377   \n",
              "..          ...                     ...                       ...   \n",
              "83          303                     417                      1261   \n",
              "84          292                     417                      1197   \n",
              "85          286                     417                      1206   \n",
              "86          331                     417                      1221   \n",
              "87          298                     417                      1168   \n",
              "\n",
              "    aislamiento_por_contacto_estrecho  aprehendidos  \n",
              "0                                 181             0  \n",
              "1                                 172             0  \n",
              "2                                 176             0  \n",
              "3                                 190             0  \n",
              "4                                 214             0  \n",
              "..                                ...           ...  \n",
              "83                                510             0  \n",
              "84                                554             0  \n",
              "85                                562             0  \n",
              "86                                562             0  \n",
              "87                                625             0  \n",
              "\n",
              "[88 rows x 11 columns]"
            ],
            "text/html": [
              "\n",
              "  <div id=\"df-3708fc5d-aa66-4a21-bced-0b093ee4395f\">\n",
              "    <div class=\"colab-df-container\">\n",
              "      <div>\n",
              "<style scoped>\n",
              "    .dataframe tbody tr th:only-of-type {\n",
              "        vertical-align: middle;\n",
              "    }\n",
              "\n",
              "    .dataframe tbody tr th {\n",
              "        vertical-align: top;\n",
              "    }\n",
              "\n",
              "    .dataframe thead th {\n",
              "        text-align: right;\n",
              "    }\n",
              "</style>\n",
              "<table border=\"1\" class=\"dataframe\">\n",
              "  <thead>\n",
              "    <tr style=\"text-align: right;\">\n",
              "      <th></th>\n",
              "      <th>fecha</th>\n",
              "      <th>confirmados</th>\n",
              "      <th>activos</th>\n",
              "      <th>recuperados</th>\n",
              "      <th>decesos</th>\n",
              "      <th>descartados</th>\n",
              "      <th>sospechosos</th>\n",
              "      <th>contencion_psicologica</th>\n",
              "      <th>monitoreo_epidemiologico</th>\n",
              "      <th>aislamiento_por_contacto_estrecho</th>\n",
              "      <th>aprehendidos</th>\n",
              "    </tr>\n",
              "  </thead>\n",
              "  <tbody>\n",
              "    <tr>\n",
              "      <th>0</th>\n",
              "      <td>2020-06-30</td>\n",
              "      <td>106</td>\n",
              "      <td>29</td>\n",
              "      <td>71</td>\n",
              "      <td>6</td>\n",
              "      <td>574</td>\n",
              "      <td>23</td>\n",
              "      <td>342</td>\n",
              "      <td>2338</td>\n",
              "      <td>181</td>\n",
              "      <td>0</td>\n",
              "    </tr>\n",
              "    <tr>\n",
              "      <th>1</th>\n",
              "      <td>2020-07-01</td>\n",
              "      <td>114</td>\n",
              "      <td>31</td>\n",
              "      <td>77</td>\n",
              "      <td>6</td>\n",
              "      <td>581</td>\n",
              "      <td>22</td>\n",
              "      <td>342</td>\n",
              "      <td>2207</td>\n",
              "      <td>172</td>\n",
              "      <td>0</td>\n",
              "    </tr>\n",
              "    <tr>\n",
              "      <th>2</th>\n",
              "      <td>2020-07-02</td>\n",
              "      <td>124</td>\n",
              "      <td>40</td>\n",
              "      <td>78</td>\n",
              "      <td>6</td>\n",
              "      <td>588</td>\n",
              "      <td>24</td>\n",
              "      <td>356</td>\n",
              "      <td>2162</td>\n",
              "      <td>176</td>\n",
              "      <td>0</td>\n",
              "    </tr>\n",
              "    <tr>\n",
              "      <th>3</th>\n",
              "      <td>2020-07-03</td>\n",
              "      <td>137</td>\n",
              "      <td>53</td>\n",
              "      <td>78</td>\n",
              "      <td>6</td>\n",
              "      <td>606</td>\n",
              "      <td>31</td>\n",
              "      <td>356</td>\n",
              "      <td>2353</td>\n",
              "      <td>190</td>\n",
              "      <td>0</td>\n",
              "    </tr>\n",
              "    <tr>\n",
              "      <th>4</th>\n",
              "      <td>2020-07-04</td>\n",
              "      <td>154</td>\n",
              "      <td>70</td>\n",
              "      <td>78</td>\n",
              "      <td>6</td>\n",
              "      <td>622</td>\n",
              "      <td>31</td>\n",
              "      <td>356</td>\n",
              "      <td>2377</td>\n",
              "      <td>214</td>\n",
              "      <td>0</td>\n",
              "    </tr>\n",
              "    <tr>\n",
              "      <th>...</th>\n",
              "      <td>...</td>\n",
              "      <td>...</td>\n",
              "      <td>...</td>\n",
              "      <td>...</td>\n",
              "      <td>...</td>\n",
              "      <td>...</td>\n",
              "      <td>...</td>\n",
              "      <td>...</td>\n",
              "      <td>...</td>\n",
              "      <td>...</td>\n",
              "      <td>...</td>\n",
              "    </tr>\n",
              "    <tr>\n",
              "      <th>83</th>\n",
              "      <td>2020-09-21</td>\n",
              "      <td>2589</td>\n",
              "      <td>1319</td>\n",
              "      <td>1209</td>\n",
              "      <td>61</td>\n",
              "      <td>3557</td>\n",
              "      <td>303</td>\n",
              "      <td>417</td>\n",
              "      <td>1261</td>\n",
              "      <td>510</td>\n",
              "      <td>0</td>\n",
              "    </tr>\n",
              "    <tr>\n",
              "      <th>84</th>\n",
              "      <td>2020-09-22</td>\n",
              "      <td>2714</td>\n",
              "      <td>1371</td>\n",
              "      <td>1282</td>\n",
              "      <td>61</td>\n",
              "      <td>3615</td>\n",
              "      <td>292</td>\n",
              "      <td>417</td>\n",
              "      <td>1197</td>\n",
              "      <td>554</td>\n",
              "      <td>0</td>\n",
              "    </tr>\n",
              "    <tr>\n",
              "      <th>85</th>\n",
              "      <td>2020-09-23</td>\n",
              "      <td>2841</td>\n",
              "      <td>1464</td>\n",
              "      <td>1313</td>\n",
              "      <td>64</td>\n",
              "      <td>3658</td>\n",
              "      <td>286</td>\n",
              "      <td>417</td>\n",
              "      <td>1206</td>\n",
              "      <td>562</td>\n",
              "      <td>0</td>\n",
              "    </tr>\n",
              "    <tr>\n",
              "      <th>86</th>\n",
              "      <td>2020-09-24</td>\n",
              "      <td>2906</td>\n",
              "      <td>1474</td>\n",
              "      <td>1366</td>\n",
              "      <td>66</td>\n",
              "      <td>3682</td>\n",
              "      <td>331</td>\n",
              "      <td>417</td>\n",
              "      <td>1221</td>\n",
              "      <td>562</td>\n",
              "      <td>0</td>\n",
              "    </tr>\n",
              "    <tr>\n",
              "      <th>87</th>\n",
              "      <td>2020-09-25</td>\n",
              "      <td>3012</td>\n",
              "      <td>1512</td>\n",
              "      <td>1434</td>\n",
              "      <td>66</td>\n",
              "      <td>3738</td>\n",
              "      <td>298</td>\n",
              "      <td>417</td>\n",
              "      <td>1168</td>\n",
              "      <td>625</td>\n",
              "      <td>0</td>\n",
              "    </tr>\n",
              "  </tbody>\n",
              "</table>\n",
              "<p>88 rows × 11 columns</p>\n",
              "</div>\n",
              "      <button class=\"colab-df-convert\" onclick=\"convertToInteractive('df-3708fc5d-aa66-4a21-bced-0b093ee4395f')\"\n",
              "              title=\"Convert this dataframe to an interactive table.\"\n",
              "              style=\"display:none;\">\n",
              "        \n",
              "  <svg xmlns=\"http://www.w3.org/2000/svg\" height=\"24px\"viewBox=\"0 0 24 24\"\n",
              "       width=\"24px\">\n",
              "    <path d=\"M0 0h24v24H0V0z\" fill=\"none\"/>\n",
              "    <path d=\"M18.56 5.44l.94 2.06.94-2.06 2.06-.94-2.06-.94-.94-2.06-.94 2.06-2.06.94zm-11 1L8.5 8.5l.94-2.06 2.06-.94-2.06-.94L8.5 2.5l-.94 2.06-2.06.94zm10 10l.94 2.06.94-2.06 2.06-.94-2.06-.94-.94-2.06-.94 2.06-2.06.94z\"/><path d=\"M17.41 7.96l-1.37-1.37c-.4-.4-.92-.59-1.43-.59-.52 0-1.04.2-1.43.59L10.3 9.45l-7.72 7.72c-.78.78-.78 2.05 0 2.83L4 21.41c.39.39.9.59 1.41.59.51 0 1.02-.2 1.41-.59l7.78-7.78 2.81-2.81c.8-.78.8-2.07 0-2.86zM5.41 20L4 18.59l7.72-7.72 1.47 1.35L5.41 20z\"/>\n",
              "  </svg>\n",
              "      </button>\n",
              "      \n",
              "  <style>\n",
              "    .colab-df-container {\n",
              "      display:flex;\n",
              "      flex-wrap:wrap;\n",
              "      gap: 12px;\n",
              "    }\n",
              "\n",
              "    .colab-df-convert {\n",
              "      background-color: #E8F0FE;\n",
              "      border: none;\n",
              "      border-radius: 50%;\n",
              "      cursor: pointer;\n",
              "      display: none;\n",
              "      fill: #1967D2;\n",
              "      height: 32px;\n",
              "      padding: 0 0 0 0;\n",
              "      width: 32px;\n",
              "    }\n",
              "\n",
              "    .colab-df-convert:hover {\n",
              "      background-color: #E2EBFA;\n",
              "      box-shadow: 0px 1px 2px rgba(60, 64, 67, 0.3), 0px 1px 3px 1px rgba(60, 64, 67, 0.15);\n",
              "      fill: #174EA6;\n",
              "    }\n",
              "\n",
              "    [theme=dark] .colab-df-convert {\n",
              "      background-color: #3B4455;\n",
              "      fill: #D2E3FC;\n",
              "    }\n",
              "\n",
              "    [theme=dark] .colab-df-convert:hover {\n",
              "      background-color: #434B5C;\n",
              "      box-shadow: 0px 1px 3px 1px rgba(0, 0, 0, 0.15);\n",
              "      filter: drop-shadow(0px 1px 2px rgba(0, 0, 0, 0.3));\n",
              "      fill: #FFFFFF;\n",
              "    }\n",
              "  </style>\n",
              "\n",
              "      <script>\n",
              "        const buttonEl =\n",
              "          document.querySelector('#df-3708fc5d-aa66-4a21-bced-0b093ee4395f button.colab-df-convert');\n",
              "        buttonEl.style.display =\n",
              "          google.colab.kernel.accessAllowed ? 'block' : 'none';\n",
              "\n",
              "        async function convertToInteractive(key) {\n",
              "          const element = document.querySelector('#df-3708fc5d-aa66-4a21-bced-0b093ee4395f');\n",
              "          const dataTable =\n",
              "            await google.colab.kernel.invokeFunction('convertToInteractive',\n",
              "                                                     [key], {});\n",
              "          if (!dataTable) return;\n",
              "\n",
              "          const docLinkHtml = 'Like what you see? Visit the ' +\n",
              "            '<a target=\"_blank\" href=https://colab.research.google.com/notebooks/data_table.ipynb>data table notebook</a>'\n",
              "            + ' to learn more about interactive tables.';\n",
              "          element.innerHTML = '';\n",
              "          dataTable['output_type'] = 'display_data';\n",
              "          await google.colab.output.renderOutput(dataTable, element);\n",
              "          const docLink = document.createElement('div');\n",
              "          docLink.innerHTML = docLinkHtml;\n",
              "          element.appendChild(docLink);\n",
              "        }\n",
              "      </script>\n",
              "    </div>\n",
              "  </div>\n",
              "  "
            ]
          },
          "metadata": {},
          "execution_count": 105
        }
      ],
      "source": [
        "import pandas as pd # importamos pandas\n",
        "\n",
        "df = pd.read_csv(\"https://raw.githubusercontent.com/manlio99/Materia-de-aprendizaje/master/4_DataWrangling/data/casos_covid_bahia.csv\")  # load data\n",
        "df \n"
      ]
    },
    {
      "cell_type": "markdown",
      "source": [
        "Muestro los histogramas de las variables:"
      ],
      "metadata": {
        "id": "6GsK2Axw4zCp"
      }
    },
    {
      "cell_type": "code",
      "source": [
        "import matplotlib.pyplot as plt\n",
        "plt.title('Confirmados')\n",
        "plt.hist(df['confirmados'], bins='auto')"
      ],
      "metadata": {
        "colab": {
          "base_uri": "https://localhost:8080/",
          "height": 350
        },
        "id": "IG9pr-J33kTK",
        "outputId": "65f2fac9-2b1b-4bda-bdf5-ed79c1409508"
      },
      "execution_count": 106,
      "outputs": [
        {
          "output_type": "execute_result",
          "data": {
            "text/plain": [
              "(array([25., 28., 11.,  8.,  4.,  3.,  5.,  4.]),\n",
              " array([ 106.  ,  469.25,  832.5 , 1195.75, 1559.  , 1922.25, 2285.5 ,\n",
              "        2648.75, 3012.  ]),\n",
              " <a list of 8 Patch objects>)"
            ]
          },
          "metadata": {},
          "execution_count": 106
        },
        {
          "output_type": "display_data",
          "data": {
            "text/plain": [
              "<Figure size 432x288 with 1 Axes>"
            ],
            "image/png": "[encoded data removed]"
          },
          "metadata": {
            "needs_background": "light"
          }
        }
      ]
    },
    {
      "cell_type": "code",
      "source": [
        "plt.title('Activos')\n",
        "plt.hist(df['activos'], bins='auto')"
      ],
      "metadata": {
        "colab": {
          "base_uri": "https://localhost:8080/",
          "height": 385
        },
        "id": "jF1Skoji8DMc",
        "outputId": "1392f971-b5e2-4d2a-ada7-c2039758ecdc"
      },
      "execution_count": 107,
      "outputs": [
        {
          "output_type": "execute_result",
          "data": {
            "text/plain": [
              "(array([11., 46.,  6.,  6.,  3.,  2.,  2.,  2.,  1.,  3.,  3.,  3.]),\n",
              " array([  29.        ,  152.58333333,  276.16666667,  399.75      ,\n",
              "         523.33333333,  646.91666667,  770.5       ,  894.08333333,\n",
              "        1017.66666667, 1141.25      , 1264.83333333, 1388.41666667,\n",
              "        1512.        ]),\n",
              " <a list of 12 Patch objects>)"
            ]
          },
          "metadata": {},
          "execution_count": 107
        },
        {
          "output_type": "display_data",
          "data": {
            "text/plain": [
              "<Figure size 432x288 with 1 Axes>"
            ],
            "image/png": "[encoded data removed]"
          },
          "metadata": {
            "needs_background": "light"
          }
        }
      ]
    },
    {
      "cell_type": "code",
      "source": [
        "plt.title('Recuperados')\n",
        "plt.hist(df['recuperados'], bins='auto')"
      ],
      "metadata": {
        "colab": {
          "base_uri": "https://localhost:8080/",
          "height": 350
        },
        "id": "UuwSRmO68MzK",
        "outputId": "5323ba39-1ccb-478c-aca5-7844540c7234"
      },
      "execution_count": 108,
      "outputs": [
        {
          "output_type": "execute_result",
          "data": {
            "text/plain": [
              "(array([29., 10., 14., 13.,  8.,  6.,  4.,  4.]),\n",
              " array([  71.   ,  241.375,  411.75 ,  582.125,  752.5  ,  922.875,\n",
              "        1093.25 , 1263.625, 1434.   ]),\n",
              " <a list of 8 Patch objects>)"
            ]
          },
          "metadata": {},
          "execution_count": 108
        },
        {
          "output_type": "display_data",
          "data": {
            "text/plain": [
              "<Figure size 432x288 with 1 Axes>"
            ],
            "image/png": "[encoded data removed]"
          },
          "metadata": {
            "needs_background": "light"
          }
        }
      ]
    },
    {
      "cell_type": "code",
      "source": [
        "plt.title('Decesos')\n",
        "plt.hist(df['decesos'], bins='auto')"
      ],
      "metadata": {
        "colab": {
          "base_uri": "https://localhost:8080/",
          "height": 333
        },
        "id": "U1QhBABV8Qn_",
        "outputId": "9aafcc66-d9a4-4eb5-85ce-e5ce1b034843"
      },
      "execution_count": 109,
      "outputs": [
        {
          "output_type": "execute_result",
          "data": {
            "text/plain": [
              "(array([24., 24., 12.,  7.,  6.,  5.,  3.,  7.]),\n",
              " array([ 6. , 13.5, 21. , 28.5, 36. , 43.5, 51. , 58.5, 66. ]),\n",
              " <a list of 8 Patch objects>)"
            ]
          },
          "metadata": {},
          "execution_count": 109
        },
        {
          "output_type": "display_data",
          "data": {
            "text/plain": [
              "<Figure size 432x288 with 1 Axes>"
            ],
            "image/png": "[encoded data removed]"
          },
          "metadata": {
            "needs_background": "light"
          }
        }
      ]
    },
    {
      "cell_type": "code",
      "source": [
        "plt.title('Descartados')\n",
        "plt.hist(df['descartados'], bins='auto')"
      ],
      "metadata": {
        "colab": {
          "base_uri": "https://localhost:8080/",
          "height": 350
        },
        "id": "UVgU4PlR8RTg",
        "outputId": "7cbe699a-a609-441e-d00c-ceb0ec801052"
      },
      "execution_count": 110,
      "outputs": [
        {
          "output_type": "execute_result",
          "data": {
            "text/plain": [
              "(array([15., 12., 12., 11.,  9., 12.,  8.,  9.]),\n",
              " array([ 574. ,  969.5, 1365. , 1760.5, 2156. , 2551.5, 2947. , 3342.5,\n",
              "        3738. ]),\n",
              " <a list of 8 Patch objects>)"
            ]
          },
          "metadata": {},
          "execution_count": 110
        },
        {
          "output_type": "display_data",
          "data": {
            "text/plain": [
              "<Figure size 432x288 with 1 Axes>"
            ],
            "image/png": "[encoded data removed]"
          },
          "metadata": {
            "needs_background": "light"
          }
        }
      ]
    },
    {
      "cell_type": "code",
      "source": [
        "plt.title('Sospechosos')\n",
        "plt.hist(df['sospechosos'], bins='auto')"
      ],
      "metadata": {
        "colab": {
          "base_uri": "https://localhost:8080/",
          "height": 333
        },
        "id": "7IPCeqSk8TvZ",
        "outputId": "9f892856-7ccb-43cf-e065-99f608d61a9b"
      },
      "execution_count": 111,
      "outputs": [
        {
          "output_type": "execute_result",
          "data": {
            "text/plain": [
              "(array([14., 19., 29.,  2.,  3.,  6.,  7.,  8.]),\n",
              " array([ 22.,  67., 112., 157., 202., 247., 292., 337., 382.]),\n",
              " <a list of 8 Patch objects>)"
            ]
          },
          "metadata": {},
          "execution_count": 111
        },
        {
          "output_type": "display_data",
          "data": {
            "text/plain": [
              "<Figure size 432x288 with 1 Axes>"
            ],
            "image/png": "[encoded data removed]"
          },
          "metadata": {
            "needs_background": "light"
          }
        }
      ]
    },
    {
      "cell_type": "code",
      "source": [
        "plt.title('Contencion psicologica')\n",
        "plt.hist(df['contencion_psicologica'], bins='auto')"
      ],
      "metadata": {
        "colab": {
          "base_uri": "https://localhost:8080/",
          "height": 350
        },
        "id": "gXsuLIGG8Zb9",
        "outputId": "d7adebf3-d994-4dc1-c114-474cf097ffe7"
      },
      "execution_count": 112,
      "outputs": [
        {
          "output_type": "execute_result",
          "data": {
            "text/plain": [
              "(array([ 2.,  4.,  0., 10.,  0.,  0.,  0., 72.]),\n",
              " array([342.   , 351.375, 360.75 , 370.125, 379.5  , 388.875, 398.25 ,\n",
              "        407.625, 417.   ]),\n",
              " <a list of 8 Patch objects>)"
            ]
          },
          "metadata": {},
          "execution_count": 112
        },
        {
          "output_type": "display_data",
          "data": {
            "text/plain": [
              "<Figure size 432x288 with 1 Axes>"
            ],
            "image/png": "[encoded data removed]"
          },
          "metadata": {
            "needs_background": "light"
          }
        }
      ]
    },
    {
      "cell_type": "code",
      "source": [
        "plt.title('Monitoreo epidemiologico')\n",
        "plt.hist(df['monitoreo_epidemiologico'], bins='auto')"
      ],
      "metadata": {
        "colab": {
          "base_uri": "https://localhost:8080/",
          "height": 420
        },
        "id": "RJPKuh5k8gjl",
        "outputId": "ae34b514-bd6c-422d-a52a-d5b39098752b"
      },
      "execution_count": 113,
      "outputs": [
        {
          "output_type": "execute_result",
          "data": {
            "text/plain": [
              "(array([ 3.,  5., 19., 24., 14., 11.,  2.,  1.,  0.,  0.,  0.,  0.,  1.,\n",
              "         3.,  0.,  0.,  2.,  0.,  3.]),\n",
              " array([1014.        , 1085.73684211, 1157.47368421, 1229.21052632,\n",
              "        1300.94736842, 1372.68421053, 1444.42105263, 1516.15789474,\n",
              "        1587.89473684, 1659.63157895, 1731.36842105, 1803.10526316,\n",
              "        1874.84210526, 1946.57894737, 2018.31578947, 2090.05263158,\n",
              "        2161.78947368, 2233.52631579, 2305.26315789, 2377.        ]),\n",
              " <a list of 19 Patch objects>)"
            ]
          },
          "metadata": {},
          "execution_count": 113
        },
        {
          "output_type": "display_data",
          "data": {
            "text/plain": [
              "<Figure size 432x288 with 1 Axes>"
            ],
            "image/png": "[encoded data removed]"
          },
          "metadata": {
            "needs_background": "light"
          }
        }
      ]
    },
    {
      "cell_type": "code",
      "source": [
        "plt.title('Aislamiento por contacto estrecho')\n",
        "plt.hist(df['aislamiento_por_contacto_estrecho'], bins='auto')"
      ],
      "metadata": {
        "colab": {
          "base_uri": "https://localhost:8080/",
          "height": 333
        },
        "id": "rlgU578B8l7x",
        "outputId": "7ba985cb-0067-4b6e-aaaf-3eba18e09321"
      },
      "execution_count": 114,
      "outputs": [
        {
          "output_type": "execute_result",
          "data": {
            "text/plain": [
              "(array([35., 24.,  3.,  8.,  9.,  4.,  4.,  1.]),\n",
              " array([169., 226., 283., 340., 397., 454., 511., 568., 625.]),\n",
              " <a list of 8 Patch objects>)"
            ]
          },
          "metadata": {},
          "execution_count": 114
        },
        {
          "output_type": "display_data",
          "data": {
            "text/plain": [
              "<Figure size 432x288 with 1 Axes>"
            ],
            "image/png": "[encoded data removed]"
          },
          "metadata": {
            "needs_background": "light"
          }
        }
      ]
    },
    {
      "cell_type": "code",
      "source": [
        "plt.title('Aprehendidos')\n",
        "plt.hist(df['aprehendidos'], bins=10)"
      ],
      "metadata": {
        "colab": {
          "base_uri": "https://localhost:8080/",
          "height": 333
        },
        "id": "iFHC1Dzg8wtN",
        "outputId": "7202f30c-b163-4f23-b4e1-7a2a48879158"
      },
      "execution_count": 115,
      "outputs": [
        {
          "output_type": "execute_result",
          "data": {
            "text/plain": [
              "(array([ 0.,  0.,  0.,  0.,  0., 88.,  0.,  0.,  0.,  0.]),\n",
              " array([-0.5, -0.4, -0.3, -0.2, -0.1,  0. ,  0.1,  0.2,  0.3,  0.4,  0.5]),\n",
              " <a list of 10 Patch objects>)"
            ]
          },
          "metadata": {},
          "execution_count": 115
        },
        {
          "output_type": "display_data",
          "data": {
            "text/plain": [
              "<Figure size 432x288 with 1 Axes>"
            ],
            "image/png": "[encoded data removed]"
          },
          "metadata": {
            "needs_background": "light"
          }
        }
      ]
    },
    {
      "cell_type": "markdown",
      "source": [
        "Como se puede observar, las distribuciones no son normales. Quiza el monitoreo epidemiologico se podria considerar normal entre 1000 y 1600."
      ],
      "metadata": {
        "id": "K6GZXTYP_GaQ"
      }
    },
    {
      "cell_type": "markdown",
      "source": [
        "Cargo el primer Dataset y lo muestro:"
      ],
      "metadata": {
        "id": "FOe8stZx_pTA"
      }
    },
    {
      "cell_type": "code",
      "source": [
        "import pandas as pd # importamos pandas\n",
        "\n",
        "df2 = pd.read_csv(\"https://raw.githubusercontent.com/manlio99/Materia-de-aprendizaje/master/4_DataWrangling/data/camas_covid_bahia.csv\")  # load data\n",
        "df2 "
      ],
      "metadata": {
        "colab": {
          "base_uri": "https://localhost:8080/",
          "height": 661
        },
        "id": "H0DjtSMU_jrA",
        "outputId": "68f02604-4a4f-47b3-b1f6-6c4a7b8eac3e"
      },
      "execution_count": 116,
      "outputs": [
        {
          "output_type": "execute_result",
          "data": {
            "text/plain": [
              "    informeNumero       fecha  total_camas_hospitales  \\\n",
              "0             131  2020-09-25                     848   \n",
              "1             130  2020-09-24                     848   \n",
              "2             129  2020-09-23                     848   \n",
              "3             128  2020-09-22                     848   \n",
              "4             127  2020-09-21                     848   \n",
              "..            ...         ...                     ...   \n",
              "83             10  2020-07-04                     848   \n",
              "84              9  2020-07-03                     848   \n",
              "85              8  2020-07-02                     848   \n",
              "86              7  2020-07-01                     848   \n",
              "87              1  2020-06-30                     848   \n",
              "\n",
              "    camas_ocupadas_hospitales  porcentaje_ocupacion_camas_hospitales  \\\n",
              "0                         401                                     47   \n",
              "1                         391                                     46   \n",
              "2                         402                                     47   \n",
              "3                         391                                     46   \n",
              "4                         368                                     43   \n",
              "..                        ...                                    ...   \n",
              "83                        343                                     40   \n",
              "84                        349                                     41   \n",
              "85                        358                                     42   \n",
              "86                        386                                     45   \n",
              "87                        347                                     40   \n",
              "\n",
              "    camas_covid  camas_sospechosos_covid  camas_confirmados_covid  \\\n",
              "0           163                       42                       84   \n",
              "1           163                       25                       86   \n",
              "2           163                       21                       85   \n",
              "3           163                       30                       83   \n",
              "4           163                       32                       82   \n",
              "..          ...                      ...                      ...   \n",
              "83          155                       14                       14   \n",
              "84          155                       18                       13   \n",
              "85          155                       14                       14   \n",
              "86          155                       12                       12   \n",
              "87          155                       15                       10   \n",
              "\n",
              "    porcentaje_ocupacion_camas_covid  uti_covid_totales  uti_covid_ocupadas  \\\n",
              "0                                 77                 32                  24   \n",
              "1                                 68                 32                  17   \n",
              "2                                 65                 32                  22   \n",
              "3                                 69                 32                  21   \n",
              "4                                 69                 32                  24   \n",
              "..                               ...                ...                 ...   \n",
              "83                                18                 32                   3   \n",
              "84                                20                 32                   4   \n",
              "85                                18                 32                   4   \n",
              "86                                15                 32                   2   \n",
              "87                                16                 32                   1   \n",
              "\n",
              "    respiradores_totales  respiradores_ocupados  respiradores_covid_totales  \\\n",
              "0                    142                     41                          69   \n",
              "1                    142                     39                          69   \n",
              "2                    142                     42                          71   \n",
              "3                    142                     43                          72   \n",
              "4                    142                     40                          72   \n",
              "..                   ...                    ...                         ...   \n",
              "83                   143                     22                           0   \n",
              "84                   143                     25                           0   \n",
              "85                   143                     25                           0   \n",
              "86                   143                     24                           0   \n",
              "87                   143                     23                           0   \n",
              "\n",
              "    respiradores_covid_ocupados  total_camas_ucma  total_camas_ocupadas_ucma  \\\n",
              "0                            25               147                         19   \n",
              "1                            21               147                         21   \n",
              "2                            23               147                         19   \n",
              "3                            24               147                         15   \n",
              "4                            24               147                         10   \n",
              "..                          ...               ...                        ...   \n",
              "83                            0               137                          0   \n",
              "84                            0               137                          0   \n",
              "85                            0               137                          0   \n",
              "86                            0               137                          0   \n",
              "87                            0               137                          0   \n",
              "\n",
              "    sedes_ucma observaciones  \n",
              "0            4           NaN  \n",
              "1            4           NaN  \n",
              "2            4           NaN  \n",
              "3            4           NaN  \n",
              "4            4           NaN  \n",
              "..         ...           ...  \n",
              "83           3           NaN  \n",
              "84           3           NaN  \n",
              "85           3           NaN  \n",
              "86           3           NaN  \n",
              "87           3           NaN  \n",
              "\n",
              "[88 rows x 19 columns]"
            ],
            "text/html": [
              "\n",
              "  <div id=\"df-d48392fb-d888-4f14-aa5c-24236f5af20d\">\n",
              "    <div class=\"colab-df-container\">\n",
              "      <div>\n",
              "<style scoped>\n",
              "    .dataframe tbody tr th:only-of-type {\n",
              "        vertical-align: middle;\n",
              "    }\n",
              "\n",
              "    .dataframe tbody tr th {\n",
              "        vertical-align: top;\n",
              "    }\n",
              "\n",
              "    .dataframe thead th {\n",
              "        text-align: right;\n",
              "    }\n",
              "</style>\n",
              "<table border=\"1\" class=\"dataframe\">\n",
              "  <thead>\n",
              "    <tr style=\"text-align: right;\">\n",
              "      <th></th>\n",
              "      <th>informeNumero</th>\n",
              "      <th>fecha</th>\n",
              "      <th>total_camas_hospitales</th>\n",
              "      <th>camas_ocupadas_hospitales</th>\n",
              "      <th>porcentaje_ocupacion_camas_hospitales</th>\n",
              "      <th>camas_covid</th>\n",
              "      <th>camas_sospechosos_covid</th>\n",
              "      <th>camas_confirmados_covid</th>\n",
              "      <th>porcentaje_ocupacion_camas_covid</th>\n",
              "      <th>uti_covid_totales</th>\n",
              "      <th>uti_covid_ocupadas</th>\n",
              "      <th>respiradores_totales</th>\n",
              "      <th>respiradores_ocupados</th>\n",
              "      <th>respiradores_covid_totales</th>\n",
              "      <th>respiradores_covid_ocupados</th>\n",
              "      <th>total_camas_ucma</th>\n",
              "      <th>total_camas_ocupadas_ucma</th>\n",
              "      <th>sedes_ucma</th>\n",
              "      <th>observaciones</th>\n",
              "    </tr>\n",
              "  </thead>\n",
              "  <tbody>\n",
              "    <tr>\n",
              "      <th>0</th>\n",
              "      <td>131</td>\n",
              "      <td>2020-09-25</td>\n",
              "      <td>848</td>\n",
              "      <td>401</td>\n",
              "      <td>47</td>\n",
              "      <td>163</td>\n",
              "      <td>42</td>\n",
              "      <td>84</td>\n",
              "      <td>77</td>\n",
              "      <td>32</td>\n",
              "      <td>24</td>\n",
              "      <td>142</td>\n",
              "      <td>41</td>\n",
              "      <td>69</td>\n",
              "      <td>25</td>\n",
              "      <td>147</td>\n",
              "      <td>19</td>\n",
              "      <td>4</td>\n",
              "      <td>NaN</td>\n",
              "    </tr>\n",
              "    <tr>\n",
              "      <th>1</th>\n",
              "      <td>130</td>\n",
              "      <td>2020-09-24</td>\n",
              "      <td>848</td>\n",
              "      <td>391</td>\n",
              "      <td>46</td>\n",
              "      <td>163</td>\n",
              "      <td>25</td>\n",
              "      <td>86</td>\n",
              "      <td>68</td>\n",
              "      <td>32</td>\n",
              "      <td>17</td>\n",
              "      <td>142</td>\n",
              "      <td>39</td>\n",
              "      <td>69</td>\n",
              "      <td>21</td>\n",
              "      <td>147</td>\n",
              "      <td>21</td>\n",
              "      <td>4</td>\n",
              "      <td>NaN</td>\n",
              "    </tr>\n",
              "    <tr>\n",
              "      <th>2</th>\n",
              "      <td>129</td>\n",
              "      <td>2020-09-23</td>\n",
              "      <td>848</td>\n",
              "      <td>402</td>\n",
              "      <td>47</td>\n",
              "      <td>163</td>\n",
              "      <td>21</td>\n",
              "      <td>85</td>\n",
              "      <td>65</td>\n",
              "      <td>32</td>\n",
              "      <td>22</td>\n",
              "      <td>142</td>\n",
              "      <td>42</td>\n",
              "      <td>71</td>\n",
              "      <td>23</td>\n",
              "      <td>147</td>\n",
              "      <td>19</td>\n",
              "      <td>4</td>\n",
              "      <td>NaN</td>\n",
              "    </tr>\n",
              "    <tr>\n",
              "      <th>3</th>\n",
              "      <td>128</td>\n",
              "      <td>2020-09-22</td>\n",
              "      <td>848</td>\n",
              "      <td>391</td>\n",
              "      <td>46</td>\n",
              "      <td>163</td>\n",
              "      <td>30</td>\n",
              "      <td>83</td>\n",
              "      <td>69</td>\n",
              "      <td>32</td>\n",
              "      <td>21</td>\n",
              "      <td>142</td>\n",
              "      <td>43</td>\n",
              "      <td>72</td>\n",
              "      <td>24</td>\n",
              "      <td>147</td>\n",
              "      <td>15</td>\n",
              "      <td>4</td>\n",
              "      <td>NaN</td>\n",
              "    </tr>\n",
              "    <tr>\n",
              "      <th>4</th>\n",
              "      <td>127</td>\n",
              "      <td>2020-09-21</td>\n",
              "      <td>848</td>\n",
              "      <td>368</td>\n",
              "      <td>43</td>\n",
              "      <td>163</td>\n",
              "      <td>32</td>\n",
              "      <td>82</td>\n",
              "      <td>69</td>\n",
              "      <td>32</td>\n",
              "      <td>24</td>\n",
              "      <td>142</td>\n",
              "      <td>40</td>\n",
              "      <td>72</td>\n",
              "      <td>24</td>\n",
              "      <td>147</td>\n",
              "      <td>10</td>\n",
              "      <td>4</td>\n",
              "      <td>NaN</td>\n",
              "    </tr>\n",
              "    <tr>\n",
              "      <th>...</th>\n",
              "      <td>...</td>\n",
              "      <td>...</td>\n",
              "      <td>...</td>\n",
              "      <td>...</td>\n",
              "      <td>...</td>\n",
              "      <td>...</td>\n",
              "      <td>...</td>\n",
              "      <td>...</td>\n",
              "      <td>...</td>\n",
              "      <td>...</td>\n",
              "      <td>...</td>\n",
              "      <td>...</td>\n",
              "      <td>...</td>\n",
              "      <td>...</td>\n",
              "      <td>...</td>\n",
              "      <td>...</td>\n",
              "      <td>...</td>\n",
              "      <td>...</td>\n",
              "      <td>...</td>\n",
              "    </tr>\n",
              "    <tr>\n",
              "      <th>83</th>\n",
              "      <td>10</td>\n",
              "      <td>2020-07-04</td>\n",
              "      <td>848</td>\n",
              "      <td>343</td>\n",
              "      <td>40</td>\n",
              "      <td>155</td>\n",
              "      <td>14</td>\n",
              "      <td>14</td>\n",
              "      <td>18</td>\n",
              "      <td>32</td>\n",
              "      <td>3</td>\n",
              "      <td>143</td>\n",
              "      <td>22</td>\n",
              "      <td>0</td>\n",
              "      <td>0</td>\n",
              "      <td>137</td>\n",
              "      <td>0</td>\n",
              "      <td>3</td>\n",
              "      <td>NaN</td>\n",
              "    </tr>\n",
              "    <tr>\n",
              "      <th>84</th>\n",
              "      <td>9</td>\n",
              "      <td>2020-07-03</td>\n",
              "      <td>848</td>\n",
              "      <td>349</td>\n",
              "      <td>41</td>\n",
              "      <td>155</td>\n",
              "      <td>18</td>\n",
              "      <td>13</td>\n",
              "      <td>20</td>\n",
              "      <td>32</td>\n",
              "      <td>4</td>\n",
              "      <td>143</td>\n",
              "      <td>25</td>\n",
              "      <td>0</td>\n",
              "      <td>0</td>\n",
              "      <td>137</td>\n",
              "      <td>0</td>\n",
              "      <td>3</td>\n",
              "      <td>NaN</td>\n",
              "    </tr>\n",
              "    <tr>\n",
              "      <th>85</th>\n",
              "      <td>8</td>\n",
              "      <td>2020-07-02</td>\n",
              "      <td>848</td>\n",
              "      <td>358</td>\n",
              "      <td>42</td>\n",
              "      <td>155</td>\n",
              "      <td>14</td>\n",
              "      <td>14</td>\n",
              "      <td>18</td>\n",
              "      <td>32</td>\n",
              "      <td>4</td>\n",
              "      <td>143</td>\n",
              "      <td>25</td>\n",
              "      <td>0</td>\n",
              "      <td>0</td>\n",
              "      <td>137</td>\n",
              "      <td>0</td>\n",
              "      <td>3</td>\n",
              "      <td>NaN</td>\n",
              "    </tr>\n",
              "    <tr>\n",
              "      <th>86</th>\n",
              "      <td>7</td>\n",
              "      <td>2020-07-01</td>\n",
              "      <td>848</td>\n",
              "      <td>386</td>\n",
              "      <td>45</td>\n",
              "      <td>155</td>\n",
              "      <td>12</td>\n",
              "      <td>12</td>\n",
              "      <td>15</td>\n",
              "      <td>32</td>\n",
              "      <td>2</td>\n",
              "      <td>143</td>\n",
              "      <td>24</td>\n",
              "      <td>0</td>\n",
              "      <td>0</td>\n",
              "      <td>137</td>\n",
              "      <td>0</td>\n",
              "      <td>3</td>\n",
              "      <td>NaN</td>\n",
              "    </tr>\n",
              "    <tr>\n",
              "      <th>87</th>\n",
              "      <td>1</td>\n",
              "      <td>2020-06-30</td>\n",
              "      <td>848</td>\n",
              "      <td>347</td>\n",
              "      <td>40</td>\n",
              "      <td>155</td>\n",
              "      <td>15</td>\n",
              "      <td>10</td>\n",
              "      <td>16</td>\n",
              "      <td>32</td>\n",
              "      <td>1</td>\n",
              "      <td>143</td>\n",
              "      <td>23</td>\n",
              "      <td>0</td>\n",
              "      <td>0</td>\n",
              "      <td>137</td>\n",
              "      <td>0</td>\n",
              "      <td>3</td>\n",
              "      <td>NaN</td>\n",
              "    </tr>\n",
              "  </tbody>\n",
              "</table>\n",
              "<p>88 rows × 19 columns</p>\n",
              "</div>\n",
              "      <button class=\"colab-df-convert\" onclick=\"convertToInteractive('df-d48392fb-d888-4f14-aa5c-24236f5af20d')\"\n",
              "              title=\"Convert this dataframe to an interactive table.\"\n",
              "              style=\"display:none;\">\n",
              "        \n",
              "  <svg xmlns=\"http://www.w3.org/2000/svg\" height=\"24px\"viewBox=\"0 0 24 24\"\n",
              "       width=\"24px\">\n",
              "    <path d=\"M0 0h24v24H0V0z\" fill=\"none\"/>\n",
              "    <path d=\"M18.56 5.44l.94 2.06.94-2.06 2.06-.94-2.06-.94-.94-2.06-.94 2.06-2.06.94zm-11 1L8.5 8.5l.94-2.06 2.06-.94-2.06-.94L8.5 2.5l-.94 2.06-2.06.94zm10 10l.94 2.06.94-2.06 2.06-.94-2.06-.94-.94-2.06-.94 2.06-2.06.94z\"/><path d=\"M17.41 7.96l-1.37-1.37c-.4-.4-.92-.59-1.43-.59-.52 0-1.04.2-1.43.59L10.3 9.45l-7.72 7.72c-.78.78-.78 2.05 0 2.83L4 21.41c.39.39.9.59 1.41.59.51 0 1.02-.2 1.41-.59l7.78-7.78 2.81-2.81c.8-.78.8-2.07 0-2.86zM5.41 20L4 18.59l7.72-7.72 1.47 1.35L5.41 20z\"/>\n",
              "  </svg>\n",
              "      </button>\n",
              "      \n",
              "  <style>\n",
              "    .colab-df-container {\n",
              "      display:flex;\n",
              "      flex-wrap:wrap;\n",
              "      gap: 12px;\n",
              "    }\n",
              "\n",
              "    .colab-df-convert {\n",
              "      background-color: #E8F0FE;\n",
              "      border: none;\n",
              "      border-radius: 50%;\n",
              "      cursor: pointer;\n",
              "      display: none;\n",
              "      fill: #1967D2;\n",
              "      height: 32px;\n",
              "      padding: 0 0 0 0;\n",
              "      width: 32px;\n",
              "    }\n",
              "\n",
              "    .colab-df-convert:hover {\n",
              "      background-color: #E2EBFA;\n",
              "      box-shadow: 0px 1px 2px rgba(60, 64, 67, 0.3), 0px 1px 3px 1px rgba(60, 64, 67, 0.15);\n",
              "      fill: #174EA6;\n",
              "    }\n",
              "\n",
              "    [theme=dark] .colab-df-convert {\n",
              "      background-color: #3B4455;\n",
              "      fill: #D2E3FC;\n",
              "    }\n",
              "\n",
              "    [theme=dark] .colab-df-convert:hover {\n",
              "      background-color: #434B5C;\n",
              "      box-shadow: 0px 1px 3px 1px rgba(0, 0, 0, 0.15);\n",
              "      filter: drop-shadow(0px 1px 2px rgba(0, 0, 0, 0.3));\n",
              "      fill: #FFFFFF;\n",
              "    }\n",
              "  </style>\n",
              "\n",
              "      <script>\n",
              "        const buttonEl =\n",
              "          document.querySelector('#df-d48392fb-d888-4f14-aa5c-24236f5af20d button.colab-df-convert');\n",
              "        buttonEl.style.display =\n",
              "          google.colab.kernel.accessAllowed ? 'block' : 'none';\n",
              "\n",
              "        async function convertToInteractive(key) {\n",
              "          const element = document.querySelector('#df-d48392fb-d888-4f14-aa5c-24236f5af20d');\n",
              "          const dataTable =\n",
              "            await google.colab.kernel.invokeFunction('convertToInteractive',\n",
              "                                                     [key], {});\n",
              "          if (!dataTable) return;\n",
              "\n",
              "          const docLinkHtml = 'Like what you see? Visit the ' +\n",
              "            '<a target=\"_blank\" href=https://colab.research.google.com/notebooks/data_table.ipynb>data table notebook</a>'\n",
              "            + ' to learn more about interactive tables.';\n",
              "          element.innerHTML = '';\n",
              "          dataTable['output_type'] = 'display_data';\n",
              "          await google.colab.output.renderOutput(dataTable, element);\n",
              "          const docLink = document.createElement('div');\n",
              "          docLink.innerHTML = docLinkHtml;\n",
              "          element.appendChild(docLink);\n",
              "        }\n",
              "      </script>\n",
              "    </div>\n",
              "  </div>\n",
              "  "
            ]
          },
          "metadata": {},
          "execution_count": 116
        }
      ]
    },
    {
      "cell_type": "markdown",
      "source": [
        "Muestro los histogramas de las variables:"
      ],
      "metadata": {
        "id": "5etsNucUAGmy"
      }
    },
    {
      "cell_type": "code",
      "source": [
        "plt.title('total_camas_hospitales')\n",
        "plt.hist(df2['total_camas_hospitales'], bins='auto')"
      ],
      "metadata": {
        "colab": {
          "base_uri": "https://localhost:8080/",
          "height": 350
        },
        "id": "znr3cRrqAKjD",
        "outputId": "758fd51e-ae68-492d-8744-e196b3acd0d6"
      },
      "execution_count": 117,
      "outputs": [
        {
          "output_type": "execute_result",
          "data": {
            "text/plain": [
              "(array([ 3.,  0.,  0.,  0.,  0.,  0.,  1., 84.]),\n",
              " array([  0.   , 106.375, 212.75 , 319.125, 425.5  , 531.875, 638.25 ,\n",
              "        744.625, 851.   ]),\n",
              " <a list of 8 Patch objects>)"
            ]
          },
          "metadata": {},
          "execution_count": 117
        },
        {
          "output_type": "display_data",
          "data": {
            "text/plain": [
              "<Figure size 432x288 with 1 Axes>"
            ],
            "image/png": "[encoded data removed]"
          },
          "metadata": {
            "needs_background": "light"
          }
        }
      ]
    },
    {
      "cell_type": "code",
      "source": [
        "plt.title('camas_ocupadas_hospitales')\n",
        "plt.hist(df2['camas_ocupadas_hospitales'], bins='auto')"
      ],
      "metadata": {
        "colab": {
          "base_uri": "https://localhost:8080/",
          "height": 385
        },
        "id": "aESlnLd0ANQA",
        "outputId": "a1acf56f-cf04-414c-850d-eee5a4a561f5"
      },
      "execution_count": 118,
      "outputs": [
        {
          "output_type": "execute_result",
          "data": {
            "text/plain": [
              "(array([ 3.,  0.,  0.,  0.,  0.,  0.,  0.,  0.,  0.,  1., 12., 10., 15.,\n",
              "        28., 14.,  5.]),\n",
              " array([  0.   ,  28.125,  56.25 ,  84.375, 112.5  , 140.625, 168.75 ,\n",
              "        196.875, 225.   , 253.125, 281.25 , 309.375, 337.5  , 365.625,\n",
              "        393.75 , 421.875, 450.   ]),\n",
              " <a list of 16 Patch objects>)"
            ]
          },
          "metadata": {},
          "execution_count": 118
        },
        {
          "output_type": "display_data",
          "data": {
            "text/plain": [
              "<Figure size 432x288 with 1 Axes>"
            ],
            "image/png": "[encoded data removed]"
          },
          "metadata": {
            "needs_background": "light"
          }
        }
      ]
    },
    {
      "cell_type": "code",
      "source": [
        "plt.title('porcentaje_ocupacion_camas_hospitales')\n",
        "plt.hist(df2['porcentaje_ocupacion_camas_hospitales'], bins='auto')"
      ],
      "metadata": {
        "colab": {
          "base_uri": "https://localhost:8080/",
          "height": 403
        },
        "id": "1oYsHkShANfT",
        "outputId": "9141d5cf-e2a7-4135-a00b-fff56f10e6b5"
      },
      "execution_count": 119,
      "outputs": [
        {
          "output_type": "execute_result",
          "data": {
            "text/plain": [
              "(array([ 3.,  0.,  0.,  0.,  0.,  0.,  0.,  0.,  0.,  9., 11., 17., 25.,\n",
              "        18.,  5.]),\n",
              " array([ 0.        ,  3.53333333,  7.06666667, 10.6       , 14.13333333,\n",
              "        17.66666667, 21.2       , 24.73333333, 28.26666667, 31.8       ,\n",
              "        35.33333333, 38.86666667, 42.4       , 45.93333333, 49.46666667,\n",
              "        53.        ]),\n",
              " <a list of 15 Patch objects>)"
            ]
          },
          "metadata": {},
          "execution_count": 119
        },
        {
          "output_type": "display_data",
          "data": {
            "text/plain": [
              "<Figure size 432x288 with 1 Axes>"
            ],
            "image/png": "[encoded data removed]"
          },
          "metadata": {
            "needs_background": "light"
          }
        }
      ]
    },
    {
      "cell_type": "code",
      "source": [
        "plt.title('camas_covid')\n",
        "plt.hist(df2['camas_covid'], bins='auto')"
      ],
      "metadata": {
        "colab": {
          "base_uri": "https://localhost:8080/",
          "height": 350
        },
        "id": "A9CRlDafAN6g",
        "outputId": "27c4b342-0893-4c38-c4f3-2f552503cf1c"
      },
      "execution_count": 120,
      "outputs": [
        {
          "output_type": "execute_result",
          "data": {
            "text/plain": [
              "(array([ 1.,  0.,  0.,  0.,  0.,  1.,  0., 86.]),\n",
              " array([  0.   ,  22.125,  44.25 ,  66.375,  88.5  , 110.625, 132.75 ,\n",
              "        154.875, 177.   ]),\n",
              " <a list of 8 Patch objects>)"
            ]
          },
          "metadata": {},
          "execution_count": 120
        },
        {
          "output_type": "display_data",
          "data": {
            "text/plain": [
              "<Figure size 432x288 with 1 Axes>"
            ],
            "image/png": "[encoded data removed]"
          },
          "metadata": {
            "needs_background": "light"
          }
        }
      ]
    },
    {
      "cell_type": "code",
      "source": [
        "plt.title('camas_sospechosos_covid')\n",
        "plt.hist(df2['camas_sospechosos_covid'], bins='auto')"
      ],
      "metadata": {
        "colab": {
          "base_uri": "https://localhost:8080/",
          "height": 368
        },
        "id": "sa3MSVPnAOJK",
        "outputId": "0fe806ae-1f15-406e-fbf9-875bd10a3c8d"
      },
      "execution_count": 121,
      "outputs": [
        {
          "output_type": "execute_result",
          "data": {
            "text/plain": [
              "(array([ 1.,  0.,  1.,  8., 19., 20., 15., 11.,  5.,  4.,  3.,  0.,  1.]),\n",
              " array([ 0.        ,  3.23076923,  6.46153846,  9.69230769, 12.92307692,\n",
              "        16.15384615, 19.38461538, 22.61538462, 25.84615385, 29.07692308,\n",
              "        32.30769231, 35.53846154, 38.76923077, 42.        ]),\n",
              " <a list of 13 Patch objects>)"
            ]
          },
          "metadata": {},
          "execution_count": 121
        },
        {
          "output_type": "display_data",
          "data": {
            "text/plain": [
              "<Figure size 432x288 with 1 Axes>"
            ],
            "image/png": "[encoded data removed]"
          },
          "metadata": {
            "needs_background": "light"
          }
        }
      ]
    },
    {
      "cell_type": "code",
      "source": [
        "plt.title('camas_confirmados_covid')\n",
        "plt.hist(df2['camas_confirmados_covid'], bins='auto')"
      ],
      "metadata": {
        "colab": {
          "base_uri": "https://localhost:8080/",
          "height": 333
        },
        "id": "_MlAGpkpAOWv",
        "outputId": "f4e61ec6-797a-4cb7-9c79-14284dc2b561"
      },
      "execution_count": 122,
      "outputs": [
        {
          "output_type": "execute_result",
          "data": {
            "text/plain": [
              "(array([ 2., 26., 31.,  2.,  6.,  9.,  6.,  6.]),\n",
              " array([ 0.  , 10.75, 21.5 , 32.25, 43.  , 53.75, 64.5 , 75.25, 86.  ]),\n",
              " <a list of 8 Patch objects>)"
            ]
          },
          "metadata": {},
          "execution_count": 122
        },
        {
          "output_type": "display_data",
          "data": {
            "text/plain": [
              "<Figure size 432x288 with 1 Axes>"
            ],
            "image/png": "[encoded data removed]"
          },
          "metadata": {
            "needs_background": "light"
          }
        }
      ]
    },
    {
      "cell_type": "code",
      "source": [
        "plt.title('porcentaje_ocupacion_camas_covid')\n",
        "plt.hist(df2['porcentaje_ocupacion_camas_covid'], bins='auto')"
      ],
      "metadata": {
        "colab": {
          "base_uri": "https://localhost:8080/",
          "height": 350
        },
        "id": "gg1wm_LJAOkn",
        "outputId": "d34f22e5-0ba9-4480-b232-5665fcb65012"
      },
      "execution_count": 123,
      "outputs": [
        {
          "output_type": "execute_result",
          "data": {
            "text/plain": [
              "(array([ 1., 11., 38., 11., 12.,  7.,  4.,  4.]),\n",
              " array([ 0.   ,  9.625, 19.25 , 28.875, 38.5  , 48.125, 57.75 , 67.375,\n",
              "        77.   ]),\n",
              " <a list of 8 Patch objects>)"
            ]
          },
          "metadata": {},
          "execution_count": 123
        },
        {
          "output_type": "display_data",
          "data": {
            "text/plain": [
              "<Figure size 432x288 with 1 Axes>"
            ],
            "image/png": "[encoded data removed]"
          },
          "metadata": {
            "needs_background": "light"
          }
        }
      ]
    },
    {
      "cell_type": "code",
      "source": [
        "plt.title('uti_covid_totales')\n",
        "plt.hist(df2['uti_covid_totales'], bins='auto')"
      ],
      "metadata": {
        "colab": {
          "base_uri": "https://localhost:8080/",
          "height": 333
        },
        "id": "EQ0AzPz8AO_s",
        "outputId": "fe2ddf2e-8f9b-4e0d-df56-eb5141a9eb25"
      },
      "execution_count": 124,
      "outputs": [
        {
          "output_type": "execute_result",
          "data": {
            "text/plain": [
              "(array([ 3.,  0.,  0.,  0.,  0.,  0.,  7., 78.]),\n",
              " array([23.  , 24.25, 25.5 , 26.75, 28.  , 29.25, 30.5 , 31.75, 33.  ]),\n",
              " <a list of 8 Patch objects>)"
            ]
          },
          "metadata": {},
          "execution_count": 124
        },
        {
          "output_type": "display_data",
          "data": {
            "text/plain": [
              "<Figure size 432x288 with 1 Axes>"
            ],
            "image/png": "[encoded data removed]"
          },
          "metadata": {
            "needs_background": "light"
          }
        }
      ]
    },
    {
      "cell_type": "code",
      "source": [
        "plt.title('uti_covid_ocupadas')\n",
        "plt.hist(df2['uti_covid_ocupadas'], bins='auto')"
      ],
      "metadata": {
        "colab": {
          "base_uri": "https://localhost:8080/",
          "height": 333
        },
        "id": "WDSYKebiAPLd",
        "outputId": "f1867e8a-b767-4927-e734-b28aa4e7d388"
      },
      "execution_count": 125,
      "outputs": [
        {
          "output_type": "execute_result",
          "data": {
            "text/plain": [
              "(array([15., 34., 10.,  3.,  8.,  4.,  5.,  9.]),\n",
              " array([ 0.,  3.,  6.,  9., 12., 15., 18., 21., 24.]),\n",
              " <a list of 8 Patch objects>)"
            ]
          },
          "metadata": {},
          "execution_count": 125
        },
        {
          "output_type": "display_data",
          "data": {
            "text/plain": [
              "<Figure size 432x288 with 1 Axes>"
            ],
            "image/png": "[encoded data removed]"
          },
          "metadata": {
            "needs_background": "light"
          }
        }
      ]
    },
    {
      "cell_type": "code",
      "source": [
        "plt.title('respiradores_totales')\n",
        "plt.hist(df2['respiradores_totales'], bins='auto')"
      ],
      "metadata": {
        "colab": {
          "base_uri": "https://localhost:8080/",
          "height": 350
        },
        "id": "sMK6D1L7APXD",
        "outputId": "9dee93ec-ece1-4ea0-c5d8-fd6d469aac96"
      },
      "execution_count": 126,
      "outputs": [
        {
          "output_type": "execute_result",
          "data": {
            "text/plain": [
              "(array([ 3.,  0.,  0.,  0.,  0.,  0.,  1., 84.]),\n",
              " array([  0.   ,  17.875,  35.75 ,  53.625,  71.5  ,  89.375, 107.25 ,\n",
              "        125.125, 143.   ]),\n",
              " <a list of 8 Patch objects>)"
            ]
          },
          "metadata": {},
          "execution_count": 126
        },
        {
          "output_type": "display_data",
          "data": {
            "text/plain": [
              "<Figure size 432x288 with 1 Axes>"
            ],
            "image/png": "[encoded data removed]"
          },
          "metadata": {
            "needs_background": "light"
          }
        }
      ]
    },
    {
      "cell_type": "code",
      "source": [
        "plt.title('respiradores_ocupados')\n",
        "plt.hist(df2['respiradores_ocupados'], bins='auto')"
      ],
      "metadata": {
        "colab": {
          "base_uri": "https://localhost:8080/",
          "height": 368
        },
        "id": "xubchF6EAPuy",
        "outputId": "793bcf9a-6871-48b1-dcce-b6982be34d0f"
      },
      "execution_count": 127,
      "outputs": [
        {
          "output_type": "execute_result",
          "data": {
            "text/plain": [
              "(array([ 3.,  1.,  0.,  1., 12., 11., 24., 17.,  7.,  2.,  5.,  5.]),\n",
              " array([ 0.        ,  3.58333333,  7.16666667, 10.75      , 14.33333333,\n",
              "        17.91666667, 21.5       , 25.08333333, 28.66666667, 32.25      ,\n",
              "        35.83333333, 39.41666667, 43.        ]),\n",
              " <a list of 12 Patch objects>)"
            ]
          },
          "metadata": {},
          "execution_count": 127
        },
        {
          "output_type": "display_data",
          "data": {
            "text/plain": [
              "<Figure size 432x288 with 1 Axes>"
            ],
            "image/png": "[encoded data removed]"
          },
          "metadata": {
            "needs_background": "light"
          }
        }
      ]
    },
    {
      "cell_type": "code",
      "source": [
        "plt.title('respiradores_covid_totales')\n",
        "plt.hist(df2['respiradores_covid_totales'], bins='auto')"
      ],
      "metadata": {
        "colab": {
          "base_uri": "https://localhost:8080/",
          "height": 333
        },
        "id": "kIWVVjiEAzbk",
        "outputId": "e253c67f-c1d7-49d8-c779-e3634cbf146b"
      },
      "execution_count": 128,
      "outputs": [
        {
          "output_type": "execute_result",
          "data": {
            "text/plain": [
              "(array([26.,  0.,  0.,  0., 13.,  4., 24., 21.]),\n",
              " array([ 0.,  9., 18., 27., 36., 45., 54., 63., 72.]),\n",
              " <a list of 8 Patch objects>)"
            ]
          },
          "metadata": {},
          "execution_count": 128
        },
        {
          "output_type": "display_data",
          "data": {
            "text/plain": [
              "<Figure size 432x288 with 1 Axes>"
            ],
            "image/png": "[encoded data removed]"
          },
          "metadata": {
            "needs_background": "light"
          }
        }
      ]
    },
    {
      "cell_type": "code",
      "source": [
        "plt.title('respiradores_covid_ocupados')\n",
        "plt.hist(df2['respiradores_covid_ocupados'], bins='auto')"
      ],
      "metadata": {
        "colab": {
          "base_uri": "https://localhost:8080/",
          "height": 350
        },
        "id": "v0j0RvWNAzqc",
        "outputId": "c72478ef-fdc2-4be1-b537-d5ba09bda0bf"
      },
      "execution_count": 129,
      "outputs": [
        {
          "output_type": "execute_result",
          "data": {
            "text/plain": [
              "(array([29., 13., 10., 11.,  6.,  7.,  7.,  5.]),\n",
              " array([ 0.   ,  3.125,  6.25 ,  9.375, 12.5  , 15.625, 18.75 , 21.875,\n",
              "        25.   ]),\n",
              " <a list of 8 Patch objects>)"
            ]
          },
          "metadata": {},
          "execution_count": 129
        },
        {
          "output_type": "display_data",
          "data": {
            "text/plain": [
              "<Figure size 432x288 with 1 Axes>"
            ],
            "image/png": "[encoded data removed]"
          },
          "metadata": {
            "needs_background": "light"
          }
        }
      ]
    },
    {
      "cell_type": "code",
      "source": [
        "plt.title('total_camas_ucma')\n",
        "plt.hist(df2['total_camas_ucma'], bins='auto')"
      ],
      "metadata": {
        "colab": {
          "base_uri": "https://localhost:8080/",
          "height": 350
        },
        "id": "H9ufJRMcAz1a",
        "outputId": "5cb32ac6-a176-426a-cb3c-e6abb49c7d21"
      },
      "execution_count": 130,
      "outputs": [
        {
          "output_type": "execute_result",
          "data": {
            "text/plain": [
              "(array([25.,  0.,  0.,  0.,  0.,  0.,  0., 63.]),\n",
              " array([137.  , 138.25, 139.5 , 140.75, 142.  , 143.25, 144.5 , 145.75,\n",
              "        147.  ]),\n",
              " <a list of 8 Patch objects>)"
            ]
          },
          "metadata": {},
          "execution_count": 130
        },
        {
          "output_type": "display_data",
          "data": {
            "text/plain": [
              "<Figure size 432x288 with 1 Axes>"
            ],
            "image/png": "[encoded data removed]"
          },
          "metadata": {
            "needs_background": "light"
          }
        }
      ]
    },
    {
      "cell_type": "code",
      "source": [
        "plt.title('total_camas_ocupadas_ucma')\n",
        "plt.hist(df2['total_camas_ocupadas_ucma'], bins='auto')"
      ],
      "metadata": {
        "colab": {
          "base_uri": "https://localhost:8080/",
          "height": 385
        },
        "id": "oZXp-8gTA0Cf",
        "outputId": "52858c70-610d-4a0a-923f-3f06e3cb2633"
      },
      "execution_count": 131,
      "outputs": [
        {
          "output_type": "execute_result",
          "data": {
            "text/plain": [
              "(array([13.,  7., 15., 26.,  7.,  3.,  6.,  3.,  1.,  1.,  0.,  2.,  1.,\n",
              "         0.,  2.,  1.]),\n",
              " array([ 0.    ,  1.3125,  2.625 ,  3.9375,  5.25  ,  6.5625,  7.875 ,\n",
              "         9.1875, 10.5   , 11.8125, 13.125 , 14.4375, 15.75  , 17.0625,\n",
              "        18.375 , 19.6875, 21.    ]),\n",
              " <a list of 16 Patch objects>)"
            ]
          },
          "metadata": {},
          "execution_count": 131
        },
        {
          "output_type": "display_data",
          "data": {
            "text/plain": [
              "<Figure size 432x288 with 1 Axes>"
            ],
            "image/png": "[encoded data removed]"
          },
          "metadata": {
            "needs_background": "light"
          }
        }
      ]
    },
    {
      "cell_type": "code",
      "source": [
        "plt.title('sedes_ucma')\n",
        "plt.hist(df2['sedes_ucma'], bins='auto')"
      ],
      "metadata": {
        "colab": {
          "base_uri": "https://localhost:8080/",
          "height": 333
        },
        "id": "jqDXjM4LA0NV",
        "outputId": "ea1d4625-328a-431c-f054-80fd101ff189"
      },
      "execution_count": 132,
      "outputs": [
        {
          "output_type": "execute_result",
          "data": {
            "text/plain": [
              "(array([25.,  0.,  0.,  0.,  0.,  0.,  0., 63.]),\n",
              " array([3.   , 3.125, 3.25 , 3.375, 3.5  , 3.625, 3.75 , 3.875, 4.   ]),\n",
              " <a list of 8 Patch objects>)"
            ]
          },
          "metadata": {},
          "execution_count": 132
        },
        {
          "output_type": "display_data",
          "data": {
            "text/plain": [
              "<Figure size 432x288 with 1 Axes>"
            ],
            "image/png": "[encoded data removed]"
          },
          "metadata": {
            "needs_background": "light"
          }
        }
      ]
    },
    {
      "cell_type": "markdown",
      "source": [
        "En este dataset se puede ver que hay mas distribuciones aparentemente normales que en el anterior. Igualmente sigue habiendo muchas con distribuciones raras"
      ],
      "metadata": {
        "id": "mXn_UECCCYu-"
      }
    }
  ]
}