{
  "nbformat": 4,
  "nbformat_minor": 0,
  "metadata": {
    "colab": {
      "name": "Untitled2.ipynb",
      "provenance": [],
      "authorship_tag": "ABX9TyMUich9H6kr8+r9LD0JZO/h",
      "include_colab_link": true
    },
    "kernelspec": {
      "name": "python3",
      "display_name": "Python 3"
    },
    "language_info": {
      "name": "python"
    }
  },
  "cells": [
    {
      "cell_type": "markdown",
      "metadata": {
        "id": "view-in-github",
        "colab_type": "text"
      },
      "source": [
        "<a href=\"https://colab.research.google.com/github/FaragoFa/Materia-de-aprendizaje/blob/master/ML3-Canciones.ipynb\" target=\"_parent\"><img src=\"https://colab.research.google.com/assets/colab-badge.svg\" alt=\"Open In Colab\"/></a>"
      ]
    },
    {
      "cell_type": "markdown",
      "source": [
        "Cargo el dataset de canciones"
      ],
      "metadata": {
        "id": "IqvikJaFsH8b"
      }
    },
    {
      "cell_type": "code",
      "execution_count": 515,
      "metadata": {
        "colab": {
          "base_uri": "https://localhost:8080/",
          "height": 424
        },
        "id": "OkQzWAHtr1LV",
        "outputId": "f1714711-e40a-4d50-a5fb-71d66ae1e965"
      },
      "outputs": [
        {
          "output_type": "execute_result",
          "data": {
            "text/plain": [
              "      Unnamed: 0  acousticness  danceability  duration_ms  energy  \\\n",
              "0              0       0.01020         0.833       204600   0.434   \n",
              "1              1       0.19900         0.743       326933   0.359   \n",
              "2              2       0.03440         0.838       185707   0.412   \n",
              "3              3       0.60400         0.494       199413   0.338   \n",
              "4              4       0.18000         0.678       392893   0.561   \n",
              "...          ...           ...           ...          ...     ...   \n",
              "2012        2012       0.00106         0.584       274404   0.932   \n",
              "2013        2013       0.08770         0.894       182182   0.892   \n",
              "2014        2014       0.00857         0.637       207200   0.935   \n",
              "2015        2015       0.00164         0.557       185600   0.992   \n",
              "2016        2016       0.00281         0.446       204520   0.915   \n",
              "\n",
              "      instrumentalness  key  liveness  loudness  mode  speechiness    tempo  \\\n",
              "0             0.021900    2    0.1650    -8.795     1       0.4310  150.062   \n",
              "1             0.006110    1    0.1370   -10.401     1       0.0794  160.083   \n",
              "2             0.000234    2    0.1590    -7.148     1       0.2890   75.044   \n",
              "3             0.510000    5    0.0922   -15.236     1       0.0261   86.468   \n",
              "4             0.512000    5    0.4390   -11.648     0       0.0694  174.004   \n",
              "...                ...  ...       ...       ...   ...          ...      ...   \n",
              "2012          0.002690    1    0.1290    -3.501     1       0.3330   74.976   \n",
              "2013          0.001670    1    0.0528    -2.663     1       0.1310  110.041   \n",
              "2014          0.003990    0    0.2140    -2.467     1       0.1070  150.082   \n",
              "2015          0.677000    1    0.0913    -2.735     1       0.1330  150.011   \n",
              "2016          0.000039    9    0.2180    -6.221     1       0.1410  190.013   \n",
              "\n",
              "      time_signature  valence  target                            song_title  \\\n",
              "0                4.0    0.286       1                              Mask Off   \n",
              "1                4.0    0.588       1                               Redbone   \n",
              "2                4.0    0.173       1                          Xanny Family   \n",
              "3                4.0    0.230       1                        Master Of None   \n",
              "4                4.0    0.904       1                        Parallel Lines   \n",
              "...              ...      ...     ...                                   ...   \n",
              "2012             4.0    0.211       0   Like A Bitch - Kill The Noise Remix   \n",
              "2013             4.0    0.867       0                                 Candy   \n",
              "2014             4.0    0.470       0  Habit - Dack Janiels & Wenzday Remix   \n",
              "2015             4.0    0.623       0                         First Contact   \n",
              "2016             4.0    0.402       0                    I Wanna Get Better   \n",
              "\n",
              "                artist  \n",
              "0               Future  \n",
              "1     Childish Gambino  \n",
              "2               Future  \n",
              "3          Beach House  \n",
              "4          Junior Boys  \n",
              "...                ...  \n",
              "2012    Kill The Noise  \n",
              "2013    Dillon Francis  \n",
              "2014          Rain Man  \n",
              "2015        Twin Moons  \n",
              "2016         Bleachers  \n",
              "\n",
              "[2017 rows x 17 columns]"
            ],
            "text/html": [
              "\n",
              "  <div id=\"df-1650e614-83b0-4ed4-9d76-fd479a729201\">\n",
              "    <div class=\"colab-df-container\">\n",
              "      <div>\n",
              "<style scoped>\n",
              "    .dataframe tbody tr th:only-of-type {\n",
              "        vertical-align: middle;\n",
              "    }\n",
              "\n",
              "    .dataframe tbody tr th {\n",
              "        vertical-align: top;\n",
              "    }\n",
              "\n",
              "    .dataframe thead th {\n",
              "        text-align: right;\n",
              "    }\n",
              "</style>\n",
              "<table border=\"1\" class=\"dataframe\">\n",
              "  <thead>\n",
              "    <tr style=\"text-align: right;\">\n",
              "      <th></th>\n",
              "      <th>Unnamed: 0</th>\n",
              "      <th>acousticness</th>\n",
              "      <th>danceability</th>\n",
              "      <th>duration_ms</th>\n",
              "      <th>energy</th>\n",
              "      <th>instrumentalness</th>\n",
              "      <th>key</th>\n",
              "      <th>liveness</th>\n",
              "      <th>loudness</th>\n",
              "      <th>mode</th>\n",
              "      <th>speechiness</th>\n",
              "      <th>tempo</th>\n",
              "      <th>time_signature</th>\n",
              "      <th>valence</th>\n",
              "      <th>target</th>\n",
              "      <th>song_title</th>\n",
              "      <th>artist</th>\n",
              "    </tr>\n",
              "  </thead>\n",
              "  <tbody>\n",
              "    <tr>\n",
              "      <th>0</th>\n",
              "      <td>0</td>\n",
              "      <td>0.01020</td>\n",
              "      <td>0.833</td>\n",
              "      <td>204600</td>\n",
              "      <td>0.434</td>\n",
              "      <td>0.021900</td>\n",
              "      <td>2</td>\n",
              "      <td>0.1650</td>\n",
              "      <td>-8.795</td>\n",
              "      <td>1</td>\n",
              "      <td>0.4310</td>\n",
              "      <td>150.062</td>\n",
              "      <td>4.0</td>\n",
              "      <td>0.286</td>\n",
              "      <td>1</td>\n",
              "      <td>Mask Off</td>\n",
              "      <td>Future</td>\n",
              "    </tr>\n",
              "    <tr>\n",
              "      <th>1</th>\n",
              "      <td>1</td>\n",
              "      <td>0.19900</td>\n",
              "      <td>0.743</td>\n",
              "      <td>326933</td>\n",
              "      <td>0.359</td>\n",
              "      <td>0.006110</td>\n",
              "      <td>1</td>\n",
              "      <td>0.1370</td>\n",
              "      <td>-10.401</td>\n",
              "      <td>1</td>\n",
              "      <td>0.0794</td>\n",
              "      <td>160.083</td>\n",
              "      <td>4.0</td>\n",
              "      <td>0.588</td>\n",
              "      <td>1</td>\n",
              "      <td>Redbone</td>\n",
              "      <td>Childish Gambino</td>\n",
              "    </tr>\n",
              "    <tr>\n",
              "      <th>2</th>\n",
              "      <td>2</td>\n",
              "      <td>0.03440</td>\n",
              "      <td>0.838</td>\n",
              "      <td>185707</td>\n",
              "      <td>0.412</td>\n",
              "      <td>0.000234</td>\n",
              "      <td>2</td>\n",
              "      <td>0.1590</td>\n",
              "      <td>-7.148</td>\n",
              "      <td>1</td>\n",
              "      <td>0.2890</td>\n",
              "      <td>75.044</td>\n",
              "      <td>4.0</td>\n",
              "      <td>0.173</td>\n",
              "      <td>1</td>\n",
              "      <td>Xanny Family</td>\n",
              "      <td>Future</td>\n",
              "    </tr>\n",
              "    <tr>\n",
              "      <th>3</th>\n",
              "      <td>3</td>\n",
              "      <td>0.60400</td>\n",
              "      <td>0.494</td>\n",
              "      <td>199413</td>\n",
              "      <td>0.338</td>\n",
              "      <td>0.510000</td>\n",
              "      <td>5</td>\n",
              "      <td>0.0922</td>\n",
              "      <td>-15.236</td>\n",
              "      <td>1</td>\n",
              "      <td>0.0261</td>\n",
              "      <td>86.468</td>\n",
              "      <td>4.0</td>\n",
              "      <td>0.230</td>\n",
              "      <td>1</td>\n",
              "      <td>Master Of None</td>\n",
              "      <td>Beach House</td>\n",
              "    </tr>\n",
              "    <tr>\n",
              "      <th>4</th>\n",
              "      <td>4</td>\n",
              "      <td>0.18000</td>\n",
              "      <td>0.678</td>\n",
              "      <td>392893</td>\n",
              "      <td>0.561</td>\n",
              "      <td>0.512000</td>\n",
              "      <td>5</td>\n",
              "      <td>0.4390</td>\n",
              "      <td>-11.648</td>\n",
              "      <td>0</td>\n",
              "      <td>0.0694</td>\n",
              "      <td>174.004</td>\n",
              "      <td>4.0</td>\n",
              "      <td>0.904</td>\n",
              "      <td>1</td>\n",
              "      <td>Parallel Lines</td>\n",
              "      <td>Junior Boys</td>\n",
              "    </tr>\n",
              "    <tr>\n",
              "      <th>...</th>\n",
              "      <td>...</td>\n",
              "      <td>...</td>\n",
              "      <td>...</td>\n",
              "      <td>...</td>\n",
              "      <td>...</td>\n",
              "      <td>...</td>\n",
              "      <td>...</td>\n",
              "      <td>...</td>\n",
              "      <td>...</td>\n",
              "      <td>...</td>\n",
              "      <td>...</td>\n",
              "      <td>...</td>\n",
              "      <td>...</td>\n",
              "      <td>...</td>\n",
              "      <td>...</td>\n",
              "      <td>...</td>\n",
              "      <td>...</td>\n",
              "    </tr>\n",
              "    <tr>\n",
              "      <th>2012</th>\n",
              "      <td>2012</td>\n",
              "      <td>0.00106</td>\n",
              "      <td>0.584</td>\n",
              "      <td>274404</td>\n",
              "      <td>0.932</td>\n",
              "      <td>0.002690</td>\n",
              "      <td>1</td>\n",
              "      <td>0.1290</td>\n",
              "      <td>-3.501</td>\n",
              "      <td>1</td>\n",
              "      <td>0.3330</td>\n",
              "      <td>74.976</td>\n",
              "      <td>4.0</td>\n",
              "      <td>0.211</td>\n",
              "      <td>0</td>\n",
              "      <td>Like A Bitch - Kill The Noise Remix</td>\n",
              "      <td>Kill The Noise</td>\n",
              "    </tr>\n",
              "    <tr>\n",
              "      <th>2013</th>\n",
              "      <td>2013</td>\n",
              "      <td>0.08770</td>\n",
              "      <td>0.894</td>\n",
              "      <td>182182</td>\n",
              "      <td>0.892</td>\n",
              "      <td>0.001670</td>\n",
              "      <td>1</td>\n",
              "      <td>0.0528</td>\n",
              "      <td>-2.663</td>\n",
              "      <td>1</td>\n",
              "      <td>0.1310</td>\n",
              "      <td>110.041</td>\n",
              "      <td>4.0</td>\n",
              "      <td>0.867</td>\n",
              "      <td>0</td>\n",
              "      <td>Candy</td>\n",
              "      <td>Dillon Francis</td>\n",
              "    </tr>\n",
              "    <tr>\n",
              "      <th>2014</th>\n",
              "      <td>2014</td>\n",
              "      <td>0.00857</td>\n",
              "      <td>0.637</td>\n",
              "      <td>207200</td>\n",
              "      <td>0.935</td>\n",
              "      <td>0.003990</td>\n",
              "      <td>0</td>\n",
              "      <td>0.2140</td>\n",
              "      <td>-2.467</td>\n",
              "      <td>1</td>\n",
              "      <td>0.1070</td>\n",
              "      <td>150.082</td>\n",
              "      <td>4.0</td>\n",
              "      <td>0.470</td>\n",
              "      <td>0</td>\n",
              "      <td>Habit - Dack Janiels &amp; Wenzday Remix</td>\n",
              "      <td>Rain Man</td>\n",
              "    </tr>\n",
              "    <tr>\n",
              "      <th>2015</th>\n",
              "      <td>2015</td>\n",
              "      <td>0.00164</td>\n",
              "      <td>0.557</td>\n",
              "      <td>185600</td>\n",
              "      <td>0.992</td>\n",
              "      <td>0.677000</td>\n",
              "      <td>1</td>\n",
              "      <td>0.0913</td>\n",
              "      <td>-2.735</td>\n",
              "      <td>1</td>\n",
              "      <td>0.1330</td>\n",
              "      <td>150.011</td>\n",
              "      <td>4.0</td>\n",
              "      <td>0.623</td>\n",
              "      <td>0</td>\n",
              "      <td>First Contact</td>\n",
              "      <td>Twin Moons</td>\n",
              "    </tr>\n",
              "    <tr>\n",
              "      <th>2016</th>\n",
              "      <td>2016</td>\n",
              "      <td>0.00281</td>\n",
              "      <td>0.446</td>\n",
              "      <td>204520</td>\n",
              "      <td>0.915</td>\n",
              "      <td>0.000039</td>\n",
              "      <td>9</td>\n",
              "      <td>0.2180</td>\n",
              "      <td>-6.221</td>\n",
              "      <td>1</td>\n",
              "      <td>0.1410</td>\n",
              "      <td>190.013</td>\n",
              "      <td>4.0</td>\n",
              "      <td>0.402</td>\n",
              "      <td>0</td>\n",
              "      <td>I Wanna Get Better</td>\n",
              "      <td>Bleachers</td>\n",
              "    </tr>\n",
              "  </tbody>\n",
              "</table>\n",
              "<p>2017 rows × 17 columns</p>\n",
              "</div>\n",
              "      <button class=\"colab-df-convert\" onclick=\"convertToInteractive('df-1650e614-83b0-4ed4-9d76-fd479a729201')\"\n",
              "              title=\"Convert this dataframe to an interactive table.\"\n",
              "              style=\"display:none;\">\n",
              "        \n",
              "  <svg xmlns=\"http://www.w3.org/2000/svg\" height=\"24px\"viewBox=\"0 0 24 24\"\n",
              "       width=\"24px\">\n",
              "    <path d=\"M0 0h24v24H0V0z\" fill=\"none\"/>\n",
              "    <path d=\"M18.56 5.44l.94 2.06.94-2.06 2.06-.94-2.06-.94-.94-2.06-.94 2.06-2.06.94zm-11 1L8.5 8.5l.94-2.06 2.06-.94-2.06-.94L8.5 2.5l-.94 2.06-2.06.94zm10 10l.94 2.06.94-2.06 2.06-.94-2.06-.94-.94-2.06-.94 2.06-2.06.94z\"/><path d=\"M17.41 7.96l-1.37-1.37c-.4-.4-.92-.59-1.43-.59-.52 0-1.04.2-1.43.59L10.3 9.45l-7.72 7.72c-.78.78-.78 2.05 0 2.83L4 21.41c.39.39.9.59 1.41.59.51 0 1.02-.2 1.41-.59l7.78-7.78 2.81-2.81c.8-.78.8-2.07 0-2.86zM5.41 20L4 18.59l7.72-7.72 1.47 1.35L5.41 20z\"/>\n",
              "  </svg>\n",
              "      </button>\n",
              "      \n",
              "  <style>\n",
              "    .colab-df-container {\n",
              "      display:flex;\n",
              "      flex-wrap:wrap;\n",
              "      gap: 12px;\n",
              "    }\n",
              "\n",
              "    .colab-df-convert {\n",
              "      background-color: #E8F0FE;\n",
              "      border: none;\n",
              "      border-radius: 50%;\n",
              "      cursor: pointer;\n",
              "      display: none;\n",
              "      fill: #1967D2;\n",
              "      height: 32px;\n",
              "      padding: 0 0 0 0;\n",
              "      width: 32px;\n",
              "    }\n",
              "\n",
              "    .colab-df-convert:hover {\n",
              "      background-color: #E2EBFA;\n",
              "      box-shadow: 0px 1px 2px rgba(60, 64, 67, 0.3), 0px 1px 3px 1px rgba(60, 64, 67, 0.15);\n",
              "      fill: #174EA6;\n",
              "    }\n",
              "\n",
              "    [theme=dark] .colab-df-convert {\n",
              "      background-color: #3B4455;\n",
              "      fill: #D2E3FC;\n",
              "    }\n",
              "\n",
              "    [theme=dark] .colab-df-convert:hover {\n",
              "      background-color: #434B5C;\n",
              "      box-shadow: 0px 1px 3px 1px rgba(0, 0, 0, 0.15);\n",
              "      filter: drop-shadow(0px 1px 2px rgba(0, 0, 0, 0.3));\n",
              "      fill: #FFFFFF;\n",
              "    }\n",
              "  </style>\n",
              "\n",
              "      <script>\n",
              "        const buttonEl =\n",
              "          document.querySelector('#df-1650e614-83b0-4ed4-9d76-fd479a729201 button.colab-df-convert');\n",
              "        buttonEl.style.display =\n",
              "          google.colab.kernel.accessAllowed ? 'block' : 'none';\n",
              "\n",
              "        async function convertToInteractive(key) {\n",
              "          const element = document.querySelector('#df-1650e614-83b0-4ed4-9d76-fd479a729201');\n",
              "          const dataTable =\n",
              "            await google.colab.kernel.invokeFunction('convertToInteractive',\n",
              "                                                     [key], {});\n",
              "          if (!dataTable) return;\n",
              "\n",
              "          const docLinkHtml = 'Like what you see? Visit the ' +\n",
              "            '<a target=\"_blank\" href=https://colab.research.google.com/notebooks/data_table.ipynb>data table notebook</a>'\n",
              "            + ' to learn more about interactive tables.';\n",
              "          element.innerHTML = '';\n",
              "          dataTable['output_type'] = 'display_data';\n",
              "          await google.colab.output.renderOutput(dataTable, element);\n",
              "          const docLink = document.createElement('div');\n",
              "          docLink.innerHTML = docLinkHtml;\n",
              "          element.appendChild(docLink);\n",
              "        }\n",
              "      </script>\n",
              "    </div>\n",
              "  </div>\n",
              "  "
            ]
          },
          "metadata": {},
          "execution_count": 515
        }
      ],
      "source": [
        "import pandas as pd\n",
        "#leemos el dataset\n",
        "df = pd.read_csv(\"https://raw.githubusercontent.com/emmanueliarussi/DataScienceCapstone/master/3_MidtermProjects/ProjectBOM/data/attributes_spotify.csv\")\n",
        "df"
      ]
    },
    {
      "cell_type": "markdown",
      "source": [
        "Filtro las caracteristicas innecesarias"
      ],
      "metadata": {
        "id": "d6mRxDjXsMn3"
      }
    },
    {
      "cell_type": "code",
      "source": [
        "df_filt = df[['acousticness','danceability','duration_ms','energy','instrumentalness','key','liveness','loudness','mode','speechiness','tempo','time_signature','valence','target']]"
      ],
      "metadata": {
        "id": "dkIHy_rXsYXG"
      },
      "execution_count": 516,
      "outputs": []
    },
    {
      "cell_type": "markdown",
      "source": [
        "Especifico caracteristicas a entrenar y target"
      ],
      "metadata": {
        "id": "0caTDEOwtOvG"
      }
    },
    {
      "cell_type": "code",
      "source": [
        "x = df_filt[['acousticness','danceability','duration_ms','energy','instrumentalness','key','liveness','loudness','mode','speechiness','tempo','time_signature','valence']]\n",
        "y = df_filt['target']"
      ],
      "metadata": {
        "id": "CEmyxHmetWxU"
      },
      "execution_count": 517,
      "outputs": []
    },
    {
      "cell_type": "markdown",
      "source": [
        "Separo el dataset en datos para entrenar (80%) y en datos para testear (20%) el modelo"
      ],
      "metadata": {
        "id": "Ct8wOHIitoM_"
      }
    },
    {
      "cell_type": "code",
      "source": [
        "from sklearn.model_selection import train_test_split\n",
        "xtrain, xtest, ytrain, ytest = train_test_split(x, y, test_size=0.2)"
      ],
      "metadata": {
        "id": "FlL2Kf3Xtr2O"
      },
      "execution_count": 518,
      "outputs": []
    },
    {
      "cell_type": "markdown",
      "source": [
        "Escalo las muestras y los targets para ayudar en el entrenamiento"
      ],
      "metadata": {
        "id": "6IOxWgWvenlm"
      }
    },
    {
      "cell_type": "code",
      "source": [
        "x = scale(x)   \n",
        "y = scale(y) "
      ],
      "metadata": {
        "id": "V--cTBlsel4G"
      },
      "execution_count": 519,
      "outputs": []
    },
    {
      "cell_type": "markdown",
      "source": [
        "Creo y entreno el modelo"
      ],
      "metadata": {
        "id": "WgHMpfvet-wZ"
      }
    },
    {
      "cell_type": "code",
      "source": [
        "from sklearn import neighbors \n",
        "knn = neighbors.KNeighborsClassifier(n_neighbors=40) #K = sqrt(N)\n",
        "knn.fit(xtrain, ytrain)"
      ],
      "metadata": {
        "colab": {
          "base_uri": "https://localhost:8080/"
        },
        "id": "S25e30NguEZU",
        "outputId": "9758b3ab-41eb-4a20-c30b-e6b0573f37b6"
      },
      "execution_count": 520,
      "outputs": [
        {
          "output_type": "execute_result",
          "data": {
            "text/plain": [
              "KNeighborsClassifier(n_neighbors=40)"
            ]
          },
          "metadata": {},
          "execution_count": 520
        }
      ]
    },
    {
      "cell_type": "markdown",
      "source": [
        "Obtengo el Score"
      ],
      "metadata": {
        "id": "ICndRhqyuflp"
      }
    },
    {
      "cell_type": "code",
      "source": [
        "score = knn.score(xtest, ytest)\n",
        "score"
      ],
      "metadata": {
        "colab": {
          "base_uri": "https://localhost:8080/"
        },
        "id": "Ylryvf8AumBE",
        "outputId": "c443d81b-4f06-4691-d393-e986cf519d06"
      },
      "execution_count": 521,
      "outputs": [
        {
          "output_type": "execute_result",
          "data": {
            "text/plain": [
              "0.6262376237623762"
            ]
          },
          "metadata": {},
          "execution_count": 521
        }
      ]
    },
    {
      "cell_type": "markdown",
      "source": [
        "Testeo"
      ],
      "metadata": {
        "id": "0j5-TO93KtLA"
      }
    },
    {
      "cell_type": "code",
      "source": [
        "ypred = knn.predict(xtest)       # Probar el modelo entrenado usando los datos de testeo"
      ],
      "metadata": {
        "id": "r2UIbr3DKidb"
      },
      "execution_count": 522,
      "outputs": []
    },
    {
      "cell_type": "markdown",
      "source": [
        "Obtengo el error comparando los targets originales del conjunto de datos de testeo y los targets predichos por el modelo entrenado"
      ],
      "metadata": {
        "id": "pjkDHcrWKwkO"
      }
    },
    {
      "cell_type": "code",
      "source": [
        "from sklearn.metrics import mean_squared_error\n",
        "mse = mean_squared_error(ytest, ypred)  # Error medio cuadrático\n",
        "print(\"MSE: \", mse)\n",
        "print()\n"
      ],
      "metadata": {
        "colab": {
          "base_uri": "https://localhost:8080/"
        },
        "id": "AHrINhzXK17K",
        "outputId": "5ac84e47-9786-45bc-eef7-bd86b0045813"
      },
      "execution_count": 523,
      "outputs": [
        {
          "output_type": "stream",
          "name": "stdout",
          "text": [
            "MSE:  0.37376237623762376\n",
            "\n"
          ]
        }
      ]
    },
    {
      "cell_type": "markdown",
      "source": [
        "Probe con varios valores de K pero el resultado no vario mucho. En practicamente todos los casos 1<K<1600 (1600 por el split realizado) el score dio entre 45 y 60. Termine dejando K = raiz(N). Donde obtengo un score cercano a 60."
      ],
      "metadata": {
        "id": "Ku2xGM0TLvvD"
      }
    },
    {
      "cell_type": "markdown",
      "source": [
        "Por otro lado el MSE me parece muy grande. No entiendo bien a que se debe."
      ],
      "metadata": {
        "id": "05jL9s0dNNM_"
      }
    },
    {
      "cell_type": "markdown",
      "source": [
        "Como los resultados no me convencen voy a ver las distribuciones de las caracteristicas del dataset"
      ],
      "metadata": {
        "id": "EhU5PiRBNrqr"
      }
    },
    {
      "cell_type": "code",
      "source": [
        "#['acousticness','danceability','duration_ms','energy','instrumentalness','key','liveness','loudness','mode','speechiness','tempo','time_signature','valence','target']\n",
        "import matplotlib.pyplot as plt\n",
        "plt.title('acousticness')\n",
        "plt.hist(df['acousticness'], bins='auto')\n",
        "plt.show()\n",
        "plt.title('danceability')\n",
        "plt.hist(df['danceability'], bins='auto')\n",
        "plt.show()\n",
        "plt.title('duration_ms')\n",
        "plt.hist(df['duration_ms'], bins='auto')\n",
        "plt.show()\n",
        "plt.title('energy')\n",
        "plt.hist(df['energy'], bins='auto')\n",
        "plt.show()\n",
        "plt.title('instrumentalness')\n",
        "plt.hist(df['instrumentalness'], bins='auto')\n",
        "plt.show()\n",
        "plt.title('key')\n",
        "plt.hist(df['key'], bins='auto')\n",
        "plt.show()\n",
        "plt.title('liveness')\n",
        "plt.hist(df['liveness'], bins='auto')\n",
        "plt.show()\n",
        "plt.title('loudness')\n",
        "plt.hist(df['loudness'], bins='auto')\n",
        "plt.show()\n",
        "plt.title('mode')\n",
        "plt.hist(df['mode'], bins='auto')\n",
        "plt.show()\n",
        "plt.title('speechiness')\n",
        "plt.hist(df['speechiness'], bins='auto')\n",
        "plt.show()\n",
        "plt.title('tempo')\n",
        "plt.hist(df['tempo'], bins='auto')\n",
        "plt.show()\n",
        "plt.title('time_signature')\n",
        "plt.hist(df['time_signature'], bins='auto')\n",
        "plt.show()\n",
        "plt.title('valence')\n",
        "plt.hist(df['valence'], bins='auto')\n",
        "plt.show()\n",
        "plt.title('target')\n",
        "plt.hist(df['target'], bins='auto')\n",
        "plt.show()"
      ],
      "metadata": {
        "colab": {
          "base_uri": "https://localhost:8080/",
          "height": 1000
        },
        "id": "dTDI_nbIZ8-g",
        "outputId": "97c5216a-a003-4f2d-afe3-9d091f7cbddc"
      },
      "execution_count": 524,
      "outputs": [
        {
          "output_type": "display_data",
          "data": {
            "text/plain": [
              "<Figure size 432x288 with 1 Axes>"
            ],
            "image/png": "[encoded data removed]"
          },
          "metadata": {
            "needs_background": "light"
          }
        },
        {
          "output_type": "display_data",
          "data": {
            "text/plain": [
              "<Figure size 432x288 with 1 Axes>"
            ],
            "image/png": "[encoded data removed]"
          },
          "metadata": {
            "needs_background": "light"
          }
        },
        {
          "output_type": "display_data",
          "data": {
            "text/plain": [
              "<Figure size 432x288 with 1 Axes>"
            ],
            "image/png": "[encoded data removed]"
          },
          "metadata": {
            "needs_background": "light"
          }
        },
        {
          "output_type": "display_data",
          "data": {
            "text/plain": [
              "<Figure size 432x288 with 1 Axes>"
            ],
            "image/png": "[encoded data removed]"
          },
          "metadata": {
            "needs_background": "light"
          }
        },
        {
          "output_type": "display_data",
          "data": {
            "text/plain": [
              "<Figure size 432x288 with 1 Axes>"
            ],
            "image/png": "[encoded data removed]"
          },
          "metadata": {
            "needs_background": "light"
          }
        },
        {
          "output_type": "display_data",
          "data": {
            "text/plain": [
              "<Figure size 432x288 with 1 Axes>"
            ],
            "image/png": "[encoded data removed]"
          },
          "metadata": {
            "needs_background": "light"
          }
        },
        {
          "output_type": "display_data",
          "data": {
            "text/plain": [
              "<Figure size 432x288 with 1 Axes>"
            ],
            "image/png": "[encoded data removed]"
          },
          "metadata": {
            "needs_background": "light"
          }
        },
        {
          "output_type": "display_data",
          "data": {
            "text/plain": [
              "<Figure size 432x288 with 1 Axes>"
            ],
            "image/png": "[encoded data removed]"
          },
          "metadata": {
            "needs_background": "light"
          }
        },
        {
          "output_type": "display_data",
          "data": {
            "text/plain": [
              "<Figure size 432x288 with 1 Axes>"
            ],
            "image/png": "[encoded data removed]"
          },
          "metadata": {
            "needs_background": "light"
          }
        },
        {
          "output_type": "display_data",
          "data": {
            "text/plain": [
              "<Figure size 432x288 with 1 Axes>"
            ],
            "image/png": "[encoded data removed]"
          },
          "metadata": {
            "needs_background": "light"
          }
        },
        {
          "output_type": "display_data",
          "data": {
            "text/plain": [
              "<Figure size 432x288 with 1 Axes>"
            ],
            "image/png": "[encoded data removed]"
          },
          "metadata": {
            "needs_background": "light"
          }
        },
        {
          "output_type": "display_data",
          "data": {
            "text/plain": [
              "<Figure size 432x288 with 1 Axes>"
            ],
            "image/png": "[encoded data removed]"
          },
          "metadata": {
            "needs_background": "light"
          }
        },
        {
          "output_type": "display_data",
          "data": {
            "text/plain": [
              "<Figure size 432x288 with 1 Axes>"
            ],
            "image/png": "[encoded data removed]"
          },
          "metadata": {
            "needs_background": "light"
          }
        },
        {
          "output_type": "display_data",
          "data": {
            "text/plain": [
              "<Figure size 432x288 with 1 Axes>"
            ],
            "image/png": "[encoded data removed]"
          },
          "metadata": {
            "needs_background": "light"
          }
        }
      ]
    },
    {
      "cell_type": "markdown",
      "source": [
        "En primer lugar, se puede ver que el dataset esta balanceado porque tiene la misma cantidad de targets positivos y negativos."
      ],
      "metadata": {
        "id": "T24dmEOcbk94"
      }
    },
    {
      "cell_type": "markdown",
      "source": [
        "Por otro lado, analizando las caracteristicas, se puede ver que, tanto \"acousticness\" como \"time_signature\" e \"instrumentalness\", no aportan datos significativos al tataset. \n",
        "\n",
        "Por lo tanto, procedo a eliminarlos:"
      ],
      "metadata": {
        "id": "wSZ8K9ZWb7Q0"
      }
    },
    {
      "cell_type": "code",
      "source": [
        "df_filt = df[['danceability','duration_ms','energy','key','liveness','loudness','mode','speechiness','tempo','valence','target']]"
      ],
      "metadata": {
        "id": "FLULjqb5comn"
      },
      "execution_count": 525,
      "outputs": []
    },
    {
      "cell_type": "markdown",
      "source": [
        "Ahora, repito todo lo anterior con mi dataset filtrado"
      ],
      "metadata": {
        "id": "OmWStSKBc6h_"
      }
    },
    {
      "cell_type": "code",
      "source": [
        "from sklearn.preprocessing import scale\n",
        "#Especifico caracteristicas a entrenar y target\n",
        "x = df_filt[['danceability','duration_ms','energy','key','liveness','loudness','mode','speechiness','tempo','valence']]\n",
        "y = df_filt['target']\n",
        "\n",
        "#Separo el dataset en datos para entrenar (80%) y en datos para testear (20%) el modelo\n",
        "from sklearn.model_selection import train_test_split\n",
        "xtrain, xtest, ytrain, ytest = train_test_split(x, y, test_size=0.2)\n",
        "\n",
        "# Escalo las muestras y los targets para ayudar en el entrenamiento\n",
        "x = scale(x)   \n",
        "y = scale(y) \n",
        "\n",
        "#Creo y entreno el modelo\n",
        "from sklearn import neighbors \n",
        "knn = neighbors.KNeighborsClassifier(n_neighbors=45) #K = sqrt(N)\n",
        "knn.fit(xtrain, ytrain)\n",
        "\n",
        "\n",
        "#Obtengo el Score\n",
        "score = knn.score(xtest, ytest)\n",
        "print(\"Score: \", score)\n",
        "print()\n",
        "\n",
        "#Testeo\n",
        "ypred = knn.predict(xtest)       # Probar el modelo entrenado usando los datos de testeo\n",
        "\n",
        "#Obtengo el error comparando los targets originales del conjunto de datos de testeo y los targets predichos por el modelo entrenado\n",
        "from sklearn.metrics import mean_squared_error\n",
        "mse = mean_squared_error(ytest, ypred)  # Error medio cuadrático\n",
        "print(\"MSE: \", mse)\n",
        "print()\n"
      ],
      "metadata": {
        "colab": {
          "base_uri": "https://localhost:8080/"
        },
        "id": "VOtOBeUadqkW",
        "outputId": "2912f07b-54e4-4451-d13a-6ee74597bd93"
      },
      "execution_count": 526,
      "outputs": [
        {
          "output_type": "stream",
          "name": "stdout",
          "text": [
            "Score:  0.6039603960396039\n",
            "\n",
            "MSE:  0.39603960396039606\n",
            "\n"
          ]
        }
      ]
    },
    {
      "cell_type": "markdown",
      "source": [
        "Como se puede ver, si bien el score no mejoro, los datos eliminados eran \"irrelevantes\" para el clasificador."
      ],
      "metadata": {
        "id": "8TxCd-53e__9"
      }
    }
  ]
}