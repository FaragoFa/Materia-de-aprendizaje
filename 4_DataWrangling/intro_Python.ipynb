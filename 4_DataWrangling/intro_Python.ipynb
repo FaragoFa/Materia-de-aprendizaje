{
  "nbformat": 4,
  "nbformat_minor": 0,
  "metadata": {
    "colab": {
      "name": "Copy of Clase 1 - Curso Python.ipynb",
      "provenance": [],
      "collapsed_sections": [],
      "include_colab_link": true
    },
    "kernelspec": {
      "name": "python3",
      "display_name": "Python 3"
    },
    "accelerator": "GPU"
  },
  "cells": [
    {
      "cell_type": "markdown",
      "metadata": {
        "id": "view-in-github",
        "colab_type": "text"
      },
      "source": [
        "<a href=\"https://colab.research.google.com/github/manlio99/Materia-de-aprendizaje/blob/master/4_DataWrangling/intro_Python.ipynb\" target=\"_parent\"><img src=\"https://colab.research.google.com/assets/colab-badge.svg\" alt=\"Open In Colab\"/></a>"
      ]
    },
    {
      "cell_type": "markdown",
      "metadata": {
        "id": "4FLV1yxDh9Rh"
      },
      "source": [
        "# Bienvenidos al curso de Python\n",
        "Hola, somos un grupo de ramas estudiantiles del ITBA que organizó un curso de Python abierto y\n",
        " gratuito.\n",
        "\n",
        "\\\n",
        "<img width=\"300\" height=\"150\" src=\"https://i.ibb.co/b52mZQG/ieee-cs.png\">\n",
        "\n",
        "\\\n",
        "\\\n",
        "El contenido de este curso está orientado para aquellos que no tienen experiencia programando en Python, y tiene como objetivo principal aprender lo suficiente para automatizar tareas comunes, manipular archivos y hojas de datos de manera eficiente, y representar información gráficamente de manera sencilla. Todas estas tareas pueden ser realizadas usando programación sin necesitar convertirse en un experto del tema.\n",
        "\n",
        "**Nota 1:** ¡El espacio para realizar cualquier consulta, por más elemental que sea, será en [nuestro reddit](https://www.reddit.com/r/CursoDePythonITBA/)! Allí distintos los distintos ayudantes del curso responderemos sus consultas\n",
        "\n",
        "\\\n",
        "\n",
        "<img width=\"150\" height=\"150\" src=\"https://stagewp.sharethis.com/wp-content/uploads/2017/05/Reddit.png\">\n",
        "\n",
        "\\\n",
        "\n",
        "**Nota 2:** ¡Para poder guardar los ejercicios que resuelvan les recomendamos guardar una copia del documento en su google Drive!\n",
        "\n",
        "<img width=\"250\" height=\"230\" src=\"https://i.ibb.co/vDbnBcc/copia.png\">\n",
        "\n",
        "\\\n",
        "\n",
        "El curso consiste en 4 clases y cubre los siguientes temas y conceptos:\n",
        "\\\n",
        "𝗖𝗹𝗮𝘀𝗲 𝟭 : 27 de Marzo\n",
        "*     Introducción a la programación en Python\n",
        "*     Variables\n",
        "*     Operadores\n",
        "*     Control de flujo\n",
        "*     Funciones \n",
        "\n",
        "𝗖𝗹𝗮𝘀𝗲 𝟮 : 3 de Abril\n",
        "*     Tipos de datos (int, float, string, boolean)\n",
        "*     Estructuras de datos (Lista, Dict, Set, Tuplas)\n",
        "*     Operaciones con tipos de datos\n",
        "*     Operaciones con estructuras de datos\n",
        "\n",
        "𝗖𝗹𝗮𝘀𝗲 𝟯 : 10 de Abril\n",
        "*     Repaso de flujo\n",
        "*     Repaso de estructuras de datos\n",
        "*     Lectura y escritura de archivos\n",
        "*     Operaciones sobre datos de archivos\n",
        "*     Introducción a librerías \n",
        "\n",
        "𝗖𝗹𝗮𝘀𝗲 𝟰 : 17 de Abril\n",
        "*     Introducción a matplotlib\n",
        "*     Visualización de datos\n",
        "*     Personalización de los gráficos\n",
        "*     Ventajas y desventajas uso de Python y Excel\n",
        "\n",
        "\n",
        "\\\n",
        "¡Esperamos que les sirva!\n",
        "\n",
        "El material es de libre distribución bajo la licencia [Creative Commons](https://creativecommons.org) CC-BY-NC-SA.\n"
      ]
    },
    {
      "cell_type": "markdown",
      "metadata": {
        "id": "zUpAx4mvVgz6"
      },
      "source": [
        "# Clase 1\n",
        "\n",
        "## Introducción a la programación\n",
        "La programación es el proceso que se utiliza para diseñar e implementar un programa de computadora, valiéndose de algún lenguaje que permita comunicar una serie de acciones que se requiere que la computadora realice. ¿Qué es un programa? Es una caja negra que recibe alguna información, la cual es llamada \"input\" (entrada), realiza alguna acción, y devuelve información, la cual es llamada \"output\" (salida).\n",
        "\n",
        "![texto alternativo](https://drive.google.com/uc?id=1KwmfnYpQOB4kya7Pnm6ep9tyfI-ba3Ie)\n",
        "\n",
        "## Lenguajes de programación\n",
        "Un lenguaje de programación es un [lenguaje formal](https://es.wikipedia.org/wiki/Lenguaje_formal) que proporciona una serie de instrucciones, las cuales permiten a un programador escribir secuencias de órdenes para controlar el comportamiento físico y lógico de una computadora, con el objetivo de que produzca diversas acciones deseadas por el programador (¡y los usuarios!).\n",
        "\n",
        "Algunos de los lenguajes mas populares en los últimos tiempos (lejos de ser los únicos) son Python, Java, C++, JavaScript, PHP, etc.\n",
        "\n",
        "<img src=\"https://i.imgur.com/12T9u0f.jpg\" height=\"300\" alt = \"Collage de lenguajes de programación populares\" title=\"Hay varios otros lenguajes, como Go, Go!, Gosu etc. \">\n",
        "\n",
        "## ¿Por qué Python?\n",
        "Elegimos Python porque es uno de los lenguajes de programación con reglas más simples e intuitivas que existen; esto explica la creciente popularidad que ha tenido en los ultimos tiempos.\n",
        "\n",
        "A pesar de su simpleza, es muy utilizado tanto en la industria para servidores y servicios web, así como también en el área academica para redes neuronales, deep learning, simulación, etc.\n",
        "\n",
        "La comunidad de Python es una de las más grandes. Por lo tanto cualquier duda que tengan, a partir de ahora, Google es su amigo: pueden buscar la duda que tengan y seguramente alguien ya haya tenido ese problema. Una de los sitios web más conocidos para este fin es [StackOverflow](https://stackoverflow.com/)"
      ]
    },
    {
      "cell_type": "markdown",
      "metadata": {
        "id": "Br0hUhaH2SGF"
      },
      "source": [
        "## Output\n",
        "\n",
        "El output de un programa es la manera de transmitir información hacia el entorno externo. Por ejemplo, puede escribir en la consola de la computadora, puede generar una imagen, reproducir un sonido, etc. En GoogleColaboratory veremos el output del programa debajo de la celda donde fue ejecutado.\n",
        "\n",
        "Para poder mostrar texto, podemos utilizar el comando **print( )** poniendo lo que deseemos mostrar entre los parentesis. Más adelante veremos como generar imagenes, archivos y demás.\n",
        "\n",
        "Noten en el ejemplo que para escribir texto se debe indicar con comillas simples o dobles y para escribir números no se usan comillas.\n",
        "\n",
        "**Tip**: En la esquina superior izquierda del cuadro de texto con el código hay un botón para ejecutar el programa\n",
        "\n"
      ]
    },
    {
      "cell_type": "code",
      "metadata": {
        "id": "xR12q8jt22d5"
      },
      "source": [
        "print(123)\n",
        "print(\"Hola, cómo estas?\")\n",
        "print('Buen día')"
      ],
      "execution_count": null,
      "outputs": []
    },
    {
      "cell_type": "markdown",
      "metadata": {
        "id": "o7iXxeQFsblK"
      },
      "source": [
        "## Variables\n",
        "\n",
        "Para poder realizar tareas es necesario guardar en la memoria de la computadora los datos que necesita mi aplicación para funcionar. Por ejemplo, en este momento tu navegador web sabe cuántas pestañas hay abiertas y qué página se abrió en cada una, sabe en qué posición de la página estás y qué usuario utilizaste para entrar a Google Colab. Todos estos datos están almacenados en la memoria de la computadora y el navegador lee estos datos y los modifica cada vez que lo requiere.\n",
        "\\\n",
        "En programación, se le asigna un nombre o apodo a cada pequeño segmento de la memoria que almacena un dato o un valor. De esta forma en el programa cada vez que se usa este nombre se esta refiriendo al valor del dato almacenado en la memoria. Este es el concepto de \"variable\".\n",
        "\\\n",
        "En python esto se logra de la siguiente manera:\n",
        "\n"
      ]
    },
    {
      "cell_type": "code",
      "metadata": {
        "id": "dFdsoISPuvyX"
      },
      "source": [
        "x = 5\n",
        "print(x)"
      ],
      "execution_count": null,
      "outputs": []
    },
    {
      "cell_type": "markdown",
      "metadata": {
        "id": "d3b-updXAmho"
      },
      "source": [
        "En estas variables podemos guardar lo que sea necesario para ejecutar el programa, por ejemplo si necesitamos guardar texto se indica con: \"(texto)\" o '(texto)'."
      ]
    },
    {
      "cell_type": "code",
      "metadata": {
        "id": "ZaesnOreAx4q"
      },
      "source": [
        "x = 'Hola'\n",
        "y = \"Adios\"\n",
        "print(y)"
      ],
      "execution_count": null,
      "outputs": []
    },
    {
      "cell_type": "markdown",
      "metadata": {
        "id": "Y642lKnYDzlK"
      },
      "source": [
        "Noten que la instrucción *print( )* permite mostrar el contenido de una variable. Cuando ponemos *print(y)* no imprime la letra *y* sino que imprime el contenido de *y*. Es por esto que para eliminar la confusión se usan comillas cuando queremos mostrar texto y no el contenido de una variable.\n",
        "\n",
        "Es importante tener en cuenta que no es necesario aclarar de antemano si las variables son textos (Strings) o números, el lenguaje lo puede identificar automáticamente\n",
        "\n",
        "**Reglas para el nombre de una variable:**\n",
        "* Debe empezar con una letra (a-z, A-Z) o un guión bajo (_)\n",
        "* Los otros caracteres pueden ser letras, numeros o guión bajo\n",
        "* Distingue mayúsculas de minúsculas\n",
        "* Existen palabras reservadas que no se pueden usar como nombre de variable porque Python las usa para otras cosas. Por ejemplo el nombre de una variable no puede ser *print*.\n",
        "\n",
        "   "
      ]
    },
    {
      "cell_type": "markdown",
      "metadata": {
        "id": "yZl-KaXPCXru"
      },
      "source": [
        "## Input\n",
        "El input de un programa es la manera de recibir información del entorno externo al programa. Esto puede ser un usuario, un archivo, otro programa, un sensor, etc. \n",
        "\n",
        "Para ingresar una variable podemos usar **input( \"Texto a mostrar:\" )**. Corran este código ustedes para que les de una pequeña casilla donde escribir, y luego el programa escribirá lo que ustedes ingresaron. \n",
        "\n"
      ]
    },
    {
      "cell_type": "code",
      "metadata": {
        "id": "Iuzty4svDEDy"
      },
      "source": [
        "# Esto es un comentario!\n",
        "# Los comentarios no son ejecutados por Python\n",
        "# De esta forma el programador puede hacer una nota para sí mismo\n",
        "\n",
        "nombre = input(\"Ingrese su nombre: \")\n",
        "edad = int( input(\"Ingrese su edad: \") )\n",
        "\n",
        "print(nombre)\n",
        "print(edad)"
      ],
      "execution_count": null,
      "outputs": []
    },
    {
      "cell_type": "markdown",
      "metadata": {
        "id": "wV0Fd9xkDefP"
      },
      "source": [
        "Un detalle a tener en cuenta es que la información ingresada por el usuario usando **input( )** será interpretada como texto, no como un número. Por eso cuando queremos ingresar un número usaremos **int( )** para convertir ese texto al numero correspondiente. En la proxima clase quedará claro porqué debemos hacer esto y qué es el *tipo* de una variable."
      ]
    },
    {
      "cell_type": "markdown",
      "metadata": {
        "id": "uNa0exphDxse"
      },
      "source": [
        "## Operaciones básicas con variables\n",
        "\n",
        "\n"
      ]
    },
    {
      "cell_type": "markdown",
      "metadata": {
        "id": "ZM7lIDcRPdtk"
      },
      "source": [
        "### Operaciones de modificación\n",
        "No seria muy útil un programa si lo único que podemos hacer es guardar en una variable y mostrarla, por lo que podemos realizar algunas operaciones basicas que nos perimiten modificar el contenido:\n",
        "\n",
        "\n",
        "*   **+** : Sumar dos variables $a+b$\n",
        "*   **-**  : Restar dos variables $a-b$\n",
        "*   **\\***: Multiplicar dos variables $a\\cdot b$\n",
        "*   **/** : Dividir una variable por la otra $\\frac{a}{b}$\n",
        "*   **\\*\\*** : Una variable elevado a la otra $a^{b}$\n",
        "*   **=** : Asignarle un valor a una variable $a \\leftarrow b$\n",
        "\n",
        "¿Cual será la salida del siguiente programa?"
      ]
    },
    {
      "cell_type": "code",
      "metadata": {
        "id": "LrkSFD2zFKo9"
      },
      "source": [
        "x = 3\n",
        "y = -2\n",
        "y = x*y\n",
        "x = x**2\n",
        "print(y)\n",
        "print(x)"
      ],
      "execution_count": null,
      "outputs": []
    },
    {
      "cell_type": "markdown",
      "metadata": {
        "id": "sHe-S2KcF_hT"
      },
      "source": [
        "Python nos permite ahorrar código combinando el operando **=** con alguno de los anteriormente vistos:\n",
        "\n",
        "\n",
        "*   ***=**  : Multiplica la variable $a \\leftarrow a\\cdot b$ \n",
        "*   **/=** : Divide la variable  $a \\leftarrow \\frac{a}{b}$ \n",
        "*   **+=** : Suma a la varaible  $a \\leftarrow a+ b$ \n",
        "*   **-=** : Resta a la variable $a \\leftarrow a- b$\n",
        "\n",
        "¿Cual será la salida del siguiente codigo?"
      ]
    },
    {
      "cell_type": "code",
      "metadata": {
        "id": "ndLR4DOcHIOb"
      },
      "source": [
        "x /= 10\n",
        "print(x)"
      ],
      "execution_count": null,
      "outputs": []
    },
    {
      "cell_type": "markdown",
      "metadata": {
        "id": "Taq1M60JCWcf"
      },
      "source": [
        "### Mini-desafio\n",
        "\n",
        "Diseñar un programa en el cual el usuario ingrese tres números y se muestre el promedio de los tres numeros."
      ]
    },
    {
      "cell_type": "markdown",
      "metadata": {
        "id": "wdjxl31GHtkV"
      },
      "source": [
        ""
      ]
    },
    {
      "cell_type": "code",
      "metadata": {
        "id": "CTYAThUpChMY"
      },
      "source": [
        ""
      ],
      "execution_count": null,
      "outputs": []
    },
    {
      "cell_type": "markdown",
      "metadata": {
        "id": "YVx-ov14IQjN"
      },
      "source": [
        "### Operador módulo\n",
        "El operador módulo se utiliza con el símbolo **%**, y permite calcular el resto de un numero en la división por otro. Por ejemplo:\n",
        "*   $5$ % $3$ $= 2$\n",
        "*   $17$ % $10$ $= 7$\n",
        "*   $9$ % $6$ $= 3$\n",
        "*   $15$ % $5$ $= 0$\n",
        "\n",
        "Podríamos por ejemplo preguntar si el resto de un numero **x** en la division por **y** es igual a 0 y así saber si **x** es multiplo de **y**:"
      ]
    },
    {
      "cell_type": "code",
      "metadata": {
        "id": "y4189YO2KCI4"
      },
      "source": [
        "x = 27\n",
        "y = 9\n",
        "print( x % y == 0 )"
      ],
      "execution_count": null,
      "outputs": []
    },
    {
      "cell_type": "markdown",
      "metadata": {
        "id": "7kbzOgPjK2aU"
      },
      "source": [
        "#### Mini-desafio\n",
        "Realizar un programa al cual se ingresa el día del año mediante un número de 0 a 364, y que muestra en pantalla a qué día de la semana corresponde mediante un número de 0 (Lunes) a 6 (Domingo).\n",
        "\n",
        "Suponemos que el Lunes (día 0 de la semana) es el día 0 del año\n",
        "\n",
        " **Pista** (seleccionar texto para ver): <font color=\"white\">Los días múltiplos de 7 corresponden a 0 (Lunes), los días que tienen resto 1 en la división por 7 corresponden a 1 (Martes), los días que tienen resto 2 en la división por 7 corresponden a 2 (Miércoles), etc.</font>"
      ]
    },
    {
      "cell_type": "code",
      "metadata": {
        "id": "KFIK8BVBMZla"
      },
      "source": [
        ""
      ],
      "execution_count": null,
      "outputs": []
    },
    {
      "cell_type": "markdown",
      "metadata": {
        "id": "78iBTQVNISi7"
      },
      "source": [
        "### Operaciones de comparación\n",
        "Existen operaciones donde se comparan las propiedades de una variable.\n",
        "*   **<** : Menor que $a < b$\n",
        "*   **>** : Mayor que $a > b$\n",
        "*   **<=** : Menor o igual que $a \\leq b$\n",
        "*   **>=** : Mayor o igual que $a \\geq b$\n",
        "*   **==** : Es igual $a = b$\n",
        "\n",
        "Al comprarar dos números se obtiene True o False (Verdadero o Falso) según si se cumple la condición:"
      ]
    },
    {
      "cell_type": "code",
      "metadata": {
        "id": "xlYwcqQrOy5I"
      },
      "source": [
        "x = 4\n",
        "print(x >= 4)\n",
        "print(x < 3)"
      ],
      "execution_count": null,
      "outputs": []
    },
    {
      "cell_type": "code",
      "metadata": {
        "id": "cVMrA726NSf9"
      },
      "source": [
        "x = int( input() )\n",
        "x = 2*x\n",
        "print( x%2 == 0 )"
      ],
      "execution_count": null,
      "outputs": []
    },
    {
      "cell_type": "markdown",
      "metadata": {
        "id": "julg_kMLTzCT"
      },
      "source": [
        "También podemos comparar muchas condiciones utilizando:\n",
        "*  **and**: Si se cumplen las dos condicones $a \\land b$\n",
        "*  **or**: Si se cumple alguna de las condicions $ a \\lor b$\n",
        "*  **not**: Si no se cumple esa condición $ \\overline{a} $\n",
        "\n",
        "Veamos un ejemplo:"
      ]
    },
    {
      "cell_type": "code",
      "metadata": {
        "id": "uGxeHWppUKLP"
      },
      "source": [
        "x = 4\n",
        "y = x > 5 and x < 7\n",
        "z = x > 5 or x < 7\n",
        "k = not x > 5\n",
        "print(y)\n",
        "print(z)\n",
        "print(k)"
      ],
      "execution_count": null,
      "outputs": []
    },
    {
      "cell_type": "markdown",
      "metadata": {
        "id": "2cJd7NrKV9dK"
      },
      "source": [
        "Estas condiciones pueden agruparse con ( condicion1 ) **and/or** ( condicion2 ), esto permite chequar condiciones complejas:"
      ]
    },
    {
      "cell_type": "code",
      "metadata": {
        "id": "4LYKsyiXLAWW"
      },
      "source": [
        "x = 10\n",
        "y = 5\n",
        "z = (y > x and 15 > x) or (y < x and 15 > x)\n",
        "print(z)"
      ],
      "execution_count": null,
      "outputs": []
    },
    {
      "cell_type": "markdown",
      "metadata": {
        "id": "KGPMKjbABDrz"
      },
      "source": [
        "## Flujo de Programa\n",
        "Los programas siguen un \"flujo\" definido por el programador. Esto le permite realizar operaciones complejas. Notar que todas estas estructuras terminan con un \"**:**\" , y la siguiente línea tiene un tab de indentación (como una sangría).\n",
        "\n",
        "\n",
        "###   Estructura if\n",
        "Es la estructura básica que le permite al programador ver si se cumple una condición, y realizar distintas acciones según si eso sucede o no.\n",
        "\n",
        "**if** (condicion):\n",
        "    \n",
        "    ... lo que se hace si se cumple la condición\n",
        "    \n",
        "**elif** (condicion2):\n",
        "\n",
        "    ... lo que se hace si se cumple la condicion2\n",
        "     \n",
        "**else**:\n",
        "\n",
        "    ... lo que se hace si no se cumple la condición\n",
        "    \n",
        "    \n",
        " Siempre se comienza con **if**, después puede haber cualquier cantidad de **elif** (o ninguno). y luego se puede terminar con **else** (o no). Luego del **else** no puede haber más **elif**.\n",
        " \n",
        "\n",
        "\n"
      ]
    },
    {
      "cell_type": "markdown",
      "metadata": {
        "id": "rqyrcoqnPmi3"
      },
      "source": [
        "¿Cual será la salida del siguiente programa?"
      ]
    },
    {
      "cell_type": "code",
      "metadata": {
        "id": "Y9oaFC5vCFB7"
      },
      "source": [
        "x = 5\n",
        "y = 6\n",
        "if x == y:\n",
        "    print(x)\n",
        "elif y < 5 or y > 7:\n",
        "    print(x + y)\n",
        "else:\n",
        "    print(y)"
      ],
      "execution_count": null,
      "outputs": []
    },
    {
      "cell_type": "code",
      "metadata": {
        "id": "ejJfMzOtQL00"
      },
      "source": [
        "x = -1\n",
        "y = 4\n",
        "\n",
        "if y == 5:\n",
        "    print(\"Adivinamos el valor de y!\")      \n",
        "    \n",
        "if x == 5:\n",
        "    print(\"Adivinamos el valor de x!\")\n",
        "else:\n",
        "    print(\"No adivinamos el valor de x ))):\")\n",
        "    \n",
        "if x > y:\n",
        "    print(\"x es mayor que y\")\n",
        "elif x < y:\n",
        "    print(\"y es mayor que x\")\n",
        "elif x == y:\n",
        "    print(\"x e y son iguales\")\n",
        "else:\n",
        "    print(\"que?????\")"
      ],
      "execution_count": null,
      "outputs": []
    },
    {
      "cell_type": "markdown",
      "metadata": {
        "id": "mUrWYINjEk-6"
      },
      "source": [
        "#### Mini-desafio\n",
        "Realizar un programa que revise si una nota esta aprobada (es decir si es mayor o igual a 4).\n",
        "\n",
        "**Surgerencia**: utilizar un if/else"
      ]
    },
    {
      "cell_type": "code",
      "metadata": {
        "id": "rK3F0gJkFQlh"
      },
      "source": [
        ""
      ],
      "execution_count": null,
      "outputs": []
    },
    {
      "cell_type": "markdown",
      "metadata": {
        "id": "J0shbiwuHYah"
      },
      "source": [
        "\n",
        "\n",
        "###  Estructura while\n",
        "Permite ejecutar operaciones mientras se cumpla una condición.\n",
        "\n",
        "**while** (Condicion):\n",
        "\n",
        "    ... lo que se hace mientras se cumpla la condicion\n",
        "\n",
        "**else** :\n",
        "\n",
        "    ... Se ejecuta cuando la condicion no se cumple más\n",
        "    \n",
        "Esto introduce otra estructura basica de un programa que son los ciclos (loops o bucles). En código se ve de la siguiente manera:\n",
        "\n"
      ]
    },
    {
      "cell_type": "code",
      "metadata": {
        "id": "LLcZ4LH3CMUt"
      },
      "source": [
        "x = 1\n",
        "while x<10:\n",
        "    x+=1\n",
        "    print(x)\n",
        "    \n",
        "else:\n",
        "    print('Termine')"
      ],
      "execution_count": null,
      "outputs": []
    },
    {
      "cell_type": "markdown",
      "metadata": {
        "id": "tzu1YFDNQTQu"
      },
      "source": [
        "Es importante tener en cuenta que la condición se evalúa sólo al principio del loop.\n",
        "\n",
        "¿Qué imprimirá este programa?"
      ]
    },
    {
      "cell_type": "code",
      "metadata": {
        "id": "GGIT1bOlQlw_"
      },
      "source": [
        " "
      ],
      "execution_count": null,
      "outputs": []
    },
    {
      "cell_type": "markdown",
      "metadata": {
        "id": "KHHwPfH3QZQO"
      },
      "source": [
        "#### Ejercicio If y While\n",
        "Implementar un programa que muestre la siguiente secuencia:\n",
        "\n",
        "1, 2, 3, 4, 5, 4, 3, 2, 1, 0\n",
        "\n",
        "**Para un desafío mayor:** Utilizar un solo *while*, un solo *if* y un solo *else*\n",
        "\n",
        "\n"
      ]
    },
    {
      "cell_type": "code",
      "metadata": {
        "id": "ELNQM61IIni8"
      },
      "source": [
        ""
      ],
      "execution_count": null,
      "outputs": []
    },
    {
      "cell_type": "markdown",
      "metadata": {
        "id": "T-KOiUHbLcde"
      },
      "source": [
        "### Estructura for\n",
        "\n",
        "La estructura del **for** permite realizar una serie de acciones con una variable, que cambia su valor en cada repetición (iteración). ¿Qué significa esto? Permite realizar la misma \n",
        "\n",
        "**for** (variable) **in** (conjunto de variables):\n",
        "\n",
        "    ... Lo que quieras hacer con tu variable\n",
        "\n",
        "Veámoslo en un ejemplo de codigo:\n"
      ]
    },
    {
      "cell_type": "code",
      "metadata": {
        "id": "Cwo3zZy5I3x_"
      },
      "source": [
        "for x in range(0,15,5):\n",
        "    print(x)"
      ],
      "execution_count": null,
      "outputs": []
    },
    {
      "cell_type": "markdown",
      "metadata": {
        "id": "VujdlKBZMfE3"
      },
      "source": [
        "**range**(a,b,d)  nos genera los valores desde a hasta b con incrementos de d, por ejemplo el siguiente codigo generara los numeros pares entre 0 y 10:\n",
        "\n"
      ]
    },
    {
      "cell_type": "code",
      "metadata": {
        "id": "XCHNbgvEMdIb"
      },
      "source": [
        "for x in range(0,10,2):\n",
        "    print(x)"
      ],
      "execution_count": null,
      "outputs": []
    },
    {
      "cell_type": "markdown",
      "metadata": {
        "id": "7gts4JhvGzdz"
      },
      "source": [
        "Al utilizar la instrucción **range( )** no es necesario proporcionar siempre los 3 parametros. Observen que sucede cuando se proporcionan 1 o 2 parámetros:"
      ]
    },
    {
      "cell_type": "code",
      "metadata": {
        "id": "ofmsq6j6HB4E"
      },
      "source": [
        "print(\"range(5):\")\n",
        "for x in range(5):\n",
        "    print(x)\n",
        "\n",
        "print(\"range(10, 15):\")\n",
        "for x in range(10, 15):\n",
        "    print(x)"
      ],
      "execution_count": null,
      "outputs": []
    },
    {
      "cell_type": "markdown",
      "metadata": {
        "id": "UoNf8Ce-NAi5"
      },
      "source": [
        "#### Ejercicio for\n",
        "Mostrar la siguiente secuencia de datos utilizando la instrucción for y la instrucción if:\n",
        "\n",
        "0, 1, 4, 9, 16, 25, 6, 7, 8, 9"
      ]
    },
    {
      "cell_type": "code",
      "metadata": {
        "id": "E3NctxBaM3kG"
      },
      "source": [
        ""
      ],
      "execution_count": null,
      "outputs": []
    },
    {
      "cell_type": "markdown",
      "metadata": {
        "id": "0oG-SkG7PIcN"
      },
      "source": [
        "## Funciones\n",
        "Podemos pensar que una funcion es como tomar un conjunto de instrucciones y empaquetarlas bajo el mismo nombre, es como un pequeño programa dentro del programa, una manera de crear nuestras propias instrucciones. Las funciones son bloques que nos permiten acortar el código no repitiendo estructuras que necesitamos utilizar mucho. Al igual que los programas las funciones tienen un input y un output: el input son las variables de entrada y su output es el valor o valores que devuelven.\n",
        "\n",
        "Por ejemplo, supongamos que frecuentemente necesito calcular las ganancias totales generadas por cierto producto. Cada vez que quiera realizar este cálculo tendré que obtener el costo de venta, restarle el costo de fabricación y multiplicarlo por la cantidad de ventas. Usando una función puedo crear mi propia instrucción a la que se le ingrese el código de producto y devuelva el resultado. Así puedo escribir el nombre de la función cada vez que quiera hacer este cálculo sin tener que escribir nuevamente el procedimiento completo.\n",
        "\n",
        "En Python las funciones se implementan de la siguiente forma:\n",
        "\n",
        "\n",
        "**def** miFunción($a_i,b_i,c_i,...$)**:**\n",
        "\n",
        "     ... Hago lo que necesite con las variables a,b,c\n",
        "    \n",
        "   **return** $a_o,b_o,c_o,...$\n",
        "\n",
        "\n",
        "Es importante tener en cuenta que la *definicion* de la funcion no provoca ninguna acción, solamente le indica a la computadora que la proxima vez que se escriba el nombre de la función, esta debe realizar las instrucciones indicadas por la definición.\n",
        "\n",
        "Veamos un ejemplo:"
      ]
    },
    {
      "cell_type": "code",
      "metadata": {
        "id": "mpsgG39DNcme"
      },
      "source": [
        "def suma(a,b):\n",
        "    s=a+b\n",
        "    return s\n",
        "\n",
        "x = 2\n",
        "y = 4\n",
        "z = suma(x,y)\n",
        "print(z)"
      ],
      "execution_count": null,
      "outputs": []
    },
    {
      "cell_type": "markdown",
      "metadata": {
        "id": "q5WyWK1KQVor"
      },
      "source": [
        "La instrucción **return** sirve para indicar el resultado que la función \"devuelve\". Una vez que se alcanza la instrucción **return** la función termina y devuelve el valor indicado.\n",
        "\n",
        "Esto tambien podemos combinarlo con las estructuras que vimos previamente"
      ]
    },
    {
      "cell_type": "code",
      "metadata": {
        "id": "_xMxxM6EQQon"
      },
      "source": [
        "def chequarContraseña(c):\n",
        "    if c == \"Secreto\":\n",
        "        print(\"Contraseña correcta!\")\n",
        "    else:\n",
        "        print(\"Contraseña incorrecta!\")\n",
        "        \n",
        "chequarContraseña(\"hola\")\n",
        "chequarContraseña(\"Secreto\")"
      ],
      "execution_count": null,
      "outputs": []
    },
    {
      "cell_type": "markdown",
      "metadata": {
        "id": "W64FPKi5RaU3"
      },
      "source": [
        "Noten que no siempre es necesario poner la instrucción **return** al final de la función. En este caso la función termina cuando finaliza el bloque indentado (con sangría).\n",
        "\n",
        "¿Se dieron cuenta que la la forma en la que usamos para imprimir una variable es una función?, **print**( ... ) lo que hace es llamar a una función ya creada que está en el estandar de python y permite que mostremos el contendido que se le pase como parametro a la función."
      ]
    },
    {
      "cell_type": "markdown",
      "metadata": {
        "id": "sgCdpQfDS5wG"
      },
      "source": [
        "### Ejercicio funciones\n",
        "Escribir una función que chequee los siguientes usuarios y contraseñas:\n",
        "*  Usuario: Juan  -  Contraseña: 12345_\n",
        "*  Usuario: Pablo - Contraseña: xDcFvGbHn\n",
        "\n",
        "La función debe recibir como parámetros el usuario y la contraseña, y debe devolver el valor True o False."
      ]
    },
    {
      "cell_type": "code",
      "metadata": {
        "id": "cqBdQ2P-RPU6"
      },
      "source": [
        ""
      ],
      "execution_count": null,
      "outputs": []
    },
    {
      "cell_type": "markdown",
      "metadata": {
        "id": "13AcDcKZWX0b"
      },
      "source": [
        "# Ejercitación integradora $\\newcommand{\\dif}{\\bigstar}$$\\newcommand{\\facil}{\\color{\\green}{\\dif}}$ $\\newcommand{\\pieceofcake}{\\color{\\cyan}{\\dif}}$$\\newcommand{\\medio}{\\color{\\yellow}{\\dif\\dif}}$$\\newcommand{\\media}{\\medio}$$\\newcommand{\\normal}{\\medio}$  $\\newcommand{\\dificil}{\\color{\\orange}{\\dif\\dif\\dif}}$ $\\newcommand{\\imposible}{\\color{\\red}{\\dif\\dif\\dif\\dif}}$\n",
        "$\\newcommand{\\tarc}{\\large\\frown}$\n",
        "$\\newcommand{\\arc}[1]{\\stackrel{\\tarc}{#1}}$\n",
        "<head>\n",
        "<style type=\"text/css\">\n",
        "  .img{ \n",
        "    display: block;\n",
        "    margin-left:auto;\n",
        "    margin-right:auto;\n",
        "  }\n",
        "  </style>\n",
        "  </head>"
      ]
    },
    {
      "cell_type": "markdown",
      "metadata": {
        "id": "ZJ8oR4DW3z4A"
      },
      "source": [
        "###$\\facil$   Cálculo de promedio \n",
        "Cálcular la nota de un alumno es una tarea cotidiana de un profesor. Esta tarea suele realizarse a mano o en excel muchas veces. En esta ocasión la haremos en python. \n",
        "- Escribir una función que calcule el promedio de 3 notas. \n",
        "- Escribir una función que calcule el promedio de 3 notas con ponderación (asignar de importancia al primer examen 20% al segundo 50% y al tercero 30%)\n",
        "- Llamar a la función anterior 3 veces con distintas notas y verificar, mediante la instrucción if, si el alumno aprobó (suponga que 4 es la nota de aprobación). en cada caso.\n",
        "\n"
      ]
    },
    {
      "cell_type": "code",
      "metadata": {
        "id": "3DHirONd90wp"
      },
      "source": [
        ""
      ],
      "execution_count": null,
      "outputs": []
    },
    {
      "cell_type": "markdown",
      "metadata": {
        "id": "Rvlf1T7MNTjo"
      },
      "source": [
        "###$\\facil$ La conjetura del Dr. Lothar\n",
        "Escriba un programa que reciba un numero del usuario y repita el siguiente proceso usando un *while*:\n",
        "\n",
        "\n",
        "*   Si el numero es par, se debe dividir por $2$.\n",
        "*   Si el numero es impar, se debe multiplicar por $3$ y sumar $1$.\n",
        "\n",
        "Este proceso se repite hasta llegar al numero $1$ y luego muestra en pantalla la cantidad de pasos que tardó en llegar.\n",
        "\n",
        "\n",
        "\n",
        "* Ejemplo para $n=6$:\n",
        "\n",
        " $6, 3, 10, 5, 16, 8, 4, 2, 1$"
      ]
    },
    {
      "cell_type": "code",
      "metadata": {
        "id": "Pghvp92kNUwq"
      },
      "source": [
        ""
      ],
      "execution_count": null,
      "outputs": []
    },
    {
      "cell_type": "markdown",
      "metadata": {
        "id": "1PKYlsQhQ73q"
      },
      "source": [
        "**Dato extra**\n",
        "* En 1937, Lothar Collatz [conjeturó](https://es.wikipedia.org/wiki/Conjetura_de_Collatz#Enunciado) que este proceso llega a 1 sin importar el numero en el cual se empieza, pero hasta el día de hoy no se pudo demostrar su conjetura. Ya se comprobó usando programas de computadora que esto es verdad para todos los numeros menores que $2^{58}$"
      ]
    },
    {
      "cell_type": "markdown",
      "metadata": {
        "id": "tS0MU0yrKfAs"
      },
      "source": [
        "###$\\medio$ Ejercicio de entrevista en [Ingemática](https://www.ingematica.net/) \n",
        "Escriba un programa que imprima los números del 1 al 100, pero que para cada número que sea múltiplo de 3 imprima  `N3`, para los múltiplos de 5 imprima `N5`, y para los múltiplos de los dos, `N3N5`.\n",
        "\n",
        "**Tips**\n",
        "* ¡Si el número es divisible por 3 entonces el resto de la división vale cero!\n",
        "```\n",
        "numero % 3 == 0\n",
        ">> True\n",
        "```\n"
      ]
    },
    {
      "cell_type": "code",
      "metadata": {
        "id": "IUtY_MurVkMl"
      },
      "source": [
        ""
      ],
      "execution_count": null,
      "outputs": []
    },
    {
      "cell_type": "markdown",
      "metadata": {
        "id": "0Af6_xLhRVrE"
      },
      "source": [
        "###$\\medio$   Test de primalidad \n",
        "Escribir una función que recibe un numero y devuelve *True* si el numero es primo y *False* en caso contrario.\n",
        "\n",
        "Mediante un *for* verificar la *primalidad* de los numeros del $1$ al $20$.\n",
        "\n",
        "**Tips**\n",
        "\n",
        "* Un número $N$ es primo cuando no es múltiplo de ningún número entre $2$ y $\\sqrt{N}$ (podemos chequear mientras que el divisor elevado al cuadrado sea menor o igual a $N$)\n",
        "* El numero 1 **no** es primo."
      ]
    },
    {
      "cell_type": "code",
      "metadata": {
        "id": "G4t3MumbR1ew"
      },
      "source": [
        ""
      ],
      "execution_count": null,
      "outputs": []
    },
    {
      "cell_type": "markdown",
      "metadata": {
        "id": "fm_1Ogs_k0Uu"
      },
      "source": [
        "### $\\normal$ La leyenda de Filius Bonacci  \n",
        "\n",
        "\n",
        "\n",
        "\n",
        "\n",
        "<img class=\"img\" src=\"https://childsci.org/wp-content/uploads/2016/04/Fibonacci-Sequence.jpg\" height=\"200\" alt = \"Espiral Fibonacci\" title = \"\">\n",
        "\n",
        "Imprima $n$ números de la [sucesion de Fibonacci](https://es.wikipedia.org/wiki/Sucesi%C3%B3n_de_Fibonacci)\n",
        "\n",
        "\n",
        "```\n",
        "0, 1, 1, 2, 3, 5, 8, 13, 21 ...\n",
        "```"
      ]
    },
    {
      "cell_type": "code",
      "metadata": {
        "id": "Am1NHiy6xeMp"
      },
      "source": [
        ""
      ],
      "execution_count": null,
      "outputs": []
    },
    {
      "cell_type": "markdown",
      "metadata": {
        "id": "_QLEV2dP64fo"
      },
      "source": [
        "###$\\medio$  Dominó  \n",
        "\n",
        "El [Dominó](https://es.wikipedia.org/wiki/Domin%C3%B3) es un juego de mesa muy popular. \n",
        "En este ejercicio no vamos a programar un juego de Domino, pero sí contar sus fichas.\n",
        "<center>\n",
        "<img src=\"https://es.calcuworld.com/wp-content/uploads/sites/2/2018/04/cantidad-de-fichas-domino.jpg\" height=\"200\" alt = \"Fichas domino desparramadas sobre una mesa\">\n",
        "</center>\n",
        "\n",
        "A pesar de que el domino tradicional se juega con fichas hasta el número 6, vamos a considerar un juego de fichas de valor máximo $n$.\n",
        "\n",
        "- Escribir una función que calcule la cantidad de fichas para un juego de dominó completo con fichas que contienen hasta el número $n$.\n",
        "Nota: ¡No hay fichas repetidas! 2-4 es la misma ficha que 4-2. ¡Observar que en el dominó hay fichas con valor 0!\n",
        "\n",
        "```\n",
        "   cantidadFichas(3)\n",
        "   >>> 10\n",
        "   cantidadFichas(4)\n",
        "   >>> 15\n",
        "```\n",
        "\n",
        "- Escribir una función que muestre todas las fichas para un juego de dominó como el anterior, en cualquier orden.\n",
        "\n",
        "```\n",
        "   mostrarFichas(3)\n",
        "   >>> 0-0\n",
        "   >>> 0-1\n",
        "   >>> 0-2\n",
        "   >>> 0-3\n",
        "   >>> 1-1\n",
        "   >>> 1-2\n",
        "   >>> 1-3\n",
        "   >>> 2-2\n",
        "   >>> 2-3\n",
        "   >>> 3-3\n",
        "```\n",
        "\n",
        "- Llamar a las funciones anteriores con distintos valores para corroborar su funcionamiento\n",
        "\n",
        "- $\\dificil$ *Challenge*: Escribir una función que, dada una cantidad de fichas, calcule cuál es el $n$ (valor máximo) de las fichas. Si el número de fichas no corresponde a la cantidad de fichas de ningún juego de dominó completo retornar -1.\n",
        "\n",
        "```\n",
        "   valorMaximo(10)\n",
        "   >>> 3\n",
        "   valorMaximo(11)\n",
        "   >>> -1\n",
        "   valorMaximo(15)\n",
        "   >>> 4\n",
        "```\n"
      ]
    },
    {
      "cell_type": "code",
      "metadata": {
        "id": "Q5MAhD1Jb1rN"
      },
      "source": [
        ""
      ],
      "execution_count": null,
      "outputs": []
    },
    {
      "cell_type": "markdown",
      "metadata": {
        "id": "QEuKKilBAAQG"
      },
      "source": [
        "### $\\medio$ Teoría de cuerdas\n",
        "Hoy hablaremos de cuerdas. No de las que se ven en física teorica, si no las *geometricas.*\n",
        "<center>\n",
        "<img src=\"https://dr282zn36sxxg.cloudfront.net/datastreams/f-d%3Afda746e73385e476e8759e59f47b461d568c372a25943d0f7c391566%2BIMAGE_TINY%2BIMAGE_TINY.1\" alt=\"Chord length en función de un angulo\" height=250 title=\"Cuerdas\" />\n",
        "</center>\n",
        "\n",
        "Hay dos caminos posibles para llegar de $A$ a $B$. Uno es siguiendo la curvatura del circulo llamado *arco*, en la foto es la linea $\\color{green}{\\textbf{ verde}}$. \n",
        "\n",
        "La otra forma es por una linea recta, llamada *cuerda*. En la foto aparece como una linea $\\color{blue}{\\textbf{ azul}}$.\n",
        "\n",
        "\n",
        "\n",
        "*   Escribir la función $\\mathrm{arco}$, que reorne la longitud del arco entre $A$ y $B$\n",
        "*   Escribir la función $\\mathrm{cuerda}$ que retorne la longitud de la cuerda entre $A$ y $B$\n",
        "\n",
        "Suponga que  $\\pi=3.141592$\n",
        "\n",
        "Pueden usar la siguiente función para calcular el seno:\n",
        "```\n",
        "def sin(x):\n",
        "  e = (1 + 1e-8)**1e8\n",
        "  return ((e**(1j*x) - e**(-1j*x))/2j).real\n",
        "```\n",
        "\n",
        "$$\\text{Formulas útiles:     } \\arc{AB}=\\theta r, \\quad \\overline{AB}= 2 r \\sin\\left( \\frac{\\theta}{2} \\right)$$\n",
        "<p>\n",
        "$ \\mathrm{cuerda}(21,\\pi)=42$\n",
        "\n",
        "$ \\mathrm{cuerda}(400,1.3965)\\approx 514.3$\n",
        "\n",
        "\n",
        "$ \\mathrm{arco}(99,2) = 198$\n",
        "</p>\n",
        "\n",
        "$\\dificil$ *Challenge*: Modificar su código para que encuentre el camino más corto entre dos puntos a un ángulo mayor a $\\pi$\n",
        "\n",
        "$\\mathrm{arco}(99,4) \\approx 226.035$\n",
        "\n",
        "$\\mathrm{cuerda}(99,4) \\approx 180.04$\n",
        "\n",
        "$\\mathrm{cuerda}(2,600) \\approx 4$\n",
        "\n",
        "**Tips:**\n",
        "*  Para ángulos mayores a $2\\pi$ e incluso menores, se puede aplicar:  $\\theta_{\\mathrm{circulo}}=\\mathrm{mod}(\\theta,2\\pi)$\n",
        "* Para el challenge es útil hallar el ángulo más corto $\\theta_{\\mathrm{corto}}$\n"
      ]
    },
    {
      "cell_type": "code",
      "metadata": {
        "id": "ZUVcp4EAbX8g"
      },
      "source": [
        ""
      ],
      "execution_count": null,
      "outputs": []
    },
    {
      "cell_type": "markdown",
      "metadata": {
        "id": "QkV_WCR4HUA5"
      },
      "source": [
        "###$\\dificil$ Locos por las matemáticas \n",
        "En marzo 2019, Emma Haruka Iwao, una empleada de Google, logró calcular 31,4 trillones de dígitos del famoso número pi en 121 dias usando el poder de la nube de Google. ¡Hoy ustedes pueden hacer lo mismo con la ayuda de Python!\n",
        "\n",
        "Aprovechando el descubrimiento del matemático indio Sriniviasa Ramanujan (1910) podemos emplear nuestro propio aproximador de pi.\n",
        "$$ \\frac{1}{\\pi}= \\frac{2\\sqrt{2}}{9801}\\sum_{k=0}^{\\infty} \\frac{(4k)! \\cdot (1103+26390k)}{(k!)^4 396^{4k}}$$\n",
        "\n",
        "**Tips**:\n",
        "\n",
        "* Pueden utlizar la siguiente función para calcular factoriales:\n",
        "\n",
        "```\n",
        "def factorial(n):\n",
        "  if n<=1:\n",
        "    return 1\n",
        "  else:\n",
        "    return n*factorial(n-1)\n",
        "```\n",
        "$$\\textrm{factorial(4)}=4!=24 $$\n",
        "\n",
        "* Esto es un problema abierto. El valor exacto de $\\pi$ no es conocido, por lo tanto solo se puede estimar\n",
        "\n",
        "\n",
        "\n",
        "Si no estamos tan locos por la matemáticas podemos usar otras aproximaciones más simples como\n",
        "\n",
        "$$\\pi \\approx \\frac{22}{7} \\approx \\frac{355}{113} $$\n",
        "\n",
        "Otros números famosos:\n",
        "$$e = \\sum_{k=0}^\\infty \\frac{1}{k!} \\qquad e=\\lim_{x\\rightarrow\\infty} \\left( 1+\\frac{1}{x} \\right)^x \\qquad \\varphi = \\frac{1+\\sqrt{5}}{2} $$"
      ]
    },
    {
      "cell_type": "code",
      "metadata": {
        "id": "Mu1GbWGC-IW9"
      },
      "source": [
        ""
      ],
      "execution_count": null,
      "outputs": []
    }
  ]
}