{
  "nbformat": 4,
  "nbformat_minor": 0,
  "metadata": {
    "colab": {
      "name": "TP1.ipynb",
      "provenance": [],
      "collapsed_sections": [],
      "authorship_tag": "ABX9TyMO9BR+5XuBV9Xxkb8dO/Cp",
      "include_colab_link": true
    },
    "kernelspec": {
      "name": "python3",
      "display_name": "Python 3"
    }
  },
  "cells": [
    {
      "cell_type": "markdown",
      "metadata": {
        "id": "view-in-github",
        "colab_type": "text"
      },
      "source": [
        "<a href=\"https://colab.research.google.com/github/manlio99/Materia-de-aprendizaje/blob/master/4_DataWrangling/TP1.ipynb\" target=\"_parent\"><img src=\"https://colab.research.google.com/assets/colab-badge.svg\" alt=\"Open In Colab\"/></a>"
      ]
    },
    {
      "cell_type": "markdown",
      "metadata": {
        "id": "nc7ehy6GXk-v",
        "colab_type": "text"
      },
      "source": [
        "# Extracción de datos.\n",
        "\n",
        "Las fuentes de datos son muy diversas. Muchas fuentes oficiales nos proporcionan datos en línea sin procesar a los que podemos acceder directamente con bibliotecas de Python como [pandas] (https://pandas.pydata.org/). Ahora mostramos una serie de ejemplos sobre cómo trabajar con datos de __JSON__ de [Reseñas de instrumentos musicales de Amazon] (https://www.kaggle.com/eswarchandt/amazon-music-reviews/data). Para obtener una guía completa sobre cómo cargar varios tipos de datos en marcos de datos de pandas, consulte [IO tools] (https://pandas.pydata.org/pandas-docs/stable/user_guide/io.html).\n",
        "\n"
      ]
    },
    {
      "cell_type": "markdown",
      "metadata": {
        "id": "X_0KrDFoYSF4",
        "colab_type": "text"
      },
      "source": [
        "### Trabajo Practico\n",
        "\n",
        "datos: [datos.bahia.gob.ar](https://datos.bahia.gob.ar/dataset/casos-por-grupo-etario-y-sexo-de-personas-con-covid-19)\n",
        "\n",
        "        [datos link directo](https://gobiernoabierto.bahia.gob.ar/WS/3022)\n",
        "\n",
        "\n",
        "Realizar el mismo procedimiento de la [clase 1](https://github.com/manlio99/Materia-de-aprendizaje/blob/master/4_DataWrangling/01_data_extraction_nasa_esp.ipynb) para visualizar rápidamente las relaciones entre ambas variables.\n",
        "\n",
        "Como prueba de este trabajo se debe enviar el plot generado ó el archivo de python (ipynb).\n",
        "https://forms.gle/8GSFHGNzH9UctmqZ6\n",
        "\n"
      ]
    },
    {
      "cell_type": "code",
      "metadata": {
        "id": "UydWPphJctDA",
        "colab_type": "code",
        "colab": {}
      },
      "source": [
        ""
      ],
      "execution_count": null,
      "outputs": []
    },
    {
      "cell_type": "code",
      "metadata": {
        "id": "TzRAXjJ-cs2R",
        "colab_type": "code",
        "colab": {}
      },
      "source": [
        ""
      ],
      "execution_count": null,
      "outputs": []
    }
  ]
}