{
 "cells": [
  {
   "cell_type": "markdown",
   "metadata": {},
   "source": [
    "# Data extraction: NASA \n",
    "\n",
    "Data sources are very diverse. Many official sources provide us with raw online data we can directly access with python libraries like [pandas](https://pandas.pydata.org/). We now show a series of examples on retrieving raw txt spreadsheets data from [NASA GISS](https://data.giss.nasa.gov/)."
   ]
  },
  {
   "cell_type": "code",
   "execution_count": 1,
   "metadata": {},
   "outputs": [],
   "source": [
    "# Parsing will require extra help\n",
    "import csv\n",
    "import re\n",
    "import requests"
   ]
  },
  {
   "cell_type": "markdown",
   "metadata": {},
   "source": [
    "## Global Surface Air Temperature Anomaly\n",
    "\n",
    "Source: [NASA Goddard Institute for Space Studies (GISS) Surface Temperature Analysis](http://data.giss.nasa.gov/gistemp/).\n",
    "\n",
    "\n",
    "### The data file\n",
    "\n",
    "- Direct link to the source data file: [http://data.giss.nasa.gov/gistemp/graphs_v3/Fig.A.txt](http://data.giss.nasa.gov/gistemp/graphs_v3/Fig.A.txt)\n",
    "\n",
    "It contains data from 1880 to 2019 of the change in global average surface air temperature, compared to the average global temperature measured in the period __1951 to 1980__.\n",
    "\n",
    "An excerpt of the file:\n",
    "\n",
    "```\n",
    "Global Surface Air Temperature Anomaly (C) (Base: 1951-1980)\n",
    "------------------------------------------------------------\n",
    " Year  Annual_Mean 5-year_Mean\n",
    "--------------------------------\n",
    " 1880     -0.49         *\n",
    " 1881     -0.47         *\n",
    " 1882     -0.38     -0.48\n",
    " 1883     -0.39     -0.48\n",
    " 1884     -0.67     -0.52\n",
    " 1885     -0.51     -0.58\n",
    "...\n",
    " 2015      0.97      1.01\n",
    " 2016      1.24      1.05\n",
    " 2017      1.13         *\n",
    " 2018      1.05         *\n",
    " 2019         *         *\n",
    "```\n",
    "\n",
    "The years 1885 and 2016 are said to have a global average temperature of **-0.51** and **+1.24** degrees Celsius, respectively, from the average temperature as measured in the period of 1951-1980. The __5-year mean__ of 1884 -- __-0.52__ -- is the rolling average of the annual means for 1882 through 1886."
   ]
  },
  {
   "cell_type": "markdown",
   "metadata": {},
   "source": [
    "### Parsing and wrangling the temperature text file\n",
    "Let's first load the file:"
   ]
  },
  {
   "cell_type": "code",
   "execution_count": 2,
   "metadata": {},
   "outputs": [
    {
     "data": {
      "text/plain": [
       "'Global Surface Air Temperature Anomaly (C) (Base: 1951-1980)\\n------------------------------------------------------------\\n Year  Annual_Mean 5-year_Mean\\n--------------------------------\\n 1880     -0.47         *\\n 1881     -0.45         *\\n 1882     -0.36     -0.47\\n 1883     -0.38     -0.48\\n 1884     -0.67     -0.52\\n 1885     -0.54     -0.59\\n 1886     -0.67     -0.61\\n 1887     -0.71     -0.53\\n 1888     -0.48     -0.54\\n 1889     -0.23     -0.52\\n 1890     -0.59     -0.48\\n 1891     -0.58     -0.50\\n 1892     -0.52     -0.54\\n 1893     -0.56     -0.49\\n 1894     -0.43     -0.44\\n 1895     -0.36     -0.38\\n 1896     -0.32     -0.35\\n 1897     -0.22     -0.32\\n 1898     -0.40     -0.28\\n 1899     -0.32     -0.25\\n 1900     -0.16     -0.29\\n 1901     -0.17     -0.29\\n 1902     -0.38     -0.34\\n 1903     -0.44     -0.38\\n 1904     -0.56     -0.40\\n 1905     -0.36     -0.42\\n 1906     -0.24     -0.41\\n 1907     -0.53     -0.38\\n 1908     -0.38     -0.38\\n 1909     -0.40     -0.40\\n 1910     -0.33     -0.36\\n 1911     -0.36     -0.36\\n 1912     -0.34     -0.29\\n 1913     -0.34     -0.24\\n 1914     -0.09     -0.23\\n 1915     -0.08     -0.27\\n 1916     -0.31     -0.29\\n 1917     -0.53     -0.31\\n 1918     -0.43     -0.35\\n 1919     -0.20     -0.32\\n 1920     -0.29     -0.27\\n 1921     -0.17     -0.23\\n 1922     -0.25     -0.24\\n 1923     -0.27     -0.23\\n 1924     -0.23     -0.21\\n 1925     -0.24     -0.19\\n 1926     -0.04     -0.16\\n 1927     -0.17     -0.18\\n 1928     -0.11     -0.16\\n 1929     -0.33     -0.17\\n 1930     -0.16     -0.16\\n 1931     -0.10     -0.19\\n 1932     -0.12     -0.14\\n 1933     -0.25     -0.16\\n 1934     -0.10     -0.15\\n 1935     -0.22     -0.13\\n 1936     -0.09     -0.07\\n 1937     -0.00     -0.07\\n 1938      0.06     -0.01\\n 1939     -0.11      0.01\\n 1940      0.08      0.02\\n 1941      0.03      0.01\\n 1942      0.05      0.04\\n 1943     -0.01      0.01\\n 1944      0.05     -0.01\\n 1945     -0.08     -0.01\\n 1946     -0.06     -0.02\\n 1947      0.05     -0.05\\n 1948     -0.06     -0.08\\n 1949     -0.10     -0.08\\n 1950     -0.20     -0.09\\n 1951     -0.07     -0.07\\n 1952     -0.03     -0.07\\n 1953      0.06     -0.06\\n 1954     -0.14     -0.09\\n 1955     -0.13     -0.09\\n 1956     -0.24     -0.08\\n 1957      0.02     -0.05\\n 1958      0.07     -0.03\\n 1959      0.04      0.04\\n 1960     -0.03      0.04\\n 1961      0.08      0.03\\n 1962      0.02     -0.03\\n 1963      0.02     -0.06\\n 1964     -0.25     -0.09\\n 1965     -0.17     -0.10\\n 1966     -0.07     -0.12\\n 1967     -0.02     -0.07\\n 1968     -0.10     -0.02\\n 1969      0.01     -0.02\\n 1970      0.07     -0.02\\n 1971     -0.07      0.04\\n 1972     -0.02      0.03\\n 1973      0.22      0.02\\n 1974     -0.04      0.00\\n 1975      0.02      0.05\\n 1976     -0.17      0.03\\n 1977      0.22      0.08\\n 1978      0.14      0.15\\n 1979      0.21      0.27\\n 1980      0.35      0.26\\n 1981      0.44      0.31\\n 1982      0.14      0.31\\n 1983      0.40      0.28\\n 1984      0.22      0.24\\n 1985      0.20      0.30\\n 1986      0.25      0.32\\n 1987      0.41      0.35\\n 1988      0.52      0.42\\n 1989      0.38      0.48\\n 1990      0.54      0.44\\n 1991      0.53      0.39\\n 1992      0.24      0.39\\n 1993      0.27      0.40\\n 1994      0.39      0.39\\n 1995      0.57      0.45\\n 1996      0.49      0.57\\n 1997      0.55      0.61\\n 1998      0.84      0.61\\n 1999      0.59      0.64\\n 2000      0.57      0.69\\n 2001      0.67      0.68\\n 2002      0.79      0.69\\n 2003      0.77      0.76\\n 2004      0.68      0.77\\n 2005      0.87      0.79\\n 2006      0.76      0.76\\n 2007      0.85      0.78\\n 2008      0.64      0.79\\n 2009      0.78      0.79\\n 2010      0.91      0.77\\n 2011      0.78      0.81\\n 2012      0.76      0.83\\n 2013      0.81      0.84\\n 2014      0.87      0.93\\n 2015      0.97      1.01\\n 2016      1.24      1.05\\n 2017      1.13         *\\n 2018      1.05         *\\n 2019         *         *\\n\\n------------------------------------\\n'"
      ]
     },
     "execution_count": 2,
     "metadata": {},
     "output_type": "execute_result"
    }
   ],
   "source": [
    "source_data_url_temp_anomaly = 'http://data.giss.nasa.gov/gistemp/graphs_v3/Fig.A.txt'\n",
    "resp_temp_anomaly = requests.get(source_data_url_temp_anomaly)\n",
    "resp_temp_anomaly.text"
   ]
  },
  {
   "cell_type": "markdown",
   "metadata": {},
   "source": [
    "The raw string is not very useful in its current shape. We need to parse the string in order to work with it. This can be done using regular expressions and `re.findall()`. If you struggle with regular expressions, [this online editor](https://regexr.com/) may help. "
   ]
  },
  {
   "cell_type": "code",
   "execution_count": 3,
   "metadata": {
    "scrolled": true
   },
   "outputs": [
    {
     "data": {
      "text/plain": [
       "[('1880', '-0.47', '*'),\n",
       " ('1881', '-0.45', '*'),\n",
       " ('1882', '-0.36', '-0.47'),\n",
       " ('1883', '-0.38', '-0.48'),\n",
       " ('1884', '-0.67', '-0.52'),\n",
       " ('1885', '-0.54', '-0.59'),\n",
       " ('1886', '-0.67', '-0.61'),\n",
       " ('1887', '-0.71', '-0.53'),\n",
       " ('1888', '-0.48', '-0.54'),\n",
       " ('1889', '-0.23', '-0.52'),\n",
       " ('1890', '-0.59', '-0.48'),\n",
       " ('1891', '-0.58', '-0.50'),\n",
       " ('1892', '-0.52', '-0.54'),\n",
       " ('1893', '-0.56', '-0.49'),\n",
       " ('1894', '-0.43', '-0.44'),\n",
       " ('1895', '-0.36', '-0.38'),\n",
       " ('1896', '-0.32', '-0.35'),\n",
       " ('1897', '-0.22', '-0.32'),\n",
       " ('1898', '-0.40', '-0.28'),\n",
       " ('1899', '-0.32', '-0.25'),\n",
       " ('1900', '-0.16', '-0.29'),\n",
       " ('1901', '-0.17', '-0.29'),\n",
       " ('1902', '-0.38', '-0.34'),\n",
       " ('1903', '-0.44', '-0.38'),\n",
       " ('1904', '-0.56', '-0.40'),\n",
       " ('1905', '-0.36', '-0.42'),\n",
       " ('1906', '-0.24', '-0.41'),\n",
       " ('1907', '-0.53', '-0.38'),\n",
       " ('1908', '-0.38', '-0.38'),\n",
       " ('1909', '-0.40', '-0.40'),\n",
       " ('1910', '-0.33', '-0.36'),\n",
       " ('1911', '-0.36', '-0.36'),\n",
       " ('1912', '-0.34', '-0.29'),\n",
       " ('1913', '-0.34', '-0.24'),\n",
       " ('1914', '-0.09', '-0.23'),\n",
       " ('1915', '-0.08', '-0.27'),\n",
       " ('1916', '-0.31', '-0.29'),\n",
       " ('1917', '-0.53', '-0.31'),\n",
       " ('1918', '-0.43', '-0.35'),\n",
       " ('1919', '-0.20', '-0.32'),\n",
       " ('1920', '-0.29', '-0.27'),\n",
       " ('1921', '-0.17', '-0.23'),\n",
       " ('1922', '-0.25', '-0.24'),\n",
       " ('1923', '-0.27', '-0.23'),\n",
       " ('1924', '-0.23', '-0.21'),\n",
       " ('1925', '-0.24', '-0.19'),\n",
       " ('1926', '-0.04', '-0.16'),\n",
       " ('1927', '-0.17', '-0.18'),\n",
       " ('1928', '-0.11', '-0.16'),\n",
       " ('1929', '-0.33', '-0.17'),\n",
       " ('1930', '-0.16', '-0.16'),\n",
       " ('1931', '-0.10', '-0.19'),\n",
       " ('1932', '-0.12', '-0.14'),\n",
       " ('1933', '-0.25', '-0.16'),\n",
       " ('1934', '-0.10', '-0.15'),\n",
       " ('1935', '-0.22', '-0.13'),\n",
       " ('1936', '-0.09', '-0.07'),\n",
       " ('1937', '-0.00', '-0.07'),\n",
       " ('1938', '0.06', '-0.01'),\n",
       " ('1939', '-0.11', '0.01'),\n",
       " ('1940', '0.08', '0.02'),\n",
       " ('1941', '0.03', '0.01'),\n",
       " ('1942', '0.05', '0.04'),\n",
       " ('1943', '-0.01', '0.01'),\n",
       " ('1944', '0.05', '-0.01'),\n",
       " ('1945', '-0.08', '-0.01'),\n",
       " ('1946', '-0.06', '-0.02'),\n",
       " ('1947', '0.05', '-0.05'),\n",
       " ('1948', '-0.06', '-0.08'),\n",
       " ('1949', '-0.10', '-0.08'),\n",
       " ('1950', '-0.20', '-0.09'),\n",
       " ('1951', '-0.07', '-0.07'),\n",
       " ('1952', '-0.03', '-0.07'),\n",
       " ('1953', '0.06', '-0.06'),\n",
       " ('1954', '-0.14', '-0.09'),\n",
       " ('1955', '-0.13', '-0.09'),\n",
       " ('1956', '-0.24', '-0.08'),\n",
       " ('1957', '0.02', '-0.05'),\n",
       " ('1958', '0.07', '-0.03'),\n",
       " ('1959', '0.04', '0.04'),\n",
       " ('1960', '-0.03', '0.04'),\n",
       " ('1961', '0.08', '0.03'),\n",
       " ('1962', '0.02', '-0.03'),\n",
       " ('1963', '0.02', '-0.06'),\n",
       " ('1964', '-0.25', '-0.09'),\n",
       " ('1965', '-0.17', '-0.10'),\n",
       " ('1966', '-0.07', '-0.12'),\n",
       " ('1967', '-0.02', '-0.07'),\n",
       " ('1968', '-0.10', '-0.02'),\n",
       " ('1969', '0.01', '-0.02'),\n",
       " ('1970', '0.07', '-0.02'),\n",
       " ('1971', '-0.07', '0.04'),\n",
       " ('1972', '-0.02', '0.03'),\n",
       " ('1973', '0.22', '0.02'),\n",
       " ('1974', '-0.04', '0.00'),\n",
       " ('1975', '0.02', '0.05'),\n",
       " ('1976', '-0.17', '0.03'),\n",
       " ('1977', '0.22', '0.08'),\n",
       " ('1978', '0.14', '0.15'),\n",
       " ('1979', '0.21', '0.27'),\n",
       " ('1980', '0.35', '0.26'),\n",
       " ('1981', '0.44', '0.31'),\n",
       " ('1982', '0.14', '0.31'),\n",
       " ('1983', '0.40', '0.28'),\n",
       " ('1984', '0.22', '0.24'),\n",
       " ('1985', '0.20', '0.30'),\n",
       " ('1986', '0.25', '0.32'),\n",
       " ('1987', '0.41', '0.35'),\n",
       " ('1988', '0.52', '0.42'),\n",
       " ('1989', '0.38', '0.48'),\n",
       " ('1990', '0.54', '0.44'),\n",
       " ('1991', '0.53', '0.39'),\n",
       " ('1992', '0.24', '0.39'),\n",
       " ('1993', '0.27', '0.40'),\n",
       " ('1994', '0.39', '0.39'),\n",
       " ('1995', '0.57', '0.45'),\n",
       " ('1996', '0.49', '0.57'),\n",
       " ('1997', '0.55', '0.61'),\n",
       " ('1998', '0.84', '0.61'),\n",
       " ('1999', '0.59', '0.64'),\n",
       " ('2000', '0.57', '0.69'),\n",
       " ('2001', '0.67', '0.68'),\n",
       " ('2002', '0.79', '0.69'),\n",
       " ('2003', '0.77', '0.76'),\n",
       " ('2004', '0.68', '0.77'),\n",
       " ('2005', '0.87', '0.79'),\n",
       " ('2006', '0.76', '0.76'),\n",
       " ('2007', '0.85', '0.78'),\n",
       " ('2008', '0.64', '0.79'),\n",
       " ('2009', '0.78', '0.79'),\n",
       " ('2010', '0.91', '0.77'),\n",
       " ('2011', '0.78', '0.81'),\n",
       " ('2012', '0.76', '0.83'),\n",
       " ('2013', '0.81', '0.84'),\n",
       " ('2014', '0.87', '0.93'),\n",
       " ('2015', '0.97', '1.01'),\n",
       " ('2016', '1.24', '1.05'),\n",
       " ('2017', '1.13', '*'),\n",
       " ('2018', '1.05', '*'),\n",
       " ('2019', '*', '*')]"
      ]
     },
     "execution_count": 3,
     "metadata": {},
     "output_type": "execute_result"
    }
   ],
   "source": [
    "pattern_temp_anomaly     = re.compile(r'^ +(\\d{4}) +(-?\\d+\\.\\d+|[*]?) +(-?\\d+\\.\\d+|[*]?)', re.MULTILINE)\n",
    "data_tuples_temp_anomaly = re.findall(pattern_temp_anomaly, resp_temp_anomaly.text)\n",
    "data_tuples_temp_anomaly"
   ]
  },
  {
   "cell_type": "markdown",
   "metadata": {},
   "source": [
    "We are now ready to load data into a pandas dataframe. Pay special attention to how we [handle missing data](  https://pandas.pydata.org/pandas-docs/stable/user_guide/missing_data.html#missing-data) with Pandas."
   ]
  },
  {
   "cell_type": "code",
   "execution_count": 4,
   "metadata": {},
   "outputs": [
    {
     "data": {
      "text/html": [
       "<div>\n",
       "<style scoped>\n",
       "    .dataframe tbody tr th:only-of-type {\n",
       "        vertical-align: middle;\n",
       "    }\n",
       "\n",
       "    .dataframe tbody tr th {\n",
       "        vertical-align: top;\n",
       "    }\n",
       "\n",
       "    .dataframe thead th {\n",
       "        text-align: right;\n",
       "    }\n",
       "</style>\n",
       "<table border=\"1\" class=\"dataframe\">\n",
       "  <thead>\n",
       "    <tr style=\"text-align: right;\">\n",
       "      <th></th>\n",
       "      <th>Year</th>\n",
       "      <th>Annual_Mean</th>\n",
       "      <th>5-year_Mean</th>\n",
       "    </tr>\n",
       "  </thead>\n",
       "  <tbody>\n",
       "    <tr>\n",
       "      <th>0</th>\n",
       "      <td>1880</td>\n",
       "      <td>-0.47</td>\n",
       "      <td>NaN</td>\n",
       "    </tr>\n",
       "    <tr>\n",
       "      <th>1</th>\n",
       "      <td>1881</td>\n",
       "      <td>-0.45</td>\n",
       "      <td>NaN</td>\n",
       "    </tr>\n",
       "    <tr>\n",
       "      <th>2</th>\n",
       "      <td>1882</td>\n",
       "      <td>-0.36</td>\n",
       "      <td>-0.47</td>\n",
       "    </tr>\n",
       "    <tr>\n",
       "      <th>3</th>\n",
       "      <td>1883</td>\n",
       "      <td>-0.38</td>\n",
       "      <td>-0.48</td>\n",
       "    </tr>\n",
       "    <tr>\n",
       "      <th>...</th>\n",
       "      <td>...</td>\n",
       "      <td>...</td>\n",
       "      <td>...</td>\n",
       "    </tr>\n",
       "    <tr>\n",
       "      <th>136</th>\n",
       "      <td>2016</td>\n",
       "      <td>1.24</td>\n",
       "      <td>1.05</td>\n",
       "    </tr>\n",
       "    <tr>\n",
       "      <th>137</th>\n",
       "      <td>2017</td>\n",
       "      <td>1.13</td>\n",
       "      <td>NaN</td>\n",
       "    </tr>\n",
       "    <tr>\n",
       "      <th>138</th>\n",
       "      <td>2018</td>\n",
       "      <td>1.05</td>\n",
       "      <td>NaN</td>\n",
       "    </tr>\n",
       "    <tr>\n",
       "      <th>139</th>\n",
       "      <td>2019</td>\n",
       "      <td>NaN</td>\n",
       "      <td>NaN</td>\n",
       "    </tr>\n",
       "  </tbody>\n",
       "</table>\n",
       "<p>140 rows × 3 columns</p>\n",
       "</div>"
      ],
      "text/plain": [
       "     Year  Annual_Mean  5-year_Mean\n",
       "0    1880        -0.47          NaN\n",
       "1    1881        -0.45          NaN\n",
       "2    1882        -0.36        -0.47\n",
       "3    1883        -0.38        -0.48\n",
       "..    ...          ...          ...\n",
       "136  2016         1.24         1.05\n",
       "137  2017         1.13          NaN\n",
       "138  2018         1.05          NaN\n",
       "139  2019          NaN          NaN\n",
       "\n",
       "[140 rows x 3 columns]"
      ]
     },
     "execution_count": 4,
     "metadata": {},
     "output_type": "execute_result"
    }
   ],
   "source": [
    "# import pandas to use pandas DataFrame \n",
    "import pandas as pd \n",
    "pd.set_option(\"max_rows\", 8)              \n",
    "\n",
    "# create the dataframe\n",
    "df_temp_anomaly = pd.DataFrame(data_tuples_temp_anomaly, columns =['Year', 'Annual_Mean', '5-year_Mean']) \n",
    "\n",
    "# replace '*' with NaNs\n",
    "df_temp_anomaly = df_temp_anomaly.replace('*', 'nan')\n",
    "\n",
    "# use a dictionary of types to convert specific columns \n",
    "types_dict_temp_anomaly = {'Year': int, 'Annual_Mean': float, '5-year_Mean': float} \n",
    "df_temp_anomaly = df_temp_anomaly.astype(types_dict_temp_anomaly) \n",
    "\n",
    "df_temp_anomaly"
   ]
  },
  {
   "cell_type": "markdown",
   "metadata": {},
   "source": [
    "Finally, let's plot both series using seaborn and matplolib:"
   ]
  },
  {
   "cell_type": "code",
   "execution_count": 5,
   "metadata": {},
   "outputs": [
    {
     "data": {
      "text/plain": [
       "<matplotlib.axes._subplots.AxesSubplot at 0x110d39e50>"
      ]
     },
     "execution_count": 5,
     "metadata": {},
     "output_type": "execute_result"
    },
    {
     "data": {
      "image/png": "[encoded data removed]",
      "text/plain": [
       "<Figure size 432x288 with 1 Axes>"
      ]
     },
     "metadata": {},
     "output_type": "display_data"
    }
   ],
   "source": [
    "import matplotlib.pyplot as plt  \n",
    "import seaborn as sns \n",
    "%matplotlib inline  \n",
    "sns.set(style=\"darkgrid\")\n",
    "\n",
    "df_temp_anomaly.plot.line(x='Year', y=['Annual_Mean','5-year_Mean'])"
   ]
  },
  {
   "cell_type": "markdown",
   "metadata": {},
   "source": [
    "## NASA CO2 gases\n",
    "\n",
    "Source: [NASA GISS: Forcings in GISS Climate Model](http://data.giss.nasa.gov/modelforce/ghgases/).\n",
    "\n",
    "### The data file\n",
    "\n",
    "- Direct link to the source file: [http://data.giss.nasa.gov/modelforce/ghgases/Fig1A.ext.txt](http://data.giss.nasa.gov/modelforce/ghgases/Fig1A.ext.txt)\n",
    "\n",
    "The observed global average of carbon dioxide gas in parts-per million.\n",
    "\n",
    "An excerpt of the file:\n",
    "\n",
    "```\n",
    "               Global Mean CO2 Mixing Ratios (ppm): Observations\n",
    "----------------------------------------------------------------------------------\n",
    "Data                                     Data\n",
    "Source  Year  MixR          Yar   MixR   Source Year  MixR          Year  MixR\n",
    "----------------------------------------------------------------------------------\n",
    "Ice-    1850  285.2         1900  295.7         1950  311.3         2000  369.64\n",
    "Core    1851  285.1         1901  296.2         1951  311.8         2001  371.15\n",
    "Data    1852  285.0         1902  296.6         1952  312.2         2002  373.15\n",
    "Adjus-  1853  285.0         1903  297.0         1953  312.6         2003  375.64\n",
    "ted     1854  284.9         1904  297.5         1954  313.2   NOAA/ 2004  377.44\n",
    "for     1855  285.1         1905  298.0         1955  313.7   ESRL/ 2005  379.46\n",
    "Global  1856  285.4         1906  298.4         1956  314.3  trends 2006  381.59\n",
    "Mean    1857  285.6         1907  298.8         1957  314.8  change 2007  383.37\n",
    "        1858  285.9         1908  299.3  SIO    1958  315.34  added 2008  385.46\n",
    "        1859  286.1         1909  299.7  Mauna  1959  316.18     to 2009  386.95\n",
    "        1860  286.4         1910  300.1  Loa    1960  317.07   2003 2010  389.21\n",
    "        1861  286.6         1911  300.6    &    1961  317.73   data 2011  391.15\n",
    "        1862  286.7         1912  301.0  South  1962  318.43\n",
    "        1863  286.8         1913  301.3  Pole   1963  319.08\n",
    "        1864  286.9         1914  301.4  Adjus- 1964  319.65\n",
    "        1865  287.1         1915  301.6  ted    1965  320.23\n",
    "        1866  287.2         1916  302.0  for    1966  321.59\n",
    "        1867  287.3         1917  302.4  Global 1967  322.31\n",
    "        1868  287.4         1918  302.8  Mean   1968  323.04\n",
    "        1869  287.5         1919  303.0         1969  324.23\n",
    "\n",
    "```\n"
   ]
  },
  {
   "cell_type": "markdown",
   "metadata": {},
   "source": [
    "\n",
    "Notice that [the data file](data/climate/raw/nasa-ghgases-fig1A.ext.txt) contains two sections: *Observations*, and *Future Scenarios*: \n",
    "\n",
    "```\n",
    "             Global Mean CO2 Mixing Ratio (ppm): Future Scenarios\n",
    "----------------------------------------------------------------------------------\n",
    "           Alternative Scenario                 2 Degree C Scenario\n",
    "        Year  MixR      Year  MixR          Year  MixR      Year  MixR\n",
    "----------------------------------------------------------------------------------\n",
    "        2000  370.0     2050  445.0         2000  370.0     2050  486.2\n",
    "        2001  371.7     2051  446.2         2001  371.7     2051  489.2\n",
    "        2002  373.4     2052  447.4         2002  373.4     2052  492.1\n",
    "        2003  375.1     2053  448.5         2003  375.1     2053  494.9\n",
    "```\n",
    "\n",
    "Let's asume we just want to wrangle only the data _before_ the future scenarios section:"
   ]
  },
  {
   "cell_type": "code",
   "execution_count": 6,
   "metadata": {
    "scrolled": false
   },
   "outputs": [
    {
     "data": {
      "text/plain": [
       "'               Global Mean CO2 Mixing Ratios (ppm): Observations\\n----------------------------------------------------------------------------------\\nData                                     Data\\nSource  Year  MixR          Yar   MixR   Source Year  MixR          Year  MixR\\n----------------------------------------------------------------------------------\\nIce-    1850  285.2         1900  295.7         1950  311.3         2000  369.64\\nCore    1851  285.1         1901  296.2         1951  311.8         2001  371.15\\nData    1852  285.0         1902  296.6         1952  312.2         2002  373.15\\nAdjus-  1853  285.0         1903  297.0         1953  312.6         2003  375.64\\nted     1854  284.9         1904  297.5         1954  313.2   NOAA/ 2004  377.44\\nfor     1855  285.1         1905  298.0         1955  313.7   ESRL/ 2005  379.46\\nGlobal  1856  285.4         1906  298.4         1956  314.3  trends 2006  381.59\\nMean    1857  285.6         1907  298.8         1957  314.8  change 2007  383.37\\n        1858  285.9         1908  299.3  SIO    1958  315.34  added 2008  385.46\\n        1859  286.1         1909  299.7  Mauna  1959  316.18     to 2009  386.95\\n        1860  286.4         1910  300.1  Loa    1960  317.07   2003 2010  389.21\\n        1861  286.6         1911  300.6    &    1961  317.73   data 2011  391.15\\n        1862  286.7         1912  301.0  South  1962  318.43\\n        1863  286.8         1913  301.3  Pole   1963  319.08\\n        1864  286.9         1914  301.4  Adjus- 1964  319.65\\n        1865  287.1         1915  301.6  ted    1965  320.23\\n        1866  287.2         1916  302.0  for    1966  321.59\\n        1867  287.3         1917  302.4  Global 1967  322.31\\n        1868  287.4         1918  302.8  Mean   1968  323.04\\n        1869  287.5         1919  303.0         1969  324.23\\n        1870  287.7         1920  303.4         1970  325.54\\n        1871  287.9         1921  303.7         1971  326.42\\n        1872  288.0         1922  304.1         1972  327.45\\n        1873  288.2         1923  304.5         1973  329.43\\n        1874  288.4         1924  304.9         1974  330.21\\n        1875  288.6         1925  305.3  CMDL   1975  331.36\\n        1876  288.7         1926  305.8  InSitu 1976  331.92\\n        1877  288.9         1927  306.2  Mauna  1977  333.73\\n        1878  289.5         1928  306.6  Loa    1978  335.42\\n        1879  290.1         1929  307.2    &    1979  337.10\\n        1880  290.8         1930  307.5  South  1980  338.99\\n        1881  291.4         1931  308.0  Pole   1981  340.36\\n        1882  292.0         1932  308.3         1982  341.57\\n        1883  292.5         1933  308.9  CMDL   1983  342.53\\n        1884  292.9         1934  309.3  Flask  1984  344.24\\n        1885  293.3         1935  309.7  Mean   1985  345.72\\n        1886  293.8         1936  310.1  of     1986  347.15\\n        1887  294.0         1937  310.6  Many   1987  348.93\\n        1888  294.1         1938  311.0  Sites  1988  351.47\\n        1889  294.2         1939  311.2         1989  353.15\\n        1890  294.4         1940  311.3         1990  354.29\\n        1891  294.6         1941  311.0         1991  355.68\\n        1892  294.8         1942  310.7         1992  356.42\\n        1893  294.7         1943  310.5         1993  357.13\\n        1894  294.8         1944  310.2         1994  358.61\\n        1895  294.8         1945  310.3         1995  360.67\\n        1896  294.9         1946  310.3         1996  362.58\\n        1897  294.9         1947  310.4         1997  363.48\\n        1898  294.9         1948  310.5         1998  366.27\\n        1899  295.3         1949  310.9         1999  368.38\\n----------------------------------------------------------------------------------\\n\\n\\n             Global Mean CO2 Mixing Ratio (ppm): Future Scenarios\\n----------------------------------------------------------------------------------\\n           Alternative Scenario                 2 Degree C Scenario\\n        Year  MixR      Year  MixR          Year  MixR      Year  MixR\\n----------------------------------------------------------------------------------\\n        2000  370.0     2050  445.0         2000  370.0     2050  486.2\\n        2001  371.7     2051  446.2         2001  371.7     2051  489.2\\n        2002  373.4     2052  447.4         2002  373.4     2052  492.1\\n        2003  375.1     2053  448.5         2003  375.1     2053  494.9\\n        2004  376.8     2054  449.6         2004  376.9     2054  497.6\\n        2005  378.4     2055  450.8         2005  378.7     2055  500.4\\n        2006  380.1     2056  451.8         2006  380.5     2056  503.0\\n        2007  381.7     2057  452.9         2007  382.3     2057  505.6\\n        2008  383.4     2058  453.9         2008  384.2     2058  508.1\\n        2009  385.0     2059  454.9         2009  386.2     2059  510.6\\n        2010  386.6     2060  455.9         2010  388.0     2060  513.0\\n        2011  388.2     2061  456.9         2011  390.0     2061  515.4\\n        2012  389.9     2062  457.8         2012  392.0     2062  517.7\\n        2013  391.5     2063  458.7         2013  394.0     2063  519.8\\n        2014  393.1     2064  459.6         2014  396.0     2064  522.0\\n        2015  394.6     2065  460.4         2015  398.0     2065  524.1\\n        2016  396.2     2066  461.3         2016  400.1     2066  526.2\\n        2017  397.8     2067  462.1         2017  402.3     2067  528.1\\n        2018  399.4     2068  462.9         2018  404.4     2068  530.1\\n        2019  400.9     2069  463.6         2019  406.5     2069  532.0\\n        2020  402.5     2070  464.4         2020  408.7     2070  533.8\\n        2021  404.0     2071  465.1         2021  410.9     2071  535.5\\n        2022  405.5     2072  465.7         2022  413.1     2072  537.2\\n        2023  407.0     2073  466.4         2023  415.4     2073  538.8\\n        2024  408.5     2074  467.0         2024  417.7     2074  540.3\\n        2025  410.0     2075  467.6         2025  420.0     2075  541.8\\n        2026  411.5     2076  468.2         2026  422.4     2076  543.3\\n        2027  413.0     2077  468.8         2027  424.7     2077  544.7\\n        2028  414.5     2078  469.3         2028  427.1     2078  546.0\\n        2029  416.0     2079  469.9         2029  429.5     2079  547.3\\n        2030  417.5     2080  470.4         2030  432.0     2080  548.5\\n        2031  418.9     2081  470.8         2031  434.4     2081  549.7\\n        2032  420.4     2082  471.2         2032  436.9     2082  550.8\\n        2033  421.8     2083  471.7         2033  439.5     2083  551.7\\n        2034  423.2     2084  472.1         2034  442.0     2084  552.7\\n        2035  424.6     2085  472.4         2035  444.5     2085  553.6\\n        2036  426.1     2086  472.8         2036  447.1     2086  554.5\\n        2037  427.5     2087  473.1         2037  449.8     2087  555.2\\n        2038  428.9     2088  473.4         2038  452.5     2088  556.0\\n        2039  430.2     2089  473.6         2039  455.1     2089  556.7\\n        2040  431.6     2090  473.9         2040  457.8     2090  557.2\\n        2041  433.0     2091  474.1         2041  460.5     2091  557.8\\n        2042  434.4     2092  474.3         2042  463.2     2092  558.3\\n        2043  435.7     2093  474.5         2043  466.0     2093  558.7\\n        2044  437.1     2094  474.6         2044  468.9     2094  559.0\\n        2045  438.4     2095  474.8         2045  471.7     2095  559.3\\n        2046  439.8     2096  474.9         2046  474.5     2096  559.6\\n        2047  441.1     2097  474.9         2047  477.4     2097  559.8\\n        2048  442.4     2098  475.0         2048  480.3     2098  560.0\\n        2049  443.7     2099  475.0         2049  483.3     2099  560.0\\n----------------------------------------------------------------------------------\\n\\n\\n                              References\\n\\n1850-1957: D.M. Etheridge, L.P. Steele, R.L. Langenfelds, R.J. Francey,\\n   J.-M. Barnola and V.I. Morgan, 1996, J. Geophys. Res., 101, 4115-4128,\\n   \"Natural and anthroupogenic changes in atmospheric CO2 over the last\\n   1000 years from air in Antarctic ice and firn\".\\n1958-1974: Means of Scripps Institution of Oceanography Continuous Data\\n   at Mauna Loa and South Pole provided by KenMaarie (personal communication)\\n1975-1982: Means of NOAA/CMDL in-situ data at Mauna Loa and South Pole.\\n   (P. Tans and K.W. Thoning, ftp://ftp.cmdl.noaa.gov/ccg/co2/in-situ)\\n1983-2003: Global means constructed using about 70 CMDL CCGG Sampling Network\\n   station data. (P.P. Tans and T.J. Conway, ftp://ftp.cmdl.noaa.gov/ccg/co2/flask)\\n2004-2007: Global mean growth rates. (T. Conway, ftp://ftp.cmdl.noaa.gov/ccg/co2/trends)\\n'"
      ]
     },
     "execution_count": 6,
     "metadata": {},
     "output_type": "execute_result"
    }
   ],
   "source": [
    "# read the gases data to file\n",
    "source_data_url_co2 = 'http://data.giss.nasa.gov/modelforce/ghgases/Fig1A.ext.txt'\n",
    "resp_co2 = requests.get(source_data_url_co2)\n",
    "txt_co2 = resp_co2.text\n",
    "txt_co2"
   ]
  },
  {
   "cell_type": "markdown",
   "metadata": {},
   "source": [
    "We count the number of lines in the file before *Future Scenarios* and create an excerpt of the full string:"
   ]
  },
  {
   "cell_type": "code",
   "execution_count": 7,
   "metadata": {},
   "outputs": [
    {
     "name": "stdout",
     "output_type": "stream",
     "text": [
      "Future Scenarios starts at line 58 \n"
     ]
    }
   ],
   "source": [
    "# Count lines\n",
    "stop_line_num = [x.strip() for x in txt_co2.splitlines()].index('Global Mean CO2 Mixing Ratio (ppm): Future Scenarios')\n",
    "print('Future Scenarios starts at line {} '.format(stop_line_num))"
   ]
  },
  {
   "cell_type": "code",
   "execution_count": 8,
   "metadata": {},
   "outputs": [
    {
     "data": {
      "text/plain": [
       "'               Global Mean CO2 Mixing Ratios (ppm): Observations\\n----------------------------------------------------------------------------------\\nData                                     Data\\nSource  Year  MixR          Yar   MixR   Source Year  MixR          Year  MixR\\n----------------------------------------------------------------------------------\\nIce-    1850  285.2         1900  295.7         1950  311.3         2000  369.64\\nCore    1851  285.1         1901  296.2         1951  311.8         2001  371.15\\nData    1852  285.0         1902  296.6         1952  312.2         2002  373.15\\nAdjus-  1853  285.0         1903  297.0         1953  312.6         2003  375.64\\nted     1854  284.9         1904  297.5         1954  313.2   NOAA/ 2004  377.44\\nfor     1855  285.1         1905  298.0         1955  313.7   ESRL/ 2005  379.46\\nGlobal  1856  285.4         1906  298.4         1956  314.3  trends 2006  381.59\\nMean    1857  285.6         1907  298.8         1957  314.8  change 2007  383.37\\n        1858  285.9         1908  299.3  SIO    1958  315.34  added 2008  385.46\\n        1859  286.1         1909  299.7  Mauna  1959  316.18     to 2009  386.95\\n        1860  286.4         1910  300.1  Loa    1960  317.07   2003 2010  389.21\\n        1861  286.6         1911  300.6    &    1961  317.73   data 2011  391.15\\n        1862  286.7         1912  301.0  South  1962  318.43\\n        1863  286.8         1913  301.3  Pole   1963  319.08\\n        1864  286.9         1914  301.4  Adjus- 1964  319.65\\n        1865  287.1         1915  301.6  ted    1965  320.23\\n        1866  287.2         1916  302.0  for    1966  321.59\\n        1867  287.3         1917  302.4  Global 1967  322.31\\n        1868  287.4         1918  302.8  Mean   1968  323.04\\n        1869  287.5         1919  303.0         1969  324.23\\n        1870  287.7         1920  303.4         1970  325.54\\n        1871  287.9         1921  303.7         1971  326.42\\n        1872  288.0         1922  304.1         1972  327.45\\n        1873  288.2         1923  304.5         1973  329.43\\n        1874  288.4         1924  304.9         1974  330.21\\n        1875  288.6         1925  305.3  CMDL   1975  331.36\\n        1876  288.7         1926  305.8  InSitu 1976  331.92\\n        1877  288.9         1927  306.2  Mauna  1977  333.73\\n        1878  289.5         1928  306.6  Loa    1978  335.42\\n        1879  290.1         1929  307.2    &    1979  337.10\\n        1880  290.8         1930  307.5  South  1980  338.99\\n        1881  291.4         1931  308.0  Pole   1981  340.36\\n        1882  292.0         1932  308.3         1982  341.57\\n        1883  292.5         1933  308.9  CMDL   1983  342.53\\n        1884  292.9         1934  309.3  Flask  1984  344.24\\n        1885  293.3         1935  309.7  Mean   1985  345.72\\n        1886  293.8         1936  310.1  of     1986  347.15\\n        1887  294.0         1937  310.6  Many   1987  348.93\\n        1888  294.1         1938  311.0  Sites  1988  351.47\\n        1889  294.2         1939  311.2         1989  353.15\\n        1890  294.4         1940  311.3         1990  354.29\\n        1891  294.6         1941  311.0         1991  355.68\\n        1892  294.8         1942  310.7         1992  356.42\\n        1893  294.7         1943  310.5         1993  357.13\\n        1894  294.8         1944  310.2         1994  358.61\\n        1895  294.8         1945  310.3         1995  360.67\\n        1896  294.9         1946  310.3         1996  362.58\\n        1897  294.9         1947  310.4         1997  363.48\\n        1898  294.9         1948  310.5         1998  366.27\\n        1899  295.3         1949  310.9         1999  368.38\\n----------------------------------------------------------------------------------\\n\\n'"
      ]
     },
     "execution_count": 8,
     "metadata": {},
     "output_type": "execute_result"
    }
   ],
   "source": [
    "# get the lines before Future Scenarios section\n",
    "excerpt = \"\\n\".join(txt_co2.splitlines()[:stop_line_num])\n",
    "excerpt"
   ]
  },
  {
   "cell_type": "code",
   "execution_count": 9,
   "metadata": {
    "scrolled": true
   },
   "outputs": [
    {
     "data": {
      "text/plain": [
       "[('1850', '285.2'),\n",
       " ('1900', '295.7'),\n",
       " ('1950', '311.3'),\n",
       " ('2000', '369.64'),\n",
       " ('1851', '285.1'),\n",
       " ('1901', '296.2'),\n",
       " ('1951', '311.8'),\n",
       " ('2001', '371.15'),\n",
       " ('1852', '285.0'),\n",
       " ('1902', '296.6'),\n",
       " ('1952', '312.2'),\n",
       " ('2002', '373.15'),\n",
       " ('1853', '285.0'),\n",
       " ('1903', '297.0'),\n",
       " ('1953', '312.6'),\n",
       " ('2003', '375.64'),\n",
       " ('1854', '284.9'),\n",
       " ('1904', '297.5'),\n",
       " ('1954', '313.2'),\n",
       " ('2004', '377.44'),\n",
       " ('1855', '285.1'),\n",
       " ('1905', '298.0'),\n",
       " ('1955', '313.7'),\n",
       " ('2005', '379.46'),\n",
       " ('1856', '285.4'),\n",
       " ('1906', '298.4'),\n",
       " ('1956', '314.3'),\n",
       " ('2006', '381.59'),\n",
       " ('1857', '285.6'),\n",
       " ('1907', '298.8'),\n",
       " ('1957', '314.8'),\n",
       " ('2007', '383.37'),\n",
       " ('1858', '285.9'),\n",
       " ('1908', '299.3'),\n",
       " ('1958', '315.34'),\n",
       " ('2008', '385.46'),\n",
       " ('1859', '286.1'),\n",
       " ('1909', '299.7'),\n",
       " ('1959', '316.18'),\n",
       " ('2009', '386.95'),\n",
       " ('1860', '286.4'),\n",
       " ('1910', '300.1'),\n",
       " ('1960', '317.07'),\n",
       " ('2010', '389.21'),\n",
       " ('1861', '286.6'),\n",
       " ('1911', '300.6'),\n",
       " ('1961', '317.73'),\n",
       " ('2011', '391.15'),\n",
       " ('1862', '286.7'),\n",
       " ('1912', '301.0'),\n",
       " ('1962', '318.43'),\n",
       " ('1863', '286.8'),\n",
       " ('1913', '301.3'),\n",
       " ('1963', '319.08'),\n",
       " ('1864', '286.9'),\n",
       " ('1914', '301.4'),\n",
       " ('1964', '319.65'),\n",
       " ('1865', '287.1'),\n",
       " ('1915', '301.6'),\n",
       " ('1965', '320.23'),\n",
       " ('1866', '287.2'),\n",
       " ('1916', '302.0'),\n",
       " ('1966', '321.59'),\n",
       " ('1867', '287.3'),\n",
       " ('1917', '302.4'),\n",
       " ('1967', '322.31'),\n",
       " ('1868', '287.4'),\n",
       " ('1918', '302.8'),\n",
       " ('1968', '323.04'),\n",
       " ('1869', '287.5'),\n",
       " ('1919', '303.0'),\n",
       " ('1969', '324.23'),\n",
       " ('1870', '287.7'),\n",
       " ('1920', '303.4'),\n",
       " ('1970', '325.54'),\n",
       " ('1871', '287.9'),\n",
       " ('1921', '303.7'),\n",
       " ('1971', '326.42'),\n",
       " ('1872', '288.0'),\n",
       " ('1922', '304.1'),\n",
       " ('1972', '327.45'),\n",
       " ('1873', '288.2'),\n",
       " ('1923', '304.5'),\n",
       " ('1973', '329.43'),\n",
       " ('1874', '288.4'),\n",
       " ('1924', '304.9'),\n",
       " ('1974', '330.21'),\n",
       " ('1875', '288.6'),\n",
       " ('1925', '305.3'),\n",
       " ('1975', '331.36'),\n",
       " ('1876', '288.7'),\n",
       " ('1926', '305.8'),\n",
       " ('1976', '331.92'),\n",
       " ('1877', '288.9'),\n",
       " ('1927', '306.2'),\n",
       " ('1977', '333.73'),\n",
       " ('1878', '289.5'),\n",
       " ('1928', '306.6'),\n",
       " ('1978', '335.42'),\n",
       " ('1879', '290.1'),\n",
       " ('1929', '307.2'),\n",
       " ('1979', '337.10'),\n",
       " ('1880', '290.8'),\n",
       " ('1930', '307.5'),\n",
       " ('1980', '338.99'),\n",
       " ('1881', '291.4'),\n",
       " ('1931', '308.0'),\n",
       " ('1981', '340.36'),\n",
       " ('1882', '292.0'),\n",
       " ('1932', '308.3'),\n",
       " ('1982', '341.57'),\n",
       " ('1883', '292.5'),\n",
       " ('1933', '308.9'),\n",
       " ('1983', '342.53'),\n",
       " ('1884', '292.9'),\n",
       " ('1934', '309.3'),\n",
       " ('1984', '344.24'),\n",
       " ('1885', '293.3'),\n",
       " ('1935', '309.7'),\n",
       " ('1985', '345.72'),\n",
       " ('1886', '293.8'),\n",
       " ('1936', '310.1'),\n",
       " ('1986', '347.15'),\n",
       " ('1887', '294.0'),\n",
       " ('1937', '310.6'),\n",
       " ('1987', '348.93'),\n",
       " ('1888', '294.1'),\n",
       " ('1938', '311.0'),\n",
       " ('1988', '351.47'),\n",
       " ('1889', '294.2'),\n",
       " ('1939', '311.2'),\n",
       " ('1989', '353.15'),\n",
       " ('1890', '294.4'),\n",
       " ('1940', '311.3'),\n",
       " ('1990', '354.29'),\n",
       " ('1891', '294.6'),\n",
       " ('1941', '311.0'),\n",
       " ('1991', '355.68'),\n",
       " ('1892', '294.8'),\n",
       " ('1942', '310.7'),\n",
       " ('1992', '356.42'),\n",
       " ('1893', '294.7'),\n",
       " ('1943', '310.5'),\n",
       " ('1993', '357.13'),\n",
       " ('1894', '294.8'),\n",
       " ('1944', '310.2'),\n",
       " ('1994', '358.61'),\n",
       " ('1895', '294.8'),\n",
       " ('1945', '310.3'),\n",
       " ('1995', '360.67'),\n",
       " ('1896', '294.9'),\n",
       " ('1946', '310.3'),\n",
       " ('1996', '362.58'),\n",
       " ('1897', '294.9'),\n",
       " ('1947', '310.4'),\n",
       " ('1997', '363.48'),\n",
       " ('1898', '294.9'),\n",
       " ('1948', '310.5'),\n",
       " ('1998', '366.27'),\n",
       " ('1899', '295.3'),\n",
       " ('1949', '310.9'),\n",
       " ('1999', '368.38')]"
      ]
     },
     "execution_count": 9,
     "metadata": {},
     "output_type": "execute_result"
    }
   ],
   "source": [
    "# Get the tuples\n",
    "pattern_co2     = re.compile(r'(\\b\\d{4})  (\\d{3}\\.\\d{1,2}\\b)')\n",
    "data_tuples_co2 = re.findall(pattern_co2, excerpt)\n",
    "data_tuples_co2"
   ]
  },
  {
   "cell_type": "markdown",
   "metadata": {},
   "source": [
    "Now we are ready to parse the file into a dataframe:"
   ]
  },
  {
   "cell_type": "code",
   "execution_count": 10,
   "metadata": {},
   "outputs": [
    {
     "data": {
      "text/html": [
       "<div>\n",
       "<style scoped>\n",
       "    .dataframe tbody tr th:only-of-type {\n",
       "        vertical-align: middle;\n",
       "    }\n",
       "\n",
       "    .dataframe tbody tr th {\n",
       "        vertical-align: top;\n",
       "    }\n",
       "\n",
       "    .dataframe thead th {\n",
       "        text-align: right;\n",
       "    }\n",
       "</style>\n",
       "<table border=\"1\" class=\"dataframe\">\n",
       "  <thead>\n",
       "    <tr style=\"text-align: right;\">\n",
       "      <th></th>\n",
       "      <th>Year</th>\n",
       "      <th>MixR</th>\n",
       "    </tr>\n",
       "  </thead>\n",
       "  <tbody>\n",
       "    <tr>\n",
       "      <th>0</th>\n",
       "      <td>1850</td>\n",
       "      <td>285.20</td>\n",
       "    </tr>\n",
       "    <tr>\n",
       "      <th>4</th>\n",
       "      <td>1851</td>\n",
       "      <td>285.10</td>\n",
       "    </tr>\n",
       "    <tr>\n",
       "      <th>8</th>\n",
       "      <td>1852</td>\n",
       "      <td>285.00</td>\n",
       "    </tr>\n",
       "    <tr>\n",
       "      <th>12</th>\n",
       "      <td>1853</td>\n",
       "      <td>285.00</td>\n",
       "    </tr>\n",
       "    <tr>\n",
       "      <th>...</th>\n",
       "      <td>...</td>\n",
       "      <td>...</td>\n",
       "    </tr>\n",
       "    <tr>\n",
       "      <th>35</th>\n",
       "      <td>2008</td>\n",
       "      <td>385.46</td>\n",
       "    </tr>\n",
       "    <tr>\n",
       "      <th>39</th>\n",
       "      <td>2009</td>\n",
       "      <td>386.95</td>\n",
       "    </tr>\n",
       "    <tr>\n",
       "      <th>43</th>\n",
       "      <td>2010</td>\n",
       "      <td>389.21</td>\n",
       "    </tr>\n",
       "    <tr>\n",
       "      <th>47</th>\n",
       "      <td>2011</td>\n",
       "      <td>391.15</td>\n",
       "    </tr>\n",
       "  </tbody>\n",
       "</table>\n",
       "<p>162 rows × 2 columns</p>\n",
       "</div>"
      ],
      "text/plain": [
       "    Year    MixR\n",
       "0   1850  285.20\n",
       "4   1851  285.10\n",
       "8   1852  285.00\n",
       "12  1853  285.00\n",
       "..   ...     ...\n",
       "35  2008  385.46\n",
       "39  2009  386.95\n",
       "43  2010  389.21\n",
       "47  2011  391.15\n",
       "\n",
       "[162 rows x 2 columns]"
      ]
     },
     "execution_count": 10,
     "metadata": {},
     "output_type": "execute_result"
    }
   ],
   "source": [
    "# create the dataframe\n",
    "df_co2 = pd.DataFrame(data_tuples_co2, columns =['Year', 'MixR']) \n",
    "\n",
    "# use a dictionary of types to convert specific columns \n",
    "types_dict_co2 = {'Year': int, 'MixR': float} \n",
    "df_co2 = df_co2.astype(types_dict_co2) \n",
    "\n",
    "# sort by year\n",
    "df_co2 = df_co2.sort_values(by=['Year'])\n",
    "\n",
    "df_co2"
   ]
  },
  {
   "cell_type": "code",
   "execution_count": 11,
   "metadata": {},
   "outputs": [
    {
     "data": {
      "text/plain": [
       "<matplotlib.axes._subplots.AxesSubplot at 0x110e05390>"
      ]
     },
     "execution_count": 11,
     "metadata": {},
     "output_type": "execute_result"
    },
    {
     "data": {
      "image/png": "[encoded data removed]",
      "text/plain": [
       "<Figure size 432x288 with 1 Axes>"
      ]
     },
     "metadata": {},
     "output_type": "display_data"
    }
   ],
   "source": [
    "# And plot\n",
    "df_co2.plot.line(x='Year', y='MixR')"
   ]
  },
  {
   "cell_type": "markdown",
   "metadata": {},
   "source": [
    "We can combine data from both files, temperature anomalies and co2 levels into a single dataframe using [df.merge](https://pandas.pydata.org/pandas-docs/stable/user_guide/merging.html):"
   ]
  },
  {
   "cell_type": "code",
   "execution_count": 12,
   "metadata": {},
   "outputs": [
    {
     "data": {
      "text/html": [
       "<div>\n",
       "<style scoped>\n",
       "    .dataframe tbody tr th:only-of-type {\n",
       "        vertical-align: middle;\n",
       "    }\n",
       "\n",
       "    .dataframe tbody tr th {\n",
       "        vertical-align: top;\n",
       "    }\n",
       "\n",
       "    .dataframe thead th {\n",
       "        text-align: right;\n",
       "    }\n",
       "</style>\n",
       "<table border=\"1\" class=\"dataframe\">\n",
       "  <thead>\n",
       "    <tr style=\"text-align: right;\">\n",
       "      <th></th>\n",
       "      <th>MixR</th>\n",
       "      <th>Annual_Mean</th>\n",
       "    </tr>\n",
       "    <tr>\n",
       "      <th>Year</th>\n",
       "      <th></th>\n",
       "      <th></th>\n",
       "    </tr>\n",
       "  </thead>\n",
       "  <tbody>\n",
       "    <tr>\n",
       "      <th>1880</th>\n",
       "      <td>290.80</td>\n",
       "      <td>-0.47</td>\n",
       "    </tr>\n",
       "    <tr>\n",
       "      <th>1881</th>\n",
       "      <td>291.40</td>\n",
       "      <td>-0.45</td>\n",
       "    </tr>\n",
       "    <tr>\n",
       "      <th>1882</th>\n",
       "      <td>292.00</td>\n",
       "      <td>-0.36</td>\n",
       "    </tr>\n",
       "    <tr>\n",
       "      <th>1883</th>\n",
       "      <td>292.50</td>\n",
       "      <td>-0.38</td>\n",
       "    </tr>\n",
       "    <tr>\n",
       "      <th>...</th>\n",
       "      <td>...</td>\n",
       "      <td>...</td>\n",
       "    </tr>\n",
       "    <tr>\n",
       "      <th>2008</th>\n",
       "      <td>385.46</td>\n",
       "      <td>0.64</td>\n",
       "    </tr>\n",
       "    <tr>\n",
       "      <th>2009</th>\n",
       "      <td>386.95</td>\n",
       "      <td>0.78</td>\n",
       "    </tr>\n",
       "    <tr>\n",
       "      <th>2010</th>\n",
       "      <td>389.21</td>\n",
       "      <td>0.91</td>\n",
       "    </tr>\n",
       "    <tr>\n",
       "      <th>2011</th>\n",
       "      <td>391.15</td>\n",
       "      <td>0.78</td>\n",
       "    </tr>\n",
       "  </tbody>\n",
       "</table>\n",
       "<p>132 rows × 2 columns</p>\n",
       "</div>"
      ],
      "text/plain": [
       "        MixR  Annual_Mean\n",
       "Year                     \n",
       "1880  290.80        -0.47\n",
       "1881  291.40        -0.45\n",
       "1882  292.00        -0.36\n",
       "1883  292.50        -0.38\n",
       "...      ...          ...\n",
       "2008  385.46         0.64\n",
       "2009  386.95         0.78\n",
       "2010  389.21         0.91\n",
       "2011  391.15         0.78\n",
       "\n",
       "[132 rows x 2 columns]"
      ]
     },
     "execution_count": 12,
     "metadata": {},
     "output_type": "execute_result"
    }
   ],
   "source": [
    "# We merge both dataframes using Year as the merging key\n",
    "df_temp_anomaly_co2 = pd.merge(df_co2, df_temp_anomaly, on='Year')\n",
    "\n",
    "# Drop the 5-year_Mean column\n",
    "df_temp_anomaly_co2 = df_temp_anomaly_co2.drop(columns=['5-year_Mean'])\n",
    "\n",
    "# Set Year as the index\n",
    "df_temp_anomaly_co2 = df_temp_anomaly_co2.set_index('Year')\n",
    "df_temp_anomaly_co2"
   ]
  },
  {
   "cell_type": "markdown",
   "metadata": {},
   "source": [
    "Finally, we can quickly visualize the relations between both variables __MixR__ and __Annual_Mean__ with [seaborn.pariplot](https://seaborn.pydata.org/generated/seaborn.pairplot.html)"
   ]
  },
  {
   "cell_type": "code",
   "execution_count": 13,
   "metadata": {},
   "outputs": [
    {
     "data": {
      "text/plain": [
       "<seaborn.axisgrid.PairGrid at 0x110f80450>"
      ]
     },
     "execution_count": 13,
     "metadata": {},
     "output_type": "execute_result"
    },
    {
     "data": {
      "image/png": "[encoded data removed]",
      "text/plain": [
       "<Figure size 576x576 with 6 Axes>"
      ]
     },
     "metadata": {},
     "output_type": "display_data"
    }
   ],
   "source": [
    "sns.set(style=\"ticks\", color_codes=True)\n",
    "sns.pairplot(df_temp_anomaly_co2, kind=\"reg\", markers=\"+\",height=4)"
   ]
  }
 ],
 "metadata": {
  "kernelspec": {
   "display_name": "Python 3",
   "language": "python",
   "name": "python3"
  },
  "language_info": {
   "codemirror_mode": {
    "name": "ipython",
    "version": 3
   },
   "file_extension": ".py",
   "mimetype": "text/x-python",
   "name": "python",
   "nbconvert_exporter": "python",
   "pygments_lexer": "ipython3",
   "version": "3.7.4"
  }
 },
 "nbformat": 4,
 "nbformat_minor": 1
}
