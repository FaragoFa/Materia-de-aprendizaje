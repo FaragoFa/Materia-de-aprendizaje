{
  "nbformat": 4,
  "nbformat_minor": 0,
  "metadata": {
    "kernelspec": {
      "display_name": "Python 3",
      "language": "python",
      "name": "python3"
    },
    "language_info": {
      "codemirror_mode": {
        "name": "ipython",
        "version": 3
      },
      "file_extension": ".py",
      "mimetype": "text/x-python",
      "name": "python",
      "nbconvert_exporter": "python",
      "pygments_lexer": "ipython3",
      "version": "3.7.4"
    },
    "colab": {
      "name": "2_classification.ipynb",
      "provenance": [],
      "collapsed_sections": [],
      "include_colab_link": true
    }
  },
  "cells": [
    {
      "cell_type": "markdown",
      "metadata": {
        "id": "view-in-github",
        "colab_type": "text"
      },
      "source": [
        "<a href=\"https://colab.research.google.com/github/manlio99/Materia-de-aprendizaje/blob/master/5_DataMining/2_classification.ipynb\" target=\"_parent\"><img src=\"https://colab.research.google.com/assets/colab-badge.svg\" alt=\"Open In Colab\"/></a>"
      ]
    },
    {
      "cell_type": "markdown",
      "metadata": {
        "id": "s47xNkLXtYfk"
      },
      "source": [
        "## Aprendizaje de Máquina\n",
        "\n",
        "El aprendizaje de máquina consiste en crear programas con parámetros ajustables que se ajustan automáticamente para mejorar su comportamiento adaptándose a los datos vistos anteriormente.\n",
        "\n",
        "El aprendizaje de máquina puede considerarse un subcampo de la inteligencia artificial, ya que esos algoritmos pueden verse como bloques de construcción para hacer que las computadoras aprendan a comportarse de manera más inteligente al generalizar de alguna manera en lugar de almacenar y recuperar elementos de datos como lo haría un sistema de base de datos.\n"
      ]
    },
    {
      "cell_type": "markdown",
      "metadata": {
        "id": "uWYB1iHE5fBq"
      },
      "source": [
        "#Clasificación con Scikit-Learn"
      ]
    },
    {
      "cell_type": "markdown",
      "metadata": {
        "id": "sK20Ky_wt13_"
      },
      "source": [
        "Scikit-learn tiene un conjunto de datos muy sencillo sobre estas especies de plantas. Los datos consisten en lo siguiente:\n",
        "\n",
        "Características en el dataset Iris: largo del sépalo (cm), ancho del sépalo (cm), largo del pétalo (cm), ancho del pétalo (cm).\n",
        "\n",
        "Clases de destino para predecir: Setosa, Versicolour y Virginica.\n"
      ]
    },
    {
      "cell_type": "code",
      "metadata": {
        "id": "fF9ca1UPuYBA"
      },
      "source": [
        "#primero importamos los datos precargados por Sklearn\n",
        "from sklearn.datasets import load_iris\n",
        "iris = load_iris()"
      ],
      "execution_count": 1,
      "outputs": []
    },
    {
      "cell_type": "markdown",
      "metadata": {
        "id": "jDFwfLEvuklY"
      },
      "source": [
        "Las características de cada flor de muestra se almacenan en el atributo data:"
      ]
    },
    {
      "cell_type": "code",
      "metadata": {
        "id": "PFjIAcNKujrS",
        "outputId": "ff01323a-a20b-41fe-8150-93fe4f14d70c",
        "colab": {
          "base_uri": "https://localhost:8080/",
          "height": 156
        }
      },
      "source": [
        "print(\"forma del dataset\")\n",
        "print(iris.data.shape)\n",
        "\n",
        "\n",
        "n_samples, n_features = iris.data.shape\n",
        "print(\"número de muestras del dataset\")\n",
        "print(n_samples)\n",
        "\n",
        "print(\"número de características del dataset\")\n",
        "print(n_features)\n",
        "\n",
        "print(\"primer dato\")\n",
        "print(iris.data[0])\n"
      ],
      "execution_count": 2,
      "outputs": [
        {
          "output_type": "stream",
          "text": [
            "forma del dataset\n",
            "(150, 4)\n",
            "número de muestras del dataset\n",
            "150\n",
            "número de características del dataset\n",
            "4\n",
            "primer dato\n",
            "[5.1 3.5 1.4 0.2]\n"
          ],
          "name": "stdout"
        }
      ]
    },
    {
      "cell_type": "markdown",
      "metadata": {
        "id": "2eYE-lLCvKTV"
      },
      "source": [
        "La información sobre la clase de cada muestra se almacena en el atributo objetivo:"
      ]
    },
    {
      "cell_type": "code",
      "metadata": {
        "id": "Vuf4vU2mvKgp",
        "outputId": "d8c3715c-ffaf-4734-ad4d-1f97ec9c75ce",
        "colab": {
          "base_uri": "https://localhost:8080/",
          "height": 121
        }
      },
      "source": [
        "print(iris.target.shape)\n",
        "\n",
        "\n",
        "print(iris.target)"
      ],
      "execution_count": 3,
      "outputs": [
        {
          "output_type": "stream",
          "text": [
            "(150,)\n",
            "[0 0 0 0 0 0 0 0 0 0 0 0 0 0 0 0 0 0 0 0 0 0 0 0 0 0 0 0 0 0 0 0 0 0 0 0 0\n",
            " 0 0 0 0 0 0 0 0 0 0 0 0 0 1 1 1 1 1 1 1 1 1 1 1 1 1 1 1 1 1 1 1 1 1 1 1 1\n",
            " 1 1 1 1 1 1 1 1 1 1 1 1 1 1 1 1 1 1 1 1 1 1 1 1 1 1 2 2 2 2 2 2 2 2 2 2 2\n",
            " 2 2 2 2 2 2 2 2 2 2 2 2 2 2 2 2 2 2 2 2 2 2 2 2 2 2 2 2 2 2 2 2 2 2 2 2 2\n",
            " 2 2]\n"
          ],
          "name": "stdout"
        }
      ]
    },
    {
      "cell_type": "markdown",
      "metadata": {
        "id": "Zs23M-6EveAQ"
      },
      "source": [
        "Los nombres de las clases se almacenan en el último atributo, a saber, target_names:"
      ]
    },
    {
      "cell_type": "code",
      "metadata": {
        "id": "XvfdBtRcveO1",
        "outputId": "41af4543-214a-4d98-c3a1-cfc715dfd40b",
        "colab": {
          "base_uri": "https://localhost:8080/",
          "height": 34
        }
      },
      "source": [
        "print(iris.target_names)\n"
      ],
      "execution_count": 4,
      "outputs": [
        {
          "output_type": "stream",
          "text": [
            "['setosa' 'versicolor' 'virginica']\n"
          ],
          "name": "stdout"
        }
      ]
    },
    {
      "cell_type": "markdown",
      "metadata": {
        "id": "IpiqLXSGwB4m"
      },
      "source": [
        "Hacemos un diagrama de dispersión simple de 2 características del conjunto de datos."
      ]
    },
    {
      "cell_type": "code",
      "metadata": {
        "id": "slngjmo3vtJ5",
        "outputId": "6d34ca92-f0a9-4ae1-a07f-8ba967f9bd71",
        "colab": {
          "base_uri": "https://localhost:8080/",
          "height": 297
        }
      },
      "source": [
        "from matplotlib import pyplot as plt\n",
        "\n",
        "# The indices of the features that we are plotting\n",
        "x_index = 0\n",
        "y_index = 1\n",
        "\n",
        "# this formatter will label the colorbar with the correct target names\n",
        "formatter = plt.FuncFormatter(lambda i, *args: iris.target_names[int(i)])\n",
        "\n",
        "plt.figure(figsize=(5, 4))\n",
        "plt.scatter(iris.data[:, x_index], iris.data[:, y_index], c=iris.target)\n",
        "plt.colorbar(ticks=[0, 1, 2], format=formatter)\n",
        "plt.xlabel(iris.feature_names[x_index])\n",
        "plt.ylabel(iris.feature_names[y_index])\n",
        "\n",
        "plt.tight_layout()\n",
        "plt.show()\n"
      ],
      "execution_count": 5,
      "outputs": [
        {
          "output_type": "display_data",
          "data": {
            "image/png": "[encoded data removed]",
            "text/plain": [
              "<Figure size 360x288 with 2 Axes>"
            ]
          },
          "metadata": {
            "tags": [],
            "needs_background": "light"
          }
        }
      ]
    },
    {
      "cell_type": "markdown",
      "metadata": {
        "id": "9rYsnj2Kw614"
      },
      "source": [
        "¿Qué tipo de iris tiene un sépalo de 3 cm x 5 cm y un pétalo de 4 cm x 2 cm?"
      ]
    },
    {
      "cell_type": "code",
      "metadata": {
        "id": "3ZR6A2q9w9vz",
        "outputId": "a15b412b-2db1-49a8-f467-51501e03a0bc",
        "colab": {
          "base_uri": "https://localhost:8080/",
          "height": 34
        }
      },
      "source": [
        "from sklearn import neighbors\n",
        "X, y = iris.data, iris.target\n",
        "knn = neighbors.KNeighborsClassifier(n_neighbors=1)\n",
        "knn.fit(X, y)\n",
        "# hacemos la predicción\n",
        "print(iris.target_names[knn.predict([[3, 5, 4, 2]])])"
      ],
      "execution_count": 8,
      "outputs": [
        {
          "output_type": "stream",
          "text": [
            "['virginica']\n"
          ],
          "name": "stdout"
        }
      ]
    },
    {
      "cell_type": "markdown",
      "metadata": {
        "id": "n1PBYeMv5fBt"
      },
      "source": [
        "## El archivo de datos\n",
        "\n",
        "Para las tareas de clasificación en este cuaderno usaremos un [conjunto de datos clásico](https://archive.ics.uci.edu/ml/datasets/Optical+Recognition+of+Handwritten+Digits) en el procesamiento de imágenes. Contiene imágenes de 8x8 dígitos distribuidas en 10 clases: \n",
        "\n",
        "|          .        |  .   |\n",
        "|:-----------------:|------|\n",
        "|      Classes      | 10   |\n",
        "| Samples per class | ~180 |\n",
        "| Samples total     | 1797 |\n",
        "| Dimensionality    | 64   |\n",
        "\n",
        "Afortunadamente, Scikit-learn viene con el módulo [sklearn.datasets](https://scikit-learn.org/stable/modules/classes.html#module-sklearn.datasets) que incluye utilidades para cargar conjuntos de datos, incluidos métodos para cargar y buscar conjuntos de datos de referencia populares."
      ]
    },
    {
      "cell_type": "code",
      "metadata": {
        "id": "wzzWsgqJ5fBw",
        "outputId": "1e2d9143-cb15-441a-bfa0-888838a545ef"
      },
      "source": [
        "# Importar datasets, clasificadores y metricas\n",
        "from sklearn import datasets\n",
        "\n",
        "# el dataset de digitos\n",
        "digits = datasets.load_digits()\n",
        "print(digits.data.shape)"
      ],
      "execution_count": null,
      "outputs": [
        {
          "output_type": "stream",
          "text": [
            "(1797, 64)\n"
          ],
          "name": "stdout"
        }
      ]
    },
    {
      "cell_type": "markdown",
      "metadata": {
        "id": "DEB0Vj355fCA"
      },
      "source": [
        "Podemos visualizar las muestras en el conjunto de datos usando matplotlib:"
      ]
    },
    {
      "cell_type": "code",
      "metadata": {
        "scrolled": false,
        "id": "c_aP9Pnu5fCD",
        "outputId": "be774220-f674-4717-c854-cd204a85cbc1"
      },
      "source": [
        "import matplotlib.pyplot as plt\n",
        "%matplotlib inline\n",
        "\n",
        "# Gráficas individuales para los dígitos en el conjunto de datos\n",
        "_, axes = plt.subplots(1, 10, figsize=(16,5))\n",
        "images_and_labels = list(zip(digits.images, digits.target))\n",
        "for ax, (image, label) in zip(axes[:], images_and_labels[:10]):\n",
        "    ax.set_axis_off()\n",
        "    ax.imshow(image, cmap=plt.cm.gray_r, interpolation='nearest')\n",
        "    ax.set_title('Sample: %i' % label)\n",
        "plt.show()"
      ],
      "execution_count": null,
      "outputs": [
        {
          "output_type": "display_data",
          "data": {
            "image/png": "[encoded data removed]",
            "text/plain": [
              "<Figure size 1152x360 with 10 Axes>"
            ]
          },
          "metadata": {
            "tags": []
          }
        }
      ]
    },
    {
      "cell_type": "markdown",
      "metadata": {
        "id": "8kNGuORp5fCM"
      },
      "source": [
        "Primero, para entrenar un clasificador en este conjunto de datos de imagen, necesitamos aplanarlo en una matriz *(muestras, características)*:"
      ]
    },
    {
      "cell_type": "code",
      "metadata": {
        "id": "JO6fHeZ25fCO",
        "outputId": "18a8d498-3d69-485a-f7b2-45fd05b0f570"
      },
      "source": [
        "# Numero de muestras: 1797\n",
        "n_samples = len(digits.images)\n",
        "\n",
        "# Matriz de dígitos reformada\n",
        "data = digits.images.reshape((n_samples, -1))\n",
        "print(data.shape)"
      ],
      "execution_count": null,
      "outputs": [
        {
          "output_type": "stream",
          "text": [
            "(1797, 64)\n"
          ],
          "name": "stdout"
        }
      ]
    },
    {
      "cell_type": "markdown",
      "metadata": {
        "id": "T3HistqR5fCW"
      },
      "source": [
        "En segundo lugar, necesitamos dividir el conjunto de datos en subconjuntos *entrenar / probar*:"
      ]
    },
    {
      "cell_type": "code",
      "metadata": {
        "id": "70_f7bjO5fCX"
      },
      "source": [
        "from sklearn.model_selection import train_test_split\n",
        "\n",
        "# dividimos el conjunto de datos en subconjuntos de entrenar y probar:\n",
        "X_train, X_test, y_train, y_test = train_test_split(data, digits.target, test_size=0.2, random_state=1) "
      ],
      "execution_count": null,
      "outputs": []
    },
    {
      "cell_type": "code",
      "metadata": {
        "id": "rZJDS9YA5fCe",
        "outputId": "1b5006d0-6fda-4654-a94e-016e02929860"
      },
      "source": [
        "# Entrenar 80% y probar 20%\n",
        "print(X_train.shape)\n",
        "print(y_train.shape)\n",
        "print(X_test.shape)\n",
        "print(y_test.shape)"
      ],
      "execution_count": null,
      "outputs": [
        {
          "output_type": "stream",
          "text": [
            "(1437, 64)\n",
            "(1437,)\n",
            "(360, 64)\n",
            "(360,)\n"
          ],
          "name": "stdout"
        }
      ]
    },
    {
      "cell_type": "markdown",
      "metadata": {
        "id": "MD5_m5M65fCn"
      },
      "source": [
        "Finalmente estamos listos para entrenar a nuestro clasificador. Estamos utilizando [Clasificación de vectores de soporte C](https://scikit-learn.org/stable/modules/generated/sklearn.svm.SVC.html#sklearn.svm.SVC) implementado en Scikit-learn, que ofrece [ varios](https://scikit-learn.org/stable/auto_examples/classification/plot_classifier_comparison.html) clasificadores implementados."
      ]
    },
    {
      "cell_type": "code",
      "metadata": {
        "id": "I3EmEbED5fCp",
        "outputId": "5cb146fa-e83d-4b67-cff3-b5118f7d5774"
      },
      "source": [
        "from sklearn import svm\n",
        "\n",
        "# Clasificador de soportes vectoriales\n",
        "classifier = svm.SVC(gamma=0.001)\n",
        "\n",
        "# Aprenda a clasificar el conjunto de entrenamiento\n",
        "classifier.fit(X_train, y_train)"
      ],
      "execution_count": null,
      "outputs": [
        {
          "output_type": "execute_result",
          "data": {
            "text/plain": [
              "SVC(gamma=0.001)"
            ]
          },
          "metadata": {
            "tags": []
          },
          "execution_count": 6
        }
      ]
    },
    {
      "cell_type": "markdown",
      "metadata": {
        "id": "zoj4L2M05fCu"
      },
      "source": [
        "¡Eso es! Ahora necesitamos evaluar el desempeño de nuestro clasificador usando el subconjunto de prueba. La predicción y el trazado de predicciones junto con las imágenes de prueba nos permite abordar cualitativamente la precisión del clasificador."
      ]
    },
    {
      "cell_type": "code",
      "metadata": {
        "id": "HMswXYrT5fCw"
      },
      "source": [
        "# Predecir usando X_test\n",
        "y_predicted = classifier.predict(X_test)"
      ],
      "execution_count": null,
      "outputs": []
    },
    {
      "cell_type": "code",
      "metadata": {
        "id": "0k50NUcH5fC1",
        "outputId": "80a50503-8bb8-40d7-acb3-11d5d28605e3"
      },
      "source": [
        "# Gráficas individuales para los dígitos en el conjunto de datos(\n",
        "_, axes = plt.subplots(1, 10, figsize=(16,5))\n",
        "images_and_predictions = list(zip(X_test.reshape(-1,8,8), y_predicted))\n",
        "for ax, (image, label) in zip(axes[:], images_and_labels[:10]):\n",
        "    ax.set_axis_off()\n",
        "    ax.imshow(image, cmap=plt.cm.gray_r, interpolation='nearest')\n",
        "    ax.set_title('Prediction: %i' % label)\n",
        "plt.show()"
      ],
      "execution_count": null,
      "outputs": [
        {
          "output_type": "display_data",
          "data": {
            "image/png": "[encoded data removed]",
            "text/plain": [
              "<Figure size 1152x360 with 10 Axes>"
            ]
          },
          "metadata": {
            "tags": []
          }
        }
      ]
    },
    {
      "cell_type": "markdown",
      "metadata": {
        "id": "6KybjwBs5fC8"
      },
      "source": [
        "Además, las métricas cuantitativas se pueden calcular mediante [metrics.classification_report ()](https://scikit-learn.org/stable/modules/generated/sklearn.metrics.classification_report.html). Este método crea un informe de texto que muestra las principales métricas de clasificación. Cada fila indica la *precisión, recuperación y puntuación f1* para cada categoría de clasificación.\n"
      ]
    },
    {
      "cell_type": "code",
      "metadata": {
        "id": "0qlvs4rN5fC9",
        "outputId": "46a73b78-5605-4ea4-bccd-3adcb40ba4f6"
      },
      "source": [
        "from sklearn import metrics\n",
        "print(\"Classification report for classifier {}\\n{}\\n\".format(classifier, metrics.classification_report(y_test, y_predicted)))"
      ],
      "execution_count": null,
      "outputs": [
        {
          "output_type": "stream",
          "text": [
            "Classification report for classifier SVC(gamma=0.001)\n",
            "              precision    recall  f1-score   support\n",
            "\n",
            "           0       1.00      1.00      1.00        43\n",
            "           1       1.00      1.00      1.00        35\n",
            "           2       1.00      1.00      1.00        36\n",
            "           3       1.00      1.00      1.00        41\n",
            "           4       1.00      1.00      1.00        38\n",
            "           5       1.00      1.00      1.00        30\n",
            "           6       1.00      1.00      1.00        37\n",
            "           7       1.00      0.97      0.99        37\n",
            "           8       1.00      0.97      0.98        29\n",
            "           9       0.94      1.00      0.97        34\n",
            "\n",
            "    accuracy                           0.99       360\n",
            "   macro avg       0.99      0.99      0.99       360\n",
            "weighted avg       0.99      0.99      0.99       360\n",
            "\n",
            "\n"
          ],
          "name": "stdout"
        }
      ]
    },
    {
      "cell_type": "markdown",
      "metadata": {
        "id": "2FRPVK7-5fDE"
      },
      "source": [
        "Podemos ampliar aún más estas métricas calculando la [matriz de confusión](https://scikit-learn.org/stable/modules/generated/sklearn.metrics.plot_confusion_matrix.html):"
      ]
    },
    {
      "cell_type": "code",
      "metadata": {
        "scrolled": false,
        "id": "Wp07EoBZ5fDF",
        "outputId": "2de1c66f-473c-4d60-fe2c-1063801aef49"
      },
      "source": [
        "disp = metrics.plot_confusion_matrix(classifier, X_test, y_test, cmap='inferno')\n",
        "disp.figure_.suptitle(\"Confusion Matrix\")\n",
        "print(\"Confusion matrix:\\n%s\" % disp.confusion_matrix)"
      ],
      "execution_count": null,
      "outputs": [
        {
          "output_type": "stream",
          "text": [
            "Confusion matrix:\n",
            "[[43  0  0  0  0  0  0  0  0  0]\n",
            " [ 0 35  0  0  0  0  0  0  0  0]\n",
            " [ 0  0 36  0  0  0  0  0  0  0]\n",
            " [ 0  0  0 41  0  0  0  0  0  0]\n",
            " [ 0  0  0  0 38  0  0  0  0  0]\n",
            " [ 0  0  0  0  0 30  0  0  0  0]\n",
            " [ 0  0  0  0  0  0 37  0  0  0]\n",
            " [ 0  0  0  0  0  0  0 36  0  1]\n",
            " [ 0  0  0  0  0  0  0  0 28  1]\n",
            " [ 0  0  0  0  0  0  0  0  0 34]]\n"
          ],
          "name": "stdout"
        },
        {
          "output_type": "display_data",
          "data": {
            "image/png": "[encoded data removed]",
            "text/plain": [
              "<Figure size 432x288 with 2 Axes>"
            ]
          },
          "metadata": {
            "tags": []
          }
        }
      ]
    },
    {
      "cell_type": "code",
      "metadata": {
        "id": "HM8niv1L5fDL"
      },
      "source": [
        ""
      ],
      "execution_count": null,
      "outputs": []
    },
    {
      "cell_type": "markdown",
      "metadata": {
        "id": "Rm80u8e4wKpz"
      },
      "source": [
        "**Recomendación**!\n",
        "[Estadísticas en Python](http://scipy-lectures.org/packages/statistics/index.html#statistics)"
      ]
    }
  ]
}