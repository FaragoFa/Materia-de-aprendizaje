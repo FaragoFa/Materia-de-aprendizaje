{
 "cells": [
  {
   "cell_type": "markdown",
   "metadata": {},
   "source": [
    "# Clustering with Scikit-Learn"
   ]
  },
  {
   "cell_type": "markdown",
   "metadata": {},
   "source": [
    "## The data file\n",
    "\n",
    "To demonstrate clustering in Scikit-learn we will be using the following image as input data.\n",
    "\n",
    "<img src=https://raw.githubusercontent.com/emmanueliarussi/DataScienceCapstone/master/5_DataMining/data/butterfly.jpg width=\"500\">\n",
    "\n",
    "We will be clustering pixel RGB values in order to get a multi-label segmentation of the image. First, let's load the image into a numpy array using [`Image.open()`](https://pillow.readthedocs.io/en/stable/):"
   ]
  },
  {
   "cell_type": "code",
   "execution_count": null,
   "metadata": {},
   "outputs": [],
   "source": [
    "from PIL import Image\n",
    "import numpy as np\n",
    "import requests\n",
    "from io import BytesIO\n",
    "\n",
    "# Image open\n",
    "response = requests.get('https://raw.githubusercontent.com/emmanueliarussi/DataScienceCapstone/master/5_DataMining/data/butterfly.jpg')\n",
    "image = Image.open(BytesIO(response.content))\n",
    "image = np.array(image)\n",
    "\n",
    "# Image size (in pixels) 481x960. Last 3 channels are the RGB color values. \n",
    "original_shape = image.shape\n",
    "print(original_shape)"
   ]
  },
  {
   "cell_type": "markdown",
   "metadata": {},
   "source": [
    "Image arrays can be visualized using [`plt.imshow()`](https://matplotlib.org/3.1.1/api/_as_gen/matplotlib.pyplot.imshow.html):"
   ]
  },
  {
   "cell_type": "code",
   "execution_count": null,
   "metadata": {},
   "outputs": [],
   "source": [
    "import matplotlib.pyplot as plt\n",
    "%matplotlib inline\n",
    "\n",
    "plt.figure(figsize=(18,8))\n",
    "\n",
    "# No axis\n",
    "plt.axis('off')\n",
    "plt.imshow(image)"
   ]
  },
  {
   "cell_type": "markdown",
   "metadata": {},
   "source": [
    "To perform a simple pixel clustering, we first need to eliminate width and height dimensions, therefore *flattening* the array:"
   ]
  },
  {
   "cell_type": "code",
   "execution_count": null,
   "metadata": {},
   "outputs": [],
   "source": [
    "# Flatten Width and Height dims, keep RGB. \n",
    "X = np.reshape(image, [-1, 3])\n",
    "print(X.shape) "
   ]
  },
  {
   "cell_type": "markdown",
   "metadata": {},
   "source": [
    "Now run [`MeanShift()`](https://scikit-learn.org/stable/modules/generated/sklearn.cluster.MeanShift.html) on the image to clusterize the pixels array X. Mean shift clustering aims to discover “blobs” in a smooth density of samples. It is a centroid-based algorithm, and works by updating candidates for centroids to be the mean of the points within a given region. These candidates are then filtered in a post-processing stage to eliminate near-duplicates to form the final set of centroids."
   ]
  },
  {
   "cell_type": "code",
   "execution_count": null,
   "metadata": {},
   "outputs": [],
   "source": [
    "from sklearn.cluster import MeanShift\n",
    "# Run MeanShift\n",
    "ms = MeanShift(bin_seeding=True, n_jobs=4)\n",
    "ms.fit(X)"
   ]
  },
  {
   "cell_type": "markdown",
   "metadata": {},
   "source": [
    "Print some clustering output information to get a sense of what was done. From what we see, this yielded 4 clusters, (thus 4 centroid colors). If you re-run this notebook with different parameters, you may find different results."
   ]
  },
  {
   "cell_type": "code",
   "execution_count": null,
   "metadata": {},
   "outputs": [],
   "source": [
    "# Clusters centers\n",
    "cluster_centers = ms.cluster_centers_\n",
    "print(\"Cluster centers:\\n{}\".format(cluster_centers))\n",
    "\n",
    "# Number of\n",
    "labels_unique = np.unique(labels)\n",
    "n_clusters_ = len(labels_unique)\n",
    "print(\"Number of estimated clusters :{}\".format(n_clusters_))"
   ]
  },
  {
   "cell_type": "markdown",
   "metadata": {},
   "source": [
    "Since centers are RGB colors, we can plot them using [`sns.palplot`](https://seaborn.pydata.org/tutorial/color_palettes.html):"
   ]
  },
  {
   "cell_type": "code",
   "execution_count": null,
   "metadata": {
    "scrolled": true
   },
   "outputs": [],
   "source": [
    "import seaborn as sns\n",
    "color_clusters = np.floor(cluster_centers).astype(int)/255\n",
    "sns.palplot(sns.color_palette(color_clusters))"
   ]
  },
  {
   "cell_type": "markdown",
   "metadata": {},
   "source": [
    "Finaly, let's plot the image labeling into clusters:"
   ]
  },
  {
   "cell_type": "code",
   "execution_count": null,
   "metadata": {},
   "outputs": [],
   "source": [
    "# Per-pixel labeling\n",
    "labels = ms.labels_\n",
    "\n",
    "# Reshape into segmented image\n",
    "segmented_image = np.reshape(labels, original_shape[:2])  "
   ]
  },
  {
   "cell_type": "code",
   "execution_count": null,
   "metadata": {},
   "outputs": [],
   "source": [
    "# Replace labels with RGB centroids\n",
    "image_color_clusters       = np.array(image, copy=True)  \n",
    "\n",
    "for i in range(0,n_clusters_):\n",
    "    mask = (segmented_image == i)\n",
    "    image_color_clusters[mask] = color_clusters[i]*255"
   ]
  },
  {
   "cell_type": "code",
   "execution_count": null,
   "metadata": {},
   "outputs": [],
   "source": [
    "# Plot input and segmentation side by side\n",
    "plt.figure(figsize=(16,8))\n",
    "plt.subplot(1, 2, 1)\n",
    "plt.imshow(image)\n",
    "plt.axis('off')\n",
    "plt.subplot(1, 2, 2)\n",
    "plt.imshow(image_color_clusters)\n",
    "plt.axis('off')"
   ]
  }
 ],
 "metadata": {
  "kernelspec": {
   "display_name": "Python 3",
   "language": "python",
   "name": "python3"
  },
  "language_info": {
   "codemirror_mode": {
    "name": "ipython",
    "version": 3
   },
   "file_extension": ".py",
   "mimetype": "text/x-python",
   "name": "python",
   "nbconvert_exporter": "python",
   "pygments_lexer": "ipython3",
   "version": "3.7.4"
  }
 },
 "nbformat": 4,
 "nbformat_minor": 2
}
