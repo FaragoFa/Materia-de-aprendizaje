{
 "cells": [
  {
   "cell_type": "markdown",
   "metadata": {},
   "source": [
    "# Anscombe's quartet"
   ]
  },
  {
   "cell_type": "markdown",
   "metadata": {},
   "source": [
    "Anscome’s Quartet  [\"Graphs in Statistical Analysis\" Anscombe, F. J. (1973)](https://www.sjsu.edu/faculty/gerstman/StatPrimer/anscombe1973.pdf) is a set of four distinct data sets each consisting of 11 `(x,y)` pairs where each dataset produces the same summary statistics: \n",
    "\n",
    "| Property | Value | Accuracy |\n",
    "| :- |:-------------: | -: |\n",
    "| Mean of x : $\\overline{x}$ | 9 | exact |\n",
    "| Sample variance of x : $\\sigma^{2}$ | 11 | exact |\n",
    "| Mean of y : $\\overline{y}$ |\t7.50 | to 2 decimal places |\n",
    "| Sample variance of y : $\\sigma^{2}$ | 4.125 | ±0.003 |\n",
    "| Correlation between x and y |\t0.816 | to 3 decimal places |\n",
    "| Linear regression line | $${y=3.00+0.500x}$$ |\tto 2 and 3 decimal places, respectively |\n",
    "| Coefficient of determination of the linear regression : $R^{2}$ | 0.67 |\tto 2 decimal places |\n",
    "\n",
    "\n",
    "Along this notebook we will be computing statics over the Anscombe's quartet data set and visualizing it.  "
   ]
  },
  {
   "cell_type": "markdown",
   "metadata": {},
   "source": [
    "## Reading the data\n",
    "We will first load Anscombe data set using pandas [`read_csv(...)`](https://pandas.pydata.org/pandas-docs/stable/reference/api/pandas.read_csv.html) method. The dataset consists on 44 rows and 3 columns corresponding to `x`,`y` pairs and a `dataset` field indicating the data set index (`I/II/III/IV`) the pair beolongs to. Let's take a look at it:"
   ]
  },
  {
   "cell_type": "code",
   "execution_count": null,
   "metadata": {
    "scrolled": true
   },
   "outputs": [],
   "source": [
    "import pandas as pd          # import pandas\n",
    "import seaborn as sns        # import seaborn, we will be using anscombe dataset and sns.FacetGrid\n",
    "\n",
    "pd.set_option(\"max_rows\", 8)              # only display up to 8 rows when printing dataframes (reduce visual clutter)\n",
    "anscome_df = sns.load_dataset(\"anscombe\") # load anscombe dataset from seaborn\n",
    "anscome_df['x'] = anscome_df['x'].astype(float)\n",
    "anscome_df['y'] = anscome_df['y'].astype(float)\n",
    "anscome_df                                # check data has been loaded"
   ]
  },
  {
   "cell_type": "markdown",
   "metadata": {},
   "source": [
    "## Visualizing data sets\n",
    "\n",
    "In order to visually inspect the Anscombe dataset, let's plot each point cloud using scatterplots from [matplotlib](https://matplotlib.org/3.2.1/api/_as_gen/matplotlib.pyplot.scatter.html) and multi-plot grids from [seaborn](https://seaborn.pydata.org/tutorial/axis_grids.html). Despite data share the aforementioned statistics, notice how different the plots are from each other."
   ]
  },
  {
   "cell_type": "code",
   "execution_count": null,
   "metadata": {},
   "outputs": [],
   "source": [
    "import matplotlib.pyplot as plt  # import pyplot to create scatter plots\n",
    "sns.set(style=\"ticks\")\n",
    "\n",
    "g = sns.FacetGrid(anscome_df, col=\"dataset\", hue=\"dataset\") # define a grid of plots. Each element shows a different memeber from the quartet in a different column and color\n",
    "g.map(plt.scatter, \"x\", \"y\", alpha=.7)                      # render scatterplots"
   ]
  },
  {
   "cell_type": "markdown",
   "metadata": {},
   "source": [
    "## Computing statistics\n",
    "Now, lets verify statics are shared among all data partitions."
   ]
  },
  {
   "cell_type": "code",
   "execution_count": null,
   "metadata": {
    "scrolled": true
   },
   "outputs": [],
   "source": [
    "anscome_dataset_labels = anscome_df['dataset'].unique() # labels for each dataset\n",
    "\n",
    "# First, compute mean\n",
    "anscome_mean_of_xy = {q: anscome_df[anscome_df['dataset'] == q].mean() for q in anscome_dataset_labels}\n",
    "\n",
    "# Second, compute variances \n",
    "anscome_var_of_xy  = {q: anscome_df[anscome_df['dataset'] == q].var() for q in anscome_dataset_labels}\n",
    "\n",
    "# Third, compute correlation between x and y\n",
    "anscome_corr_of_xy = {q: anscome_df[anscome_df['dataset'] == q]['x'].corr(anscome_df[anscome_df['dataset'] == q]['y']) for q in anscome_dataset_labels}"
   ]
  },
  {
   "cell_type": "code",
   "execution_count": null,
   "metadata": {},
   "outputs": [],
   "source": [
    "# Show statistics\n",
    "pd.concat([pd.DataFrame.from_dict(anscome_mean_of_xy).rename({\"x\": \"Mean of x\", \"y\": \"Mean of y\"}),\n",
    "           pd.DataFrame.from_dict(anscome_var_of_xy).rename({\"x\": \"Variance of x\", \"y\": \"Variance of y\"}),\n",
    "           pd.DataFrame({k: [v] for k, v in anscome_corr_of_xy.items()}).rename({0: \"Correlation between x and y\"})])\\\n",
    "          .style.set_precision(3).set_caption(\"Anscombe's quartet statistics\")"
   ]
  },
  {
   "cell_type": "markdown",
   "metadata": {},
   "source": [
    "## Linear regression\n",
    "Finally, we perform a linear regression over each point set. We will be using the [`LinearRegression().fit(X,y)`](https://scikit-learn.org/stable/modules/generated/sklearn.linear_model.LinearRegression.html) method from [scikit-learn](https://scikit-learn.org/stable/index.html)"
   ]
  },
  {
   "cell_type": "code",
   "execution_count": null,
   "metadata": {},
   "outputs": [],
   "source": [
    "from sklearn.linear_model import LinearRegression\n",
    "\n",
    "# Fit the data. Notice\n",
    "reg_of_xy = {q: LinearRegression().fit(anscome_df[anscome_df['dataset'] == q]['x'].values.reshape(-1, 1),\n",
    "                                       anscome_df[anscome_df['dataset'] == q]['y'].values.reshape(-1, 1)) \n",
    "                                       for q in anscome_dataset_labels}\n",
    "\n",
    "# Compute the coefficient of determination R^2 of the prediction\n",
    "coef_of_xy = {q: reg_of_xy[q].score(anscome_df[anscome_df['dataset'] == q]['x'].values.reshape(-1, 1),\n",
    "                                    anscome_df[anscome_df['dataset'] == q]['y'].values.reshape(-1, 1)) \n",
    "                                    for q in anscome_dataset_labels}"
   ]
  },
  {
   "cell_type": "code",
   "execution_count": null,
   "metadata": {},
   "outputs": [],
   "source": [
    "# Get and show coeficients of linear fits\n",
    "linear = {q: reg_of_xy[q].coef_      for q in anscome_dataset_labels}\n",
    "const  = {q: reg_of_xy[q].intercept_ for q in anscome_dataset_labels}\n",
    "print(\"Linear fits for each dataset\")\n",
    "for q in anscome_dataset_labels:\n",
    "    print('y={:.3}x+{:.3} / R2={:.3} : {}'.format(linear[q].flatten()[0],const[q].flatten()[0],coef_of_xy[q],q))"
   ]
  },
  {
   "cell_type": "code",
   "execution_count": null,
   "metadata": {
    "scrolled": true
   },
   "outputs": [],
   "source": [
    "# Show the results of a linear regression within each dataset\n",
    "sns.set(style=\"ticks\")\n",
    "sns.lmplot(x=\"x\", y=\"y\", col=\"dataset\", hue=\"dataset\", data=anscome_df,\n",
    "           col_wrap=4, ci=None, palette=\"muted\", height=4,\n",
    "           scatter_kws={\"s\": 50, \"alpha\": .7})"
   ]
  },
  {
   "cell_type": "markdown",
   "metadata": {},
   "source": [
    "## Bonus: DataSaurus\n",
    "As a final bonus, let's look at the DataSaurus dataset from the paper [\"Same Stats, Different Graphs: Generating Datasets with Varied Appearance and Identical Statistics through Simulated Annealing\" Justin Matejka and George Fitzmaurice (2017)](https://dl.acm.org/doi/pdf/10.1145/3025453.3025912). Each dataset has the same summary statistics to two decimal places."
   ]
  },
  {
   "cell_type": "code",
   "execution_count": null,
   "metadata": {
    "scrolled": true
   },
   "outputs": [],
   "source": [
    "# Read data from csv and preview\n",
    "datasaurus_df = pd.read_csv(\"https://raw.githubusercontent.com/emmanueliarussi/DataScienceCapstone/master/datasets/DatasaurusDozen.csv\")\n",
    "datasaurus_df"
   ]
  },
  {
   "cell_type": "code",
   "execution_count": null,
   "metadata": {},
   "outputs": [],
   "source": [
    "# Plot each dataset\n",
    "g = sns.FacetGrid(datasaurus_df, col_wrap=4, col=\"dataset\", hue=\"dataset\") # define a grid of plots. Each element shows a different memeber from the quartet in a different column and color\n",
    "g.map(plt.scatter, \"x\", \"y\", alpha=.7)                                     # render scatterplots"
   ]
  },
  {
   "cell_type": "code",
   "execution_count": null,
   "metadata": {},
   "outputs": [],
   "source": [
    "dataset_datasaurus_labels = datasaurus_df['dataset'].unique() # labels for each dataset\n",
    "\n",
    "# First, compute mean\n",
    "datasaurus_mean_of_xy = {q: datasaurus_df[datasaurus_df['dataset'] == q].mean() for q in dataset_datasaurus_labels}\n",
    "\n",
    "# Second, compute variances \n",
    "datasaurus_var_of_xy  = {q: datasaurus_df[datasaurus_df['dataset'] == q].var() for q in dataset_datasaurus_labels}\n",
    "\n",
    "# Third, compute correlation between x and y\n",
    "datasaurus_corr_of_xy = {q: datasaurus_df[datasaurus_df['dataset'] == q]['x'].corr(datasaurus_df[datasaurus_df['dataset'] == q]['y']) for q in dataset_datasaurus_labels}"
   ]
  },
  {
   "cell_type": "code",
   "execution_count": null,
   "metadata": {},
   "outputs": [],
   "source": [
    "# Show statistics\n",
    "pd.concat([pd.DataFrame.from_dict(datasaurus_mean_of_xy).rename({\"x\": \"Mean of x\", \"y\": \"Mean of y\"}),\n",
    "           pd.DataFrame.from_dict(datasaurus_var_of_xy).rename({\"x\": \"Variance of x\", \"y\": \"Variance of y\"}),\n",
    "           pd.DataFrame({k: [v] for k, v in datasaurus_corr_of_xy.items()}).rename({0: \"Correlation between x and y\"})])\\\n",
    "          .style.set_precision(3).set_caption(\"DataSaurus statistics\")"
   ]
  },
  {
   "cell_type": "code",
   "execution_count": null,
   "metadata": {},
   "outputs": [],
   "source": []
  }
 ],
 "metadata": {
  "kernelspec": {
   "display_name": "Python 3",
   "language": "python",
   "name": "python3"
  },
  "language_info": {
   "codemirror_mode": {
    "name": "ipython",
    "version": 3
   },
   "file_extension": ".py",
   "mimetype": "text/x-python",
   "name": "python",
   "nbconvert_exporter": "python",
   "pygments_lexer": "ipython3",
   "version": "3.7.4"
  }
 },
 "nbformat": 4,
 "nbformat_minor": 2
}
