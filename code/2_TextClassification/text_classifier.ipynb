{
 "cells": [
  {
   "cell_type": "markdown",
   "metadata": {},
   "source": [
    "# Text Classification"
   ]
  },
  {
   "cell_type": "markdown",
   "metadata": {},
   "source": [
    "Text classification for Sentiment Analysis is one of the most common tasks in natural language processing. It consists in computationally analysing text messages and tell whether the underlying sentiment is positive, negative our neutral. Let's create a simple text classifier using tweets from the first 2016 GOP Presidential Debate available online [kaggle](https://www.kaggle.com/ngyptr/python-nltk-sentiment-analysis/data). "
   ]
  },
  {
   "cell_type": "code",
   "execution_count": 1,
   "metadata": {},
   "outputs": [],
   "source": [
    "import pandas as pd # import pandas\n",
    "tweets_data_df = pd.read_csv(\"https://raw.githubusercontent.com/emmanueliarussi/DataScienceCapstone/master/datasets/Sentiment.csv\") # load data\n",
    "tweets_data_df = tweets_data_df.reset_index()"
   ]
  },
  {
   "cell_type": "markdown",
   "metadata": {},
   "source": [
    "## Exploratory Data Analysis\n",
    "Let's take a look at the content of this dataset."
   ]
  },
  {
   "cell_type": "code",
   "execution_count": 2,
   "metadata": {
    "scrolled": false
   },
   "outputs": [
    {
     "data": {
      "text/html": [
       "<div>\n",
       "<style scoped>\n",
       "    .dataframe tbody tr th:only-of-type {\n",
       "        vertical-align: middle;\n",
       "    }\n",
       "\n",
       "    .dataframe tbody tr th {\n",
       "        vertical-align: top;\n",
       "    }\n",
       "\n",
       "    .dataframe thead th {\n",
       "        text-align: right;\n",
       "    }\n",
       "</style>\n",
       "<table border=\"1\" class=\"dataframe\">\n",
       "  <thead>\n",
       "    <tr style=\"text-align: right;\">\n",
       "      <th></th>\n",
       "      <th>index</th>\n",
       "      <th>id</th>\n",
       "      <th>candidate</th>\n",
       "      <th>candidate_confidence</th>\n",
       "      <th>relevant_yn</th>\n",
       "      <th>relevant_yn_confidence</th>\n",
       "      <th>sentiment</th>\n",
       "      <th>sentiment_confidence</th>\n",
       "      <th>subject_matter</th>\n",
       "      <th>subject_matter_confidence</th>\n",
       "      <th>...</th>\n",
       "      <th>relevant_yn_gold</th>\n",
       "      <th>retweet_count</th>\n",
       "      <th>sentiment_gold</th>\n",
       "      <th>subject_matter_gold</th>\n",
       "      <th>text</th>\n",
       "      <th>tweet_coord</th>\n",
       "      <th>tweet_created</th>\n",
       "      <th>tweet_id</th>\n",
       "      <th>tweet_location</th>\n",
       "      <th>user_timezone</th>\n",
       "    </tr>\n",
       "  </thead>\n",
       "  <tbody>\n",
       "    <tr>\n",
       "      <th>0</th>\n",
       "      <td>0</td>\n",
       "      <td>1</td>\n",
       "      <td>No candidate mentioned</td>\n",
       "      <td>1.0000</td>\n",
       "      <td>yes</td>\n",
       "      <td>1.0000</td>\n",
       "      <td>Neutral</td>\n",
       "      <td>0.6578</td>\n",
       "      <td>None of the above</td>\n",
       "      <td>1.0000</td>\n",
       "      <td>...</td>\n",
       "      <td>NaN</td>\n",
       "      <td>5</td>\n",
       "      <td>NaN</td>\n",
       "      <td>NaN</td>\n",
       "      <td>RT @NancyLeeGrahn: How did everyone feel about...</td>\n",
       "      <td>NaN</td>\n",
       "      <td>2015-08-07 09:54:46 -0700</td>\n",
       "      <td>629697200650592256</td>\n",
       "      <td>NaN</td>\n",
       "      <td>Quito</td>\n",
       "    </tr>\n",
       "    <tr>\n",
       "      <th>1</th>\n",
       "      <td>1</td>\n",
       "      <td>2</td>\n",
       "      <td>Scott Walker</td>\n",
       "      <td>1.0000</td>\n",
       "      <td>yes</td>\n",
       "      <td>1.0000</td>\n",
       "      <td>Positive</td>\n",
       "      <td>0.6333</td>\n",
       "      <td>None of the above</td>\n",
       "      <td>1.0000</td>\n",
       "      <td>...</td>\n",
       "      <td>NaN</td>\n",
       "      <td>26</td>\n",
       "      <td>NaN</td>\n",
       "      <td>NaN</td>\n",
       "      <td>RT @ScottWalker: Didn't catch the full #GOPdeb...</td>\n",
       "      <td>NaN</td>\n",
       "      <td>2015-08-07 09:54:46 -0700</td>\n",
       "      <td>629697199560069120</td>\n",
       "      <td>NaN</td>\n",
       "      <td>NaN</td>\n",
       "    </tr>\n",
       "    <tr>\n",
       "      <th>...</th>\n",
       "      <td>...</td>\n",
       "      <td>...</td>\n",
       "      <td>...</td>\n",
       "      <td>...</td>\n",
       "      <td>...</td>\n",
       "      <td>...</td>\n",
       "      <td>...</td>\n",
       "      <td>...</td>\n",
       "      <td>...</td>\n",
       "      <td>...</td>\n",
       "      <td>...</td>\n",
       "      <td>...</td>\n",
       "      <td>...</td>\n",
       "      <td>...</td>\n",
       "      <td>...</td>\n",
       "      <td>...</td>\n",
       "      <td>...</td>\n",
       "      <td>...</td>\n",
       "      <td>...</td>\n",
       "      <td>...</td>\n",
       "      <td>...</td>\n",
       "    </tr>\n",
       "    <tr>\n",
       "      <th>13869</th>\n",
       "      <td>13869</td>\n",
       "      <td>13870</td>\n",
       "      <td>Donald Trump</td>\n",
       "      <td>1.0000</td>\n",
       "      <td>yes</td>\n",
       "      <td>1.0000</td>\n",
       "      <td>Negative</td>\n",
       "      <td>1.0000</td>\n",
       "      <td>Women's Issues (not abortion though)</td>\n",
       "      <td>0.9202</td>\n",
       "      <td>...</td>\n",
       "      <td>yes</td>\n",
       "      <td>149</td>\n",
       "      <td>NaN</td>\n",
       "      <td>Women's Issues (not abortion though)</td>\n",
       "      <td>RT @JRehling: #GOPDebate Donald Trump says tha...</td>\n",
       "      <td>NaN</td>\n",
       "      <td>2015-08-07 09:54:04 -0700</td>\n",
       "      <td>629697023663546368</td>\n",
       "      <td>NaN</td>\n",
       "      <td>NaN</td>\n",
       "    </tr>\n",
       "    <tr>\n",
       "      <th>13870</th>\n",
       "      <td>13870</td>\n",
       "      <td>13871</td>\n",
       "      <td>Ted Cruz</td>\n",
       "      <td>0.9242</td>\n",
       "      <td>yes</td>\n",
       "      <td>0.9614</td>\n",
       "      <td>Positive</td>\n",
       "      <td>0.9614</td>\n",
       "      <td>None of the above</td>\n",
       "      <td>0.9242</td>\n",
       "      <td>...</td>\n",
       "      <td>yes</td>\n",
       "      <td>65</td>\n",
       "      <td>Positive</td>\n",
       "      <td>NaN</td>\n",
       "      <td>RT @Lrihendry: #TedCruz headed into the Presid...</td>\n",
       "      <td>NaN</td>\n",
       "      <td>2015-08-06 18:22:27 -0700</td>\n",
       "      <td>629462573641920512</td>\n",
       "      <td>San Antonio, TX</td>\n",
       "      <td>Central Time (US &amp; Canada)</td>\n",
       "    </tr>\n",
       "  </tbody>\n",
       "</table>\n",
       "<p>13871 rows × 22 columns</p>\n",
       "</div>"
      ],
      "text/plain": [
       "       index     id               candidate  candidate_confidence relevant_yn  \\\n",
       "0          0      1  No candidate mentioned                1.0000         yes   \n",
       "1          1      2            Scott Walker                1.0000         yes   \n",
       "...      ...    ...                     ...                   ...         ...   \n",
       "13869  13869  13870            Donald Trump                1.0000         yes   \n",
       "13870  13870  13871                Ted Cruz                0.9242         yes   \n",
       "\n",
       "       relevant_yn_confidence sentiment  sentiment_confidence  \\\n",
       "0                      1.0000   Neutral                0.6578   \n",
       "1                      1.0000  Positive                0.6333   \n",
       "...                       ...       ...                   ...   \n",
       "13869                  1.0000  Negative                1.0000   \n",
       "13870                  0.9614  Positive                0.9614   \n",
       "\n",
       "                             subject_matter  subject_matter_confidence  \\\n",
       "0                         None of the above                     1.0000   \n",
       "1                         None of the above                     1.0000   \n",
       "...                                     ...                        ...   \n",
       "13869  Women's Issues (not abortion though)                     0.9202   \n",
       "13870                     None of the above                     0.9242   \n",
       "\n",
       "                  ...             relevant_yn_gold retweet_count  \\\n",
       "0                 ...                          NaN             5   \n",
       "1                 ...                          NaN            26   \n",
       "...               ...                          ...           ...   \n",
       "13869             ...                          yes           149   \n",
       "13870             ...                          yes            65   \n",
       "\n",
       "      sentiment_gold                   subject_matter_gold  \\\n",
       "0                NaN                                   NaN   \n",
       "1                NaN                                   NaN   \n",
       "...              ...                                   ...   \n",
       "13869            NaN  Women's Issues (not abortion though)   \n",
       "13870       Positive                                   NaN   \n",
       "\n",
       "                                                    text tweet_coord  \\\n",
       "0      RT @NancyLeeGrahn: How did everyone feel about...         NaN   \n",
       "1      RT @ScottWalker: Didn't catch the full #GOPdeb...         NaN   \n",
       "...                                                  ...         ...   \n",
       "13869  RT @JRehling: #GOPDebate Donald Trump says tha...         NaN   \n",
       "13870  RT @Lrihendry: #TedCruz headed into the Presid...         NaN   \n",
       "\n",
       "                   tweet_created            tweet_id   tweet_location  \\\n",
       "0      2015-08-07 09:54:46 -0700  629697200650592256              NaN   \n",
       "1      2015-08-07 09:54:46 -0700  629697199560069120              NaN   \n",
       "...                          ...                 ...              ...   \n",
       "13869  2015-08-07 09:54:04 -0700  629697023663546368              NaN   \n",
       "13870  2015-08-06 18:22:27 -0700  629462573641920512  San Antonio, TX   \n",
       "\n",
       "                    user_timezone  \n",
       "0                           Quito  \n",
       "1                             NaN  \n",
       "...                           ...  \n",
       "13869                         NaN  \n",
       "13870  Central Time (US & Canada)  \n",
       "\n",
       "[13871 rows x 22 columns]"
      ]
     },
     "execution_count": 2,
     "metadata": {},
     "output_type": "execute_result"
    }
   ],
   "source": [
    "pd.set_option(\"max_rows\", 5)  # only display up to 5 rows when printing dataframes (reduce visual clutter)\n",
    "tweets_data_df"
   ]
  },
  {
   "cell_type": "markdown",
   "metadata": {},
   "source": [
    "How are the sentiment labels distributed? How much can we trust on those labels?"
   ]
  },
  {
   "cell_type": "code",
   "execution_count": 3,
   "metadata": {},
   "outputs": [
    {
     "data": {
      "text/plain": [
       "Text(0,0.5,'Confidence')"
      ]
     },
     "execution_count": 3,
     "metadata": {},
     "output_type": "execute_result"
    }
   ],
   "source": [
    "import seaborn as sns                  # import seaborn for visualization\n",
    "import matplotlib.pyplot as plt\n",
    "\n",
    "# bar chart to show the number of tweets tagged as Positive/Neutral/Negative\n",
    "f, (ax1, ax2) = plt.subplots(1, 2, figsize=(15, 5))\n",
    "sns.countplot(x=\"sentiment\", order=[\"Negative\",\"Neutral\",\"Positive\"], data=tweets_data_df, palette=\"PiYG\", ax=ax1)\n",
    "ax1.set_title(\"Sentiment Label Counts\")\n",
    "ax1.set_xlabel(\"Sentiment\")\n",
    "ax1.set_ylabel(\"Count\")\n",
    "\n",
    "# scatter plot showing the labels confidence per tweet.\n",
    "# usefull for discarding unreliable tweets. \n",
    "sns.scatterplot(x=\"id\", y=\"sentiment_confidence\", hue=\"sentiment_confidence\", palette=\"viridis\",\n",
    "                sizes=(5,), linewidth=0, alpha=0.7,legend=False, data=tweets_data_df, ax=ax2)\n",
    "ax2.set_title(\"Tweet Label Confidence\")\n",
    "ax2.set_xlabel(\"Tweet ID\")\n",
    "ax2.set_ylabel(\"Confidence\")"
   ]
  },
  {
   "cell_type": "markdown",
   "metadata": {},
   "source": [
    "## Data Filtering\n",
    "Based on the figures above, we decide to filter the data we will use in order to build our classifier and keep only `text` and `sentiment` columns. Adittionally, we remove rows with `sentiment_confidence` below 0.5. Since we will be performing binary classification, we remove `Neutral` tweets and replace `Negative` and `Positive` strings with integers labels. Finally, a large unbalance in the number of labeled data for a given category can severely affect the performance of a classiier. Therefore, we randomly remove negative tweets to match the number of positive samples in or data set."
   ]
  },
  {
   "cell_type": "code",
   "execution_count": 4,
   "metadata": {},
   "outputs": [
    {
     "data": {
      "text/html": [
       "<div>\n",
       "<style scoped>\n",
       "    .dataframe tbody tr th:only-of-type {\n",
       "        vertical-align: middle;\n",
       "    }\n",
       "\n",
       "    .dataframe tbody tr th {\n",
       "        vertical-align: top;\n",
       "    }\n",
       "\n",
       "    .dataframe thead th {\n",
       "        text-align: right;\n",
       "    }\n",
       "</style>\n",
       "<table border=\"1\" class=\"dataframe\">\n",
       "  <thead>\n",
       "    <tr style=\"text-align: right;\">\n",
       "      <th></th>\n",
       "      <th>text</th>\n",
       "      <th>sentiment</th>\n",
       "    </tr>\n",
       "  </thead>\n",
       "  <tbody>\n",
       "    <tr>\n",
       "      <th>1</th>\n",
       "      <td>RT @ScottWalker: Didn't catch the full #GOPdeb...</td>\n",
       "      <td>1</td>\n",
       "    </tr>\n",
       "    <tr>\n",
       "      <th>3</th>\n",
       "      <td>RT @RobGeorge: That Carly Fiorina is trending ...</td>\n",
       "      <td>1</td>\n",
       "    </tr>\n",
       "    <tr>\n",
       "      <th>...</th>\n",
       "      <td>...</td>\n",
       "      <td>...</td>\n",
       "    </tr>\n",
       "    <tr>\n",
       "      <th>13868</th>\n",
       "      <td>RT @Lrihendry: #TedCruz As President, I will a...</td>\n",
       "      <td>1</td>\n",
       "    </tr>\n",
       "    <tr>\n",
       "      <th>13870</th>\n",
       "      <td>RT @Lrihendry: #TedCruz headed into the Presid...</td>\n",
       "      <td>1</td>\n",
       "    </tr>\n",
       "  </tbody>\n",
       "</table>\n",
       "<p>3602 rows × 2 columns</p>\n",
       "</div>"
      ],
      "text/plain": [
       "                                                    text sentiment\n",
       "1      RT @ScottWalker: Didn't catch the full #GOPdeb...         1\n",
       "3      RT @RobGeorge: That Carly Fiorina is trending ...         1\n",
       "...                                                  ...       ...\n",
       "13868  RT @Lrihendry: #TedCruz As President, I will a...         1\n",
       "13870  RT @Lrihendry: #TedCruz headed into the Presid...         1\n",
       "\n",
       "[3602 rows x 2 columns]"
      ]
     },
     "execution_count": 4,
     "metadata": {},
     "output_type": "execute_result"
    }
   ],
   "source": [
    "import numpy as np\n",
    "\n",
    "# keeping only rows with sentiment_confidence >0.5\n",
    "tweets_data_df = tweets_data_df[tweets_data_df[\"sentiment_confidence\"]>0.5] \n",
    "\n",
    "# remove random negative tweets\n",
    "total_negative = tweets_data_df[\"sentiment\"].value_counts()[\"Negative\"] # count positive and negative rows\n",
    "total_positive = tweets_data_df[\"sentiment\"].value_counts()[\"Positive\"]\n",
    "to_remove = np.random.choice(tweets_data_df[tweets_data_df['sentiment']==\"Negative\"].index, # select random rows\n",
    "                             size=total_negative-total_positive,\n",
    "                             replace=False)\n",
    "tweets_data_df = tweets_data_df.drop(to_remove) # remove\n",
    "\n",
    "# keeping only the neccessary columns [['text','sentiment']]\n",
    "tweets_data_df = tweets_data_df[[\"text\",\"sentiment\"]]         \n",
    "# replace sentiment string labels with integers and remove neutral tweets. \n",
    "tweets_data_df = tweets_data_df[tweets_data_df[\"sentiment\"]!=\"Neutral\"]      \n",
    "tweets_data_df[\"sentiment\"][tweets_data_df[\"sentiment\"]==\"Negative\"]  = 0   \n",
    "tweets_data_df[\"sentiment\"][tweets_data_df[\"sentiment\"]==\"Positive\"]  = 1      \n",
    "tweets_data_df"
   ]
  },
  {
   "cell_type": "markdown",
   "metadata": {},
   "source": [
    "Let's check the output distribution using a barchart"
   ]
  },
  {
   "cell_type": "code",
   "execution_count": 5,
   "metadata": {},
   "outputs": [
    {
     "data": {
      "text/plain": [
       "Text(0,0.5,'Count')"
      ]
     },
     "execution_count": 5,
     "metadata": {},
     "output_type": "execute_result"
    },
    {
     "data": {
      "image/png": "[encoded data removed]",
      "text/plain": [
       "<Figure size 360x360 with 1 Axes>"
      ]
     },
     "metadata": {},
     "output_type": "display_data"
    }
   ],
   "source": [
    "# bar chart to show the number of tweets tagged as Positive/Neutral/Negative\n",
    "f, (ax1) = plt.subplots(1, 1, figsize=(5, 5))\n",
    "sns.countplot(x=\"sentiment\", order=[0,1], data=tweets_data_df, palette=\"PiYG\", ax=ax1)\n",
    "ax1.set_title(\"Sentiment Label Counts (after filtering)\")\n",
    "ax1.set_xlabel(\"Sentiment\")\n",
    "ax1.set_ylabel(\"Count\")"
   ]
  },
  {
   "cell_type": "markdown",
   "metadata": {},
   "source": [
    "Let's now prepare tweet text to be interpretable by our classifier. Using tools from [NLTK](https://www.nltk.org/) we first remove *stop words* which are words that do not have any important significance to be used in our classifier. Usually these words are also filtered out from search queries because they return vast amount of unnecessary information (such i.e. the, is, at, which, on, for, this, etc.). We also remove usernames, hashtags and URLs. NLTK also provides us with a tweet *tokenizer* module that splits tweet strings into a list of words. Additionally, we employ a *stemmer* to remove morphological affixes from words, leaving only the word stem (i.e.: \"running\" -> \"run\", \"generously\" -> \"generous\"). Finally, we also remove common emojis, hashtags, punctuation and numbers. "
   ]
  },
  {
   "cell_type": "code",
   "execution_count": 6,
   "metadata": {
    "scrolled": true
   },
   "outputs": [
    {
     "name": "stderr",
     "output_type": "stream",
     "text": [
      "[nltk_data] Downloading package stopwords to\n",
      "[nltk_data]     /Users/emmanueliarussi/nltk_data...\n",
      "[nltk_data]   Package stopwords is already up-to-date!\n"
     ]
    },
    {
     "data": {
      "text/html": [
       "<div>\n",
       "<style scoped>\n",
       "    .dataframe tbody tr th:only-of-type {\n",
       "        vertical-align: middle;\n",
       "    }\n",
       "\n",
       "    .dataframe tbody tr th {\n",
       "        vertical-align: top;\n",
       "    }\n",
       "\n",
       "    .dataframe thead th {\n",
       "        text-align: right;\n",
       "    }\n",
       "</style>\n",
       "<table border=\"1\" class=\"dataframe\">\n",
       "  <thead>\n",
       "    <tr style=\"text-align: right;\">\n",
       "      <th></th>\n",
       "      <th>text</th>\n",
       "      <th>sentiment</th>\n",
       "    </tr>\n",
       "  </thead>\n",
       "  <tbody>\n",
       "    <tr>\n",
       "      <th>1</th>\n",
       "      <td>[scottwalk, catch, full, gopdeb, last, night, ...</td>\n",
       "      <td>1</td>\n",
       "    </tr>\n",
       "    <tr>\n",
       "      <th>3</th>\n",
       "      <td>[robgeorg, carli, fiorina, trend, hour, debat,...</td>\n",
       "      <td>1</td>\n",
       "    </tr>\n",
       "    <tr>\n",
       "      <th>...</th>\n",
       "      <td>...</td>\n",
       "      <td>...</td>\n",
       "    </tr>\n",
       "    <tr>\n",
       "      <th>13868</th>\n",
       "      <td>[lrihendri, tedcruz, presid, alway, tell, trut...</td>\n",
       "      <td>1</td>\n",
       "    </tr>\n",
       "    <tr>\n",
       "      <th>13870</th>\n",
       "      <td>[lrihendri, tedcruz, head, presidenti, debat, ...</td>\n",
       "      <td>1</td>\n",
       "    </tr>\n",
       "  </tbody>\n",
       "</table>\n",
       "<p>3602 rows × 2 columns</p>\n",
       "</div>"
      ],
      "text/plain": [
       "                                                    text sentiment\n",
       "1      [scottwalk, catch, full, gopdeb, last, night, ...         1\n",
       "3      [robgeorg, carli, fiorina, trend, hour, debat,...         1\n",
       "...                                                  ...       ...\n",
       "13868  [lrihendri, tedcruz, presid, alway, tell, trut...         1\n",
       "13870  [lrihendri, tedcruz, head, presidenti, debat, ...         1\n",
       "\n",
       "[3602 rows x 2 columns]"
      ]
     },
     "execution_count": 6,
     "metadata": {},
     "output_type": "execute_result"
    }
   ],
   "source": [
    "from nltk.corpus   import stopwords \n",
    "from nltk.tokenize import TweetTokenizer\n",
    "from nltk.stem     import PorterStemmer\n",
    "import nltk\n",
    "import string\n",
    "import re\n",
    "\n",
    "# Set of emojis to remove from tweets\n",
    "emojis = set([ ':-)', ':)', ';)', ':o)', ':]', ':3', ':c)', ':>', '=]', '8)', '=)', ':}',\n",
    "               ':^)', ':-D', ':D', '8-D', '8D', 'x-D', 'xD', 'X-D', 'XD', '=-D', '=D',\n",
    "               '=-3', '=3', ':-))', \":'-)\", \":')\", ':*', ':^*', '>:P', ':-P', ':P', 'X-P',\n",
    "               'x-p', 'xp', 'XP', ':-p', ':p', '=p', ':-b', ':b', '>:)', '>;)', '>:-)','<3',\n",
    "               ':L', ':-/', '>:/', ':S', '>:[', ':@', ':-(', ':[', ':-||', '=L', ':<',\n",
    "               ':-[', ':-<', '=\\\\', '=/', '>:(', ':(', '>.<', \":'-(\", \":'(\", ':\\\\', ':-c',\n",
    "               ':c', ':{', '>:\\\\', ';(', '🇺🇸'])\n",
    " \n",
    "# English stop words set\n",
    "nltk.download('stopwords')\n",
    "stopwords_english  = set(stopwords.words(\"english\"))\n",
    "    \n",
    "# Tokenizer \n",
    "tokenizer    = TweetTokenizer(preserve_case=False, strip_handles=True, reduce_len=True)\n",
    "\n",
    "def clean_tweet(tweet):\n",
    "    \n",
    "    # regular expression to remove \"RT\" from tweets\n",
    "    tweet = re.sub(r'^RT[\\s]+', '', tweet)\n",
    " \n",
    "    # regular expression to remove \"URLs\" from tweets\n",
    "    tweet = re.sub(r'https?:\\/\\/.*[\\r\\n]*', '', tweet)\n",
    "    \n",
    "    # regular expression to remove \"#\" from tweets\n",
    "    tweet = re.sub(r'#', '', tweet)\n",
    "    \n",
    "    # regular expression to remove \"@\" from tweets\n",
    "    tweet = re.sub(r'@', '', tweet)\n",
    " \n",
    "    # tokenize\n",
    "    tweet_tokens = tokenizer.tokenize(tweet)\n",
    "    \n",
    "    # PorterStemmer\n",
    "    stemmer = PorterStemmer()\n",
    " \n",
    "    tweet_clean = []    \n",
    "    for word in tweet_tokens:\n",
    "        if (word not in stopwords_english and     # no stopwords\n",
    "            word not in emojis and                # no emojis\n",
    "            word not in string.punctuation):      # no punctuation\n",
    "                stem_word = stemmer.stem(word)    # stemming word\n",
    "                tweet_clean.append(stem_word)\n",
    " \n",
    "    return tweet_clean\n",
    "\n",
    "# get filtered clean words for each tweet\n",
    "tweets_data_df[\"text\"] = tweets_data_df[\"text\"].apply(lambda x: clean_tweet(x))\n",
    "# remove stopwords and punctuation\n",
    "tweets_data_df"
   ]
  },
  {
   "cell_type": "markdown",
   "metadata": {},
   "source": [
    "## Building a sentiment classifier\n",
    "First, we identify and create a dicctionary of unique words using the [`CountVectorizer`](https://scikit-learn.org/stable/modules/generated/sklearn.feature_extraction.text.CountVectorizer.html) method from scikit-learn. In order to train a classifier, we need to create a vector identifying each tweet, this is called a feature vector. The vectorizer helps us to translate each word into a unique integer code, extracting the *vocabulary* in our dataset.  "
   ]
  },
  {
   "cell_type": "code",
   "execution_count": 7,
   "metadata": {},
   "outputs": [
    {
     "name": "stdout",
     "output_type": "stream",
     "text": [
      "Vocabulary size:5421\n",
      "Vocabulary content:{'scottwalk': 4245, 'catch': 932, 'full': 1998, 'gopdeb': 2103, 'last': 2812, 'night': 3350, 'scott': 4238, 'best': 648, 'line': 2917, '90': 185, 'second': 4261, 'walker': 5190, '16': 32, 'robgeorg': 4098, 'carli': 912, 'fiorina': 1874, 'trend': 4968, 'hour': 2336, 'debat': 1356, 'men': 3110, 'just': 2668, 'complet': 1145, 'say': 4214, 'danscavino': 1323, 'realdonaldtrump': 3931, 'deliv': 1395, 'highest': 2280, 'rate': 3904, 'histori': 2295, 'presidenti': 3763, 'trump': 4983, '2016': 66, 'gregabbott_tx': 2163, 'tedcruz': 4780, 'first': 1878, 'day': 1338, 'rescind': 4027, 'everi': 1724, 'illeg': 2402, 'execut': 1753, 'action': 251, 'taken': 4740, 'barack': 582, 'obama': 3414, 'foxnew': 1947, 'waynedupreeshow': 5221, 'woke': 5331, 'tweet': 5006, 'via': 5134, 'govmikehuckabe': 2136, 'pattonoswalt': 3573, 'love': 2975, 'mark': 3037, 'harmon': 2235, 'romant': 4108, 'rival': 4086, 'summer': 4680, 'school': 4229, 'look': 2957, 'chucknelli': 1031, 'cruz': 1271, 'class': 1057, 'truth': 4995, 'get': 2050, 'vote': 5169, 'thebaxterbean': 4821, 'abort': 230, 'ban': 573, 'allow': 339, 'rapist': 3901, 'father': 1815, 'sue': 4671, 'emot': 1658, 'distress': 1488, 'mch': 3074, '7576': 170, 'rt': 4135, 'teatraitor': 4777, 'still': 4612, 'clown': 1077, 'show': 4375, 'glad': 2067, 'head': 2247, 'help': 2264, 'destroy': 1432, 'gop': 2097, 'winesdaypodcast': 5311, 'updat': 5087, 'tech': 4778, 'failur': 1785, 'ali': 329, 'fox': 1942, 'news': 3336, 'primari': 3777, 'voter': 5171, 'none': 3367, 'wiser': 5319, 'polici': 3694, 'plan': 3657, 'folk': 1911, 'put': 3850, 'forth': 1934, 'journal': 2649, 'brownblaz': 820, 'pleas': 3669, 'kkkorgop': 2758, 'lekarmasucr': 2867, 'handl': 2215, 'blacklivesmatt': 701, 'thank': 4811, 'megynkelli': 3097, 'chrisstirewalt': 1018, 'big': 668, 'moment': 3201, 'randpaul': 3896, 'vs': 5179, 'chrischristi': 1012, 'reaction': 3915, 'women': 5334, 'question': 3863, 'kellyfil': 2721, 'defend': 1378, 'far': 1803, 'fair': 1786, 'balanc': 568, 'name': 3276, 'call': 869, 'juvenil': 2675, 'bipartisan': 686, 'respons': 4037, 'pathet': 3565, 'frankluntz': 1963, '14': 25, 'focu': 1908, 'grouper': 2176, 'said': 4169, 'favor': 1822, 'view': 5145, 'saw': 4213, 'posit': 3726, '_holly_rene': 209, 'made': 2997, 'donat': 1513, 'carlyfiorina': 916, 'impress': 2419, 'perform': 3606, 'agenda': 294, 'promot': 3808, 'never': 3326, 'mention': 3112, 'fire': 1875, 'hp': 2348, 'run': 4145, 'race': 3875, 'country': 1227, 'go': 2074, 'hell': 2262, 'megyn': 3094, 'kelli': 2715, 'attack': 509, 'war': 5202, 'franklin_graham': 1962, '1st': 52, 'gopdebate': 2107, 'encourag': 1666, 'see': 4269, 'sever': 4309, 'candid': 889, 'express': 1769, 'faith': 1790, 'god': 2078, 'son': 4498, 'jesu': 2579, 'christ': 1019, 'brandondhowel': 773, 'great': 2157, 'way': 5220, 'start': 4576, 'friday': 1980, 'elect': 1631, 'presid': 3761, 'll': 2939, 'unconstitut': 5042, 'order': 3485, 'enact': 1665, 'pre': 3751, 'oba': 3412, 'even': 1720, 'though': 4873, 'super': 4682, 'conserv': 1174, 'report': 4011, 'actual': 255, 'like': 2905, 'kelly': 2717, 'interview': 2480, 'style': 4658, 'reinc': 3981, 'simpli': 4391, 'incred': 2437, 'time': 4894, 'watch': 5214, 'johnkasich': 2624, 'john': 2616, 'kasich': 2695, 'ohioan': 3442, 'creat': 1248, '350': 104, '000': 1, 'new': 3331, 'job': 2608, 'america': 371, 'mattyiceaz': 3063, 'can': 881, 'carri': 921, 'state': 4579, 'palmaceiahom': 3529, 'told': 4920, 'amymek': 381, 'owe': 3516, 'huge': 2361, 'expos': 1768, 'world': 5346, 'chri': 1010, 'wallac': 5192, 'true': 4978, 'rhino': 4058, 'frankconniff': 1960, 'what': 5260, 'take': 4738, 'talk': 4742, 'point': 3688, 'feed': 1830, 'charlottelaw': 976, 'christi': 1020, 'realli': 3936, 'stand': 4567, 'bretbaier': 787, 'wtf': 5365, 'bankruptci': 579, 'give': 2064, 'rubio': 4138, 'softbal': 4478, 'gloat': 2071, 'abt': 237, 'buy': 851, 'dem': 1397, 'pol': 3690, 'bid': 664, '2000': 56, 'billionair': 679, 'caricatur': 911, 'myacash': 3266, 'scorpionspriest': 4237, 'rand': 3894, 'tell': 4785, 'anoth': 420, 'hug': 2360, 'siteroi': 4405, 'governorperri': 2133, 'fight': 1860, 'back': 550, 'immigr': 2411, 'border': 751, 'porou': 3723, 'must': 3262, 'fix': 1887, 'right': 4072, 'need': 3310, 'studi': 4651, 'matthew': 3061, 'vers': 5130, 'usfre': 5106, '4life': 131, 'thought': 4874, 'seanhann': 4257, 'post': 3729, 'gave': 2029, 'chanc': 970, '2straighten': 92, 'teamdrbencarson': 4768, 'realbencarson': 3928, 'wow': 5355, 'brilliant': 802, 'cool': 1202, 'calm': 871, 'collected': 1109, 'empow': 1662, 'winner': 5314, 'drudg': 1567, '50': 139, '187k': 39, '46': 117, '25k': 80, 'foxsd': 1953, '49': 122, 'imho': 2409, 'marcorubio': 3029, 'donaldtrump': 1511, 'loser': 2968, 'bencarson': 633, 'other': 3493, 'forgett': 1927, 'know': 2766, 'extraordinari': 1771, 'nation': 3289, 'prefer': 3753, 'critic': 1261, 'opportun': 3477, 'inconsist': 2434, 'thetexasphoenix': 4854, 'governorperry': 2134, 'lisabloom': 2922, 'singl': 4396, 'urgent': 5098, 'issu': 2515, 'climat': 1067, 'chang': 971, 'promis': 3806, 'startup': 4577, 'confer': 1162, 'seem': 4271, 'quit': 3869, 'reason': 3942, 'feministabul': 1844, 'there': 4848, 'noth': 3381, 'listen': 2924, 'ten': 4789, 'dude': 1578, 'whether': 5268, 'readi': 3918, 'lead': 2843, 'join': 2630, 'team': 4767, 'clair': 1054, 'whitneyn': 5280, 'yet': 5391, 'evidence': 1734, 'bas': 589, 'answer': 422, 'direct': 1459, 'frighten': 1984, 'miss': 3170, 'excit': 1749, '4u': 136, 'republicandeb': 4020, 'wait': 5184, '20': 54, 'year': 5386, 'marco': 3028, 'briefli': 796, 'reform': 3969, 'privat': 3787, 'berat': 642, 'dreamer': 1551, 'berniesand': 646, 'tom': 4921, 'hank': 2219, 'final': 1865, 'somebodi': 4489, 'make': 3008, 'sens': 4287, 'debatewithberni': 1359, 'southernhomo': 4512, 'olivia': 3453, 'pope': 3718, 'would': 5353, 'guy': 2192, 'break': 778, 'record': 3951, 'he': 2245, 'polish': 3697, 'politician': 3703, 'donald': 1510, 'absolut': 235, 'nut': 3401, 'entertain': 1679, 'lol': 2951, 'dykstradam': 1593, 'went': 5250, 'hillaryclinton': 2289, '32': 101, 'but': 848, 'remain': 3991, 'silent': 4388, 'affect': 279, 'us': 5099, 'http': 2352, 'passion': 3560, 'religiousupamovi': 3990, 'nro': 3392, 'got': 2120, 'review': 4051, 'deserv': 1427, 'read': 3917, 'nreditori': 3391, 'recap': 3945, 'kesgardn': 2732, 'brutal': 825, 'assclown': 490, 'megan': 3092, 'lesson': 2877, 'care': 909, 'twitter': 5015, 'close': 1073, 'statement': 4580, 'stop': 4620, 'worri': 5347, 'respect': 4035, 'tellingitlik': 4786, 'lesleyabravanel': 2873, 'sycoph': 4723, 'want': 5201, 'megynkelly': 3098, 'hidden': 2276, 'simpl': 4390, 'vagin': 5114, 'mattkbh': 3062, 'away': 535, 'challeng': 967, 'tough': 4939, 'could': 1221, 'potu': 3733, 'carljacksonshow': 913, 'oper': 3474, 'brain': 771, 'skin': 4414, 'color': 1113, 'campeauelliot': 880, 'dr': 1535, 'ben': 630, 'carson': 922, 'tonight': 4930, 'polit': 3699, 'partial': 3551, 'ration': 3908, 'campaign': 878, 'nomin': 3363, 'end': 1667, 'k_mcq': 2678, 'reminisc': 3996, 'longer': 2956, 'exist': 1755, 'ted': 4779, 'kennedi': 2724, '1965': 43, 'act': 250, 'kill': 2744, 'makeamericagreatagain': 3010, 'youngblkrepub': 5399, 'anyth': 434, 'els': 1642, 'tv': 5005, 'past': 3561, '10': 8, 'bullrid': 838, 'olivianuzzi': 3454, 'daveweigel': 1328, 'better': 652, 'it': 2517, 'finess': 1871, 'sound': 4509, 'byte': 855, 'jebbush': 2557, 'rethink': 4045, '911': 187, 'thejimhugh': 4837, 'lot': 2970, 'avail': 526, 'bush': 844, 'serv': 4303, 'term': 4792, 'commit': 1131, 'suicid': 4675, 'huh': 2364, 'moder': 3196, 'particip': 3552, 'nytim': 3408, 'cnn': 1089, 'prais': 3747, 'good': 2091, 'thing': 4863, 'hero': 2272, 'gerryduggan': 2048, 'kryptonian': 2779, 'scienc': 4234, 'council': 1222, 'scari': 4220, 'peopl': 3600, 'directli': 1460, 'afraid': 286, 'fredbarn': 1965, 'weeklystandard': 5237, 'mike': 3141, 'huckabe': 2354, 'star': 4574, 'luntz': 2984, 'group': 2175, 'spoke': 4541, 'feedback': 1831, 'primetim': 3780, 'afternoon': 289, 'think': 4864, 'real': 3924, 'quiet': 3867, 'effect': 1620, 'catholiclisa': 934, 'hat': 2238, 'use': 5104, 'idiot': 2396, 'hillari': 2287, 'clinton': 1069, 'secular': 4266, 'progress': 3802, 'movement': 3231, 'gopd': 2101, 'johnamato': 2617, 'agre': 301, 'andreatantaro': 388, 'someth': 4493, 'hurt': 2374, 'concur': 1157, 'donniewahlberg': 1519, 'heart': 2254, 'soul': 4507, 'hope': 2319, 'add': 260, 'fi': 1855, 'role': 4105, 'model': 3195, 'speak': 4518, 'prof': 3796, 'friend': 1982, 'rosi': 4119, 'woman': 5333, 'poser': 3725, 'greatest': 2159, 'moral': 3213, 'purpos': 3847, 'strengthen': 4638, 'famili': 1798, 'commun': 1134, 'nevagphx': 3324, 'magnific': 3000, 'support': 4687, 'mate': 3058, 'pot': 3731, 'anti': 425, 'unit': 5060, 'person': 3612, 'destruct': 1433, 'forc': 1921, 'work': 5342, '24': 76, 'sure': 4694, 'democraci': 1403, 'particularli': 3554, 'sterl': 4602, 'qualiti': 3857, 'feder': 1829, 'republ': 4018, '1216bj': 22, 'domin': 1508, 'social': 4471, 'media': 3085, 'beat': 607, 'rachelmartinart': 3876, 'wonder': 5337, 'address': 262, 'solut': 4486, 'clean': 1062, 'energi': 1671, 'vivigold': 5162, '197': 45, 'misogynist': 3169, 'ignor': 2399, 'xenophob': 5371, 'greedi': 2160, 'proof': 3810, 'money': 3205, 'disagre': 1463, 'hit': 2296, 'calcul': 865, 'mute': 3264, 'sentedcruz': 4293, 'realbencarso': 3927, 'ambertoz': 361, 'caught': 936, 'felt': 1839, 'write': 5359, 'joke': 2632, 'biggest': 671, 'whole': 5285, 'cristi': 1260, 'absurd': 236, 'may': 3066, 'lord': 2964, 'guid': 2184, 'word': 5340, 'let': 2878, 'wisdom': 5317, 'eloqu': 1641, 'knew': 2762, 'believ': 624, 'imwithhuck': 2423, 'throw': 4883, 'crap': 1239, 'substant': 4663, 'gotcha': 2121, 'trumpforpresid': 4987, 'much': 3251, 'chooseliferac': 1007, 'lose': 2967, 'truli': 4982, 'import': 2417, 'defundpp': 1390, 'praytoendabort': 3750, 'articul': 476, 'relat': 3984, 'favorit': 1823, 'jeb': 2555, 'teacher': 4766, 'union': 5059, 'kid': 2741, 'disenfranchis': 1471, 'one': 3460, 'teach': 4765, 'em': 1645, 'britt': 808, '27ash': 82, 'current': 1291, 'mood': 3212, 'fan': 1800, 'bimbo': 683, 'ldonaldtrump': 2841, 'uniteblu': 5061, 'excel': 1746, 'analysi': 382, 'rman': 4089, '957': 195, 'limitgovt': 2909, 'whoissizzl': 5284, 'spent': 4534, 'kim': 2746, 'kany': 2687, 'decent': 1368, 'shame': 4328, 'drown': 1564, 'looni': 2959, 'wagnergirl': 5182, 'govermentcartel': 2130, 'securethebord': 4268, 'littleladycassi': 2928, 'smart': 4446, 'milesorionfeld': 3151, 'crowd': 1267, 'zellieimani': 5412, 'terror': 4797, 'expect': 1759, 'anyon': 432, 'bring': 803, 'white': 5276, 'supremacist': 4693, 'organ': 3487, 'engag': 1674, 'kkkor': 2757, 'reagan': 3920, 'con': 1152, 'man': 3019, 'thinkprogress': 4865, 'stuck': 4648, 'electr': 1632, 'sharpen': 4337, 'jgalt': 2582, 'introduc': 2481, 'bill': 676, 'strip': 4639, 'citizenship': 1048, 'american': 373, 'isi': 2507, 'anergo_teach': 393, 'serious': 4302, 'danger': 1320, 'joehudsonsmal': 2612, 'mother': 3224, 'die': 1446, 'rather': 3905, 'ask': 484, 'solid': 4484, 'smartest': 4449, 'wisest': 5320, 'room': 4115, 'bare': 585, 'littl': 2927, 'salti': 4180, 'well': 5246, 'power': 3738, 'rickcanton': 4065, 'cruzcrew': 1273, 'outsid': 3506, 'alway': 351, 'honor': 2315, 'alexisinnh': 328, 'two': 5018, 'crazi': 1244, 'fun': 2000, 'exhaust': 1754, 'week': 5235, 'event': 1721, 'thecjpearson': 4824, 'cruztovictori': 1274, 'they': 4859, 'hilari': 2284, 'wick': 5293, 'thursday': 4886, 'without': 5323, 'step': 4596, 'prime': 3779, 'tim': 4893, 'stage': 4564, 'bodybyn': 733, 'author': 524, 'kate': 2696, 'law': 2837, 'leader': 2844, 'parti': 3550, 'block': 712, 'everyon': 1728, 'laugh': 2827, 'huck': 2353, 'pimp': 3643, 'th2016': 4808, 'ccot': 943, 'tcot': 4761, 'brianstelt': 790, 'overnight': 3513, 'household': 2339, '2011': 61, '12': 21, 'ben_eld': 631, '1155': 18, 'paul': 3574, 'theatric': 4819, 'broadway': 810, 'although': 350, 'occasion': 3424, 'dick': 1442, 'keep': 2710, 'aliv': 332, 'sallykohn': 4177, 'hard': 2229, 'concern': 1155, 'major': 3007, 'fring': 1986, 'base': 590, 'ambitiouspaul': 362, 'sellout': 4277, 'fredzeppelin': 1967, 'priceless': 3774, 'clock': 1071, 'deb': 1353, 'contend': 1188, 'gocarli': 2077, 'discuss': 1469, 'hadiyah': 2197, 'bruh': 823, 'bore': 752, 'af': 278, 'punch': 3838, 'face': 1779, 'game': 2020, 'mystifi': 3269, 'rightli': 4075, 'frank': 1957, 'win': 5306, 'here': 2270, 'frustrat': 1991, 'cont': 1187, 'comb': 1115, 'mean': 3081, 'credibl': 1249, 'correct': 1211, 'christichat': 1023, 'wakeupamerica': 5188, 'sheriffclark': 4348, 'sisterpatriot': 4400, 'mrgeorgewallac': 3237, 'stayin': 4587, 'pretti': 3768, 'consid': 1177, 'assum': 497, 'gonna': 2089, 'mug': 3254, 'nerdist': 3316, 'orang': 3484, 'norsu': 3372, 'drop': 1563, 'top': 4934, 'dread': 1548, 'petul': 3620, 'move': 3230, 'berni': 645, 'sander': 4190, 'pamelagel': 3531, 'sign': 4386, 'death': 1352, 'warrant': 5208, 'citizen': 1047, 'hilcox': 2285, '18': 37, 'drunk': 1570, 'uncl': 5040, 'jonmcclellan': 2636, 'strong': 4641, 'video': 5143, 'retrospect': 4046, 'usa': 5101, 'someon': 4491, 'confid': 1164, 'arrog': 470, 'rushlimbaugh': 4155, 'hardball_chri': 2231, 'hey': 2274, 'file': 1862, 'workman': 5345, 'claim': 1053, 'smash': 4452, 'hardbal': 2230, 'republicanpunk': 4022, 'delet': 1392, '30': 96, 'subpoena': 4660, 'email': 1646, 'readyforhillari': 3919, 'wake': 5186, 'treat': 4964, 'gnat': 2073, 'gotrump': 2123, 'rememb': 3994, 'bullshit': 839, 'pick': 3633, 'stupid': 4656, 'marin': 3035, 'naughtybeyotch': 3295, 'allenwestrepub': 336, 'declar': 1371, 'constantli': 1181, 'tri': 4969, 'push': 3849, 'fart': 1808, 'ratingsbonanza': 3906, 'amaz': 359, 'chriscuomo': 1013, 'life': 2902, 'begin': 620, 'mrmilianspeak': 3238, 'dear': 1350, 'republican': 4019, 'grew': 2167, 'broker': 814, 'hate': 2239, 'poor': 3713, 'jhogangidley': 2584, 'crush': 1270, 'cc': 940, 'shrinkgov': 4378, 'pretend': 3767, 'bar': 581, 'high': 2278, 'somewher': 4497, 'sh': 4320, 'syphili': 4726, 'teamtrump': 4773, 'jimtru': 2598, '48': 121, 'treezilla': 4966, 'hereistheansw': 2271, 'mind': 3158, 'ambush': 365, 'aim': 310, 'ra': 3872, 'classi': 1058, 'inspir': 2463, 'trustworthi': 4994, 'happi': 2223, 'shadowbard': 4324, 'note': 3378, 'justifi': 2671, 'piggish': 3640, 'sta': 4561, 'halffullhalfmt': 2207, 'prep': 3758, '4what': 138, 'come': 1119, 'abc': 224, 'nbc': 3300, 'cnbc': 1088, 'willb': 5302, 'nasti': 3286, 'youvebeentarget': 5406, 'alexandraheus': 325, 'til': 4891, 'hear': 2252, 'seriou': 4301, 'jillstanek': 2588, 'futur': 2009, 'gener': 2038, 'barbarian': 584, 'million': 3156, 'babi': 547, 'lilwolf': 2907, 'spoken': 4542, 'brithum': 806, 'yaleclimatecomm': 5376, 'jerrybrowngov': 2575, 'peep': 3596, 'oil': 3446, 'ga': 2014, 'actonclim': 253, 'stevedeaceshow': 4605, 'sinc': 4394, 'ronald': 4112, 'definit': 1384, 'nomine': 3364, 'kept': 2727, 'tight': 4890, 'next': 3341, 'tlot': 4909, '2015': 65, '42': 114, 'tweetreachapp': 5009, 'cours': 1230, 'user': 5105, 'rank': 3898, 'we': 5222, 'tweeter': 5007, 'amandawil': 357, 'pray': 3748, 'turn': 5004, 'prayforameri': 3749, 'blondieforkeep': 714, 'koolmo': 2775, '21': 70, 'shirt': 4354, 'rabit': 3873, 'clear': 1063, 'jaxt': 2547, '0520': 4, 'done': 1514, 'shine': 4352, 'girl': 2060, 'whip': 5273, 'nae': 3272, 'nobody': 3360, 'busi': 845, 'that': 4813, 'pay': 3581, 'wedd': 5229, 'guypbenson': 2193, 'predict': 3752, 'sjw': 4410, 'repeat': 4005, 'ppact': 3741, 'insult': 2467, 'feminist': 1843, 'wast': 5213, 'space': 4513, 'terrifi': 4796, 'ugh': 5032, 'sit': 4402, 'couch': 1220, 'ye': 5383, 'goldengateblond': 2085, 'tone': 4926, 'she': 4342, 'worst': 5350, 'possibl': 3728, 'sarahbh': 4200, '319': 100, 'onerational': 3462, 'fenc': 1845, 'clairechansen': 1055, 'refrain': 3970, 'fat': 1814, 'pig': 3638, 'whore': 5287, 'human': 2365, 'nicolet_': 3348, '86': 181, 'anymor': 430, 'aw': 531, 'proven': 3824, 'pregnanc': 3756, 'honesti': 2312, 'tajmagrud': 4736, 'bash': 592, 'platform': 3663, 'tinymuslimah': 4900, 'everybodi': 1725, 'wanna': 5198, 'freak': 1964, 'till': 4892, 'light': 2903, 'freedomjam': 1971, 'rino': 4081, 'number': 3399, '10cat': 14, 'swimsuit': 4717, 'round': 4126, 'found': 1938, 'lnyhbt': 2942, 'p2': 3519, 'deb_libbi': 1354, 'half': 2206, 'dementia': 1402, 'probabl': 3791, 'rivet': 4087, 'confus': 1168, 'toaster': 4913, 'embarrass': 1647, 'stun': 4655, 'propaganda': 3812, 'kerryepp': 2730, 'keeper': 2711, 'peddoc': 3594, '63': 156, 'steph': 4597, '93065': 193, 'maydnusa': 3068, 'interest': 2474, 'economi': 1611, 'yr': 5408, 'preform': 3754, 'loos': 2963, 'ground': 2173, 'kumailn': 2781, 'militari': 3153, 'fuck': 1995, 'shit': 4355, 'writeintrump': 5360, 'refer': 3966, 'vito': 5161, 'corleon': 1209, 'fredo': 1966, 'libertyladyusa': 2897, 'ma': 2991, 'am': 353, 'conservvoic': 1176, 'kerrypicket': 2731, 'disappoint': 1464, 'wisconsin': 5316, 'fastest': 1813, 'shrink': 4377, 'middl': 3136, 'sen': 4279, 'former': 1933, 'ceo': 956, 'vile': 5149, 'invok': 2490, 'slur': 4437, 'coward': 1235, 'yay': 5381, 'leahrboss': 2850, 'spank': 4514, 'boy': 763, 'radar': 3881, 'awesom': 536, 'bell': 626, 'ring': 4079, 'poodl': 3712, 'ear': 1598, 'perk': 3608, 'haircut': 2205, 'distract': 1487, 'almost': 343, 'yell': 5387, 'leash': 2855, 'walk': 5189, 'tire': 4903, 'shill': 4350, 'henceforth': 2267, 'known': 2768, 'shillari': 4351, 'almightygod': 342, 'guess': 2182, 'bibl': 662, 'pharaoh': 3622, 'shebear': 4343, 'rmconserv': 4090, 'campaignconserv': 879, 'cut': 1294, 'core': 1207, 'also': 348, 'shortcom': 4368, 'htt': 2351, 'around': 468, 'proud': 3822, 'skye': 4417, '820': 179, 'centuri': 955, 'small': 4442, 'forward': 1937, 'drshow': 1565, 'roundup': 4127, 'morn': 3215, 'side': 4384, 'clearli': 1064, 'teammarco': 4770, 'ccalbo': 942, 'happen': 2222, 'gusramsey': 2191, 'snl': 4462, 'enough': 1677, 'cast': 930, 'spoof': 4545, 'behalf': 621, 'liber': 2892, 'horrif': 2324, 'crime': 1255, 'plannedbutcherhood': 3659, 'took': 4931, 'task': 4754, 'fatsham': 1816, 'gotta': 2124, 'replac': 4010, 'marthamaccallum': 3047, 'maccallum': 2992, 'earli': 1599, 'ljcambria': 2938, 'forget': 1926, 'especislli': 1705, 'independ': 2441, 'lulz': 2982, 'huckster': 2356, 'rnc': 4091, 'experi': 1762, 'matter': 3060, 'teaparti': 4775, 'renewu': 3999, 'understand': 5046, 'draftrunbenrun': 1539, 'divid': 1492, 'lizzwinstead': 2937, 'broken': 813, 'tkrypt': 4908, 'motiv': 3226, 'hand': 2213, 'kind': 2749, 'isaid': 2505, 'dog': 1506, 'ruff': 4141, 'txdemparti': 5020, 'ever': 1723, 'research': 4028, 'extrem': 1772, 'yesterday': 5389, 'el_deego': 1628, 'deflateg': 1386, 'bigger': 670, 'sham': 4327, 'gopdeba': 2104, '19': 40, '808s_n_cupcak': 176, 'blowtici': 720, 'pro': 3790, 'lif': 2901, 'shaughn_a': 4339, 'least': 2856, 'shld': 4358, 've': 5123, 'share': 4334, 'follow': 1913, 'mrctv': 3236, 'factcheck': 1782, 'easier': 1605, 'uniteblueca': 5062, 'iamgmjohnson': 2381, 'long': 2955, 'black': 698, 'latino': 2823, 'lgbtq': 2887, 'kkko': 2756, 'sandiego': 4191, 'newsweek': 3340, 'bingo': 685, 'six': 4407, 'empti': 1663, 'left': 2861, 'overal': 3510, 'im': 2405, 'gabby_hoffman': 2015, 'liberti': 2895, 'deborahpeasley': 1364, 'multipl': 3255, 'shot': 4370, 'nod': 3361, 'behind': 623, 'part': 3549, 'strength': 4637, 'fabul': 1777, 'democrat': 1404, 'tombx': 4923, '7m': 174, 'hanniti': 2221, 'ogop': 3438, 'nyer': 3405, 'senschum': 4289, 'chuck': 1030, 'schumer': 4231, 'iran': 2497, 'nuclear': 3396, 'deal': 1349, 'result': 4041, 'kellyfail': 2720, 'up': 5085, 'perri': 3609, 'jindal': 2599, 'rest': 4038, 'jonahnro': 2634, 'jimgeraghti': 2592, 'given': 2065, '1on1': 51, 'prepar': 3759, 'price': 3773, 'emmaladyros': 1656, 'zwigzag': 5420, 'hundr': 2371, 'thousand': 4875, 'id': 2391, 'debatewithb': 1358, 'ethanelli': 1712, '2001': 57, '2009': 60, 'slav': 4425, 'lack': 2791, 'leadership': 2846, 'check': 981, 'comment': 1127, '4billlewi': 123, 'socialmedia': 4473, 'maureenjohnson': 3065, 'imagin': 2407, 'ate': 502, 'ticket': 4888, 'landslid': 2803, 'anncoult': 403, 'tylercreighton': 5024, 'weird': 5242, 'fund': 2002, 'shanepaulneil': 4330, 'earnthisdamnvoteorlos': 1602, 'hailsatan': 2203, 'astrokati': 500, 'factual': 1783, 'wrong': 5363, 'everyth': 1731, 'g_humbertson': 2013, 'oppon': 3476, 'fear': 1825, 'capabl': 901, 'pleasant': 3670, 'surpris': 4698, 'succinctli': 4668, 'nottrump': 3386, 'anyonebut': 433, 'kharyp': 2738, 'slob': 4434, 'disgust': 1472, 'anim': 400, 'pistolsnpoetri': 3647, 'howl': 2347, 'fakedansavag': 1793, 'prostitut': 3817, 'notic': 3382, 'admit': 266, 'bribe': 792, 'public': 3830, 'offici': 3435, 'fail': 1784, 'appear': 445, 'follish': 1912, 'rock': 4101, 'hous': 2337, 'mzdivah': 3270, '67': 158, 'nutshel': 3402, 'blue': 721, 'shannonrwatt': 4331, 'nra': 3389, 'lobbi': 2946, 'prevent': 3769, 'command': 1125, 'servic': 4305, 'member': 3106, 'own': 3517, 'gun': 2187, 'pledg': 3672, '3rd': 109, 'disqualifi': 1482, 'rednationris': 3958, 'grannyt': 2154, 'dna': 1497, 'defin': 1383, '5th': 152, '14th': 27, 'amend': 369, 'guarante': 2181, 'righttolif': 4076, 'dontbackdown': 1521, 'dead': 1346, 'ey': 1774, 'granni': 2153, 'oozi': 3470, 'curli': 1289, 'smarmi': 4445, 'vp': 5178, 'wannabe': 5199, 'joemygod': 2613, 'ad': 257, 'dentur': 1412, 'adhes': 263, 'memori': 3108, 'pill': 3641, 'corefoxaudi': 1208, 'thepatriot': 4845, '143': 26, 'rope': 4117, 'hang': 2216, 'enjoy': 1675, 'dwstweet': 1592, 'nh': 3343, 'forum': 1936, 'incom': 2432, 'inequ': 2444, 'cityclub': 1050, 'size': 4409, 'irrelev': 2502, 'lesbian': 2872, 'your': 5403, 'exampl': 1743, 'hillary': 2288, 'invit': 2489, 'celeb': 946, 'york': 5395, 'ciscabeck': 1043, 'leav': 2857, 'immedi': 2410, '911woth': 188, 'lilymaxcook': 2908, 'save': 4211, 'raccoon': 3874, 'sewer': 4311, 'find': 1869, 'natur': 3293, 'habitat': 2194, 'dumbfuck': 1582, '_rightchick': 215, 'ycot': 5382, 'control': 1196, 'bodi': 732, 'derrickbmartin': 1422, 'out': 3498, 'ricksantorum': 4066, '_natedrak': 214, 'season': 4259, 'googl': 2095, 'date': 1326, 'stay': 4586, 'inform': 2447, 'surprisingli': 4699, 'list': 2923, 'stir': 4614, 'drama': 1543, 'unprofession': 5076, 'julietteisabel': 2663, 'ladysandersfarm': 2795, 'heard': 2253, 'wish': 5321, 'luck': 2980, 'holi': 2302, 'male': 3016, 'age': 293, '15': 28, '34': 103, 'caus': 937, 'gunsens': 2189, 'thefriddl': 4833, 'epic': 1688, 'three': 4879, 'connect': 1172, 'rick': 4064, 'touch': 4937, 'greta': 2165, 'karlrov': 2694, 'otr': 3495, 'keithboykin': 2714, 'ferguson': 1847, 'baltimor': 571, 'cleveland': 1065, 'mckinney': 3075, 'sandrabland': 4192, 'samdubos': 4183, 'allegrakirkland': 335, 'applaus': 448, 'meantweet': 3084, 'tast': 4755, 'avoid': 530, 'ugli': 5033, 'hair': 2204, 'horsemen': 2328, 'apocalyps': 439, 'johncardillo': 2618, 'principl': 3783, 'fearless': 1826, 'est': 1708, 'rove': 4129, 'priebu': 3776, 'statist': 4584, 'di': 1439, 'comedi': 1120, 'sitcom': 4403, 'sarahhuckabe': 4202, 'usatoday': 5102, 'zinger': 5415, 'fetu': 1849, 'live': 2930, 'bear': 606, 'po': 3682, 'reallyamerica': 3938, 'budget': 831, 'rais': 3890, 'middleclass': 3137, 'tax': 4759, 'deficit': 1382, 'investmenttax': 2488, 'lower': 2977, 'flag': 1891, 'soldier': 4482, 'chattanooga': 979, 'pc': 3589, 'howev': 2346, 'network': 3320, 'hammer': 2211, 'center': 953, 'field': 1856, 'wall': 5191, 'park': 3544, 'confront': 1167, 'worthi': 5352, 'fauxtimesnew': 1819, 'differ': 1449, 'mask': 3051, 'mi': 3126, 'benjaminj': 638, 'koch': 2770, 'bro': 809, 'farc': 1804, 'raiden': 3887, '679': 159, 'explan': 1766, 'surg': 4695, 'ahead': 305, 'cuckserv': 1284, 'thebardockobama': 4820, 'jet': 2580, 'fuel': 1996, 'melt': 3105, 'steel': 4593, 'beam': 605, 'togeth': 4919, 'bobcesca_go': 730, 'eventu': 1722, 'socialist': 4472, 'habitu': 2195, 'liar': 2890, 'biden': 665, 'buffoon': 832, 'openli': 3473, 'mamadoxi': 3017, 'horrend': 2322, 'abandon': 221, 'valu': 5118, 'ridicul': 4071, 'candidaci': 890, '17': 34, 'low': 2976, 'third': 4866, 'refineri': 3967, '29': 83, 'raddmom': 3883, 'graduat': 2148, 'stanford': 4573, 'uofmaryland': 5084, 'mit': 3176, '2ndlook': 87, 'visa': 5157, 'track': 4948, 'system': 4728, 'pass': 3559, 'gang': 2022, 'eight': 1623, 'schmitt': 4228, 'runningquack': 4150, '93': 192, 'kendallclb': 2723, 'inde': 2440, 'sourc': 4511, 'laughter': 2828, 'omgop': 3457, 'goal': 2075, 'pave': 3579, 'champ': 968, 'partyofthefutur': 3557, 'rviydogutv': 4158, 'sanjaya': 4196, 'idol': 2397, 'curiou': 1288, 'press': 3765, 'gain': 2017, 'steam': 4592, 'aurabogado': 522, 'joshtpm': 2647, 'mission': 3171, 'might': 3139, 'brogan': 811, 'boffo': 735, 'tune': 5002, '2x': 95, 'old': 3451, 'sarafe': 4198, 'renomarki': 4000, 'problem': 3793, 'fill': 1863, 'opinion': 3475, 'suppos': 4689, 'bought': 758, 'sold': 4481, 'surrend': 4701, 'terrorist': 4799, 'paulforterror': 3576, 'appli': 449, 'chriswallac': 1027, 'bougieblackgurl': 759, 'all': 333, 'fetus': 1850, 'refus': 3972, 'bl': 697, 'came': 873, 'compar': 1137, 'similar': 4389, '1980': 48, 'chump': 1035, 'whine': 5269, 'mayb': 3067, 'cogent': 1099, 'idea': 2392, 'thanev': 4810, 'salli': 4176, 'kohn': 2773, 'seen': 4272, 'wakeupam': 5187, 'lyndonjackmon': 2987, 'dearheart': 1351, 'boyabouttown': 764, 'upset': 5092, 'ppl': 3743, 'misguid': 3166, 'non': 3366, 'keltieknight': 2722, 'brio': 804, '82': 178, 'student': 4649, 'debt': 1365, 'sum': 4678, 'entir': 1680, 'implod': 2415, 'foxdeb': 1944, 'special': 4524, 'hlcpodcast': 2297, 'edit': 1614, 'internationalbeerday': 2477, 'drink': 1556, 'oh': 3439, 'so': 4466, 'background': 554, 'loophol': 2962, 'dv': 1589, 'polic': 3693, 'shoot': 4364, 'texancat': 4803, 'ty': 5022, 'soon': 4501, 'feel': 1833, 'cruzcr': 1272, 'strongli': 4643, 'suggest': 4674, 'denni': 1409, 'prager': 3745, 'today': 4915, '3o5flyguy': 108, 'present': 3760, 'roxburi': 4132, 'holly_harri': 2304, 'todayshow': 4916, 'chucktodd': 1032, 'includ': 2431, 'dumbmass': 1583, 'idiocraci': 2395, 'rhondawatkgwyn': 4060, 'messag': 3118, 'pjnet': 3653, 'shootermcgavin': 4366, 'shooter': 4365, 'mcgavin': 3072, 'brianzahnd': 791, 'nativ': 3292, 'kick': 2740, 'complain': 1144, 'amandagutterman': 355, 'mexican': 3122, 'vohanda': 5164, 'argu': 463, '1hr': 50, 'minut': 3162, 'aubreysitterson': 517, 'katiepavlich': 2702, 'mistak': 3174, 'argument': 464, 'detail': 1434, 'keder': 2706, 'whiner': 5270, 'woodruffbet': 5339, 'thedailybeast': 4825, 'prove': 3823, 'bad': 559, 'journalist': 2650, 'describ': 1424, 'ntagouri': 3395, 'obsess': 3419, 'protect': 3819, 'strugglin': 4646, 'pictur': 3635, 'reveal': 4049, 'klsouth': 2760, 'haha': 2198, 'dream': 1549, 'ventriloquist': 5126, 'dummi': 1584, 'lie': 2900, 'ajc': 316, '4other': 133, 'practic': 3744, 'dccommonsens': 1343, 'popular': 3721, 'rfrasher': 4055, 'neurosurgeri': 3323, 'geniu': 2040, 'imo': 2412, 'audienc': 518, 'yea': 5384, 'alien': 330, 'fantast': 1802, 'th16': 4807, 'accident': 241, 'upload': 5089, 'pic': 3632, 'instead': 2465, '96sun': 196, 'vigor': 5148, 'trumpissu': 4989, 'temperatur': 4788, 'form': 1931, 'patriarchi': 3567, 'rob_guillori': 4097, 'sting': 4613, 'repel': 4006, 'ceil': 945, 'scorpion': 4236, 'mkdclsn': 3182, 'juddlegum': 2661, 'modernjam': 3197, 'suddenli': 4670, 'becam': 609, 'resid': 4031, 'ny': 3403, 'jersey': 2577, 'shut': 4381, 'gov': 2127, 'defund': 1389, 'parenthood': 3542, 'obamacar': 3415, 'scare': 4219, 'storm': 4625, 'misogyni': 3168, 'radiofreetom': 3886, 'certifi': 959, 'disast': 1466, 'influenc': 2446, 'comm': 1124, 'manner': 3024, 'jacobengel': 2525, 'key': 2736, 'takeaway': 4739, 'outnumberedfnc': 3503, 'foxnewsl': 1950, 'deaf': 1348, 'deliber': 1393, 'clue': 1084, 'blow': 717, 'raddicool': 3882, 'mock': 3192, 'rupaulsdragrac': 4151, '1000x': 11, 'train': 4953, 'wreck': 5358, 'mynor': 3268, 'warehouse': 5203, 'clowncardumpsterfir': 1081, 'washingtonpost': 5210, 'aaronblakewp': 220, 'spirit': 4537, 'boycott': 765, 'shortli': 4369, '00': 0, 'pm': 3681, 'pittgriffin': 3650, 'grneyedmandi': 2172, 'gawd': 2030, 'forbid': 1920, 'fnc': 1906, 'appoint': 450, 'unbias': 5037, 'play': 3665, 'chill': 998, 'substanc': 4662, 'kreme': 2778, 'object': 3417, 'bia': 658, 'who': 5281, 'msm': 3246, 'naheitzeg': 3273, 'bewar': 655, 'extremist': 1773, 'neighbor': 3313, 'govmarkdayton': 2135, 'yeah': 5385, 'carsonwin': 923, 'bc2dc16': 602, 'imwithben': 2422, 'winbenwin': 5307, 'inittowinit': 2453, 'titan': 4904, 'iceberg': 2387, 'sink': 4397, 'earn': 1601, 'shakestweetz': 4325, 'iraq': 2499, 'timelin': 4895, 'establish': 1709, 'brother': 815, 'racial': 3877, 'ame': 367, 'russian': 4157, 'grahamvys': 2150, 'insidesourcesdc': 2460, 'erinmcpik': 1700, 'bensherwood': 640, 'across': 249, 'aisl': 315, 'salut': 4181, 'sharp': 4336, 'unflinch': 5055, 'que': 3860, 'sydneyvl': 4724, 'cautious': 938, 'optimist': 3482, 'lessgovmorefun': 2876, 'invas': 2485, 'saill': 4170, 'huckabee': 2355, 'hire': 2292, 'vogon': 5163, 'cand': 887, 'mod': 3194, 'congress': 1171, '_ms_bee': 212, 'interesting': 2475, 'foreign': 1922, 'bucksexton': 830, 'furi': 2008, 'unpredict': 5073, 'debbyrever': 1363, 'smartvalueblog': 4450, 'enuff': 1683, 'whaah': 5257, 'unfair': 5052, 'jjauthor': 2601, 'yewkalayle': 5392, 'learjett': 2852, 'you': 5396, 'search': 4258, 'pizzapimp': 3652, '812': 177, 'rli': 4088, 'provok': 3826, 'learn': 2853, 'polarinski': 3691, 'doubt': 1529, 'stone': 4618, 'countri': 1226, 'rhetor': 4057, 'piggi': 3639, 'chadpergram': 963, 'bless': 709, 'fortun': 1935, 'mani': 3021, 'mir_ross': 3163, '6lb': 162, 'canal': 884, 'less': 2875, 'appeal': 444, 'duti': 1588, 'leahr': 2849, '77': 172, 'prison': 3786, 'cost': 1216, 'assault': 489, 'homicid': 2309, 'billion': 678, 'guns': 2188, 'johnstewart': 2629, 'td': 4762, 'bird': 687, 'sam': 4182, 'dubos': 1576, 'tamir': 4747, 'rice': 4062, 'crawford': 1243, 'dodg': 1505, 'politics_pr': 3706, 'enforc': 1673, 'orthodoxi': 3491, 'genuin': 2044, 'concept': 1154, 'book': 743, 'dale': 1309, 'cuban': 1281, 'nannacassi': 3280, 'weak': 5223, 'strenghth': 4636, 'wanrt': 5200, 'michaelkrus': 3129, 'mikeallen': 3144, 'tatianak': 4757, 'fact': 1781, 'wasnt': 5211, 'liter': 2925, 'pundit': 3839, 'bish': 689, 'bout': 762, 'target': 4753, 'bias': 659, 'choic': 1005, 'defen': 1377, 'offer': 3433, 'subsatnc': 4661, 'sewellchan': 4310, 'hooray': 2318, 'frankbruni': 1959, 'loath': 2945, 'digbi': 1451, '56': 148, 'gopclowncar': 2099, 'yowan': 5407, 'contrast': 1195, 'panderi': 3534, 'surgeon': 4696, 'lobotomi': 2947, 'morning': 3216, 'theskimm': 4850, 'eleph': 1634, 'skimmriff': 4413, 'butt': 850, 'freedom': 1970, 'flyovercultur': 1905, 'st': 4560, 'gay': 2031, 'harpoon': 2236, 'laurenacooley': 2835, 'nyt': 3406, 'asses': 492, 'standwithrand': 4572, 'senat': 4280, 'mpklasi': 3234, 'okay': 3448, 'girlpow': 2061, 'stfu': 4609, 'hahahahaha': 2202, 'credit': 1250, 'due': 1579, 'faux': 1818, 'nooz': 3370, 'kudo': 2780, 'ms': 3239, 'da': 1302, 'bloviat': 716, 'carniv': 917, 'barker': 586, 'johnggalt': 2623, 'ericttung': 1699, 'propos': 3815, 'jmurguia_nclr': 2605, 'nclr': 3305, 'champion': 969, 'averag': 527, 'intellig': 2471, 'sad': 4165, 'appreci': 452, 'battl': 599, 'scar': 4218, 'benshapiro': 639, 'aggriev': 298, 'blown': 719, 'grow': 2177, 'yaskween': 5379, 'co': 1091, 'drew': 1552, 'nba': 3299, 'type': 5026, 'viewership': 5147, 'murica': 3259, 'rumpfshak': 4144, 'attend': 511, 'announc': 411, 'assur': 498, 'priorit': 3784, 'hatemail': 2240, 'allianc': 337, 'powerhous': 3739, 'foxnewsdeb': 1949, '2016elect': 68, 'csingerl': 1275, 'standout': 4568, 'purport': 3846, 'christian': 1021, 'thi': 4861, 'verbal': 5127, 'eviscer': 1737, 'govchristi': 2129, 'entitl': 1681, '65': 157, 'alainasmith': 318, 'shaunk': 4340, 'poc': 3683, 'mostli': 3222, 'urfavrochel': 5096, 'iamrapaport': 2382, 'wedontfactcheck': 5233, 'michaelrapaport': 3131, 'geraldmoodi': 2047, '1560': 29, 'johnconti': 2619, '78': 173, 'articl': 475, 'outnumb': 3502, 'mn2a4asupport': 3187, 'hardline_st': 2232, 'viewer': 5146, 'attract': 515, 'rush': 4154, 'either': 1627, 'believersneverdi': 625, 'debbiewassermanschultz': 1362, 'babykil': 548, 'drbencarson': 1545, 'quot': 3870, 'home': 2305, 'set': 4306, 'suthen_boy': 4707, 'puppet': 3842, 'wealthi': 5224, 'benefactor': 636, 'soar': 4467, '4gen234': 127, 'mic': 3128, 're': 3912, 'highlight': 2282, 'cring': 1257, 'allahpundit': 334, 'opening': 3472, 'hi': 2275, 'backlash': 555, 'forgotten': 1929, 'lindacohn': 2912, 'belong': 629, 'brought': 817, 'candidat': 891, 'coketweet': 1102, 'omg': 3456, 'goe': 2082, 'unemploy': 5050, 'benefit': 637, 'florida': 1901, 'averagechirp': 528, 'disturb': 1489, 'puddinstrip': 3832, 'photo': 3628, 'puppi': 3843, 'eat': 1608, 'shoe': 4362, 'vagina': 5115, 'ir': 2495, 'intrus': 2483, 'unaccount': 5035, 'of': 3429, 'abolish': 229, 'once': 3458, 'and': 386, 'for': 1919, 'al': 317, 'wrap': 5356, 'circu': 1040, 'jennhohman': 2566, 'air': 313, 'embellish': 1649, 'panel': 3535, 'heat': 2255, 'profession': 3797, 'washington': 5209, 'steal': 4591, 'secur': 4267, 'medicar': 3088, 'insan': 2457, 'tinaissa': 4898, 'kellli': 2716, 'ss': 4558, 'pose': 3724, 'threat': 4877, 'senior': 4284, 'lgnctn': 2888, 'mikehuckabe': 3146, 'mixtap': 3179, 'featur': 1827, 'wakaflocka': 5185, 'titl': 4906, 'realiti': 3932, 'gold': 2083, 'nytpolit': 3410, 'amazon': 360, 'largest': 2808, 'retail': 4043, 'drienasixto': 1555, 'wohoo': 5330, 'youth': 5404, 'cha': 961, 'studentsforrubio': 4650, '_sfrnc': 217, 'denigr': 1408, 'roger': 4103, 'ail': 309, 'whorehous': 5288, 'distinct': 1486, 'window': 5309, 'soft': 4477, 'nice': 3344, 'whooop': 5286, 'wrappin': 5357, 'bang': 575, 'tip': 4901, 'resolv': 4034, 'corpor': 1210, 'struggl': 4645, 'assimil': 496, 'bound': 760, 'graphic': 2155, '_musicluvr': 213, 'firework': 1877, 'radic': 3884, 'girlsgetaway': 2062, 'megankelli': 3093, 'annebayefski': 404, 'senmarcorubio': 4285, 'facebook': 1780, 'realbencar': 3926, 'ctconserv': 1279, 'tank': 4750, 'main': 3005, 'satir': 4209, 'macho': 2995, 'peni': 3598, 'jasonburn': 2543, 'shout': 4373, 'ricky_vaughn': 4068, '99': 198, 'curb': 1286, 'stomp': 4617, 'sexism': 4313, 'easi': 1604, 'voxdotcom': 5177, 'billmah': 680, 'product': 3795, 'glengarri': 2069, 'glen': 2068, 'ross': 4121, 'qualif': 3855, 'art': 474, 'epicfail': 1689, 'funni': 2005, 'paymast': 3585, 'dislik': 1477, 'self': 4275, 'plannedparenthood': 3660, 'incivil': 2430, 'continu': 1192, 'circumst': 1042, 'dictat': 1445, '21st': 73, 'thatfoxyshadow': 4815, 'scheme': 4226, 'build': 834, 'me_coleman': 3078, '612': 155, 'rich': 4063, 'lorrettajohnson': 2966, 'worker': 5343, 'basic': 594, 'anyo': 431, 'batman': 597, 'wife': 5295, 'ago': 300, 'supporter': 4688, 'not': 3377, 'cameronesposito': 875, 'traffic': 4951, 'macdeb': 2993, 'tape': 4752, '12nj': 23, 'waltkan': 5194, 'karinattonito': 2692, 'spwmthe': 4552, 'polisciumn': 3696, 'misspeak': 3172, 'persecut': 3611, 'religi': 3988, 'sean_mung': 4256, 'ch': 960, 'neck': 3309, 'wing': 5312, 'dee_snuts_r': 1372, '4e10': 124, 'jail': 2526, 'bc': 601, 'petraeu': 3618, 'billmckibben': 681, 'theme': 4839, 'focus': 1909, 'cuck': 1282, 'bibi': 661, 'count': 1224, 'israel': 2514, 'ohio': 3441, 'boehner': 734, 'fitnessaspresid': 1884, 'megynforpresid': 3096, 'shock': 4360, 'chose': 1009, 'chubbi': 1029, 'damien': 1312, 'thorn': 4872, 'rtbrianstelt': 4136, 'atlcav': 506, 'fave': 1821, 'ultim': 5034, 'unhappi': 5057, 'advanc': 269, 'surviv': 4703, 'fittest': 1885, 'endang': 1668, 'speci': 4523, 'wendmyoung': 5248, 'match': 3056, 'pbo': 3587, 'accomplish': 242, 'voteblu': 5170, 'anarousedwoman': 384, 'asshol': 495, 'gopclownshow': 2100, 'fem': 1840, 'easili': 1606, 'srshowsxm': 4556, 'thedebaterprob': 4828, 'realiz': 3934, 'suit': 4676, 'jacknicholson': 2523, 'drive': 1558, 'fellow': 1837, 'patient': 3566, 'flew': 1896, 'cuckoo': 1283, 'nest': 3319, 'redstatejak': 3960, 'sorri': 4503, 'manila': 3022, 'envelop': 1684, 'laural': 2832, '4705': 119, 'remark': 3992, 'explain': 1765, 'vision': 5159, 'de': 1345, 'thedonald': 4829, 'trumpmisogynist': 4990, 'tharightstuff': 4812, 'goyim': 2140, 'communist': 1135, 'sympath': 4725, 'chrislhay': 1015, 'approv': 454, 'plz': 3680, 'racist': 3879, 'arseniohal': 473, 'btw': 828, 'spot': 4547, 'tabl': 4731, 'shebrungit': 4344, 'nowwithalex': 3388, 'farrakhan': 1806, 'bor': 750, 'mn4rand': 3188, 'glenn': 2070, 'beck': 610, 'getawarr': 2051, 'mt': 3249, 'cnnpolit': 1090, 'becomingusbrook': 613, 'alon': 344, 'th': 4806, 'peterda': 3617, 'topic': 4935, 'poverti': 3737, 'justic': 2670, 'impli': 2414, 'tran': 4956, 'moldi': 3198, 'dishrag': 1475, 'vara': 5121, '11': 16, 'stevensing': 4607, 'batsask': 598, 'stanc': 4566, 'cover': 1233, 'scotteweinberg': 4240, 'tyler_batson': 5023, 'mariaglass': 3033, 'bust': 846, 'chief_kel': 992, 'feelthebern': 1834, 'polisterpol': 3698, 'spite': 4539, 'debacl': 1355, '4jul': 128, 'accord': 243, 'pump': 3837, 'young': 5398, 'imag': 2406, 'onthemanney': 3466, 'bunch': 842, 'grown': 2178, 'ass': 487, 'jdharm': 2551, 'sternshow': 4603, 'howardstern': 2344, 'foxyladi': 1954, 'stood': 4619, 'tramp': 4955, 'brenkoski': 783, 'horribl': 2323, 'terribl': 4794, 'choos': 1006, 'unborn': 5039, 'embryo': 1651, 'political': 3700, 'greysonch': 2168, 'parent': 3541, 'tombradysego': 4922, '_mattybswag': 211, 'honestli': 2313, 'club': 1083, 'kurtschlicht': 2782, '_2016': 202, 'letsgo': 2880, 'spike': 4535, 'lunch': 2983, 'nite': 3354, 'compass': 1139, 'piec': 3637, 'trash': 4960, 'evalu': 1717, 'rwsurfergirl': 4160, 'remov': 3997, 'civil': 1051, 'mr': 3235, 'poll': 3708, '1stplace': 53, 'circl': 1039, 'jerk': 2572, 'awyattman': 539, '88': 182, 'beauti': 608, 'door': 1523, 'fli': 1897, 'wive': 5327, 'vishaldisawar': 5158, 'mitchellreport': 3177, 'negoti': 3312, 'leverag': 2884, 'threaten': 4878, 'unless': 5068, 'lost': 2969, 'total': 4936, 'gordonpress': 2118, 'twitchyteam': 5014, 'coverag': 1234, 'site': 4404, 'outrag': 3505, 'inquiringmind': 2455, 'underr': 5045, 'deni': 1407, 'rape': 3900, 'incest': 2428, 'except': 1747, 'thisissobackward': 4869, 'eitanthegoali': 1626, 'bernard': 643, 'anger': 397, 'cadenc': 862, 'hussein': 2375, 'petti': 3619, 'slide': 4430, 'tweetybirdnerd': 5010, 'ronpaul': 4113, 'qualifi': 3856, 'bourgeoisalien': 761, 'competit': 1143, 'megynkellybut': 3099, 'gone': 2087, 'amen': 368, 'manni': 3025, 'mayweath': 3070, 'hemantmehta': 2265, 'episod': 1690, 'apprentic': 453, 'napalm': 3281, 'spray': 4548, 'front': 1989, 'runner': 4149, 'written': 5362, 'frame': 1956, 'neurosurgeon': 3322, 'scottsigl': 4243, 'wheaton': 5265, 'cou': 1219, 'wolfrum': 5332, 'kinda': 2750, 'dull': 1580, 'plain': 3656, 'ol': 3450, 'sexist': 4314, 'warmong': 5205, 'anym': 429, 'held': 2261, 'zero': 5413, 'advis': 275, 'along': 345, 'latinovictoryu': 2825, 'hashtag': 2237, 'latinoslisten': 2824, 'gr8': 2141, 'finish': 1873, 'schwabcycl': 4232, 'tha': 4809, 'jaw': 2544, 'nielsen': 3349, 'nationwid': 3291, 'salon': 4179, 'antarianrani': 423, 'blame': 705, 'saramarietweet': 4206, 'career': 910, 'knowledg': 2767, 'jaxnmelodi': 2546, 'intellg': 2470, 'punish': 3840, 'eurorabbit': 1716, 'whitegenocid': 5278, 'smackdown': 4441, 'nrx': 3393, 'atti': 513, 'sept': 4299, 'appt': 455, 'decemb': 1367, 'internet': 2478, 'hater': 2241, 'especi': 1704, 'mad': 2996, 'whini': 5271, 'bitch': 691, 'markmmcclain': 3042, 'ilirprogri': 2400, 'lizpeek': 2935, 'highli': 2281, 'adapt': 258, 'improv': 2420, 'inconsi': 2433, 'bitchesthecat': 693, 'backyard': 557, 'americameow': 372, 'marriag': 3045, 'repub': 4017, 'alik': 331, '_hetrick': 208, 'particular': 3553, 'latim': 2820, 'swipe': 4719, 'lone': 2954, 'jimkilban': 2594, 'teamster': 4772, 'forest': 1924, 'gump': 2186, 'crappi': 1240, 'secretcabdriv': 4264, 'chadharvey': 962, 'landokardashian': 2802, 'confederaci': 1161, 'dunc': 1586, 'reviv': 4052, 'convers': 1199, 'li': 2889, 'sleep': 4428, 'aggress': 297, 'audit': 520, 'reserv': 4029, 'concernedvet': 1156, 'veteran': 5133, 'barbarabox': 583, 'amaraconda': 358, 'wouldv': 5354, 'cure': 1287, 'canc': 885, 'bottom': 757, 'dirty': 1462, 'anchor': 385, 'apocalypt': 440, 'surround': 4702, 'camil': 876, 'paglia': 3524, 'straight': 4627, 'thr': 4876, 'guest': 2183, 'column': 1114, 'applaud': 447, 'bulli': 837, 'danryckert': 1322, 'brave': 775, 'bold': 737, 'dloesch': 1495, 'tonettewalk': 4927, 'advic': 274, '4th': 135, 'place': 3655, 'foe': 1910, 'politichickam': 3702, 'yep': 5388, 'suck': 4669, 'mess': 3117, 'retard': 4044, 'psychopath': 3829, 'onthefitz': 3465, 'patriottrumpet': 3571, 'snoopsrulez': 4464, 'njbatsa': 3356, 'preview': 3770, 'vine': 5152, 'caseybak': 927, 'jon': 2633, 'stewart': 4608, 'dre': 1547, 'gift': 2055, 'fridayfeel': 1981, 'ahsfx': 306, 'horror': 2325, 'stori': 4624, 'banker': 577, 'halrudnick': 2210, 'north': 3373, 'laureldavilacpa': 2834, 'irand': 2498, 'pdmfnb': 3590, 'nancyleegrahn': 3278, 'scream': 4248, 'fall': 1794, 'asleep': 486, 'channel': 972, 'carolcnn': 918, 'superstar': 4685, 'davidchalian': 1333, 'weigh': 5239, 'moo': 3211, 'mike_thom': 3143, 'aikieagl': 308, 'strategi': 4632, 'offend': 3431, 'smallest': 4444, 'violin': 5155, 'levarburton': 2882, 'justwar': 2673, 'ought': 3497, 'bannerit': 580, 'edstetz': 1616, 'tith': 4905, 'pastor': 3562, 'rare': 3902, 'descript': 1425, 'rule': 4142, 'andylevi': 391, 'stump': 4654, 'burn': 843, 'depos': 1414, 'anoint': 417, 'reaganesqu': 3921, 'apunkfemm': 457, 'yall': 5377, 'children': 997, 'o_o': 3411, 'ambjohnbolton': 364, 'foreignpolici': 1923, 'deep': 1373, 'root': 4116, 'namenzi': 3277, 'safe': 4167, 'usual': 5109, 'convinc': 1201, 'caseywertz': 928, 'quest': 3862, 'lay': 2840, 'wh': 5256, 'pedinska': 3595, 'sane': 4193, 'moar': 3190, 'terri': 4793, '5135': 142, 'mitt': 3178, 'romney': 4109, 'rental': 4002, 'theori': 4844, 'hillarysusan': 2290, 'dvr': 1590, 'deray': 1420, 'essenti': 1707, 'crimin': 1256, 'prolif': 3803, 'ok': 3447, '_erikaharold': 206, 'charm': 977, 'humor': 2368, 'humil': 2367, 'outsidedbox': 3507, 'livestream': 2931, 'anyway': 435, 'swgoldman': 4716, 'besid': 647, 'cldnt': 1061, 'exactli': 1741, 'perfect': 3605, 'twist': 5013, 'ornyadam': 3490, 'payer': 3584, 'annual': 416, 'physic': 3631, 'where': 5266, 'che': 980, 'obvious': 3421, 'ericbol': 1696, 'stuff': 4653, 'dennisprag': 1410, 'hispan': 2293, 'ftw': 1993, 'is2': 2504, 'qs': 3853, 'bait': 567, 'cannot': 895, 'slightli': 4431, 'nauseou': 3296, 'foot': 1918, 'behavior': 622, 'televis': 4784, 'statesmanship': 4582, 'govern': 2131, 'invad': 2484, 'church': 1036, 'religion': 3989, 'market': 3040, 'deflect': 1387, 'orlandodish': 3489, 'keenamcge': 2708, 'pearl': 3592, 'harbor': 2228, 'victim': 5141, 'extend': 1770, 'period': 3607, 'speaker': 4519, 'mouth': 3228, 'runbenrun': 4147, 'ff': 1853, 'sentomcotton': 4296, 'commentari': 1128, 'instagram': 2464, 'dreamdefend': 1550, 'account': 244, 'sake': 4173, 'gobbl': 2076, 'knob': 2764, 'led': 2860, 'salenazitotrib': 4175, 'brucepurpl': 822, 'danestroth': 1319, 'chipfelkel': 1003, 'input': 2454, 'offroadpolit': 3436, 'txot': 5021, 'nathanhayn': 3288, 'emerg': 1653, 'domino': 1509, 'swag': 4709, 'younger': 5400, 'douchebaggeri': 1530, 'fleek': 1895, 'whatadick': 5261, 'patriot': 3568, 'phenomen': 3623, 'rsg': 4134, 'tougher': 4941, 'teammarconi': 4771, 'tate': 4756, '5a': 151, 'ur': 5095, 'hc': 2244, 'fangsbit': 1801, 'hold': 2300, 'afford': 283, 'sarahkliff': 4203, 'bridg': 794, 'whitehous': 5279, 'cheer': 983, 'depress': 1416, 'archaic': 460, 'overturn': 3515, 'captdop': 904, 'learnt': 2854, 'educ': 1617, 'dumb': 1581, 'smartz': 4451, 'healthcar': 2251, 'amphetamin': 378, '47': 118, 'presum': 3766, 'roll': 4106, 'eye': 1775, 'msamysteel': 3240, 'separ': 4298, 'lourack': 2973, 'rollingston': 4107, 'smug': 4457, 'kara_neptun': 2689, 'texasgop': 4805, 'retweet': 4048, 'hil': 2283, 'jimmerrillnh': 2595, 'podhoretz': 3685, 'party': 3556, 'brightest': 798, 'offic': 3434, 'plead': 3668, 'guilti': 2185, 'defraud': 1388, 'patriotmom': 3570, '61': 154, 'santorum': 4197, 'collar': 1106, 'sc': 4217, 'tomorrow': 4925, 'cross': 1265, 'squad': 4553, 'amirit': 375, 'joshkivett': 2645, 'volunt': 5168, 'fl': 1890, 'nc': 3302, 'va': 5113, 'leadright': 2847, 'trojan': 4973, 'hors': 2326, 'angela_ry': 395, 'blackmagpi': 702, '69': 160, 'sent': 4292, '3k': 106, 'kimacheson': 2747, 'peac': 3591, 'divers': 1490, 'donnel': 1516, 'mom': 3200, 'makeupbylivixx': 3014, 'family': 1799, 'goldietaylor': 2086, 'jimsterl': 2597, 'five': 1886, 'dragon': 1541, 'thedailyedg': 4826, 'recoveri': 3953, 'outpac': 3504, 'lag': 2796, 'scottgiorgini': 4241, 'ht': 2350, 'weeperwillow': 5238, 'disclos': 1467, 'analyst': 383, 'legitimaci': 2866, 'cronkit': 1262, 'dan': 1316, '13': 24, '60min': 153, 'slutti': 4438, 'thestupidparti': 4852, 'bigot': 674, 'jenllm': 2564, 'bimmerella': 684, 'jare': 2540, 'stphil': 4626, 'princedemitri': 3781, 'genemcvay': 2037, 'fledg': 1894, '2008': 59, '2012': 62, 'katearonoff': 2697, 'atlant': 504, 'citi': 1046, 'melissaroyl': 3103, 'canadian': 883, 'jeopardi': 2570, 'nake': 3275, 'upsid': 5093, 'mccain': 3071, '2nit': 90, 'turkey': 5003, 'clip': 1070, 'payrol': 3586, 'clowncar': 1078, 'jangajentaan': 2538, 'realalexjon': 3925, 'elonjam': 1640, 'tap': 4751, 'case': 926, 'knock': 2765, 'fav': 1820, 'jedediahbila': 2561, 'fairandbalanc': 1787, 'unfairli': 5053, 'kayleighmcenani': 2704, 'bright': 797, 'authent': 523, 'defensebaron': 1380, 'uber': 5030, 'counti': 1225, 'mine': 3159, 'dc': 1340, 'mega': 3091, 'defens': 1379, 'contract': 1194, 'theunquieton': 4855, 'becom': 612, 'childless': 996, 'alcohol': 322, 'free': 1968, 'gotten': 2125, 'bat': 596, 'ball': 570, 'honest': 2311, 'radio': 3885, 'station': 4583, 'realitycheck': 3933, 'rupert': 4152, 'murdoch': 3258, 'valeri': 5116, 'jarrett': 2542, 'gush': 2190, 'africanacarr': 288, '50th': 140, 'anniversari': 407, 'votingrightsact': 5174, 'receiv': 3946, 'lo': 2943, 'bw_react': 853, 'verdict': 5128, '74': 168, 'sentiment': 4295, 'claudiaavaloss': 1060, 'thatsal': 4816, 'julieweis': 2664, 'spar': 4515, 'sport': 4546, 'board': 726, 'plant': 3661, 'latham': 2819, '312': 98, 'jeneralpr': 2563, 'jeffersonobama': 2562, 'troll': 4974, 'evanjkessl': 1718, 'late': 2816, 'thisbrokenwheel': 4868, 'advoc': 276, 'violenc': 5154, 'east': 1607, 'fac': 1778, 'sanctit': 4187, 'adbridgeforth': 259, 'smack': 4440, 'leak': 2851, 'lyric': 2989, 'diss': 1485, 'bernardgoldberg': 644, 'breitbart': 782, '9th': 199, 'itsjanelindsey': 2519, 'payback': 3582, 'danielgenser': 1321, 'antiwhit': 427, 'damn': 1314, 'apolog': 441, 'safeti': 4168, 'outstand': 3508, 'et': 1710, 'sing': 4395, 'milk': 3155, 'nose': 3374, 'notfromu': 3380, 'four': 1939, 'biz': 695, 'borrow': 754, 'trillion': 4971, 'afloat': 285, 'enslav': 1678, 'shockingli': 4361, 'ill': 2401, 'zoe_arch': 5416, 'kylekulinski': 2787, 'econom': 1610, 'mortgag': 3220, 'crisi': 1258, 'recess': 3948, 'sol': 4480, 'stream': 4634, 'thebighoot': 4823, 'jan': 2536, '4usa': 137, 'combo': 1117, 'politicorog': 3705, 'land': 2799, 'earth': 1603, 'ryanbhorn': 4161, 'releas': 3987, 'rumor': 4143, 'mil': 3150, 'undisput': 5047, 'whynotbecca': 5290, 'ashton': 479, 'kutcher': 2784, 'pop': 3716, 'punk': 3841, 'decad': 1366, '31': 97, 'airtim': 314, 'page': 3523, 'advetis': 273, '2016debat': 67, 'sarahpalinusa': 4204, 'sick': 4383, 'dnc': 1498, 'reflect': 3968, 'lame': 2798, 'bs': 827, 'fluff': 1904, '40': 111, 'sharkweektun': 4335, 'squirt': 4554, 'ian': 2383, '56789': 149, 'tpp': 4947, 'grab': 2142, 'pout': 3734, 'zoewentzel': 5417, 'heatherchild': 2256, 'rep': 4003, 'housegop': 2338, 'veer': 5124, 'jjraven': 2602, '52': 144, 'elielcruz': 1636, 'iamcreesumm': 2380, 'wage': 5181, 'jean': 2553, 'sartr': 4207, 'diplomtc_immnti': 1458, 'skyrocket': 4418, 'azz': 543, 'card': 908, 'libertygirlnh': 2896, 'boom': 744, 'wont': 5338, 'invest': 2487, 'dollar': 1507, 'scut': 4254, 'outing': 3500, 'will': 5300, 'loyalti': 2978, 'financi': 1868, 'shitti': 4357, 'dragmedownmusicvideo': 1540, 'coupl': 1228, 'asid': 481, 'consider': 1178, 'delilahnobszon': 1394, 'congrat': 1169, 'tweeti': 5008, 'bnyutu': 724, 'wwahammi': 5368, 'jrehl': 2654, 'rightdishonour': 4073, 'parkerc': 3545, '2112': 71, 'soopermexican': 4502, 'aww': 538, '100': 9, 'among': 376, 'cute': 1295, 'daughter': 1327, 'elirubenstein': 1637, 'consensu': 1173, 'liz_wheel': 2933, 'wildli': 5299, 'experienc': 1763, 'strateg': 4631, 'tuckahoetommi': 5000, 'xm121': 5373, 'johnfugelsang': 2622, 'tellmeeveryth': 4787, 'rickungar': 4067, 'nonsens': 3368, 'specialist': 4525, 'region': 3975, 'regard': 3973, 'truism': 4981, 'whatajok': 5262, 'mslabuski': 3245, 'toughchoic': 4940, 'incub': 2438, 'gopmisogyni': 2111, 'bri': 788, 'slackadjust': 4419, 'candyd': 893, 'katesteinl': 2699, 'goprincess': 2113, 'uninform': 5058, 'whatdifferencedoesitmak': 5263, 'slogan': 4435, 'savvyliter': 4212, 'dare': 1324, 'conced': 1153, 'pregnan': 3755, 'pois': 3689, 'grace': 2143, 'determin': 1435, 'cassandra': 929, '17lina': 36, 'neg': 3311, 'furguson': 2007, 'fashion': 1810, 'jensenclan': 2569, 'dinner': 1456, 'grade': 2146, 'governor': 2132, 'unpopular': 5072, 'bellobass': 628, 'he_has_fail': 2246, '200': 55, 'maradolan': 3026, 'midi': 3138, 'scrum': 4253, 'kadzi': 2680, 'reillyadam': 3980, 'amandaemcgowan': 354, 'sleepi': 4429, 'specialreport': 4526, 'edwrath': 1618, 'slam': 4421, 'realpresidentialcandid': 3940, 'adult': 268, 'wittl': 5325, 'feew': 1836, 'ally_eddi': 341, 'socail': 4469, 'hensleywkao': 2268, 'rough': 4125, 'axe': 540, 'grind': 2171, 'antichoic': 426, 'thenormanlear': 4842, 'shunstrickland': 4380, 'sha': 4321, 'host': 2330, 'fist': 1883, 'bump': 840, 'crowley': 1268, 'abburgess': 223, '95': 194, 'som': 4488, 'meagan': 3079, 'quick': 3865, 'witti': 5324, 'typic': 5027, 'plenti': 3673, 'increas': 2436, 'pain': 3525, 'miseri': 3165, 'janicedean': 2539, 'kitchen': 2754, 'bravo': 776, 'nobodi': 3359, 'legit': 2864, 'azpatriot': 542, '01': 2, 'sixth': 4408, 'grader': 2147, 'embarrassingli': 1648, 'simplist': 4392, 'insurg': 2469, 'unqualifi': 5077, 'commander': 1126, 'in': 2424, 'chief': 991, 'joshrobin': 2646, 'bobhardt': 731, 'reject': 3983, 'hide': 2277, 'docrocktex': 1502, '26': 81, 'compassion': 1140, 'conservat': 1175, 'funer': 2004, 'biasedgirl': 660, 'skip': 4415, 'shoulder': 4372, 'lilagraceros': 2906, 'remind': 3995, 'hostag': 2331, 'languish': 2804, 'despit': 1430, 'freesae': 1975, 'joshuapstarr': 2648, 'nclb': 3304, 'enorm': 1676, 'gap': 2023, 'bryanful': 826, 'coast': 1094, 'altern': 349, 'hannib': 2220, 'nytfridg': 3407, 'jeremy': 2571, 'newspap': 3339, 'stassipost': 4578, 'bomb': 739, 'rnr': 4092, 'uniteright': 5064, 'standwithisrael': 4570, 'amus': 379, 'notion': 3383, 'jizzisaperson': 2600, 'alpha': 346, 'asshat': 494, 'costareport': 1217, 'scclemon': 4222, 'hrc': 2349, '11th': 20, 'sttb': 4647, '73': 167, 'morningjo': 3217, 'entrepreneurship': 1682, 'born': 753, 'cantarguewiththefact': 897, 'jimandrewsmus': 2591, 'purchas': 3844, 'illus': 2404, 'femal': 1841, 'oppressedfart': 3480, 'professorf': 3798, 'solv': 4487, 'china': 1000, 'russia': 4156, 'cyber': 1298, 'attac': 508, 'pellecopt': 3597, 'runn': 4148, 'exjon': 1756, 'msnbc': 3247, 'pander': 3533, 'cat': 931, '2the': 93, 'kochbroth': 2771, 'colleg': 1111, 'reallucasneff': 3937, 'racism': 3878, 'robportman': 4099, 'congratul': 1170, 'chairmanborg': 966, 'katieeagan': 2701, 'ohiogop': 3444, 'recent': 3947, 'confi': 1163, 'isolationist': 2513, 'bit': 690, 'toward': 4943, 'incap': 2426, 'success': 4666, 'fairli': 1788, 'marissamorg': 3036, 'select': 4274, 'twitternat': 5017, 'theonlybacchu': 4843, 'lindseygraham': 2915, 'whit': 5275, 'lawmak': 2839, 'sale': 4174, 'thomasismyuncl': 4871, 'lib': 2891, 'wear': 5226, 'depend': 1413, 'nope': 3371, 'paint': 3526, 'dri': 1554, 'nick_paro': 3347, 'snot': 4465, 'chrismathew': 1016, 'jordylangi': 2643, 'cold': 1103, '1957': 42, 'uphold': 5088, 'constitut': 1183, 'craicalaicpat': 1237, 'worship': 5349, 'oneofthesevendeadlysinsbutthatsnoneofmybusi': 3461, 'childish': 995, 'shade': 4323, 'emma_dy': 1655, 'denounc': 1411, 'mouthi': 3229, 'slacker': 4420, 'christma': 1026, 'doyoubelieveinwhitesanta': 1534, 'rosieodonnel': 4120, 'fed': 1828, 'nomor': 3365, 'billhemm': 677, 'martha': 3046, 'comparison': 1138, 'bencasselman': 634, 'asia': 480, 'latin': 2821, 'restor': 4040, 'fake': 1792, 'tan': 4749, 'bacheloretteabc': 549, 'spursjr': 4551, '55': 147, 'asham': 478, 'joebiden': 2611, 'godfath': 2081, 'tyranni': 5028, 'resisttyranni': 4033, 'czaroffreedom': 1301, 'bidenshairplug': 666, 'gotv': 2126, 'tko': 4907, 'chrisjzullo': 1014, '53': 145, 'hello': 2263, 'cjsucitymvp': 1052, 'veget': 5125, 'lizzs_lockeroom': 2936, 'medicaid': 3087, 'expans': 1758, 'msg': 3242, 'oppos': 3478, 'ideolog': 2394, 'brunettepatriot': 824, 'rgay': 4056, 'brikirk': 800, 'abroad': 232, 'jessicavalenti': 2578, 'wed': 5228, 'ivankatrump': 2521, 'gretchencarlson': 2166, 'earlier': 1600, 'happyhour': 2227, 'tdsvoic': 4763, 'calebhow': 867, 'lindsey': 2914, 'graham': 2149, 'bastard': 595, 'planet': 3658, 'dadusamericani': 1306, 'horseman': 2327, 'realbphil': 3929, 'foxnews': 1948, 'theexpertsagre': 4831, 'hopewalk': 2321, 'welcom': 5243, 'janethuckabe': 2537, 'palmetto': 3530, 'chapmangop': 973, 'etori': 1714, 'crave': 1242, 'islam': 2509, 'enemi': 1670, 'identifi': 2393, 'thirsti': 4867, 'jewish': 2581, 'settler': 4307, 'siobhan_ogradi': 4398, 'kikkiplanet': 2743, 'blood': 715, 'vessel': 5132, 'erinscaf': 1701, 'joyreap': 2652, 'unlock': 5070, 'potenti': 3732, 'thesoup': 4851, 'how': 2341, 'frighteningli': 1985, 'sarahcpr': 4201, 'ironi': 2501, 'billyde': 682, 'humoroutcast': 2369, 'dtcav': 1573, 'flashback': 1892, 'hangin': 2217, 'abb_robertscbn': 222, 'davidromeiphd': 1335, 'robyn_ravenclaw': 4100, 'theater': 4817, 'kingmak': 2753, 'qz': 3871, 'opposit': 3479, 'trbutcher': 4963, 'funniest': 2006, 'laurelandhardi': 2833, 'threestoog': 4880, 'thefreshbrew': 4832, 'stick': 4610, 'bigotri': 675, 'pinknaz': 3644, 'ww2': 5367, 'johnfict': 2621, 'candycrowley': 892, 'coddl': 1096, 'dirti': 1461, 'laundri': 2830, 'chillax': 999, 'amount': 377, 'jnjsmom': 2606, 'wors': 5348, 'intern': 2476, 'fourzerotwo': 1941, 'ffffllluuughhharrrghhh': 1854, 'georg': 2045, 'bluth': 722, 'sr': 4555, 'boggl': 736, 'jr_whitehurst': 2653, 'fulli': 1999, 'equip': 1694, 'compromis': 1149, 'convict': 1200, 'repjackkimbl': 4009, 'content': 1189, 'donnell': 1517, 'weight': 5240, 'annoy': 412, 'annmariebrok': 409, 'send': 4283, 'ppfa': 3742, 'sistertoldjah': 4401, 'endors': 1669, 'jimgeraghty': 2593, 'accus': 247, 'whatev': 5264, 'digniti': 1454, 'ron_fourni': 4111, 'pule': 3835, 'figur': 1861, 'univers': 5067, 'yike': 5393, 'jamaldajani': 2528, 'cartoon': 925, 'michaellucches': 3130, 'freedomtexasmom': 1973, 'ladybeau': 2794, 'touchston': 4938, 'badirand': 563, 'rednat': 3956, 'awkward': 537, 'terrif': 4795, 'rim': 4078, 'hook': 2317, 'gong': 2088, 'absofuckinglut': 234, 'reducul': 3964, '2night': 89, 'gameon': 2021, 'govt': 2137, 'welfar': 5245, 'program': 3801, 'disapprov': 1465, 'pearli': 3593, 'gate': 2027, 'theworldsfr': 4857, 'leagu': 2848, 'fast': 1811, 'food': 1914, 'restaur': 4039, 'redpisc': 3959, 'sorta': 4506, 'larryoconnor': 2811, 'paulrieckhoff': 3577, 'cic': 1038, 'excus': 1752, 'nationalsecur': 3290, 'smel': 4454, 'disingenu': 1476, 'dick_nixon': 1443, 'schiavo': 4227, 'crucifi': 1269, 'bonsaiski': 741, 'monica': 3207, 'smooth': 4456, 'talker': 4743, 'obey': 3416, 'doner': 1515, 'brief': 795, 'keyston': 2737, 'xl': 5372, 'environ': 1685, 'etc': 1711, 'fame': 1797, 'pollster': 3709, 'mikepolkjr': 3148, 'interrupt': 2479, 'common': 1132, 'ego': 1622, 'xanax': 5370, 'purel': 3845, 'delusion': 1396, 'slimebal': 4432, 'metzgr': 3121, 'leomcgarry': 2870, 'braunken': 774, '2013_tiffani': 64, 'respond': 4036, 'relax': 3986, 'unlik': 5069, 'rebeccaschinski': 3943, 'merit': 3115, 'ex': 1740, 'recogn': 3949, 'graciou': 2145, 'victori': 5142, 'defeat': 1376, 'wesjonesdc': 5251, 'rap': 3899, 'mainstream': 3006, 'collabor': 1105, 'annot': 410, 'joy': 2651, 'atypicalart': 516, 'micnew': 3135, 'health': 2250, 'rude': 4140, 'jamiraburley': 2535, 'incorrect': 2435, 'pov': 3736, 'brillianc': 801, 'personifi': 3614, 'hemzi': 2266, 'myhatbabi': 3267, 'morningmoneyben': 3218, 'dumptrump': 1585, 'goog': 2094, '927': 190, 'materi': 3059, 'emiluminati': 1654, 'cap': 900, 'geniusatwork': 2041, 'assess': 493, 'donor': 1520, 'to': 4912, 'relationship': 3985, 'biggovern': 672, 'scottwalker': 4246, 'chines': 1001, 'hack': 2196, 'kaylasmith': 2703, '4791': 120, 'americaonpoint': 374, 'hopeisbowat': 2320, 'pitch': 3648, 'shower': 4376, 'wipe': 5315, 'floor': 1899, 'jihad': 2586, 'enabl': 1664, 'beg': 618, 'reconsid': 3950, 'monetarili': 3204, 'rf': 4054, 'reduc': 3963, 'hostil': 2333, 'conflict': 1166, 'skepticalbrotha': 4411, 'wil': 5296, 'monster': 3209, 'conspir': 1180, 'angrier': 398, 'diet': 1448, 'heathnola': 2257, 'lademo': 2792, 'teamkcp': 4769, 'dw': 1591, 'mfl': 3124, '1956': 41, '8new': 183, 'noon': 3369, 'amylazscdc': 380, 'master': 3055, 'stlnetworkguru': 4615, 'provid': 3825, 'option': 3483, 'illegalalien': 2403, 'welfa': 5244, 'bacon': 558, 'pocket': 3684, 'caption': 905, 'puuurfect': 3852, 'nrdc': 3390, 'climatechang': 1068, 'attorney': 514, 'colleagu': 1107, 'perrotta': 3610, 'onto': 3467, 'kaivanshroff': 2684, 'decid': 1369, 'naturallyelsa': 3294, 'garbag': 2025, 'collector': 1110, 'forgot': 1928, 'makedclisten': 3012, 'wethepeopl': 5255, 'abl': 227, 'apart': 437, 'kardashian': 2690, 'sex': 4312, 'promo': 3807, 'roryontour': 4118, 'saynotogop': 4216, 'cspanchat': 1276, 'faster': 1812, 'rwnj': 4159, 'zombi': 5418, 'madisongesiotto': 2998, 'stronger': 4642, 'cenkuygur': 949, 'wond': 5336, 'courage': 1229, 'camillepaglia': 877, 'sadli': 4166, 'rs': 4133, 'ds': 1572, 'greivens': 2164, 'populist': 3722, 'everyday': 1727, 'working': 5344, 'arriv': 469, 'plat': 3662, '757': 169, 'financ': 1867, 'lat': 2815, 'insight': 2461, 'odd': 3426, 'utter': 5111, 'remedi': 3993, 'hangov': 2218, 'kyburg': 2786, 'futureboston': 2010, 'sycamoron': 4721, 'newpoll_intown': 3335, 'kobradovich': 2769, 'bulletproof': 836, 'iacaucu': 2379, 'schafawafa': 4224, 'trumpsuck': 4991, 'er': 1695, 'glove': 2072, 'employe': 1661, 'court': 1231, 'boost': 747, 'undermin': 5044, 'thedonaldontop': 4830, 'messagingmatt': 3119, 'stcyrlym': 4588, 'beetrix': 617, 'jenn': 2565, '4laugh': 130, 'dmiller': 1496, '23': 75, 'msbellow': 3241, '98': 197, 'crop': 1264, 'amer': 370, 'fb': 1824, 'whitecoat': 5277, '2whitehous': 94, 'bctodc': 603, 'mudflat': 3252, 'reel': 3965, 'hostess': 2332, 'yaakovschapiro': 5375, 'rise': 4084, 'definitel': 1385, 'ri': 4061, 'poni': 3710, 'carolhello': 919, 'carly': 915, 'no': 3357, 'yyy': 5411, 'whacko': 5258, 'visionari': 5160, 'grill': 2169, 'local': 2948, 'beyond': 656, 'troubl': 4977, 'paradis': 3538, 'orels': 3486, 'reaganit': 3922, 'rhondalevaldo': 4059, 'initi': 2452, 'talkpoverti': 4745, 'ar15': 459, 'certainli': 958, 'judahworldchamp': 2660, 'coach': 1092, 'theswaggerlookedfamiliar': 4853, 'saintpetersblog': 4172, 'eightdott': 1624, 'stroll': 4640, 'spit': 4538, 'load': 2944, 'coffe': 1098, 'djmorrison': 1494, 'rossoanto': 4124, 'holland': 2303, 'brazil': 777, 'succeed': 4665, 'unprepar': 5074, 'min': 3157, 'consult': 1186, 'paulapoundston': 3575, 'humbl': 2366, 'goddamn': 2079, 'candi': 888, 'charisma': 975, 'shannonsanford': 4332, 'alreadi': 347, 'ou': 3496, 'nail': 3274, 'acu': 256, 'bootcamp': 748, 'travel': 4961, 'tremend': 4967, 'bettybow': 653, 'essenc': 1706, 'prowrestl': 3827, 'roof': 4114, 'handedli': 2214, 'inquisit': 2456, 'foxi': 1946, 'rowdi': 4131, 'pftcomment': 3621, 'shenanigan': 4347, 'edsb': 1615, 'ralli': 3892, 'staff': 4563, 'prop': 3811, 'condescend': 1158, 'pole': 3692, 'compet': 1142, 'blain': 704, 'weekend': 5236, 'happycowsulti': 2226, 'mnsuperioru': 3189, 'texas_tango': 4804, 'deadrisedc': 1347, 'david_boaz': 1329, '419in703': 113, 'getmoneyout': 2052, 'goptbt': 2114, 'kochvspop': 2772, 'bicyclelobbi': 663, 'car': 907, 'goodby': 2092, 'greenvil': 2162, 'spark': 4517, 'her': 2269, 'greater': 2158, 'meet': 3090, 'angela': 394, 'merkel': 3116, 'scottwak': 4244, 'dop': 1524, 'rightwinglatina': 4077, 'reactionarytre': 3916, 'perspect': 3615, 'krauthamm': 2777, 'fxnopinion': 2011, 'foxnewspolit': 1951, 'queen': 3861, 'correctrecord': 1213, 'draw': 1544, 'narr': 3283, 'ag_conserv': 292, 'evid': 1733, 'secondhand': 4262, 'testimoni': 4801, 'anonym': 419, 'patrol': 3572, 'agent': 295, 'tobiasximenez': 4914, 'logic': 2950, 'republicanprimari': 4021, 'blacksab': 703, 'ratt': 3909, 'elizabethnd': 1639, '04': 3, 'stephenflem': 4598, 'compel': 1141, 'cluster': 1086, 'johndrogin': 2620, 'switch': 4720, 'mjtbaum': 3180, 'andrejuwaan': 389, 'prioriti': 3785, 'king': 2751, 'nightmar': 3351, 'properti': 3813, 'levigolden': 2885, 'oop': 3469, 'sober': 4468, 'score': 4235, 'cmarinucci': 1087, 'waterboard': 5219, 'fyi': 2012, 'teen': 4782, 'mtv': 3250, 'gdestefano': 2034, 'weild': 5241, 'assembl': 491, 'killer': 2745, 'realdonaldt': 3930, 'presidentcam': 3762, 'height': 2260, 'liberalmmama': 2894, 'elec': 1630, 'jgkight': 2583, '2013': 63, 'counsel': 1223, 'legalizenegro': 2863, 'cant': 896, 'dylan': 1594, 'terrori': 4798, 'joethemailman': 2614, 'seek': 4270, 'quack': 3854, 'debbi': 1361, 'wasserman': 5212, 'schultz': 4230, 'vice': 5138, 'percept': 3604, 'sfriedscientist': 4319, '3x': 110, 'mk': 3181, 'simpson': 4393, 'stalk': 4565, 'savag': 4210, 'murder': 3257, 'wif': 5294, 'roar': 4095, 'karl': 2693, 'swing': 4718, 'jimmi': 2596, 'carter': 924, 'johnkerri': 2626, 'fine': 1870, 'tuffer': 5001, 'gov_gilmor': 2128, 'gingerlani': 2058, 'hunger': 2372, 'demagog': 1398, 'lybr': 2986, 'waronwomen': 5207, 'baseless': 591, 'accu': 245, 'plug': 3676, 'louder': 2971, 'arena': 462, 'lebron': 2858, 'jame': 2529, 'uniti': 5066, 'elabor': 1629, 'ufcw': 5031, 'protest': 3820, 'slyman': 4439, 'tact': 4732, 'trust': 4993, 'websit': 5227, 'stepmom': 4600, 'consist': 1179, 'dinosaur': 1457, 'firemegynkelli': 1876, 'rinoclown': 4082, 'mike_surtel': 3142, 'darrenrosario': 1325, 'minor': 3161, 'downgrad': 1532, 'christie': 1024, 'johnkasick': 2625, 'uncondit': 5041, 'realmikebennett': 3939, 'rthrc': 4137, 'military': 3154, 'transgend': 4957, 'overdu': 3512, 'zigzagoonsquad': 5414, 'pull': 3836, 'minion': 3160, 'gather': 2028, 'kellyannbraun': 2718, 'ing': 2450, 'mailman': 3004, 'gig': 2056, 'nevervot': 3330, '4kasich': 129, 'tbat': 4760, 'ohiobat': 3443, 'lookin': 2958, 'movi': 3232, 'villain': 5151, 'lmfao': 2941, 'jeromebristow': 2573, '76': 171, 'votetrueblu': 5172, 'cliff': 1066, 'version': 5131, 'empire': 1659, 'fascist': 1809, 'wacki': 5180, 'adventur': 271, 'questions': 3864, 'loonies': 2960, 'as': 477, 'usu': 5108, 'insignific': 2462, 'hyster': 2378, 'dishearten': 1473, 'row': 4130, 'tall': 4746, 'ainsli': 312, 'hay': 2243, 'westw': 5253, 'reguardless': 3976, 'sfloridastorm': 4318, 'becuz': 614, 'dystopian': 1597, 'nostalg': 3376, 'road': 4093, 'verifi': 5129, 'vilifi': 5150, 'wander': 5197, 'goodbyeobama': 2093, 'neveragain': 3327, 'laurendestefano': 2836, 'sometim': 4495, 'shellbel': 4346, '1022': 12, 'chrismatthewsgottold': 1017, 'dice': 1441, 'anomali': 418, 'psst': 3828, 'culprit': 1285, 'renam': 3998, 'suplex': 4686, 'nayaknomi': 3297, 'supremaci': 4692, 'reinforc': 3982, 'expen': 1760, 'surpass': 4697, '33': 102, 'icebergslim': 2388, '1047': 13, 'donaltrump': 1512, 'conduct': 1159, 'fool': 1915, 'reset': 4030, 'newest': 3334, 'youtub': 5405, 'ef': 1619, 'virgiltexa': 5156, 'jim': 2590, 'gilmor': 2057, 'resum': 4042, 'vow': 5176, 'britney': 807, 'spear': 4522, 'watchparti': 5217, 'disrespect': 1483, 'eve': 1719, 'mag': 2999, '062367': 5, 'timthejarhead': 4897, 'jamesrosenfnc': 2530, 'theusdesign': 4856, 'privilegeporn': 3789, 'thrmattbelloni': 4881, 'coach_tricia': 1093, 'street': 4635, 'afterward': 291, 'insid': 2459, 'divis': 1493, 'mistitweet': 3175, 'sensit': 4291, '70': 163, 'lolololol': 2953, 'dorklyenlighten': 1527, 'paycheck': 3583, 'calebbonham': 866, 'timsullivanma': 4896, '_edman_': 205, 'tweetydim': 5011, 'shook': 4363, 'repres': 4014, 'accur': 246, 'jmontanapotl': 2604, 'alec': 323, 'senatorshoshana': 4282, 'ind': 2439, 'davidbadash': 1332, 'galtsgirl': 2019, 'player': 3666, 'kagatron': 2681, 'spectacularli': 4530, 'alyssalafag': 352, 'anddd': 387, 'arm': 466, 'itsradishtim': 2520, 'davidaxelrod': 1331, 'notmypresid': 3385, '24b': 78, 'evolv': 1739, 'roast': 4096, 'comedycentr': 1122, 'buickreg': 833, 'fierc': 1858, 'bonafid': 740, 'shitshow': 4356, 'dust': 1587, 'nsa': 3394, 'unmotiv': 5071, 'steve_girschl': 4604, 'thin': 4862, 'spineless': 4536, 'someone': 4492, 'abortion': 231, 'standwithpp': 4571, 'choruslin': 1008, 'ineedthisjob': 2443, 'boomx': 746, '6harold': 161, 'develop': 1436, 'okgop': 3449, 'trap_jesu': 4959, 'oooohhh': 3468, 'bet': 650, 'substanti': 4664, 'allierenison': 338, 'rat': 3903, 'ya': 5374, 'bledwin': 708, 'charter': 978, 'voucher': 5175, 'badassteachersa': 560, 'anybodi': 428, 'votetrump': 5173, 'hometown': 2308, 'lion': 2920, '725': 166, 'eighti': 1625, 'percent': 3603, 'addict': 261, 'johnnyctweet': 2627, 'heaven': 2258, 'calfit': 868, 'foxnewstrumphitjob': 1952, 'kennedyn': 2725, 'shore': 4367, 'cent': 952, 'autie_liz': 525, 'west': 5252, 'bank': 576, 'palestin': 3527, 'fairtax': 1789, 'jodiwilldar': 2609, 'travesti': 4962, 'joan': 2607, 'osbourn': 3492, 'strang': 4630, 'foxandfriend': 1943, '92yr': 191, 'straighten': 4628, 'compos': 1148, 'ss_howel': 4559, 'slash': 4423, 'mikandynothem': 3140, 'barkley': 587, 'somethingtothinkabout': 4494, 'comput': 1151, 'insert': 2458, 'regardless': 3974, 'meaning': 3082, 'ble': 707, 'toe': 4918, 'lastnight': 2814, 'nurs': 3400, 'woe': 5329, 'pastrami': 3563, 'knish': 2763, 'kosher': 2776, 'random': 3895, '250': 79, 'leon': 2871, 'hungov': 2373, 'drinkinggam': 1557, 'groundgamehq': 2174, 'nearli': 3307, 'videosurg': 5144, 'md': 3076, 'aapsonlin': 219, 'iron': 2500, 'censor': 950, 'omahagemgirl': 3455, 'pouti': 3735, 'screechi': 4249, 'josephmryan': 2644, 'bgittleson': 657, 'interact': 2473, 'larryeld': 2810, 'railroad': 3889, 'yo': 5394, 'intent': 2472, 'sa': 4162, 'forev': 1925, 'mm': 3184, 'jump': 2666, 'ship': 4353, 'diversityer': 1491, 'courtesi': 1232, 'sir': 4399, 'jamilahlemieux': 2534, 'spectacular': 4529, 'lakotaman': 2797, 'kkk': 2755, 'african': 287, 'ladi': 2793, 'femin': 1842, 'exclus': 1750, 'gif': 2054, 'reproright': 4016, 'otherwis': 3494, 'bite': 694, 'britch': 805, 'abe_munoz': 225, 'fewer': 1852, 'valid': 5117, 'imform': 2408, 'flordia': 1900, 'slay': 4427, 'meant': 3083, 'tenmen': 4790, 'shmhpodcast': 4359, 'allthingsflynn': 340, 'drunkenli': 1571, 'screen': 4250, 'parkway': 3547, 'danegeru': 1318, '2nd': 86, 'partisan': 3555, 'pontif': 3711, '209': 69, 'labor': 2789, 'curlyheadr': 1290, 'angelahaysmoor': 396, 'colmorrisdavi': 1112, 'shoutout': 4374, 'harleydavidson': 2233, 'imtheboogyman': 2421, 'same': 4184, 'slaveri': 4426, 'risk': 4085, 'enflam': 1672, 'situat': 4406, 'worth': 5351, 'tngop': 4911, 'hampshir': 2212, 'republucan': 4025, 'crib': 1254, '160': 33, 'secretari': 4263, 'davidsingletari': 1336, 'makeawish': 3011, 'notmycandid': 3384, 'hmmm': 2298, 'katestratton': 2700, 'missumuggin': 3173, 'tak': 4737, '31523': 99, 'spokeout': 4543, 'freeamirnow': 1969, 'brickch': 793, '4new': 132, 'later': 2818, 'doctor': 1503, 'iq': 2494, 'mental': 3111, 'alexfromphilli': 326, 'gentleman': 2043, 'onpoint': 3464, 'jay_dubb': 2548, 'saint': 4171, 'beer': 616, 'conveni': 1198, 'schedul': 4225, 'shape': 4333, 'govtstheproblem': 2138, 'rupertmurdoch': 4153, 'doc_jjk': 1501, 'floyd': 1903, '5689': 150, 'emmi': 1657, 'parodi': 3548, 'bobbyjind': 729, 'megynkellyforpresid': 3100, 'pursueliberti': 3848, 'truer': 4979, 'poignant': 3687, 'captur': 906, 'sensibl': 4290, 'yeswecan': 5390, 'repeal': 4004, 'dodd': 1504, 'smallbusi': 4443, 'wind': 5308, 'ain': 311, 'ira': 2496, 'reach': 3913, 'ncb': 3303, '417': 112, 'sexual': 4315, 'medievaltim': 3089, 'song': 4499, 'dope': 1525, 'nbcsnl': 3301, 'sketch': 4412, 'unpresidenti': 5075, 'harm': 2234, 'specif': 4527, 'attent': 512, 'strategist': 4633, 'drginaloudon': 1553, 'bo': 725, 'marklevinshow': 3041, 'nokellyfil': 3362, 'vinnyguadagnino': 5153, '15min': 30, 'breed': 781, 'corbyn': 1206, 'mstuart': 3248, '1970': 46, 'survivor': 4704, 'massacr': 3053, 'therightoexist': 4849, 'foolish': 1916, 'jaclynhstrauss': 2524, 'stereotyp': 4601, 'ansonmount': 421, 'function': 2001, 'incit': 2429, 'clarifi': 1056, 'mikehuckabeegop': 3147, 'legal': 2862, 'drug': 1569, 'patriotjackib': 3569, 'michaelvdgalien': 3132, 'lwilsondarlen': 2985, 'truest': 4980, 'trumpeffect': 4986, 'reignlov': 3978, '5152': 143, 'cspanwj': 1277, 'destabil': 1431, 'isil': 2508, 'ar': 458, '_hankrearden': 207, 'experiencematt': 1764, 'rexhuppk': 4053, 'icymi': 2390, 'damag': 1311, 'justsay': 2672, 'lmaooo': 2940, 'publicli': 3831, 'derogatori': 1421, 'histor': 2294, 'activ': 252, 'amandajbutt': 356, 'karen_estil': 2691, 'judgejeanin': 2662, 'papercutprint': 3537, 'talent': 4741, 'contest': 1190, 'everyonelovesaprincess': 1730, 'orgasm': 3488, 'duck': 1577, 'dynasti': 1596, 'charact': 974, 'brownandbella': 819, 'pack': 3521, 'suitcas': 4677, 'songbook': 4500, 'lender': 2868, 'exceedingli': 1745, 'evilconservativ': 1736, 'lindseygrahamsc': 2916, 'puestoloco': 3834, 'rawstori': 3911, 'selfi': 4276, 'kanyewest': 2688, 'gopcircu': 2098, 'broke': 812, 'finger': 1872, 'disloc': 1478, 'foolsinthehal': 1917, 'jamey_gidden': 2532, 'demand': 1400, 'asinin': 483, 'cock': 1095, 'screw': 4251, 'dcexamin': 1344, 'child': 993, 'varsiti': 5122, 'jv': 2677, 'atdleft': 501, 'letstalknevada': 2881, 'poorli': 3715, 'fare': 1805, 'aficklelov': 284, 'submit': 4659, 'occas': 3423, 'advantag': 270, 'writewright': 5361, 'grand': 2152, 'ringl': 4080, 'barnum': 588, 'bailey': 566, 'mudsling': 3253, 'pa': 3520, 'jut': 2674, '3d': 105, 'chess': 989, 'checker': 982, 'econ': 1609, 'falter': 1796, 'exagger': 1742, 'socialsecur': 4474, 'nerdywonka': 3317, 'plung': 3678, 'unitedcitizen': 5063, 'setup': 4308, 'trick': 4970, 'personalattack': 3613, 'celebr': 947, 'knee': 2761, 'arsamandica': 472, 'repgeoffdiehl': 4008, 'magop': 3001, 'nov': 3387, 'unitewomenorg': 5065, 'politifact': 3707, 'sninkypoo': 4461, 'speakerboehn': 4520, 'evolut': 1738, 'clonen': 1072, 'section': 4265, 'gb_ball': 2033, 'dilapid': 1455, 'dishonest': 1474, 'corrupt': 1214, 'ran': 3893, 'chairman': 965, 'instruct': 2466, 'central': 954, 'assassin': 488, 'boomerang': 745, 'inflict': 2445, 'irrepair': 2503, 'wit': 5322, 'willi': 5303, 'angry': 399, 'award': 534, 'uptight': 5094, 'humourless': 2370, 'pickl': 3634, 'ars': 471, 'redeem': 3955, 'atheist': 503, 'fixyourlif': 1888, 'jok': 2631, 'ohiomail': 3445, 'compani': 1136, 'wild': 5298, 'underestim': 5043, 'jricol': 2656, 'tie': 4889, 'freespeak': 1976, 'flotu': 1902, 'affili': 281, 'politico': 3704, 'caucu': 935, 'faithcouch': 1791, 'coryhaik': 1215, 'collab': 1104, 'insur': 2468, 'obam': 3413, 'theworstpartofdepressioni': 4858, 'erichaywood': 1697, 'collect': 1108, 'fever': 1851, 'chuckwooleri': 1033, 'ca': 857, 'cone': 1160, 'martinomalley': 3049, 'wwomd': 5369, 'weneeddeb': 5249, 'suspect': 4705, 'smear': 4453, 'nazi': 3298, 'libzi': 2899, 'pervert': 3616, 'memoryoftheholocaust': 3109, 'weapon': 5225, 'genocide': 2042, 'momentum': 3202, 'agerney': 296, 'elus': 1644, 'oblig': 3418, 'cranki': 1238, 'toddler': 4917, 'toy': 4946, 'drskyskul': 1566, 'custodi': 1293, 'uspoli': 5107, 'outlet': 3501, 'nuff': 3397, 'capehartj': 902, 'paper': 3536, 'askingforafriend': 485, 'cabinet': 858, 'standtal': 4569, 'ahahahahaha': 304, 'tylergroenend': 5025, 'alchol': 321, 'somehow': 4490, 'mayor': 3069, 'linnyitssn': 2919, 'ace': 248, 'hole': 2301, 'alexhalperin': 327, 'nandelabra': 3279, 'neither': 3314, 'chipchantri': 1002, 'outta': 3509, 'compton': 1150, 'commerci': 1129, 'neve': 3325, 'thu': 4885, 'protip': 3821, 'bed': 615, 'boo': 742, 'hoo': 2316, 'gopprimari': 2112, 'brucepknight': 821, 'aftertrump': 290, 'defiantli': 1381, 'voic': 5166, 'constitu': 1182, 'policingwatch': 3695, 'headlin': 2249, 'elsewher': 1643, 'giv': 2063, 'bradwalsh': 769, 'camera': 874, 'aristocrat': 465, 'garrison_ja': 2026, 'moron': 3219, 'jordansekulow': 2640, 'involv': 2491, 'curriculum': 1292, 'privileg': 3788, 'tee': 4781, 'nosham': 3375, 'republicansunit': 4023, 'display': 1480, 'kahuna': 2682, '_2010': 201, 'jerri': 2574, 'incent': 2427, 'homeschool': 2307, 'cement': 948, 'draftdefer': 1538, 'met': 3120, 'kettl': 2733, 'militantjd': 3152, 'derrickclifton': 1423, 'hetero': 2273, 'cisgend': 1044, 'margin': 3031, 'dismantl': 1479, 'igno': 2398, 'markbinda': 3038, 'nashvil': 3285, 'youngrepub': 5402, 'debatewithffl': 1360, 'volum': 5167, 'kdstarbux': 2705, 'brightli': 799, 'watchin': 5216, 'birth': 688, 'becketadam': 611, 'tag': 4734, 'howardfineman': 2343, 'trip': 4972, 'trumpism': 4988, 'appar': 443, 'howard': 2342, 'kurtz': 2783, 'brag': 770, 'sch': 4223, 'huffpo': 2358, 'compliment': 1147, 'cynthiaroldan': 1299, 'most': 3221, 'link': 2918, 'senatorbirdwel': 4281, 'kateslaw': 2698, 'sanctuari': 4188, 'texa': 4802, 'keening_product': 2709, 'runaway': 4146, 'capit': 903, 'latelin': 2817, 'struck': 4644, 'urg': 5097, 'lincoln': 2911, 'bigheadsport': 673, 'draft': 1537, 'sneaki': 4459, 'dabneyport': 1303, 'ohhh': 3440, 'speakthequiet': 4521, 'embracethecoda': 1650, 'disprov': 1481, 'err': 1702, 'everyone': 1729, 'narciss': 3282, 'admir': 265, 'realjameswood': 3935, 'actor': 254, 'sift': 4385, 'bull': 835, 'rosscameron': 4122, 'requir': 4026, 'crazylari': 1246, '51': 141, 'axi': 541, 'evil': 1735, 'quillgroupec': 3868, 'wth': 5366, 'prez': 3772, 'keepitr': 2712, 'lennykravitz': 2869, 'derail': 1419, 'newsflash': 3337, 'sdblank': 4255, 'cheney': 986, 'plunder': 3677, 'pillag': 3642, 'b4': 546, 'august': 521, 'dawg': 1337, 'mments': 3185, 'treatment': 4965, 'notfairorbalanc': 3379, 'abil': 226, 'upbring': 5086, '2new': 88, 'newamericancenturi': 3332, 'dncwomen': 1499, 'sole': 4483, 'gender': 2036, 'unreal': 5078, 'cheryl_now': 988, 'sussantweet': 4706, 'andykhouri': 390, 'taught': 4758, 'bentonle': 641, 'drmartyfox': 1561, 'keegannyc': 2707, 'general': 2039, 'warn': 5206, 'recov': 3952, 'caddyshack': 861, 'amc': 366, 'proportion': 3814, 'plutocrat': 3679, 'bologna': 738, 'msgdannyret': 3243, 'sweetgreatmom': 4713, 'comedian': 1121, 'process': 3794, 'lectur': 2859, 'danaperino': 1317, 'noamnesti': 3358, 'whywearealaughingstock': 5291, 'gkmtntwit': 2066, 'truthmatt': 4997, 'tactic': 4733, 'suppress': 4690, 'saadcrat': 4163, 'watchign': 5215, 'righteou': 4074, 'julsmarietel': 2665, 'disenfra': 1470, 'anthonycumia': 424, 'somewhat': 4496, 'me': 3077, 'aduanebrown': 267, 'kellyfa': 2719, 'fifti': 1859, 'blindli': 710, 'cite': 1045, 'elisabetherapi': 1638, 'tongu': 4928, 'prostitute': 3818, 'themurdochtim': 4840, 'us2016': 5100, 'kijivu': 2742, 'gorilla': 2119, 'pragu': 3746, 'zoo': 5419, 'react': 3914, 'primat': 3778, 'cri': 1253, 'littleredblog': 2929, 'graceslick': 2144, 'mkheywood': 3183, 'kaisch': 2683, 'ish': 2506, 'thebenwalt': 4822, 'shatter': 4338, 'dc37deborah': 1341, 'soulless': 4508, 'pitti': 3651, 'sarahupstair': 4205, 'contracept': 1193, 'server': 4304, 'oct': 3425, 'molonlab': 3199, '1776u': 35, 'brow': 818, 'backfir': 553, 'jennyjaff': 2568, 'freeload': 1974, 'sentenc': 4294, 'cbsmiami': 939, 'repeliotengel': 4007, 'canw': 899, 'theirand': 4835, 'abus': 238, 'summari': 4679, 'mockeri': 3193, 'italian': 2518, 'nicest': 3346, 'makeup': 3013, 'astound': 499, 'dignifi': 1453, 'unwav': 5083, 'nerv': 3318, 'censorship': 951, 'reignofapril': 3979, 'be': 604, 'undocu': 5049, 'mob': 3191, 'jackass': 2522, 'loop': 2961, 'jillbidenveep': 2587, 'grinch': 2170, 'stole': 4616, 'dad': 1304, 'diaper': 1440, 'sexyvoterhaiku': 4316, 'michelledbeadl': 3133, 'kansa': 2686, 'lea_elenaa': 2842, 'reproduct': 4015, 'jaymekfras': 2550, 'meme': 3107, 'houstonchron': 2340, 'smartblackman': 4447, 'tower': 4944, 'tho': 4870, 'seat': 4260, 'koolidg': 2774, 'jigisup': 2585, 'gaymarriag': 2032, 'jaycosttw': 2549, 'attempt': 510, 'desper': 1429, 'cloudscribbl': 1075, 'usausa': 5103, 'closer': 1074, 'positio': 3727, 'probirth': 3792, 'redstatemojo': 3961, 'confirm': 1165, 'near': 3306, 'dublin': 1575, 'stope': 4621, 'photographi': 3629, 'electraph': 1633, 'goo': 2090, 'brentalfloss': 784, 'circuit': 1041, 'wsj': 5364, 'thehil': 4834, 'grammar': 2151, 'marc': 3027, 'sandalow': 4189, 'baxterspotlight': 600, 'stephenh': 4599, '2oman': 91, 'digit': 1452, 'basi': 593, 'smh': 4455, 'brand': 772, '0nrichard': 7, 'huffpostl': 2359, 'photoshop': 3630, 'snlupdat': 4463, 'stefon': 4594, 'jrpolitir': 2657, 'gotdam': 2122, 'melslien': 3104, 'govwalk': 2139, 'comfort': 1123, 'refram': 3971, 'fork': 1930, 'realroseizzo': 3941, 'trumpwin': 4992, 'format': 1932, 'presidentialdeb': 3764, '07': 6, 'informative': 2448, 'br': 768, 'demdeb': 1401, 'offens': 3432, 'drmwba': 1562, 'hahahaha': 2200, 'classic': 1059, 'chriscarleyshow': 1011, 'newslett': 3338, 'hugsnotdrug': 2363, 'phillyd': 3625, 'untrustworthi': 5082, 'eyebrow': 1776, 'nevermor': 3329, 'gipper': 2059, 'raven': 3910, 'spoil': 4540, 'oligarch': 3452, 'lrihendri': 2979, 'freez': 1977, '44': 116, 'pictures': 3636, 'should': 4371, 'lisa_luerssen': 2921, 'doriabiddl': 1526, 'kimguilfoyl': 2748, 'appointe': 451, 'roadto': 4094, 'repost': 4012, 'alecmapa': 324, 'repostapp': 4013, 'monaeltahawi': 3203, 'liza': 2934, 'overanalyz': 3511, 'soundbit': 4510, 'fizzl': 1889, 'water': 5218, 'democraticdeb': 1405, 'legitim': 2865, 'wallace': 5193, 'hound': 2335, 'heel': 2259, 'sweat': 4711, 'fieldnegro': 1857, 'happiest': 2225, 'partyvoic': 3558, 'nine': 3353, 'gopdebat': 2106, 'toot': 4933, 'huff': 2357, 'atom': 507, 'thru': 4884, 'upright': 5091, 'snarki': 4458, 'complex': 1146, 'slimi': 4433, 'decis': 1370, 'hot': 2334, '10k': 15, 'marmel': 3044, 'whining': 5272, 'kwrcrow': 2785, 'marilynarndt': 3034, 'princeofbordu': 3782, 'viciou': 5139, 'loudobbsnew': 2972, 'kerirn': 2728, 'dylanthethoma': 1595, 'goddamnit': 2080, 'sanit': 4195, 'bumper': 841, 'sticker': 4611, 'until': 5081, 'daili': 1307, 'obviou': 3420, 'month': 3210, 'warm': 5204, 'poorjob': 3714, 'michiganforben': 3134, '24000': 77, '11000': 17, 'open': 3471, 'lolgop': 2952, 'misl': 3167, '4fun': 126, 'accid': 240, 'spontan': 4544, 'bettyfckinwhit': 654, 'biff': 667, 'womensright': 5335, 'combov': 1118, 'nycdeb': 3404, '8tr': 184, 'redsteez': 3962, 'dalestok': 1310, 'bestdebatequot': 649, 'powermov': 3740, 'smarter': 4448, 'happier': 2224, 'placard': 3654, 'inan': 2425, 'markdavi': 3039, 'invent': 2486, 'whererwomen': 5267, 'seethroughfruit': 4273, 'joe': 2610, 'fals': 1795, 'sarah': 4199, 'palin': 3528, 'lighter': 2904, 'driven': 1559, 'yard': 5378, 'jaret': 2541, '2113': 72, 'frankli': 1961, 'gen': 2035, 'hiliari': 2286, 'bench': 635, 'mw': 3265, 'drudge_report': 1568, 'ingrahamangl': 2451, 'niceninja': 3345, 'iol': 2492, 'youli': 5397, 'juxtapos': 2676, 'diegueno': 1447, 'kentpavelka': 2726, 'soften': 4479, 'optim': 3481, 'desdemona': 1426, 'unfathom': 5054, 'postmortem': 3730, 'surreal': 4700, 'clowncarcrew': 1080, 'ap': 436, 'republicanswin': 4024, 'prick': 3775, 'double': 1528, 'resili': 4032, 'bethbehr': 651, 'donni': 1518, 'wahlberg': 5183, 'cherri': 987, 'wedg': 5230, 'wedgi': 5231, 'mikewhitmor': 3149, 'deepfri': 1374, 'tytliv': 5029, 'finalquest': 1866, 'cabl': 859, 'jonstewart': 2637, 'jonvoyag': 2639, 'affection': 280, 'jeaniebgd': 2554, 'makeam': 3009, 'annleari': 408, 'accept': 239, 'honey': 2314, 'badger': 562, 'natemjensen': 3287, 'jillwklausen': 2589, 'clownshow': 1082, 'controversi': 1197, 'design': 1428, 'supermanhotmal': 4683, 'swear': 4710, 'salmasekela': 4178, 'hypocrit': 2377, 'shameless': 4329, 'platoon': 3664, 'rossdaniel': 4123, 'unstabl': 5080, 'larri': 2809, 'wilmor': 5305, 'thenightlyshow': 4841, 'unblacken': 5038, 'jamiaw': 2533, 'b140tweet': 545, 'rip': 4083, 'annrichard': 413, 'stoprush': 4622, 'joeykram': 2615, 'aerosmith': 277, 'motleycru': 3227, 'piss': 3646, 'iota': 2493, '1000': 10, 'wi': 5292, 'scottax': 4239, 'clueless': 1085, 'area': 461, 'larger': 2807, 'kingdom': 2752, 'wkdental': 5328, 'merchant': 3114, 'callous': 870, 'speed': 4532, 'professorrobo': 3799, 'label': 2788, 'wet': 5254, 'sack': 4164, 'chic': 990, 'aaaand': 218, 'megynfail': 3095, 'chair': 964, 'tool': 4932, 'summeroftrump': 4681, 'will_bunch': 5301, 'wilberforc': 5297, '91': 186, 'libertyu': 2898, 'bother': 756, 'trumpcruz': 4985, 'sassyandcowgirl': 4208, 'trotalex': 4976, 'edhenri': 1613, 'pardon': 3540, 'unseeingey': 5079, 'meal': 3080, 'melissafwu': 3102, 'scarlett': 4221, '_0hara': 200, 'nytopinion': 3409, 'larg': 2806, 'samstwitch': 4186, 'everybody': 1726, 'depth': 1417, 'mcgrudder': 3073, 'abo': 228, 'david_w_ross': 1330, 'springer': 4549, 'green': 2161, 'appl': 446, 'martini': 3048, 'devindwy': 1438, 'trumpcrush': 4984, 'fo': 1907, 'just_jdream': 2669, 'signific': 4387, 'tmservo': 4910, '433': 115, 'crazier': 1245, 'drbradholland': 1546, 'senrandpaul': 4286, 'traitor': 4954, 'chisti': 1004, 'rockinjo': 4102, 'foznew': 1955, 'voialex': 5165, 'sergey': 4300, 'affor': 282, 'manipul': 3023, 'frm': 1988, 'per': 3602, 'golden': 2084, 'slate': 4424, 'path': 3564, 'parisdennard': 3543, 'tipsi': 4902, 'blond': 713, 'thatchrisgor': 4814, 'mutant': 3263, 'superpow': 4684, 'mong': 3206, 'lindasuhl': 2913, 'statu': 4585, 'swell': 4715, 'gruff': 2180, 'escap': 1703, 'certain': 957, 'frontrunn': 1990, 'booz': 749, 'c2': 856, 'csquar': 1278, 'iangarytweet': 2384, 'yasss': 5380, 'apathycas': 438, 'skirt': 4416, 'grate': 2156, 'fergie_spud': 1846, 'blast': 706, 'uw': 5112, 'jsc': 2658, '1835': 38, 'troop': 4975, 'band': 574, 'rid': 4069, 't0h0dad': 4729, 'buzz': 852, 'growth': 2179, 'tammy_p': 4748, 'christianbrotherhood': 1022, 'audio': 519, 'wembley': 5247, 'stadium': 4562, 'newday': 3333, 'cancel': 886, 'obviousashel': 3422, 'lynn_misti': 2988, 'aghhh': 299, 'nerd': 3315, 'alasscan': 320, 'istandwithobama': 2516, 'srsli': 4557, 'launch': 2829, 'code': 1097, 'nuke': 3398, 'flightpath': 1898, 'fiscal': 1882, 'belliger': 627, 'cuz': 1296, 'tequila': 4791, 'expens': 1761, 'disruptepreneur': 1484, 'soexcit': 4476, 'plu': 3675, 'firstlookmsnbc': 1880, 'playground': 3667, 'howdowefixit': 2345, 'politican': 3701, 'matchup': 3057, 'pamelariv': 3532, 'semest': 4278, 'coolestschool': 1203, 'sensand': 4288, 'malbec': 3015, 'gopdebatedrinkinggam': 2108, 'gopdebacl': 2105, 'sugare': 4673, '71': 165, 'popcorn': 3717, 'dailyshow': 1308, 'caron': 920, 'blacklivesdontmatt': 700, 'impo': 2416, 'sort': 4505, 'bigboybak': 669, 'unafraid': 5036, 't_r_demuert': 4730, 'feeeaaarrr': 1832, 'ride': 4070, 'medic': 3086, 'trailblaz': 4952, 'deppisch': 1415, 'thejojophoto': 4838, 'shevot': 4349, 'ninatypewrit': 3352, 'siames': 4382, 'twin': 5012, 'jamaica': 2527, 'soccer': 4470, 'canigetanamen': 894, 'app': 442, 'hahahahah': 2201, 'thepoliticalcat': 4846, 'canttrustabush': 898, 'spectacl': 4528, 'pad': 3522, 'dickhead': 1444, 'owner': 3518, 'meh': 3101, 'viabl': 5135, 'ice': 2386, 'cream': 1247, 'icecream': 2389, 'pinocchio': 3645, 'recal': 3944, 'badg': 561, 'theatr': 4818, 'kerrydiari': 2729, 'chees': 985, 'brotherhood': 816, 'blkpoliticsport': 711, 'shawndrurysc': 4341, 'nevermind': 3328, 'overr': 3514, 'bnrdebat': 723, 'suffer': 4672, 'bencaraon': 632, 'neurosci': 3321, 'shaaad': 4322, 'damongil': 1315, '1973': 47, 'revers': 4050, 'undo': 5048, 'steven_br': 4606, 'paraphras': 3539, 'piti': 3649, 'people': 3601, 'fled': 1893, 'cuba': 1280, 'eo': 1686, 'previou': 3771, 'administr': 264, 'solidifi': 4485, 'jsn': 2659, '2007': 58, 'mammogram': 3018, 'machin': 2994, 'hospit': 2329, 'n2': 3271, 'carlson': 914, 'sock': 4475, 'ericstonestreet': 1698, 'cam': 872, 'homerun': 2306, 'pboylen': 3588, 'rednationrais': 3957, 'headach': 2248, 'massiv': 3054, 'tear': 4776, 'jordular': 2642, 'wham': 5259, 'bam': 572, 'ann': 402, 'truthbomb': 4996, 'dammit': 1313, 'blacklivematt': 699, 'explod': 1767, 'elev': 1635, 'music': 3261, 'litmu': 2926, 'test': 4800, 'shall': 4326, 'firstamend': 1879, 'freedomofreligion': 1972, 'suprem': 4691, 'debatequestionswewanttohear': 1357, 'lastcomicstand': 2813, 'wednesday': 5232, 'miracl': 3164, 'pawne': 3580, 'town': 4945, 'parksandrecnbc': 3546, 'anntbush': 415, 'onlytruthreign': 3463, 'thx': 4887, 'lattisaw': 2826, 'backer': 552, 'tomilahren': 4924, 'slone': 4436, 'cwfora': 1297, 'halhefn': 2209, 'creepi': 1252, 'pregnant': 3757, 'paus': 3578, 'armi': 467, 'annstok': 414, 'stare': 4575, 'bae': 565, 'scriptur': 4252, 'lawd': 2838, 'pudingtan': 3833, 'cop': 1204, 'gallagherpreach': 2018, 'daddi': 1305, 'therachelfish': 4847, 'constitution': 1184, 'marymauldin': 3050, 'theyr': 4860, 'steaknstiffarm': 4590, 'frequent': 1978, 'backassward': 551, 'jaxgotjok': 2545, 'phew': 3624, 'deptofdefens': 1418, 'keithalink': 2713, 'island': 2511, 'stuporbowl': 4657, 'cloudypiano': 1076, 'ron': 4110, 'sychoph': 4722, 'sweet': 4712, 'hog': 2299, 'sniff': 4460, '_ryanturek': 216, 'msgoddessris': 3244, 'isnt': 2512, 'christin': 1025, 'whoever': 5283, 'red': 3954, 'youngpro': 5401, '4rubio': 134, 'dobb': 1500, 'eodchick': 1687, 'mandy_velez': 3020, 'fulfil': 1997, 'blowhard': 718, 'whose': 5289, 'thedailyshow': 4827, 'brentschirp': 785, 'matur': 3064, 'landley': 2800, 'livetweet': 2932, 'spend': 4533, 'whoah': 5282, 'limp': 2910, 'bizkit': 696, 'breakstuff': 779, 'pleasantli': 3671, 'unexpect': 5051, '80': 175, 'coher': 1100, 'jennrio': 2567, '1191': 19, 'bret': 786, 'store': 4623, 'jordiemojordi': 2641, 'succinct': 4667, 'putin': 3851, 'downtim': 1533, 'wore': 5341, 'klansman': 2759, 'epitom': 1691, 'lukewearechang': 2981, 'syria': 4727, 'speech': 4531, 'context': 1191, 'europ': 1715, 'tini': 4899, 'murray': 3260, 'phone': 3627, 'commi': 1130, 'jerryjrfalwel': 2576, 'letsgetfre': 2879, 'lantern': 2805, 'quicker': 3866, 'rousey': 4128, 'vanesa': 5120, '_44': 203, 'vicious': 5140, 'sweetli': 4714, 'prom': 3805, 'talkingpoint': 4744, 'racquetbal': 3880, '54': 146, 'employ': 1660, '_kingmalcolm': 210, 'spudlovr': 4550, 'aid': 307, 'feloni': 1838, 'higher': 2279, 'imperson': 2413, 'wiun': 5326, 'twitterland': 5016, 'sanest': 4194, 'clowncarclusterfuck': 1079, 'cpnote': 1236, 'kacinich': 2679, 'bobbi': 728, 'expand': 1757, 'tonibirdsong': 4929, 'markslucki': 3043, 'dr_drewzc': 1536, 'dccc': 1342, 'edgeofsport': 1612, 'festiv': 1848, 'regurgit': 3977, 'raisedbycultur': 3891, 'canada': 882, 'awar': 533, 'vibe': 5137, 'prolli': 3804, 'drain': 1542, 'advertis': 272, 'gf': 2053, 'straightouttacompton': 4629, 'backward': 556, 'mf': 3123, 'degre': 1391, 'discrimin': 1468, 'lgbt': 2886, 'tryna': 4999, 'gopteen': 2115, 'tradit': 4950, 'lzdebat': 2990, 'samesexmarriag': 4185, 'mhvadney': 3125, 'equal': 1692, 'level': 2883, 'morm': 3214, '1966': 44, 'jko': 2603, 'hindarifka': 2291, 'monologu': 3208, 'liberalismsyndrom': 2893, 'annieslisttx': 406, 'tx': 5019, 'latina': 2822, 'equalpay': 1693, 'bankrupt': 578, 'firstoff': 1881, 'off': 3430, 'upon': 5090, 'friendli': 1983, 'quarantin': 3858, '92': 189, 'reagen': 3923, 'kiarri': 2739, 'muppet': 3256, 'balconi': 569, 'fritzisdead': 1987, 'davideblackwel': 1334, '2mi': 85, 'gopisinbigtroubl': 2110, 'uteru': 5110, 'wise': 5318, 'jebimiah': 2558, 'breath': 780, 'std': 4589, 'ememi': 1652, 'copdwg': 1205, 'cathol': 933, 'demagogu': 1399, 'infus': 2449, 'miamidecor': 3127, 'scottlinnen': 4242, 'kama': 2685, 'sutra': 4708, 'taj': 4735, 'mahal': 3002, 'dougbenson': 1531, 'crispi': 1259, 'senwarren': 4297, 'slap': 4422, 'motherfuck': 3225, 'imposs': 2418, 'combin': 1116, '22aday': 74, 'iava': 2385, 'hahah': 2199, 'cdm': 944, 'halfway': 2208, 'dig': 1450, 'foxfir': 1945, 'plight': 3674, 'mail': 3003, 'dthomicid': 1574, 'oddan': 3427, 'fsxbc': 1992, 'sez': 4317, 'mariacka': 3032, 'atlanticc': 505, 'frank_underwood': 1958, 'kevinspacey': 2735, 'goood': 2096, 'crook': 1263, 'thejennabe': 4836, 'calamari': 864, 'construct': 1185, 'agreement': 302, 'farrellel': 1807, 'excruci': 1751, 'introductori': 2482, 'childhood': 994, 'anecdot': 392, 'awak': 532, 'pronounc': 3809, 'correctli': 1212, '3m3': 107, 'narrow': 3284, 'gah': 2016, 'qudeb': 3859, 'onceuponaliz': 3459, '_alexandragold_': 204, 'jonstewartbook': 2638, 'hav': 2242, 'landlord': 2801, 'rent': 4001, 'teflondon': 4783, 'jebbi': 2556, 'trade': 4949, 'began': 619, 'india': 2442, 'hydrat': 2376, 'mikebrockett': 3145, 'winkbarri': 5313, 'nj': 3355, 'pension': 3599, 'buster': 847, 'everywher': 1732, 'mostwiselatina': 3223, 'popul': 3720, 'yup': 5410, 'abs_tellthetal': 233, 'default': 1375, 'creditor': 1251, 'annemariew': 405, 'poetinpoevil': 3686, 'aprx': 456, '700': 164, 'leslie_mus': 2874, 'ambival': 363, 'viadear': 5136, 'gestur': 2049, 'ranger': 3897, 'stellar': 4595, 'statesman': 4581, 'egg': 1621, 'chute': 1037, 'weed': 5234, 'sayii': 4215, 'prostitu': 3816, 'chug': 1034, 'wine': 5310, 'toupe': 4942, 'feenin': 1835, 'cotton': 1218, 'mmmm': 3186, 'yum': 5409, 'mozgovaya': 3233, 'gapol': 2024, 'fault': 1817, 'devil': 1437, 'jebspeak': 2559, 'unfortun': 5056, 'averykayla': 529, 'fundament': 2003, 'exchang': 1748, 'crash': 1241, 'mercedesschlapp': 3113, 'butcher': 849, 'profit': 3800, 'cheeriogrrrl': 984, 'rogerail': 4104, 'jonford': 2635, 'demselfi': 1406, 'outdo': 3499, 'bitchasspoli': 692, 'chrî': 1028, 'walłac': 5195, 'loribuckmajor': 2965, 'bob': 727, 'wan': 5196, 'lofti': 2949, 'gopunfit': 2117, '2leadorgovern': 84, 'gopfail': 2109, 'goptroglodyt': 2116, 'anisaliban': 401, 'te': 4764, 'fu': 1994, 'ng': 3342, '19million': 49, 'stuf': 4652, 'buck': 829, 'ah': 303, 'kevin_nealon': 2734, 'cyrusmmcqueen': 1300, 'odonald': 3428, 'driver': 1560, 'jebya': 2560, 'coincid': 1101, 'gopddeb': 2102, 'labotomi': 2790, 'brian': 789, 'william': 5304, 'donut': 1522, 'ccabrera': 941, '83': 180, 'jealou': 2552, 'boyfriend': 766, 'alan': 319, 'sheesh': 4345, 'bphill': 767, 'crossov': 1266, 'dayum': 1339, 'throat': 4882, 'boss': 755, 'bye': 854, 'johnschamb': 2628, 'leadershi': 2845, 'cairo': 863, 'often': 3437, 'rail': 3888, 'cackl': 860, 'jrenee_a_go_go': 2655, 'spare': 4516, 'neat': 3308, 'popehat': 3719, 'fourth': 1940, 'teapainusa': 4774, 'tryin': 4998, 'vampir': 5119, 'sci': 4233, 'asimhaneef': 482, '15yo': 31, 'ethanobama': 1713, 'return': 4047, 'citizensunit': 1049, 'scotu': 4247, 'louvic': 2974, 'rubionev': 4139, 'mass': 3052, 'sorrynotsorri': 4504, 'shtick': 4379, 'freshen': 1979, 'commoncor': 1133, 'marcylauren': 3030, 'philogaytheist': 3626, 'whistl': 5274, 'homophobia': 2310, 'islamophobia': 2510, 'hugh': 2362, 'film': 1864, 'b140_tweet': 544, 'jamesyontrofski': 2531, 'junior': 2667, 'translat': 4958, 'badli': 564, 'ratio': 3907, 'georgehenryw': 2046, 'exceed': 1744, 'laura': 2831, '4fairtax': 125}\n"
     ]
    }
   ],
   "source": [
    "from sklearn.feature_extraction.text import CountVectorizer\n",
    "\n",
    "phrases    = [' '.join(x) for x in tweets_data_df[\"text\"].values ] # All the phrases in our tweets\n",
    "vectorizer = CountVectorizer() \n",
    "vectorizer = vectorizer.fit(phrases)\n",
    "print(\"Vocabulary size:{}\".format(len(vectorizer.vocabulary_)))\n",
    "print(\"Vocabulary content:{}\".format(vectorizer.vocabulary_))"
   ]
  },
  {
   "cell_type": "markdown",
   "metadata": {},
   "source": [
    "Using scikit-learn [`train_test_split`](https://scikit-learn.org/stable/modules/generated/sklearn.model_selection.train_test_split.html) method, we now split the dataset into a training and a testing set. We define a test set about 10% of the original dataset size. "
   ]
  },
  {
   "cell_type": "code",
   "execution_count": 8,
   "metadata": {},
   "outputs": [],
   "source": [
    "# function for splitting data to train and test sets\n",
    "from sklearn.model_selection import train_test_split            \n",
    "\n",
    "# Splitting the dataset into train and test set\n",
    "train, test = train_test_split(tweets_data_df,test_size = 0.1)"
   ]
  },
  {
   "cell_type": "code",
   "execution_count": 9,
   "metadata": {},
   "outputs": [
    {
     "data": {
      "text/html": [
       "<div>\n",
       "<style scoped>\n",
       "    .dataframe tbody tr th:only-of-type {\n",
       "        vertical-align: middle;\n",
       "    }\n",
       "\n",
       "    .dataframe tbody tr th {\n",
       "        vertical-align: top;\n",
       "    }\n",
       "\n",
       "    .dataframe thead th {\n",
       "        text-align: right;\n",
       "    }\n",
       "</style>\n",
       "<table border=\"1\" class=\"dataframe\">\n",
       "  <thead>\n",
       "    <tr style=\"text-align: right;\">\n",
       "      <th></th>\n",
       "      <th>text</th>\n",
       "      <th>sentiment</th>\n",
       "    </tr>\n",
       "  </thead>\n",
       "  <tbody>\n",
       "    <tr>\n",
       "      <th>11232</th>\n",
       "      <td>[rwsurfergirl, ask, trump, legitim, question, ...</td>\n",
       "      <td>1</td>\n",
       "    </tr>\n",
       "    <tr>\n",
       "      <th>3783</th>\n",
       "      <td>[“, bw_react, gopdeb, verdict, johnkasich, win...</td>\n",
       "      <td>1</td>\n",
       "    </tr>\n",
       "    <tr>\n",
       "      <th>...</th>\n",
       "      <td>...</td>\n",
       "      <td>...</td>\n",
       "    </tr>\n",
       "    <tr>\n",
       "      <th>5791</th>\n",
       "      <td>[peopl, watch, gopdeb, see, trump, realiz, hol...</td>\n",
       "      <td>1</td>\n",
       "    </tr>\n",
       "    <tr>\n",
       "      <th>2473</th>\n",
       "      <td>[megynkelli, real, winner, last, night, foxdeb...</td>\n",
       "      <td>1</td>\n",
       "    </tr>\n",
       "  </tbody>\n",
       "</table>\n",
       "<p>3241 rows × 2 columns</p>\n",
       "</div>"
      ],
      "text/plain": [
       "                                                    text sentiment\n",
       "11232  [rwsurfergirl, ask, trump, legitim, question, ...         1\n",
       "3783   [“, bw_react, gopdeb, verdict, johnkasich, win...         1\n",
       "...                                                  ...       ...\n",
       "5791   [peopl, watch, gopdeb, see, trump, realiz, hol...         1\n",
       "2473   [megynkelli, real, winner, last, night, foxdeb...         1\n",
       "\n",
       "[3241 rows x 2 columns]"
      ]
     },
     "execution_count": 9,
     "metadata": {},
     "output_type": "execute_result"
    }
   ],
   "source": [
    "train"
   ]
  },
  {
   "cell_type": "code",
   "execution_count": 10,
   "metadata": {
    "scrolled": false
   },
   "outputs": [
    {
     "data": {
      "text/html": [
       "<div>\n",
       "<style scoped>\n",
       "    .dataframe tbody tr th:only-of-type {\n",
       "        vertical-align: middle;\n",
       "    }\n",
       "\n",
       "    .dataframe tbody tr th {\n",
       "        vertical-align: top;\n",
       "    }\n",
       "\n",
       "    .dataframe thead th {\n",
       "        text-align: right;\n",
       "    }\n",
       "</style>\n",
       "<table border=\"1\" class=\"dataframe\">\n",
       "  <thead>\n",
       "    <tr style=\"text-align: right;\">\n",
       "      <th></th>\n",
       "      <th>text</th>\n",
       "      <th>sentiment</th>\n",
       "    </tr>\n",
       "  </thead>\n",
       "  <tbody>\n",
       "    <tr>\n",
       "      <th>7159</th>\n",
       "      <td>[chang, benefit, incent, break, gov't, parent,...</td>\n",
       "      <td>0</td>\n",
       "    </tr>\n",
       "    <tr>\n",
       "      <th>657</th>\n",
       "      <td>[realdonaldtrump, treat, randpaul, like, littl...</td>\n",
       "      <td>1</td>\n",
       "    </tr>\n",
       "    <tr>\n",
       "      <th>...</th>\n",
       "      <td>...</td>\n",
       "      <td>...</td>\n",
       "    </tr>\n",
       "    <tr>\n",
       "      <th>8989</th>\n",
       "      <td>[will_bunch, smart, kasich, say, essenti, hear...</td>\n",
       "      <td>0</td>\n",
       "    </tr>\n",
       "    <tr>\n",
       "      <th>8712</th>\n",
       "      <td>[supermanhotmal, live, florida, 8, year, jeb, ...</td>\n",
       "      <td>0</td>\n",
       "    </tr>\n",
       "  </tbody>\n",
       "</table>\n",
       "<p>361 rows × 2 columns</p>\n",
       "</div>"
      ],
      "text/plain": [
       "                                                   text sentiment\n",
       "7159  [chang, benefit, incent, break, gov't, parent,...         0\n",
       "657   [realdonaldtrump, treat, randpaul, like, littl...         1\n",
       "...                                                 ...       ...\n",
       "8989  [will_bunch, smart, kasich, say, essenti, hear...         0\n",
       "8712  [supermanhotmal, live, florida, 8, year, jeb, ...         0\n",
       "\n",
       "[361 rows x 2 columns]"
      ]
     },
     "execution_count": 10,
     "metadata": {},
     "output_type": "execute_result"
    }
   ],
   "source": [
    "test"
   ]
  },
  {
   "cell_type": "markdown",
   "metadata": {},
   "source": [
    "Now, we need to transform tokens in each partition into a feature vectors. We will use our vectorizer to transform each tweet into a [*bag of words*](https://en.wikipedia.org/wiki/Bag-of-words_model). "
   ]
  },
  {
   "cell_type": "code",
   "execution_count": 11,
   "metadata": {},
   "outputs": [],
   "source": [
    "X_train              = [' '.join(x) for x in train['text'].values ] \n",
    "X_train_bag_of_words = vectorizer.transform(X_train)\n",
    "y_train              = train['sentiment'].values.astype(int)\n",
    "\n",
    "X_test              = [ ' '.join(x) for x in test['text'].values ] \n",
    "X_test_bag_of_words = vectorizer.transform(X_test)\n",
    "y_test              = test['sentiment'].values.astype(int)"
   ]
  },
  {
   "cell_type": "markdown",
   "metadata": {},
   "source": [
    "Printing instances from the training dataset after the *bag of words* transformation, we see pairs like `(0, 628)\t1`. The first number identifies the phrase index (the tweet), the second number is the word code asigned by our vectorizer, finally, the las number is the count of occurrences of the word."
   ]
  },
  {
   "cell_type": "code",
   "execution_count": 12,
   "metadata": {
    "scrolled": true
   },
   "outputs": [
    {
     "name": "stdout",
     "output_type": "stream",
     "text": [
      "  (0, 484)\t1\n",
      "  (0, 1779)\t1\n",
      "  (0, 2103)\t2\n",
      "  (0, 2865)\t1\n",
      "  (0, 2957)\t1\n",
      "  (0, 3274)\t1\n",
      "  (0, 3863)\t1\n",
      "  (0, 4160)\t1\n",
      "  (0, 4983)\t2\n",
      "  (0, 5193)\t1\n"
     ]
    }
   ],
   "source": [
    "# Printing bag-of-words representation\n",
    "print(X_train_bag_of_words[0])"
   ]
  },
  {
   "cell_type": "markdown",
   "metadata": {},
   "source": [
    "Finally, we fit [Random Forest Classifier](https://scikit-learn.org/stable/modules/generated/sklearn.ensemble.RandomForestClassifier.html) model. "
   ]
  },
  {
   "cell_type": "code",
   "execution_count": 16,
   "metadata": {},
   "outputs": [
    {
     "data": {
      "text/plain": [
       "RandomForestClassifier(class_weight='balanced')"
      ]
     },
     "execution_count": 16,
     "metadata": {},
     "output_type": "execute_result"
    }
   ],
   "source": [
    "from sklearn.ensemble import RandomForestClassifier\n",
    "gnb = RandomForestClassifier(class_weight=\"balanced\")\n",
    "gnb.fit(X_train_bag_of_words.toarray(), y_train)"
   ]
  },
  {
   "cell_type": "markdown",
   "metadata": {},
   "source": [
    "Let's compute standard classification metrics."
   ]
  },
  {
   "cell_type": "code",
   "execution_count": 22,
   "metadata": {},
   "outputs": [
    {
     "name": "stdout",
     "output_type": "stream",
     "text": [
      " <================= Training dataset metrics =================> \n",
      "Number of mislabeled train points out of a total 3241 points : 52\n",
      "Confusion matrix:\n",
      " [[1591   30]\n",
      " [  22 1598]] \n",
      "\n",
      "Balanced accuracy score: 0.9839563293501192 \n",
      "\n",
      "Full Report:\n",
      "               precision    recall  f1-score   support\n",
      "\n",
      "           0       0.77      0.82      0.79       180\n",
      "           1       0.81      0.76      0.78       181\n",
      "\n",
      "    accuracy                           0.79       361\n",
      "   macro avg       0.79      0.79      0.79       361\n",
      "weighted avg       0.79      0.79      0.79       361\n",
      " \n",
      "\n",
      " <================= Testing dataset metrics =================> \n",
      "Number of mislabeled test points out of a total 361 points : 77\n",
      "Confusion matrix:\n",
      " [[147  33]\n",
      " [ 44 137]] \n",
      "\n",
      "Balanced accuracy score: 0.7867863720073665\n",
      "Full Report:\n",
      "               precision    recall  f1-score   support\n",
      "\n",
      "           0       0.77      0.82      0.79       180\n",
      "           1       0.81      0.76      0.78       181\n",
      "\n",
      "    accuracy                           0.79       361\n",
      "   macro avg       0.79      0.79      0.79       361\n",
      "weighted avg       0.79      0.79      0.79       361\n",
      "\n"
     ]
    }
   ],
   "source": [
    "from sklearn.metrics import confusion_matrix, balanced_accuracy_score, accuracy_score, classification_report\n",
    "\n",
    "y_pred_test  = gnb.predict(X_test_bag_of_words.toarray())\n",
    "\n",
    "print(\" <================= Testing dataset metrics =================> \")\n",
    "print(\"Number of mislabeled test points out of a total {} points : {}\".format(X_test_bag_of_words.toarray().shape[0],(y_test != y_pred_test).sum()))\n",
    "print(\"Confusion matrix:\\n\",confusion_matrix(y_test, y_pred_test),\"\\n\")\n",
    "print(\"Balanced accuracy score:\",balanced_accuracy_score(y_test, y_pred_test))\n",
    "print(\"Full Report:\\n\",classification_report(y_test, y_pred_test))"
   ]
  },
  {
   "cell_type": "code",
   "execution_count": null,
   "metadata": {},
   "outputs": [],
   "source": []
  }
 ],
 "metadata": {
  "kernelspec": {
   "display_name": "Python 3",
   "language": "python",
   "name": "python3"
  },
  "language_info": {
   "codemirror_mode": {
    "name": "ipython",
    "version": 3
   },
   "file_extension": ".py",
   "mimetype": "text/x-python",
   "name": "python",
   "nbconvert_exporter": "python",
   "pygments_lexer": "ipython3",
   "version": "3.7.4"
  }
 },
 "nbformat": 4,
 "nbformat_minor": 2
}
