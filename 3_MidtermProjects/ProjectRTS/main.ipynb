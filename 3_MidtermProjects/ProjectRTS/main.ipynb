{
 "cells": [
  {
   "cell_type": "markdown",
   "metadata": {},
   "source": [
    "# Reconociendo señales de tráfico \n ",
    "El objetivo de este proyecto es construir un modelo capaz de determinar el tipo de señal de tráfico que se muestra en una imagen capturada en diferentes condiciones de la vida real y que muestre obstrucciones, mala iluminación o incluso que la señal esté lejos de la cámara. Le proporcionamos imágenes etiquetadas ya divididas en tres archivos (entrenamiento / validación / prueba) y una lista predefinida de signos para reconocer."
   ]
  },
  {
   "cell_type": "code",
   "execution_count": null,
   "metadata": {},
   "outputs": [],
   "source": [
    "# Descargar datos \n",
    "dataroot = \"dataroot/\"\n",
    "!mkdir dataroot \n",
    "!wget -P dataroot https://raw.githubusercontent.com/emmanueliarussi/DataScienceCapstone/master/3_MidtermProjects/ProjectRTS/data/data_1.zip\n",
    "!wget -P dataroot https://raw.githubusercontent.com/emmanueliarussi/DataScienceCapstone/master/3_MidtermProjects/ProjectRTS/data/data_2.zip\n",
    "!wget -P dataroot https://raw.githubusercontent.com/emmanueliarussi/DataScienceCapstone/master/3_MidtermProjects/ProjectRTS/data/data_3.zip "
   ]
  },
  {
   "cell_type": "code",
   "execution_count": null,
   "metadata": {},
   "outputs": [],
   "source": [
    "# Descomprimir \n",
    "import zipfile\n",
    "with zipfile.ZipFile(dataroot+\"data_1.zip\",\"r\") as zip_ref:\n",
    "    zip_ref.extractall(dataroot)\n",
    "with zipfile.ZipFile(dataroot+\"data_2.zip\",\"r\") as zip_ref:\n",
    "    zip_ref.extractall(dataroot)\n",
    "with zipfile.ZipFile(dataroot+\"data_3.zip\",\"r\") as zip_ref:\n",
    "    zip_ref.extractall(dataroot)"
   ]
  },
  {
   "cell_type": "code",
   "execution_count": null,
   "metadata": {},
   "outputs": [],
   "source": [
    "# Cargar nombres de las señales \n",
    "import pandas as pd\n",
    "df = pd.read_csv(\"https://raw.githubusercontent.com/emmanueliarussi/DataScienceCapstone/master/3_MidtermProjects/ProjectRTS/data/signnames.csv\")\n",
    "signnames = pd.Series(df.SignName.values,index=df.ClassId).to_dict()\n",
    "signnames"
   ]
  },
  {
   "cell_type": "code",
   "execution_count": null,
   "metadata": {},
   "outputs": [],
   "source": [
    "# cargar las imágenes \n",
    "import pickle\n",
    "signimages = pickle.load( open( dataroot+\"train.p\", \"rb\" ) )"
   ]
  },
  {
   "cell_type": "code",
   "execution_count": null,
   "metadata": {},
   "outputs": [],
   "source": [
    "# ver imagen \n",
    "import matplotlib.pyplot as plt\n",
    "import numpy as np\n",
    "import cv2\n",
    "\n",
    "inx = 20123\n",
    "plt.imshow(signimages['features'][inx])\n",
    "print(\"The image shows a {} sign\".format(signnames[signimages['labels'][inx]]))"
   ]
  }
 ],
 "metadata": {
  "kernelspec": {
   "display_name": "Python 3",
   "language": "python",
   "name": "python3"
  },
  "language_info": {
   "codemirror_mode": {
    "name": "ipython",
    "version": 3
   },
   "file_extension": ".py",
   "mimetype": "text/x-python",
   "name": "python",
   "nbconvert_exporter": "python",
   "pygments_lexer": "ipython3",
   "version": "3.7.4"
  }
 },
 "nbformat": 4,
 "nbformat_minor": 2
}
