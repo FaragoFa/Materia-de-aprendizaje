{
 "cells": [
  {
   "cell_type": "markdown",
   "metadata": {},
   "source": [
    "# Spotify Top Songs\n",
    "El dataset contiene la clasificación diaria de las 200 canciones más escuchadas en 53 países de 2017 y 2018 en Spotify. Contiene más de 2 millones de filas, que comprende 6629 artistas, 18598 canciones para un recuento total de ciento cinco mil millones de streams. El objetivo de este proyecto es comprender qué características hacen que una canción sea popular. Con ese fin, también se le proporciona un archivo que contiene datos sobre los atributos de la música (es decir, habla, acústica, tempo) de varias canciones populares. Dado el gran tamaño del conjunto de datos, no dude en simplificar su tarea trabajando con clasificaciones de un solo país o de un solo año. Más información sobre estos datos [aquí](https://www.kaggle.com/edumucelli/spotifys-worldwide-daily-song-ranking). "
   ]
  },
  {
   "cell_type": "code",
   "execution_count": null,
   "metadata": {},
   "outputs": [],
   "source": [
    "import pandas as pd\n",
    "ranking_spotify_1 = pd.read_csv(\"https://raw.githubusercontent.com/emmanueliarussi/DataScienceCapstone/master/3_MidtermProjects/ProjectTSS/data/ranking_spotify_1.csv\")\n",
    "ranking_spotify_1.head()"
   ]
  },
  {
   "cell_type": "code",
   "execution_count": null,
   "metadata": {},
   "outputs": [],
   "source": [
    "ranking_spotify_2 = pd.read_csv(\"https://raw.githubusercontent.com/emmanueliarussi/DataScienceCapstone/master/3_MidtermProjects/ProjectTSS/data/ranking_spotify_2.csv\")\n",
    "ranking_spotify_2.head()"
   ]
  },
  {
   "cell_type": "code",
   "execution_count": null,
   "metadata": {},
   "outputs": [],
   "source": [
    "ranking_spotify_3 = pd.read_csv(\"https://raw.githubusercontent.com/emmanueliarussi/DataScienceCapstone/master/3_MidtermProjects/ProjectTSS/data/ranking_spotify_3.csv\")\n",
    "ranking_spotify_3.head()"
   ]
  },
  {
   "cell_type": "code",
   "execution_count": null,
   "metadata": {},
   "outputs": [],
   "source": [
    "ranking_spotify_4 = pd.read_csv(\"https://raw.githubusercontent.com/emmanueliarussi/DataScienceCapstone/master/3_MidtermProjects/ProjectTSS/data/ranking_spotify_4.csv\")\n",
    "ranking_spotify_4.head()"
   ]
  },
  {
   "cell_type": "code",
   "execution_count": null,
   "metadata": {},
   "outputs": [],
   "source": [
    "features = pd.read_csv(\"https://raw.githubusercontent.com/emmanueliarussi/DataScienceCapstone/master/3_MidtermProjects/ProjectTSS/data/featuresdf.csv\")\n",
    "features.head()"
   ]
  }
 ],
 "metadata": {
  "kernelspec": {
   "display_name": "Python 3",
   "language": "python",
   "name": "python3"
  },
  "language_info": {
   "codemirror_mode": {
    "name": "ipython",
    "version": 3
   },
   "file_extension": ".py",
   "mimetype": "text/x-python",
   "name": "python",
   "nbconvert_exporter": "python",
   "pygments_lexer": "ipython3",
   "version": "3.7.4"
  }
 },
 "nbformat": 4,
 "nbformat_minor": 2
}
